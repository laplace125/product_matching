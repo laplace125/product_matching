{
 "cells": [
  {
   "cell_type": "markdown",
   "id": "01ebbd65",
   "metadata": {},
   "source": [
    "### IMPORT LIBRARIES"
   ]
  },
  {
   "cell_type": "code",
   "execution_count": 61,
   "id": "be7bd6bd",
   "metadata": {},
   "outputs": [],
   "source": [
    "import pandas as pd\n",
    "import json\n",
    "import numpy as np\n",
    "from sklearn.feature_extraction.text import CountVectorizer,TfidfVectorizer\n",
    "import sklearn.metrics as metrics\n",
    "from sklearn.metrics import accuracy_score , roc_auc_score, roc_curve\n",
    "from sklearn.metrics import confusion_matrix, ConfusionMatrixDisplay\n",
    "from sklearn.model_selection import train_test_split\n",
    "import re\n",
    "import string\n",
    "import nltk\n",
    "from nltk.tokenize import word_tokenize #to tokenize the column\n",
    "from nltk.stem.snowball import SnowballStemmer # To stem the each word\n",
    "#nltk.download('stopwords')\n",
    "from nltk.corpus import stopwords #to generate stopwords\n",
    "from sklearn.feature_extraction.text import TfidfVectorizer\n",
    "from time import time"
   ]
  },
  {
   "cell_type": "markdown",
   "id": "63fcf596",
   "metadata": {},
   "source": [
    "### READ DATA"
   ]
  },
  {
   "cell_type": "code",
   "execution_count": 63,
   "id": "57494aac",
   "metadata": {},
   "outputs": [],
   "source": [
    "# data containing all product category\n",
    "data= pd.read_json('computers_train_xlarge.json' , lines=True)"
   ]
  },
  {
   "cell_type": "code",
   "execution_count": 3,
   "id": "c6d73c5e",
   "metadata": {},
   "outputs": [],
   "source": [
    "# gold standard data for all categories\n",
    "data_gs= pd.read_json('computers_gs.json' , lines=True)"
   ]
  },
  {
   "cell_type": "code",
   "execution_count": 4,
   "id": "853c8b87",
   "metadata": {},
   "outputs": [],
   "source": [
    "# test set containing all categories\n",
    "test_set = pd.read_json('task1_testset_1500_with_labels.json' , lines=True)"
   ]
  },
  {
   "cell_type": "markdown",
   "id": "c55371e8",
   "metadata": {},
   "source": [
    "### VIEW WHAT THE DATA LOOK LIKE"
   ]
  },
  {
   "cell_type": "code",
   "execution_count": 5,
   "id": "4e1f9f71",
   "metadata": {},
   "outputs": [
    {
     "data": {
      "text/html": [
       "<div>\n",
       "<style scoped>\n",
       "    .dataframe tbody tr th:only-of-type {\n",
       "        vertical-align: middle;\n",
       "    }\n",
       "\n",
       "    .dataframe tbody tr th {\n",
       "        vertical-align: top;\n",
       "    }\n",
       "\n",
       "    .dataframe thead th {\n",
       "        text-align: right;\n",
       "    }\n",
       "</style>\n",
       "<table border=\"1\" class=\"dataframe\">\n",
       "  <thead>\n",
       "    <tr style=\"text-align: right;\">\n",
       "      <th></th>\n",
       "      <th>id_left</th>\n",
       "      <th>category_left</th>\n",
       "      <th>cluster_id_left</th>\n",
       "      <th>id_right</th>\n",
       "      <th>category_right</th>\n",
       "      <th>cluster_id_right</th>\n",
       "      <th>label</th>\n",
       "      <th>pair_id</th>\n",
       "      <th>brand_left</th>\n",
       "      <th>brand_right</th>\n",
       "      <th>description_left</th>\n",
       "      <th>description_right</th>\n",
       "      <th>keyValuePairs_left</th>\n",
       "      <th>keyValuePairs_right</th>\n",
       "      <th>price_left</th>\n",
       "      <th>price_right</th>\n",
       "      <th>specTableContent_left</th>\n",
       "      <th>specTableContent_right</th>\n",
       "      <th>title_left</th>\n",
       "      <th>title_right</th>\n",
       "    </tr>\n",
       "  </thead>\n",
       "  <tbody>\n",
       "    <tr>\n",
       "      <th>0</th>\n",
       "      <td>2551242</td>\n",
       "      <td>Computers_and_Accessories</td>\n",
       "      <td>79457</td>\n",
       "      <td>16272671</td>\n",
       "      <td>Computers_and_Accessories</td>\n",
       "      <td>79457</td>\n",
       "      <td>1</td>\n",
       "      <td>2551242#16272671</td>\n",
       "      <td>\"Corsair\"@en</td>\n",
       "      <td>None</td>\n",
       "      <td>\"DDR4, 2666MHz, CL16, 1.2v, XMP 2.0, Lifetime ...</td>\n",
       "      <td>None</td>\n",
       "      <td>{'Memory Type': 'DDR4 (PC4-21300)', 'Capacity'...</td>\n",
       "      <td>{'Categorie': 'Geheugen intern', 'Merk': 'Cors...</td>\n",
       "      <td>None</td>\n",
       "      <td>None</td>\n",
       "      <td>Memory Type DDR4 (PC4-21300) Capacity 64GB (4...</td>\n",
       "      <td>Categorie Geheugen intern Merk Corsair Produc...</td>\n",
       "      <td>\"Corsair Vengeance LPX Black 64GB (4x16GB) DD...</td>\n",
       "      <td>\"Corsair Vengeance LPX CMK64GX4M4A2666C16 - P...</td>\n",
       "    </tr>\n",
       "    <tr>\n",
       "      <th>1</th>\n",
       "      <td>16757469</td>\n",
       "      <td>Computers_and_Accessories</td>\n",
       "      <td>63553</td>\n",
       "      <td>16476204</td>\n",
       "      <td>Computers_and_Accessories</td>\n",
       "      <td>63553</td>\n",
       "      <td>1</td>\n",
       "      <td>16757469#16476204</td>\n",
       "      <td>\"HP Enterprise\"</td>\n",
       "      <td>\"HP Enterprise\"</td>\n",
       "      <td>\"Description:2 x 72GB 2.5-inch Serial Attached...</td>\n",
       "      <td>\"Description:10 x 72GB 2.5-inch Serial Attach...</td>\n",
       "      <td>{'Category': 'Proliant HardDrive', 'Sub-Catego...</td>\n",
       "      <td>{'Category': 'Proliant HardDrive', 'Sub-Catego...</td>\n",
       "      <td>None</td>\n",
       "      <td>\"CAD\", \"$757.74 CAD\"</td>\n",
       "      <td>Specifications: Category Proliant HardDrive S...</td>\n",
       "      <td>Specifications: Category Proliant HardDrive S...</td>\n",
       "      <td>\"DH0072BALWL HP 72-GB 3G 15K 2.5 DP SAS\", \"Nu...</td>\n",
       "      <td>\"DH0072BALWL HP 72-GB 3G 15K 2.5 DP SAS\" \"Null\"</td>\n",
       "    </tr>\n",
       "  </tbody>\n",
       "</table>\n",
       "</div>"
      ],
      "text/plain": [
       "    id_left              category_left  cluster_id_left  id_right  \\\n",
       "0   2551242  Computers_and_Accessories            79457  16272671   \n",
       "1  16757469  Computers_and_Accessories            63553  16476204   \n",
       "\n",
       "              category_right  cluster_id_right  label            pair_id  \\\n",
       "0  Computers_and_Accessories             79457      1   2551242#16272671   \n",
       "1  Computers_and_Accessories             63553      1  16757469#16476204   \n",
       "\n",
       "        brand_left      brand_right  \\\n",
       "0     \"Corsair\"@en             None   \n",
       "1  \"HP Enterprise\"  \"HP Enterprise\"   \n",
       "\n",
       "                                    description_left  \\\n",
       "0  \"DDR4, 2666MHz, CL16, 1.2v, XMP 2.0, Lifetime ...   \n",
       "1  \"Description:2 x 72GB 2.5-inch Serial Attached...   \n",
       "\n",
       "                                   description_right  \\\n",
       "0                                               None   \n",
       "1   \"Description:10 x 72GB 2.5-inch Serial Attach...   \n",
       "\n",
       "                                  keyValuePairs_left  \\\n",
       "0  {'Memory Type': 'DDR4 (PC4-21300)', 'Capacity'...   \n",
       "1  {'Category': 'Proliant HardDrive', 'Sub-Catego...   \n",
       "\n",
       "                                 keyValuePairs_right price_left  \\\n",
       "0  {'Categorie': 'Geheugen intern', 'Merk': 'Cors...       None   \n",
       "1  {'Category': 'Proliant HardDrive', 'Sub-Catego...       None   \n",
       "\n",
       "            price_right                              specTableContent_left  \\\n",
       "0                  None   Memory Type DDR4 (PC4-21300) Capacity 64GB (4...   \n",
       "1  \"CAD\", \"$757.74 CAD\"   Specifications: Category Proliant HardDrive S...   \n",
       "\n",
       "                              specTableContent_right  \\\n",
       "0   Categorie Geheugen intern Merk Corsair Produc...   \n",
       "1   Specifications: Category Proliant HardDrive S...   \n",
       "\n",
       "                                          title_left  \\\n",
       "0   \"Corsair Vengeance LPX Black 64GB (4x16GB) DD...   \n",
       "1   \"DH0072BALWL HP 72-GB 3G 15K 2.5 DP SAS\", \"Nu...   \n",
       "\n",
       "                                         title_right  \n",
       "0   \"Corsair Vengeance LPX CMK64GX4M4A2666C16 - P...  \n",
       "1    \"DH0072BALWL HP 72-GB 3G 15K 2.5 DP SAS\" \"Null\"  "
      ]
     },
     "execution_count": 5,
     "metadata": {},
     "output_type": "execute_result"
    }
   ],
   "source": [
    "data.head(2)"
   ]
  },
  {
   "cell_type": "code",
   "execution_count": 6,
   "id": "046e849f",
   "metadata": {
    "scrolled": true
   },
   "outputs": [
    {
     "data": {
      "text/html": [
       "<div>\n",
       "<style scoped>\n",
       "    .dataframe tbody tr th:only-of-type {\n",
       "        vertical-align: middle;\n",
       "    }\n",
       "\n",
       "    .dataframe tbody tr th {\n",
       "        vertical-align: top;\n",
       "    }\n",
       "\n",
       "    .dataframe thead th {\n",
       "        text-align: right;\n",
       "    }\n",
       "</style>\n",
       "<table border=\"1\" class=\"dataframe\">\n",
       "  <thead>\n",
       "    <tr style=\"text-align: right;\">\n",
       "      <th></th>\n",
       "      <th>id_left</th>\n",
       "      <th>cluster_id_left</th>\n",
       "      <th>category_left</th>\n",
       "      <th>title_left</th>\n",
       "      <th>description_left</th>\n",
       "      <th>brand_left</th>\n",
       "      <th>price_left</th>\n",
       "      <th>keyValuePairs_left</th>\n",
       "      <th>specTableContent_left</th>\n",
       "      <th>id_right</th>\n",
       "      <th>...</th>\n",
       "      <th>category_right</th>\n",
       "      <th>title_right</th>\n",
       "      <th>description_right</th>\n",
       "      <th>brand_right</th>\n",
       "      <th>price_right</th>\n",
       "      <th>keyValuePairs_right</th>\n",
       "      <th>specTableContent_right</th>\n",
       "      <th>label</th>\n",
       "      <th>pair_id</th>\n",
       "      <th>sampling</th>\n",
       "    </tr>\n",
       "  </thead>\n",
       "  <tbody>\n",
       "    <tr>\n",
       "      <th>0</th>\n",
       "      <td>4210789</td>\n",
       "      <td>533129</td>\n",
       "      <td>Computers_and_Accessories</td>\n",
       "      <td>\"Intel X520-DA2 PCI Express 2.0 Network Adapt...</td>\n",
       "      <td>\"Intel's family of adapter, the Intel' Etherne...</td>\n",
       "      <td>None</td>\n",
       "      <td>\"$\", \"333.16\"</td>\n",
       "      <td>None</td>\n",
       "      <td>None</td>\n",
       "      <td>6428629</td>\n",
       "      <td>...</td>\n",
       "      <td>Computers_and_Accessories</td>\n",
       "      <td>\"Intel X520-DA2 Dual Port Gigabit SFP Etherne...</td>\n",
       "      <td>\"2 Port Intel E10G42BTDA 10 Gigabit SFP Ethern...</td>\n",
       "      <td>None</td>\n",
       "      <td>None</td>\n",
       "      <td>None</td>\n",
       "      <td>None</td>\n",
       "      <td>1</td>\n",
       "      <td>4210789#6428629</td>\n",
       "      <td>high similarity with old products</td>\n",
       "    </tr>\n",
       "    <tr>\n",
       "      <th>1</th>\n",
       "      <td>8813989</td>\n",
       "      <td>55385</td>\n",
       "      <td>Computers_and_Accessories</td>\n",
       "      <td>\"Zotac GeForce GTX 1070Ti AMP Extreme 8192MB ...</td>\n",
       "      <td>\"ZT-P10710B-10P, Core Clock: 1607MHz, Boost Cl...</td>\n",
       "      <td>\"Zotac\"@en</td>\n",
       "      <td>None</td>\n",
       "      <td>None</td>\n",
       "      <td>None</td>\n",
       "      <td>4435647</td>\n",
       "      <td>...</td>\n",
       "      <td>Computers_and_Accessories</td>\n",
       "      <td>\"Zotac NVIDIA GeForce GTX 1070 Ti 8GB AMP! Ex...</td>\n",
       "      <td>\"Zotac GeForce GTX 1070 Ti AMP! Extreme Editio...</td>\n",
       "      <td>None</td>\n",
       "      <td>None</td>\n",
       "      <td>None</td>\n",
       "      <td>None</td>\n",
       "      <td>1</td>\n",
       "      <td>8813989#4435647</td>\n",
       "      <td>high similarity with old products</td>\n",
       "    </tr>\n",
       "  </tbody>\n",
       "</table>\n",
       "<p>2 rows × 21 columns</p>\n",
       "</div>"
      ],
      "text/plain": [
       "   id_left  cluster_id_left              category_left  \\\n",
       "0  4210789           533129  Computers_and_Accessories   \n",
       "1  8813989            55385  Computers_and_Accessories   \n",
       "\n",
       "                                          title_left  \\\n",
       "0   \"Intel X520-DA2 PCI Express 2.0 Network Adapt...   \n",
       "1   \"Zotac GeForce GTX 1070Ti AMP Extreme 8192MB ...   \n",
       "\n",
       "                                    description_left  brand_left  \\\n",
       "0  \"Intel's family of adapter, the Intel' Etherne...        None   \n",
       "1  \"ZT-P10710B-10P, Core Clock: 1607MHz, Boost Cl...  \"Zotac\"@en   \n",
       "\n",
       "      price_left keyValuePairs_left specTableContent_left  id_right  ...  \\\n",
       "0  \"$\", \"333.16\"               None                  None   6428629  ...   \n",
       "1           None               None                  None   4435647  ...   \n",
       "\n",
       "              category_right  \\\n",
       "0  Computers_and_Accessories   \n",
       "1  Computers_and_Accessories   \n",
       "\n",
       "                                         title_right  \\\n",
       "0   \"Intel X520-DA2 Dual Port Gigabit SFP Etherne...   \n",
       "1   \"Zotac NVIDIA GeForce GTX 1070 Ti 8GB AMP! Ex...   \n",
       "\n",
       "                                   description_right brand_right price_right  \\\n",
       "0  \"2 Port Intel E10G42BTDA 10 Gigabit SFP Ethern...        None        None   \n",
       "1  \"Zotac GeForce GTX 1070 Ti AMP! Extreme Editio...        None        None   \n",
       "\n",
       "  keyValuePairs_right specTableContent_right label          pair_id  \\\n",
       "0                None                   None     1  4210789#6428629   \n",
       "1                None                   None     1  8813989#4435647   \n",
       "\n",
       "                            sampling  \n",
       "0  high similarity with old products  \n",
       "1  high similarity with old products  \n",
       "\n",
       "[2 rows x 21 columns]"
      ]
     },
     "execution_count": 6,
     "metadata": {},
     "output_type": "execute_result"
    }
   ],
   "source": [
    "test_set.head(2)"
   ]
  },
  {
   "cell_type": "code",
   "execution_count": 7,
   "id": "31935ba0",
   "metadata": {},
   "outputs": [
    {
     "data": {
      "text/html": [
       "<div>\n",
       "<style scoped>\n",
       "    .dataframe tbody tr th:only-of-type {\n",
       "        vertical-align: middle;\n",
       "    }\n",
       "\n",
       "    .dataframe tbody tr th {\n",
       "        vertical-align: top;\n",
       "    }\n",
       "\n",
       "    .dataframe thead th {\n",
       "        text-align: right;\n",
       "    }\n",
       "</style>\n",
       "<table border=\"1\" class=\"dataframe\">\n",
       "  <thead>\n",
       "    <tr style=\"text-align: right;\">\n",
       "      <th></th>\n",
       "      <th>id_left</th>\n",
       "      <th>category_left</th>\n",
       "      <th>cluster_id_left</th>\n",
       "      <th>identifiers_left</th>\n",
       "      <th>id_right</th>\n",
       "      <th>category_right</th>\n",
       "      <th>cluster_id_right</th>\n",
       "      <th>identifiers_right</th>\n",
       "      <th>label</th>\n",
       "      <th>pair_id</th>\n",
       "      <th>...</th>\n",
       "      <th>description_left</th>\n",
       "      <th>description_right</th>\n",
       "      <th>keyValuePairs_left</th>\n",
       "      <th>keyValuePairs_right</th>\n",
       "      <th>price_left</th>\n",
       "      <th>price_right</th>\n",
       "      <th>specTableContent_left</th>\n",
       "      <th>specTableContent_right</th>\n",
       "      <th>title_left</th>\n",
       "      <th>title_right</th>\n",
       "    </tr>\n",
       "  </thead>\n",
       "  <tbody>\n",
       "    <tr>\n",
       "      <th>0</th>\n",
       "      <td>581109</td>\n",
       "      <td>Computers_and_Accessories</td>\n",
       "      <td>1324529</td>\n",
       "      <td>[{'/mpn': '[gvrx480g1gaming4gd]'}, {'/gtin13':...</td>\n",
       "      <td>16637861</td>\n",
       "      <td>Computers_and_Accessories</td>\n",
       "      <td>107415</td>\n",
       "      <td>[{'/mpn': '[gvrx550gamingoc2gd]'}, {'/gtin13':...</td>\n",
       "      <td>0</td>\n",
       "      <td>581109#16637861</td>\n",
       "      <td>...</td>\n",
       "      <td>\"GV-RX480G1 GAMING-4GD, Core Clock: 1202MHz, B...</td>\n",
       "      <td>\"GV-RX550GAMING OC-2GD, Boost: 1219MHz, Memory...</td>\n",
       "      <td>None</td>\n",
       "      <td>None</td>\n",
       "      <td>None</td>\n",
       "      <td>None</td>\n",
       "      <td>None</td>\n",
       "      <td>None</td>\n",
       "      <td>\"Gigabyte Radeon RX 480 G1 Gaming 4096MB GDDR...</td>\n",
       "      <td>\"Gigabyte Radeon RX 550 Gaming OC 2048MB GDDR...</td>\n",
       "    </tr>\n",
       "    <tr>\n",
       "      <th>1</th>\n",
       "      <td>3083228</td>\n",
       "      <td>Computers_and_Accessories</td>\n",
       "      <td>640007</td>\n",
       "      <td>[{'/mpn': '[9hlf4lbdbe]'}, {'/gtin13': '[47187...</td>\n",
       "      <td>3424944</td>\n",
       "      <td>Computers_and_Accessories</td>\n",
       "      <td>640007</td>\n",
       "      <td>[{'/mpn': '[9hlf4lbdbe]'}, {'/gtin13': '[47187...</td>\n",
       "      <td>1</td>\n",
       "      <td>3083228#3424944</td>\n",
       "      <td>...</td>\n",
       "      <td>\"\\n                More&gt;&gt;&gt;\\n                \\n...</td>\n",
       "      <td>\"\\n\\n                                Every det...</td>\n",
       "      <td>None</td>\n",
       "      <td>None</td>\n",
       "      <td>None</td>\n",
       "      <td>None</td>\n",
       "      <td>None</td>\n",
       "      <td>None</td>\n",
       "      <td>\"Benq ZOWIE RL2455 24\" Full HD TN Grey comput...</td>\n",
       "      <td>\"Zowie RL2455 E-Sports 24\" Full HD LED Monito...</td>\n",
       "    </tr>\n",
       "  </tbody>\n",
       "</table>\n",
       "<p>2 rows × 22 columns</p>\n",
       "</div>"
      ],
      "text/plain": [
       "   id_left              category_left  cluster_id_left  \\\n",
       "0   581109  Computers_and_Accessories          1324529   \n",
       "1  3083228  Computers_and_Accessories           640007   \n",
       "\n",
       "                                    identifiers_left  id_right  \\\n",
       "0  [{'/mpn': '[gvrx480g1gaming4gd]'}, {'/gtin13':...  16637861   \n",
       "1  [{'/mpn': '[9hlf4lbdbe]'}, {'/gtin13': '[47187...   3424944   \n",
       "\n",
       "              category_right  cluster_id_right  \\\n",
       "0  Computers_and_Accessories            107415   \n",
       "1  Computers_and_Accessories            640007   \n",
       "\n",
       "                                   identifiers_right  label          pair_id  \\\n",
       "0  [{'/mpn': '[gvrx550gamingoc2gd]'}, {'/gtin13':...      0  581109#16637861   \n",
       "1  [{'/mpn': '[9hlf4lbdbe]'}, {'/gtin13': '[47187...      1  3083228#3424944   \n",
       "\n",
       "   ...                                   description_left  \\\n",
       "0  ...  \"GV-RX480G1 GAMING-4GD, Core Clock: 1202MHz, B...   \n",
       "1  ...  \"\\n                More>>>\\n                \\n...   \n",
       "\n",
       "                                   description_right keyValuePairs_left  \\\n",
       "0  \"GV-RX550GAMING OC-2GD, Boost: 1219MHz, Memory...               None   \n",
       "1  \"\\n\\n                                Every det...               None   \n",
       "\n",
       "  keyValuePairs_right price_left price_right specTableContent_left  \\\n",
       "0                None       None        None                  None   \n",
       "1                None       None        None                  None   \n",
       "\n",
       "  specTableContent_right                                         title_left  \\\n",
       "0                   None   \"Gigabyte Radeon RX 480 G1 Gaming 4096MB GDDR...   \n",
       "1                   None   \"Benq ZOWIE RL2455 24\" Full HD TN Grey comput...   \n",
       "\n",
       "                                         title_right  \n",
       "0   \"Gigabyte Radeon RX 550 Gaming OC 2048MB GDDR...  \n",
       "1   \"Zowie RL2455 E-Sports 24\" Full HD LED Monito...  \n",
       "\n",
       "[2 rows x 22 columns]"
      ]
     },
     "execution_count": 7,
     "metadata": {},
     "output_type": "execute_result"
    }
   ],
   "source": [
    "data_gs.head(2)"
   ]
  },
  {
   "cell_type": "markdown",
   "id": "7be7701e",
   "metadata": {},
   "source": [
    "## View the shape of each dataset \n"
   ]
  },
  {
   "cell_type": "code",
   "execution_count": 8,
   "id": "94458c1d",
   "metadata": {},
   "outputs": [
    {
     "data": {
      "text/plain": [
       "(68461, 20)"
      ]
     },
     "execution_count": 8,
     "metadata": {},
     "output_type": "execute_result"
    }
   ],
   "source": [
    "data.shape"
   ]
  },
  {
   "cell_type": "code",
   "execution_count": 9,
   "id": "ff57c141",
   "metadata": {},
   "outputs": [
    {
     "data": {
      "text/plain": [
       "(1500, 21)"
      ]
     },
     "execution_count": 9,
     "metadata": {},
     "output_type": "execute_result"
    }
   ],
   "source": [
    "test_set.shape"
   ]
  },
  {
   "cell_type": "code",
   "execution_count": 10,
   "id": "08a9a286",
   "metadata": {},
   "outputs": [
    {
     "data": {
      "text/plain": [
       "(1100, 22)"
      ]
     },
     "execution_count": 10,
     "metadata": {},
     "output_type": "execute_result"
    }
   ],
   "source": [
    "data_gs.shape"
   ]
  },
  {
   "cell_type": "markdown",
   "id": "61305b2f",
   "metadata": {},
   "source": [
    "- As we can see above, each data have different number of columns. On a closer look, the column \"sampling\" is present in the test_set, but missing in the remaining two columns. \n",
    "- Also, the columns \"identifiers_left\" and \"identifiers_right\" are present data_gs , but missing in test_set. we need to drop the columns \"sampling\" , \"identifiers_left\" and \"identifiers_right\"\n"
   ]
  },
  {
   "cell_type": "code",
   "execution_count": 11,
   "id": "3c8da963",
   "metadata": {},
   "outputs": [],
   "source": [
    "data_gs = data_gs.drop(['identifiers_right' , 'identifiers_left'] , axis=1)"
   ]
  },
  {
   "cell_type": "code",
   "execution_count": 12,
   "id": "5c59ee03",
   "metadata": {},
   "outputs": [],
   "source": [
    "test_set = test_set.drop(['sampling'] , axis=1)"
   ]
  },
  {
   "cell_type": "markdown",
   "id": "604cdc7e",
   "metadata": {},
   "source": [
    "### VIEW THE SHAPE OF THE DATA AFTER DROPPING SOME COLUMNS"
   ]
  },
  {
   "cell_type": "code",
   "execution_count": 13,
   "id": "23f616b7",
   "metadata": {},
   "outputs": [
    {
     "data": {
      "text/plain": [
       "(68461, 20)"
      ]
     },
     "execution_count": 13,
     "metadata": {},
     "output_type": "execute_result"
    }
   ],
   "source": [
    "data.shape"
   ]
  },
  {
   "cell_type": "code",
   "execution_count": 14,
   "id": "80e991b4",
   "metadata": {},
   "outputs": [
    {
     "data": {
      "text/plain": [
       "(1500, 20)"
      ]
     },
     "execution_count": 14,
     "metadata": {},
     "output_type": "execute_result"
    }
   ],
   "source": [
    "test_set.shape"
   ]
  },
  {
   "cell_type": "code",
   "execution_count": 15,
   "id": "aea3212c",
   "metadata": {},
   "outputs": [
    {
     "data": {
      "text/plain": [
       "(1100, 20)"
      ]
     },
     "execution_count": 15,
     "metadata": {},
     "output_type": "execute_result"
    }
   ],
   "source": [
    "data_gs.shape"
   ]
  },
  {
   "cell_type": "markdown",
   "id": "cdda5e1a",
   "metadata": {},
   "source": [
    "### VIEW THE EXTENT OF MISSING DATA"
   ]
  },
  {
   "cell_type": "markdown",
   "id": "4036aa4e",
   "metadata": {},
   "source": [
    "#### columns with missing data in data dataset"
   ]
  },
  {
   "cell_type": "code",
   "execution_count": 64,
   "id": "b2be1e1c",
   "metadata": {},
   "outputs": [
    {
     "name": "stdout",
     "output_type": "stream",
     "text": [
      "Are there any null values?\n",
      "True \n",
      "\n",
      "How many null values are in each column?\n",
      "id_left                       0\n",
      "category_left                 0\n",
      "cluster_id_left               0\n",
      "id_right                      0\n",
      "category_right                0\n",
      "cluster_id_right              0\n",
      "label                         0\n",
      "pair_id                       0\n",
      "brand_left                34228\n",
      "brand_right               34216\n",
      "description_left          21001\n",
      "description_right         20101\n",
      "keyValuePairs_left        49696\n",
      "keyValuePairs_right       48186\n",
      "price_left                56940\n",
      "price_right               56969\n",
      "specTableContent_left     47564\n",
      "specTableContent_right    46304\n",
      "title_left                    0\n",
      "title_right                   0\n",
      "dtype: int64 \n",
      "\n",
      "How many null values are in the data in total?\n",
      "415205\n"
     ]
    }
   ],
   "source": [
    "print(\"Are there any null values?\")\n",
    "print(data.isnull().values.any() , \"\\n\")\n",
    "#Find out how many - This gives you the breakdown per column\n",
    "print('How many null values are in each column?'),\n",
    "print(data.isnull().sum(), \"\\n\")\n",
    "#Get total overall null values\n",
    "print('How many null values are in the data in total?')\n",
    "print(data.isnull().sum().sum())"
   ]
  },
  {
   "cell_type": "markdown",
   "id": "1ccea065",
   "metadata": {},
   "source": [
    "#### columns with missing data in test_set dataset"
   ]
  },
  {
   "cell_type": "code",
   "execution_count": 62,
   "id": "7801da98",
   "metadata": {},
   "outputs": [
    {
     "name": "stdout",
     "output_type": "stream",
     "text": [
      "Are there any null values in the test_set?\n",
      "True \n",
      "\n",
      "How many null values are in each column?\n",
      "id_left                      0\n",
      "cluster_id_left              0\n",
      "category_left                0\n",
      "title_left                   0\n",
      "description_left           167\n",
      "brand_left                 635\n",
      "price_left                1161\n",
      "keyValuePairs_left        1025\n",
      "specTableContent_left      995\n",
      "id_right                     0\n",
      "cluster_id_right             0\n",
      "category_right               0\n",
      "title_right                  0\n",
      "description_right          219\n",
      "brand_right                644\n",
      "price_right               1156\n",
      "keyValuePairs_right       1076\n",
      "specTableContent_right    1030\n",
      "label                        0\n",
      "pair_id                      0\n",
      "dtype: int64 \n",
      "\n",
      "How many null values are in the data in total?\n",
      "8108\n"
     ]
    }
   ],
   "source": [
    "print(\"Are there any null values in the test_set?\")\n",
    "print(test_set.isnull().values.any() , \"\\n\")\n",
    "#Find out how many - This gives you the breakdown per column\n",
    "print('How many null values are in each column?'),\n",
    "print(test_set.isnull().sum(), \"\\n\")\n",
    "#Get total overall null values\n",
    "print('How many null values are in the data in total?')\n",
    "print(test_set.isnull().sum().sum())"
   ]
  },
  {
   "cell_type": "markdown",
   "id": "7a2dd8c3",
   "metadata": {},
   "source": [
    "#### columns with missing data in Gold standard dataset"
   ]
  },
  {
   "cell_type": "code",
   "execution_count": 18,
   "id": "93898286",
   "metadata": {},
   "outputs": [
    {
     "name": "stdout",
     "output_type": "stream",
     "text": [
      "Are there any null values in the data_gs?\n",
      "True \n",
      "\n",
      "How many null values are in each column?\n",
      "id_left                     0\n",
      "category_left               0\n",
      "cluster_id_left             0\n",
      "id_right                    0\n",
      "category_right              0\n",
      "cluster_id_right            0\n",
      "label                       0\n",
      "pair_id                     0\n",
      "brand_left                438\n",
      "brand_right               460\n",
      "description_left           78\n",
      "description_right         140\n",
      "keyValuePairs_left        719\n",
      "keyValuePairs_right       766\n",
      "price_left                846\n",
      "price_right               840\n",
      "specTableContent_left     698\n",
      "specTableContent_right    736\n",
      "title_left                  0\n",
      "title_right                 0\n",
      "dtype: int64 \n",
      "\n",
      "How many null values are in the data in total?\n",
      "5721\n"
     ]
    }
   ],
   "source": [
    "print(\"Are there any null values in the data_gs?\")\n",
    "print(data_gs.isnull().values.any() , \"\\n\")\n",
    "#Find out how many - This gives you the breakdown per column\n",
    "print('How many null values are in each column?'),\n",
    "print(data_gs.isnull().sum(), \"\\n\")\n",
    "#Get total overall null values\n",
    "print('How many null values are in the data in total?')\n",
    "print(data_gs.isnull().sum().sum())"
   ]
  },
  {
   "cell_type": "markdown",
   "id": "f6c83048",
   "metadata": {},
   "source": [
    "#### DROP MISSING VALUES"
   ]
  },
  {
   "cell_type": "code",
   "execution_count": 19,
   "id": "b04a2994",
   "metadata": {},
   "outputs": [],
   "source": [
    "data0=data.dropna()\n",
    "test_set0= test_set.dropna()\n",
    "data_gs0 =data_gs.dropna()"
   ]
  },
  {
   "cell_type": "code",
   "execution_count": 20,
   "id": "f16d93b1",
   "metadata": {},
   "outputs": [
    {
     "data": {
      "text/plain": [
       "(1450, 20)"
      ]
     },
     "execution_count": 20,
     "metadata": {},
     "output_type": "execute_result"
    }
   ],
   "source": [
    "data0.shape"
   ]
  },
  {
   "cell_type": "code",
   "execution_count": 21,
   "id": "d1263934",
   "metadata": {},
   "outputs": [
    {
     "data": {
      "text/plain": [
       "(59, 20)"
      ]
     },
     "execution_count": 21,
     "metadata": {},
     "output_type": "execute_result"
    }
   ],
   "source": [
    "test_set0.shape"
   ]
  },
  {
   "cell_type": "code",
   "execution_count": 22,
   "id": "d076a981",
   "metadata": {},
   "outputs": [
    {
     "data": {
      "text/plain": [
       "(49, 20)"
      ]
     },
     "execution_count": 22,
     "metadata": {},
     "output_type": "execute_result"
    }
   ],
   "source": [
    "data_gs0.shape"
   ]
  },
  {
   "cell_type": "markdown",
   "id": "49f7f782",
   "metadata": {},
   "source": [
    "#### Comment\n",
    "- As we can see above the missing values are too much. For data dataset, about 98 percent of the data are gone\n",
    "- for test_set , 96 percent are deleted.\n",
    "- Also ,in the gold standard dataset , 96 percent of the dataset have been phased out.\n",
    "\n",
    "- The remaining data is not enough for training most machine learning algorithms and also might not be enough to model the    whole dataset\n",
    "- We will replace all null values with blank(\" \"), then combine all features to one column. This is to ensure that we use all possible information for our classification."
   ]
  },
  {
   "cell_type": "markdown",
   "id": "a367a40b",
   "metadata": {},
   "source": [
    "# EXPERIMENT 1:\n",
    "#### USING ALL COLUMNS TO FIT MODEL"
   ]
  },
  {
   "cell_type": "markdown",
   "id": "96660ea5",
   "metadata": {},
   "source": [
    "#### COMBINING ALL FEATURES TOGETHER"
   ]
  },
  {
   "cell_type": "code",
   "execution_count": 23,
   "id": "184e1181",
   "metadata": {},
   "outputs": [
    {
     "name": "stderr",
     "output_type": "stream",
     "text": [
      "C:\\Users\\pc\\AppData\\Local\\Temp/ipykernel_4272/3806188373.py:4: FutureWarning: In a future version of pandas all arguments of DataFrame.drop except for the argument 'labels' will be keyword-only\n",
      "  data1.drop(data1.columns.difference(['product_feature','label']), 1, inplace=True)\n",
      "C:\\Users\\pc\\AppData\\Local\\Temp/ipykernel_4272/3806188373.py:9: FutureWarning: In a future version of pandas all arguments of DataFrame.drop except for the argument 'labels' will be keyword-only\n",
      "  test_set1.drop(test_set1.columns.difference(['product_feature','label']), 1, inplace=True)\n",
      "C:\\Users\\pc\\AppData\\Local\\Temp/ipykernel_4272/3806188373.py:14: FutureWarning: In a future version of pandas all arguments of DataFrame.drop except for the argument 'labels' will be keyword-only\n",
      "  data_gs1.drop(data_gs1.columns.difference(['product_feature','label']), 1, inplace=True)\n"
     ]
    }
   ],
   "source": [
    "data1 = data.copy(deep=True) \n",
    "data1 = data1.fillna('')\n",
    "data1['product_feature'] = str(data1['id_left']) + \" \" +str(data1['category_left']) + \" \" + str(data1['cluster_id_left']) + \" \" + str(data1['id_right']) + \" \" + data1['category_right']+ \" \" + str(data1['cluster_id_right'])+ \" \" + data1['brand_left']+ \" \" + data1['brand_right']+ \" \" + data1['description_left']+ \" \" + data1['description_right']+ \" \" + str(data1['keyValuePairs_left'])+ \" \" + str(data1['keyValuePairs_right'])+ \" \" + str(data1['price_left'])+  \" \" +str(data1['price_right'])+ \" \" + data1['specTableContent_left']+ \" \" + data1['specTableContent_right']+ \" \" + data1['title_left']+  \" \" +data1['title_right']\n",
    "data1.drop(data1.columns.difference(['product_feature','label']), 1, inplace=True)\n",
    "\n",
    "test_set1 = test_set.copy(deep=True) \n",
    "test_set1 = test_set1.fillna('')\n",
    "test_set1['product_feature'] = str(test_set1['id_left']) +  \" \" +str(test_set1['category_left']) +  \" \" +str(test_set1['cluster_id_left']) + \" \" + str(test_set1['id_right']) +  \" \" +test_set1['category_right']+ \" \" + str(test_set1['cluster_id_right'])+ \" \" + test_set1['brand_left']+ \" \" + test_set1['brand_right']+  \" \" +test_set1['description_left']+ \" \" + test_set1['description_right']+ \" \" + str(test_set1['keyValuePairs_left'])+ \" \" + str(test_set1['keyValuePairs_right'])+ \" \" + str(test_set1['price_left'])+ \" \" + str(test_set1['price_right'])+ \" \" + test_set1['specTableContent_left']+ \" \" + test_set1['specTableContent_right']+ \" \" + test_set1['title_left']+ \" \" + test_set1['title_right']\n",
    "test_set1.drop(test_set1.columns.difference(['product_feature','label']), 1, inplace=True)\n",
    "\n",
    "data_gs1 = data_gs.copy(deep=True)\n",
    "data_gs1 = data_gs1.fillna('')\n",
    "data_gs1['product_feature'] = str(data_gs1['id_left']) +  \" \" +str(data_gs1['category_left']) + \" \" + str(data_gs1['cluster_id_left']) + \" \" + str(data_gs1['id_right']) + \" \" + data_gs1['category_right']+ \" \" + str(data_gs1['cluster_id_right'])+  \" \" +data_gs1['brand_left']+  \" \" +data_gs1['brand_right']+  \" \" +data_gs1['description_left']+  \" \" +data_gs1['description_right']+ \" \" + str(data_gs1['keyValuePairs_left'])+ \" \" + str(data_gs1['keyValuePairs_right'])+ \" \" + str(data_gs1['price_left'])+ \" \" + str(data_gs1['price_right'])+ \" \" + data_gs1['specTableContent_left']+  \" \" +data_gs1['specTableContent_right']+ \" \" + data_gs1['title_left']+ \" \" + data_gs1['title_right']\n",
    "data_gs1.drop(data_gs1.columns.difference(['product_feature','label']), 1, inplace=True)"
   ]
  },
  {
   "cell_type": "markdown",
   "id": "8aed0120",
   "metadata": {},
   "source": [
    "- In the above cell, the null values were filled with empty space, i.e ' ', then the columns were merged together. \n",
    "- This means that the model that will be created with this data will be robust enough to predict outcomes using either all the columns or some of the columns."
   ]
  },
  {
   "cell_type": "markdown",
   "id": "4acd86f8",
   "metadata": {},
   "source": [
    "#### VIEW THE FIRST FIVE DATASET AFTER COLUMN MERGING"
   ]
  },
  {
   "cell_type": "code",
   "execution_count": 24,
   "id": "4a00f59d",
   "metadata": {},
   "outputs": [
    {
     "data": {
      "text/html": [
       "<div>\n",
       "<style scoped>\n",
       "    .dataframe tbody tr th:only-of-type {\n",
       "        vertical-align: middle;\n",
       "    }\n",
       "\n",
       "    .dataframe tbody tr th {\n",
       "        vertical-align: top;\n",
       "    }\n",
       "\n",
       "    .dataframe thead th {\n",
       "        text-align: right;\n",
       "    }\n",
       "</style>\n",
       "<table border=\"1\" class=\"dataframe\">\n",
       "  <thead>\n",
       "    <tr style=\"text-align: right;\">\n",
       "      <th></th>\n",
       "      <th>label</th>\n",
       "      <th>product_feature</th>\n",
       "    </tr>\n",
       "  </thead>\n",
       "  <tbody>\n",
       "    <tr>\n",
       "      <th>0</th>\n",
       "      <td>1</td>\n",
       "      <td>0         2551242\\n1        16757469\\n2       ...</td>\n",
       "    </tr>\n",
       "    <tr>\n",
       "      <th>1</th>\n",
       "      <td>1</td>\n",
       "      <td>0         2551242\\n1        16757469\\n2       ...</td>\n",
       "    </tr>\n",
       "    <tr>\n",
       "      <th>2</th>\n",
       "      <td>0</td>\n",
       "      <td>0         2551242\\n1        16757469\\n2       ...</td>\n",
       "    </tr>\n",
       "    <tr>\n",
       "      <th>3</th>\n",
       "      <td>1</td>\n",
       "      <td>0         2551242\\n1        16757469\\n2       ...</td>\n",
       "    </tr>\n",
       "    <tr>\n",
       "      <th>4</th>\n",
       "      <td>0</td>\n",
       "      <td>0         2551242\\n1        16757469\\n2       ...</td>\n",
       "    </tr>\n",
       "  </tbody>\n",
       "</table>\n",
       "</div>"
      ],
      "text/plain": [
       "   label                                    product_feature\n",
       "0      1  0         2551242\\n1        16757469\\n2       ...\n",
       "1      1  0         2551242\\n1        16757469\\n2       ...\n",
       "2      0  0         2551242\\n1        16757469\\n2       ...\n",
       "3      1  0         2551242\\n1        16757469\\n2       ...\n",
       "4      0  0         2551242\\n1        16757469\\n2       ..."
      ]
     },
     "execution_count": 24,
     "metadata": {},
     "output_type": "execute_result"
    }
   ],
   "source": [
    "data1.head()"
   ]
  },
  {
   "cell_type": "code",
   "execution_count": 25,
   "id": "72472dd5",
   "metadata": {},
   "outputs": [
    {
     "data": {
      "text/html": [
       "<div>\n",
       "<style scoped>\n",
       "    .dataframe tbody tr th:only-of-type {\n",
       "        vertical-align: middle;\n",
       "    }\n",
       "\n",
       "    .dataframe tbody tr th {\n",
       "        vertical-align: top;\n",
       "    }\n",
       "\n",
       "    .dataframe thead th {\n",
       "        text-align: right;\n",
       "    }\n",
       "</style>\n",
       "<table border=\"1\" class=\"dataframe\">\n",
       "  <thead>\n",
       "    <tr style=\"text-align: right;\">\n",
       "      <th></th>\n",
       "      <th>label</th>\n",
       "      <th>product_feature</th>\n",
       "    </tr>\n",
       "  </thead>\n",
       "  <tbody>\n",
       "    <tr>\n",
       "      <th>0</th>\n",
       "      <td>1</td>\n",
       "      <td>0        4210789\\n1        8813989\\n2        4...</td>\n",
       "    </tr>\n",
       "    <tr>\n",
       "      <th>1</th>\n",
       "      <td>1</td>\n",
       "      <td>0        4210789\\n1        8813989\\n2        4...</td>\n",
       "    </tr>\n",
       "    <tr>\n",
       "      <th>2</th>\n",
       "      <td>1</td>\n",
       "      <td>0        4210789\\n1        8813989\\n2        4...</td>\n",
       "    </tr>\n",
       "    <tr>\n",
       "      <th>3</th>\n",
       "      <td>1</td>\n",
       "      <td>0        4210789\\n1        8813989\\n2        4...</td>\n",
       "    </tr>\n",
       "    <tr>\n",
       "      <th>4</th>\n",
       "      <td>1</td>\n",
       "      <td>0        4210789\\n1        8813989\\n2        4...</td>\n",
       "    </tr>\n",
       "  </tbody>\n",
       "</table>\n",
       "</div>"
      ],
      "text/plain": [
       "   label                                    product_feature\n",
       "0      1  0        4210789\\n1        8813989\\n2        4...\n",
       "1      1  0        4210789\\n1        8813989\\n2        4...\n",
       "2      1  0        4210789\\n1        8813989\\n2        4...\n",
       "3      1  0        4210789\\n1        8813989\\n2        4...\n",
       "4      1  0        4210789\\n1        8813989\\n2        4..."
      ]
     },
     "execution_count": 25,
     "metadata": {},
     "output_type": "execute_result"
    }
   ],
   "source": [
    "test_set1.head()"
   ]
  },
  {
   "cell_type": "code",
   "execution_count": 26,
   "id": "7563a8d4",
   "metadata": {},
   "outputs": [
    {
     "data": {
      "text/html": [
       "<div>\n",
       "<style scoped>\n",
       "    .dataframe tbody tr th:only-of-type {\n",
       "        vertical-align: middle;\n",
       "    }\n",
       "\n",
       "    .dataframe tbody tr th {\n",
       "        vertical-align: top;\n",
       "    }\n",
       "\n",
       "    .dataframe thead th {\n",
       "        text-align: right;\n",
       "    }\n",
       "</style>\n",
       "<table border=\"1\" class=\"dataframe\">\n",
       "  <thead>\n",
       "    <tr style=\"text-align: right;\">\n",
       "      <th></th>\n",
       "      <th>label</th>\n",
       "      <th>product_feature</th>\n",
       "    </tr>\n",
       "  </thead>\n",
       "  <tbody>\n",
       "    <tr>\n",
       "      <th>0</th>\n",
       "      <td>0</td>\n",
       "      <td>0         581109\\n1        3083228\\n2        5...</td>\n",
       "    </tr>\n",
       "    <tr>\n",
       "      <th>1</th>\n",
       "      <td>1</td>\n",
       "      <td>0         581109\\n1        3083228\\n2        5...</td>\n",
       "    </tr>\n",
       "    <tr>\n",
       "      <th>2</th>\n",
       "      <td>0</td>\n",
       "      <td>0         581109\\n1        3083228\\n2        5...</td>\n",
       "    </tr>\n",
       "    <tr>\n",
       "      <th>3</th>\n",
       "      <td>0</td>\n",
       "      <td>0         581109\\n1        3083228\\n2        5...</td>\n",
       "    </tr>\n",
       "    <tr>\n",
       "      <th>4</th>\n",
       "      <td>0</td>\n",
       "      <td>0         581109\\n1        3083228\\n2        5...</td>\n",
       "    </tr>\n",
       "  </tbody>\n",
       "</table>\n",
       "</div>"
      ],
      "text/plain": [
       "   label                                    product_feature\n",
       "0      0  0         581109\\n1        3083228\\n2        5...\n",
       "1      1  0         581109\\n1        3083228\\n2        5...\n",
       "2      0  0         581109\\n1        3083228\\n2        5...\n",
       "3      0  0         581109\\n1        3083228\\n2        5...\n",
       "4      0  0         581109\\n1        3083228\\n2        5..."
      ]
     },
     "execution_count": 26,
     "metadata": {},
     "output_type": "execute_result"
    }
   ],
   "source": [
    "data_gs1.head()"
   ]
  },
  {
   "cell_type": "markdown",
   "id": "f959b25e",
   "metadata": {},
   "source": [
    "#### VIEW SOME DATA PARAMETERS"
   ]
  },
  {
   "cell_type": "markdown",
   "id": "30f568db",
   "metadata": {},
   "source": [
    "- COUNT OF ZEROS AND ONES IN LABEL COLUMN FOR data1"
   ]
  },
  {
   "cell_type": "code",
   "execution_count": 27,
   "id": "a8e5ac71",
   "metadata": {},
   "outputs": [
    {
     "data": {
      "text/plain": [
       "0    0.85846\n",
       "1    0.14154\n",
       "Name: label, dtype: float64"
      ]
     },
     "execution_count": 27,
     "metadata": {},
     "output_type": "execute_result"
    }
   ],
   "source": [
    "data1.label.value_counts(normalize=True)"
   ]
  },
  {
   "cell_type": "code",
   "execution_count": 28,
   "id": "65cbc712",
   "metadata": {},
   "outputs": [
    {
     "data": {
      "text/plain": [
       "<AxesSubplot:>"
      ]
     },
     "execution_count": 28,
     "metadata": {},
     "output_type": "execute_result"
    },
    {
     "data": {
      "image/png": "[encoded data removed]",
      "text/plain": [
       "<Figure size 432x288 with 1 Axes>"
      ]
     },
     "metadata": {
      "needs_background": "light"
     },
     "output_type": "display_data"
    }
   ],
   "source": [
    "data1.label.value_counts(normalize=True).sort_index().plot(kind='bar')"
   ]
  },
  {
   "cell_type": "markdown",
   "id": "e5c6b672",
   "metadata": {},
   "source": [
    "- COUNT OF ZEROS AND ONES IN LABEL COLUMN FOR test_set1"
   ]
  },
  {
   "cell_type": "code",
   "execution_count": 29,
   "id": "d72ed7fb",
   "metadata": {},
   "outputs": [
    {
     "data": {
      "text/plain": [
       "0    0.65\n",
       "1    0.35\n",
       "Name: label, dtype: float64"
      ]
     },
     "execution_count": 29,
     "metadata": {},
     "output_type": "execute_result"
    }
   ],
   "source": [
    "test_set1.label.value_counts(normalize=True)"
   ]
  },
  {
   "cell_type": "code",
   "execution_count": 30,
   "id": "9d8dc162",
   "metadata": {},
   "outputs": [
    {
     "data": {
      "text/plain": [
       "<AxesSubplot:>"
      ]
     },
     "execution_count": 30,
     "metadata": {},
     "output_type": "execute_result"
    },
    {
     "data": {
      "image/png": "[encoded data removed]",
      "text/plain": [
       "<Figure size 432x288 with 1 Axes>"
      ]
     },
     "metadata": {
      "needs_background": "light"
     },
     "output_type": "display_data"
    }
   ],
   "source": [
    "test_set1.label.value_counts(normalize=True).sort_index().plot(kind='bar')"
   ]
  },
  {
   "cell_type": "markdown",
   "id": "dfe86c49",
   "metadata": {},
   "source": [
    "- COUNT OF ZEROS AND ONES IN LABEL COLUMN FOR data_gs1"
   ]
  },
  {
   "cell_type": "code",
   "execution_count": 31,
   "id": "9f79a6b9",
   "metadata": {},
   "outputs": [
    {
     "data": {
      "text/plain": [
       "0    0.727273\n",
       "1    0.272727\n",
       "Name: label, dtype: float64"
      ]
     },
     "execution_count": 31,
     "metadata": {},
     "output_type": "execute_result"
    }
   ],
   "source": [
    "data_gs1.label.value_counts(normalize=True)"
   ]
  },
  {
   "cell_type": "code",
   "execution_count": 32,
   "id": "79f96e93",
   "metadata": {},
   "outputs": [
    {
     "data": {
      "text/plain": [
       "<AxesSubplot:>"
      ]
     },
     "execution_count": 32,
     "metadata": {},
     "output_type": "execute_result"
    },
    {
     "data": {
      "image/png": "[encoded data removed]",
      "text/plain": [
       "<Figure size 432x288 with 1 Axes>"
      ]
     },
     "metadata": {
      "needs_background": "light"
     },
     "output_type": "display_data"
    }
   ],
   "source": [
    "data_gs1.label.value_counts(normalize=True).sort_index().plot(kind='bar')"
   ]
  },
  {
   "cell_type": "markdown",
   "id": "72579417",
   "metadata": {},
   "source": [
    "#### DROP NULL VALUES"
   ]
  },
  {
   "cell_type": "code",
   "execution_count": 33,
   "id": "4126c53c",
   "metadata": {},
   "outputs": [],
   "source": [
    "data1=data1.dropna()\n",
    "test_set1= test_set1.dropna()\n",
    "data_gs1 =data_gs1.dropna()"
   ]
  },
  {
   "cell_type": "markdown",
   "id": "661ff75d",
   "metadata": {},
   "source": [
    "#### VIEW THE SHAPE OF THE DATASETS AFTER DROPPING NULL VALUES"
   ]
  },
  {
   "cell_type": "code",
   "execution_count": 34,
   "id": "2a271486",
   "metadata": {},
   "outputs": [
    {
     "data": {
      "text/plain": [
       "(68461, 2)"
      ]
     },
     "execution_count": 34,
     "metadata": {},
     "output_type": "execute_result"
    }
   ],
   "source": [
    "data1.shape"
   ]
  },
  {
   "cell_type": "code",
   "execution_count": 35,
   "id": "ea0f6f32",
   "metadata": {},
   "outputs": [
    {
     "data": {
      "text/plain": [
       "(1500, 2)"
      ]
     },
     "execution_count": 35,
     "metadata": {},
     "output_type": "execute_result"
    }
   ],
   "source": [
    "test_set1.shape"
   ]
  },
  {
   "cell_type": "code",
   "execution_count": 36,
   "id": "61ce993e",
   "metadata": {},
   "outputs": [
    {
     "data": {
      "text/plain": [
       "(1100, 2)"
      ]
     },
     "execution_count": 36,
     "metadata": {},
     "output_type": "execute_result"
    }
   ],
   "source": [
    "data_gs1.shape"
   ]
  },
  {
   "cell_type": "markdown",
   "id": "58465745",
   "metadata": {},
   "source": [
    "#### function definition and generating stopwords\n",
    "- the function \"remove_punctuation\" will remove punctuaions from columns, and \"tokenize\" will tokenize and stem the words to root words in the the column"
   ]
  },
  {
   "cell_type": "code",
   "execution_count": 37,
   "id": "24d4e5b9",
   "metadata": {},
   "outputs": [],
   "source": [
    "#library that contains punctuation\n",
    "string.punctuation\n",
    "\n",
    "#Define function to remove punctuation\n",
    "def remove_punctuation(text):\n",
    "    punctuationfree=\"\".join([i for i in text if i not in string.punctuation])\n",
    "    return punctuationfree\n",
    "\n",
    "#Generate stopwords\n",
    "english_stopwords=stopwords.words('english')\n",
    "# Generate Stemmer\n",
    "stemmer= SnowballStemmer(language='english')\n",
    "\n",
    "# Define tokenizer function with stemmer\n",
    "def tokenize(text):\n",
    "            return [stemmer.stem(token) for token in word_tokenize(text)]"
   ]
  },
  {
   "cell_type": "code",
   "execution_count": 38,
   "id": "36b641f9",
   "metadata": {},
   "outputs": [
    {
     "data": {
      "text/plain": [
       "'!\"#$%&\\'()*+,-./:;<=>?@[\\\\]^_`{|}~'"
      ]
     },
     "execution_count": 38,
     "metadata": {},
     "output_type": "execute_result"
    }
   ],
   "source": [
    "string.punctuation"
   ]
  },
  {
   "cell_type": "code",
   "execution_count": 39,
   "id": "795f857a",
   "metadata": {},
   "outputs": [
    {
     "data": {
      "text/plain": [
       "['do', 'you', 'like', 'drive']"
      ]
     },
     "execution_count": 39,
     "metadata": {},
     "output_type": "execute_result"
    }
   ],
   "source": [
    "tokenize('do you like driving')"
   ]
  },
  {
   "cell_type": "markdown",
   "id": "544f9373",
   "metadata": {},
   "source": [
    "#### Apply the function remove_punctuation to column"
   ]
  },
  {
   "cell_type": "code",
   "execution_count": 40,
   "id": "9abf4592",
   "metadata": {},
   "outputs": [],
   "source": [
    "data1['product_feature'] = data1['product_feature'].apply(lambda x:remove_punctuation(x))\n",
    "test_set1['product_feature'] = test_set1['product_feature'].apply(lambda x:remove_punctuation(x))\n",
    "data_gs1['product_feature'] = data_gs1['product_feature'].apply(lambda x:remove_punctuation(x))"
   ]
  },
  {
   "cell_type": "code",
   "execution_count": 41,
   "id": "df7187a0",
   "metadata": {},
   "outputs": [
    {
     "data": {
      "text/html": [
       "<div>\n",
       "<style scoped>\n",
       "    .dataframe tbody tr th:only-of-type {\n",
       "        vertical-align: middle;\n",
       "    }\n",
       "\n",
       "    .dataframe tbody tr th {\n",
       "        vertical-align: top;\n",
       "    }\n",
       "\n",
       "    .dataframe thead th {\n",
       "        text-align: right;\n",
       "    }\n",
       "</style>\n",
       "<table border=\"1\" class=\"dataframe\">\n",
       "  <thead>\n",
       "    <tr style=\"text-align: right;\">\n",
       "      <th></th>\n",
       "      <th>label</th>\n",
       "      <th>product_feature</th>\n",
       "    </tr>\n",
       "  </thead>\n",
       "  <tbody>\n",
       "    <tr>\n",
       "      <th>0</th>\n",
       "      <td>1</td>\n",
       "      <td>0         2551242\\n1        16757469\\n2       ...</td>\n",
       "    </tr>\n",
       "    <tr>\n",
       "      <th>1</th>\n",
       "      <td>1</td>\n",
       "      <td>0         2551242\\n1        16757469\\n2       ...</td>\n",
       "    </tr>\n",
       "    <tr>\n",
       "      <th>2</th>\n",
       "      <td>0</td>\n",
       "      <td>0         2551242\\n1        16757469\\n2       ...</td>\n",
       "    </tr>\n",
       "    <tr>\n",
       "      <th>3</th>\n",
       "      <td>1</td>\n",
       "      <td>0         2551242\\n1        16757469\\n2       ...</td>\n",
       "    </tr>\n",
       "    <tr>\n",
       "      <th>4</th>\n",
       "      <td>0</td>\n",
       "      <td>0         2551242\\n1        16757469\\n2       ...</td>\n",
       "    </tr>\n",
       "  </tbody>\n",
       "</table>\n",
       "</div>"
      ],
      "text/plain": [
       "   label                                    product_feature\n",
       "0      1  0         2551242\\n1        16757469\\n2       ...\n",
       "1      1  0         2551242\\n1        16757469\\n2       ...\n",
       "2      0  0         2551242\\n1        16757469\\n2       ...\n",
       "3      1  0         2551242\\n1        16757469\\n2       ...\n",
       "4      0  0         2551242\\n1        16757469\\n2       ..."
      ]
     },
     "execution_count": 41,
     "metadata": {},
     "output_type": "execute_result"
    }
   ],
   "source": [
    "data1.head()"
   ]
  },
  {
   "cell_type": "code",
   "execution_count": 42,
   "id": "be296fa6",
   "metadata": {},
   "outputs": [
    {
     "data": {
      "text/html": [
       "<div>\n",
       "<style scoped>\n",
       "    .dataframe tbody tr th:only-of-type {\n",
       "        vertical-align: middle;\n",
       "    }\n",
       "\n",
       "    .dataframe tbody tr th {\n",
       "        vertical-align: top;\n",
       "    }\n",
       "\n",
       "    .dataframe thead th {\n",
       "        text-align: right;\n",
       "    }\n",
       "</style>\n",
       "<table border=\"1\" class=\"dataframe\">\n",
       "  <thead>\n",
       "    <tr style=\"text-align: right;\">\n",
       "      <th></th>\n",
       "      <th>label</th>\n",
       "      <th>product_feature</th>\n",
       "    </tr>\n",
       "  </thead>\n",
       "  <tbody>\n",
       "    <tr>\n",
       "      <th>0</th>\n",
       "      <td>0</td>\n",
       "      <td>0         581109\\n1        3083228\\n2        5...</td>\n",
       "    </tr>\n",
       "    <tr>\n",
       "      <th>1</th>\n",
       "      <td>1</td>\n",
       "      <td>0         581109\\n1        3083228\\n2        5...</td>\n",
       "    </tr>\n",
       "    <tr>\n",
       "      <th>2</th>\n",
       "      <td>0</td>\n",
       "      <td>0         581109\\n1        3083228\\n2        5...</td>\n",
       "    </tr>\n",
       "    <tr>\n",
       "      <th>3</th>\n",
       "      <td>0</td>\n",
       "      <td>0         581109\\n1        3083228\\n2        5...</td>\n",
       "    </tr>\n",
       "    <tr>\n",
       "      <th>4</th>\n",
       "      <td>0</td>\n",
       "      <td>0         581109\\n1        3083228\\n2        5...</td>\n",
       "    </tr>\n",
       "  </tbody>\n",
       "</table>\n",
       "</div>"
      ],
      "text/plain": [
       "   label                                    product_feature\n",
       "0      0  0         581109\\n1        3083228\\n2        5...\n",
       "1      1  0         581109\\n1        3083228\\n2        5...\n",
       "2      0  0         581109\\n1        3083228\\n2        5...\n",
       "3      0  0         581109\\n1        3083228\\n2        5...\n",
       "4      0  0         581109\\n1        3083228\\n2        5..."
      ]
     },
     "execution_count": 42,
     "metadata": {},
     "output_type": "execute_result"
    }
   ],
   "source": [
    "data_gs1.head()"
   ]
  },
  {
   "cell_type": "markdown",
   "id": "687b58f9",
   "metadata": {},
   "source": [
    "#### create a TF-IDF model using Tfidf vectorizer function."
   ]
  },
  {
   "cell_type": "code",
   "execution_count": 43,
   "id": "d3ca9d83",
   "metadata": {},
   "outputs": [
    {
     "name": "stdout",
     "output_type": "stream",
     "text": [
      "Duration: 0.001001119613647461 seconds\n"
     ]
    }
   ],
   "source": [
    "from time import time\n",
    "t0 = time()\n",
    "vectorizer = TfidfVectorizer(tokenizer=tokenize , \n",
    "                             stop_words=english_stopwords,\n",
    "                            ngram_range=(1,1) , max_df=0.5 , max_features= 1000\n",
    "                            )\n",
    "duration = time() - t0\n",
    "print('Duration:' , duration ,'seconds')"
   ]
  },
  {
   "cell_type": "markdown",
   "id": "f1186998",
   "metadata": {},
   "source": [
    "#### Fit TF-IDF model on product_feature column"
   ]
  },
  {
   "cell_type": "code",
   "execution_count": 44,
   "id": "217ce320",
   "metadata": {},
   "outputs": [
    {
     "name": "stderr",
     "output_type": "stream",
     "text": [
      "C:\\Users\\pc\\anaconda3\\lib\\site-packages\\sklearn\\feature_extraction\\text.py:489: UserWarning: The parameter 'token_pattern' will not be used since 'tokenizer' is not None'\n",
      "  warnings.warn(\"The parameter 'token_pattern' will not be used\"\n",
      "C:\\Users\\pc\\anaconda3\\lib\\site-packages\\sklearn\\feature_extraction\\text.py:388: UserWarning: Your stop_words may be inconsistent with your preprocessing. Tokenizing the stop words generated tokens [\"'d\", \"'s\", 'abov', 'ani', 'becaus', 'befor', 'could', 'doe', 'dure', 'might', 'must', \"n't\", 'need', 'onc', 'onli', 'ourselv', 'sha', 'themselv', 'veri', 'whi', 'wo', 'would', 'yourselv'] not in stop_words.\n",
      "  warnings.warn('Your stop_words may be inconsistent with '\n"
     ]
    },
    {
     "name": "stdout",
     "output_type": "stream",
     "text": [
      "Duration: 13.010171596209208 minutes\n"
     ]
    }
   ],
   "source": [
    "from time import time\n",
    "t0 = time()\n",
    "vectorizer.fit(data1.product_feature)\n",
    "duration = time() - t0\n",
    "print('Duration:' , duration/60 ,'minutes')"
   ]
  },
  {
   "cell_type": "markdown",
   "id": "cc67dca6",
   "metadata": {},
   "source": [
    "### Transform Training , gold standard data and test data"
   ]
  },
  {
   "cell_type": "code",
   "execution_count": 45,
   "id": "b99ecc47",
   "metadata": {},
   "outputs": [
    {
     "name": "stdout",
     "output_type": "stream",
     "text": [
      "Duration: 787.4505844116211 seconds\n",
      "inputs.shape = (68461, 1000)\n",
      "test_inputs.shape = (1500, 1000)\n",
      "gs_inputs.shape = (1100, 1000)\n"
     ]
    }
   ],
   "source": [
    "t0 = time()\n",
    "inputs = pd.DataFrame(\n",
    "            vectorizer.transform(data1.product_feature).toarray(), columns=vectorizer.vocabulary_\n",
    "        )\n",
    "test_inputs = pd.DataFrame(\n",
    "            vectorizer.transform(test_set1.product_feature).toarray(), columns=vectorizer.vocabulary_\n",
    "        )\n",
    "gs_inputs = pd.DataFrame(\n",
    "            vectorizer.transform(data_gs1.product_feature).toarray(), columns=vectorizer.vocabulary_\n",
    ")\n",
    "duration = time() - t0\n",
    "print('Duration:' , duration ,'seconds')\n",
    "print('inputs.shape =' , inputs.shape)\n",
    "print('test_inputs.shape =' , test_inputs.shape)\n",
    "print('gs_inputs.shape =' , gs_inputs.shape)"
   ]
  },
  {
   "cell_type": "markdown",
   "id": "62626104",
   "metadata": {},
   "source": [
    "#### Split the Training data into train and validation, test data and gold standard data into labels and features"
   ]
  },
  {
   "cell_type": "code",
   "execution_count": 46,
   "id": "bd83163b",
   "metadata": {},
   "outputs": [],
   "source": [
    "# Split Training data into train and validation\n",
    "X_train , X_val , y_train , y_val = train_test_split(inputs , data1.label , test_size= 0.3 , random_state=42)\n",
    "# Split test data into labels and features\n",
    "X_test=test_inputs \n",
    "y_test = test_set1.label\n",
    "# Split test data into labels and features\n",
    "X_gs =gs_inputs\n",
    "y_gs= data_gs1.label"
   ]
  },
  {
   "cell_type": "code",
   "execution_count": 47,
   "id": "2e506145",
   "metadata": {},
   "outputs": [
    {
     "data": {
      "text/plain": [
       "(47922, 1000)"
      ]
     },
     "execution_count": 47,
     "metadata": {},
     "output_type": "execute_result"
    }
   ],
   "source": [
    "X_train.shape"
   ]
  },
  {
   "cell_type": "markdown",
   "id": "86f402cb",
   "metadata": {},
   "source": [
    "### Initial Accuracy Test for Potential Models using K fold Evaluation"
   ]
  },
  {
   "cell_type": "code",
   "execution_count": 48,
   "id": "1b1a8be5",
   "metadata": {},
   "outputs": [
    {
     "name": "stdout",
     "output_type": "stream",
     "text": [
      "Model Name:  LR\n",
      "Cross value mean:  0.8640706597023275\n",
      "Cross value Standard Deviation:  0.005662060500035681\n",
      "\n",
      "Classification Report\n",
      "              precision    recall  f1-score   support\n",
      "\n",
      "           0       0.86      1.00      0.92     17568\n",
      "           1       0.77      0.06      0.11      2971\n",
      "\n",
      "    accuracy                           0.86     20539\n",
      "   macro avg       0.81      0.53      0.52     20539\n",
      "weighted avg       0.85      0.86      0.81     20539\n",
      "\n",
      "=============================================================================================================\n",
      "\n",
      "Model Name:  RF\n",
      "Cross value mean:  0.8959351065671383\n",
      "Cross value Standard Deviation:  0.0053568714279827795\n",
      "\n",
      "Classification Report\n",
      "              precision    recall  f1-score   support\n",
      "\n",
      "           0       0.91      0.98      0.94     17568\n",
      "           1       0.74      0.42      0.53      2971\n",
      "\n",
      "    accuracy                           0.89     20539\n",
      "   macro avg       0.83      0.70      0.74     20539\n",
      "weighted avg       0.88      0.89      0.88     20539\n",
      "\n",
      "=============================================================================================================\n",
      "\n",
      "Model Name:  KNN\n",
      "Cross value mean:  0.8689118835307612\n",
      "Cross value Standard Deviation:  0.005607794531735047\n",
      "\n",
      "Classification Report\n",
      "              precision    recall  f1-score   support\n",
      "\n",
      "           0       0.91      0.94      0.92     17568\n",
      "           1       0.56      0.44      0.49      2971\n",
      "\n",
      "    accuracy                           0.87     20539\n",
      "   macro avg       0.73      0.69      0.71     20539\n",
      "weighted avg       0.86      0.87      0.86     20539\n",
      "\n",
      "=============================================================================================================\n",
      "\n",
      "Model Name:  CART\n",
      "Cross value mean:  0.8638622876920886\n",
      "Cross value Standard Deviation:  0.004929850857207026\n",
      "\n",
      "Classification Report\n",
      "              precision    recall  f1-score   support\n",
      "\n",
      "           0       0.92      0.92      0.92     17568\n",
      "           1       0.53      0.52      0.52      2971\n",
      "\n",
      "    accuracy                           0.86     20539\n",
      "   macro avg       0.72      0.72      0.72     20539\n",
      "weighted avg       0.86      0.86      0.86     20539\n",
      "\n",
      "=============================================================================================================\n",
      "\n"
     ]
    }
   ],
   "source": [
    "from sklearn.model_selection import cross_val_predict\n",
    "from sklearn.metrics import confusion_matrix\n",
    "from sklearn import model_selection\n",
    "from sklearn.metrics import classification_report\n",
    "from sklearn.linear_model import LogisticRegression\n",
    "#log_model = LogisticRegression(solver='sag')\n",
    "from sklearn.tree import DecisionTreeClassifier\n",
    "from sklearn.ensemble import RandomForestClassifier\n",
    "from sklearn.neighbors import KNeighborsClassifier\n",
    "from sklearn.naive_bayes import GaussianNB\n",
    "import matplotlib.pyplot as plt\n",
    "\n",
    "seed = 42\n",
    "\n",
    "models = []\n",
    "models.append(('LR', LogisticRegression(solver='sag')))\n",
    "models.append(('RF', RandomForestClassifier()))\n",
    "models.append(('KNN', KNeighborsClassifier()))\n",
    "models.append(('CART', DecisionTreeClassifier()))\n",
    "\n",
    "#Evaluate each model\n",
    "results = []\n",
    "names = []\n",
    "scoring = 'accuracy'\n",
    "\n",
    "for name, model in models:\n",
    "    kfold = model_selection.KFold(n_splits = 10, random_state = seed , shuffle=True)\n",
    "    cv_results = model_selection.cross_val_score(model,X_train , y_train.ravel(), cv=kfold, scoring=scoring)\n",
    "    model.fit(X_train, y_train)\n",
    "    Y_pred = model.predict(X_val)\n",
    "    \n",
    "    results.append(cv_results)\n",
    "    names.append(name)\n",
    "    print('Model Name: ' , name)\n",
    "    print('Cross value mean: ' , cv_results.mean())\n",
    "    print('Cross value Standard Deviation: ', cv_results.std())\n",
    "    print('\\nClassification Report')\n",
    "    print(classification_report(y_val, Y_pred))\n",
    "    print('=============================================================================================================\\n')"
   ]
  },
  {
   "cell_type": "markdown",
   "id": "685be27a",
   "metadata": {},
   "source": [
    "- Comment: out of the models tried, logistic regression and decision tree classifier both have accuracy of 86% , K- Nearest neighbours algorithm fared better with accuracu of 87%, while random forest classifier ranked top with accuracy of 89%. So i picked random forest classifier out of all."
   ]
  },
  {
   "cell_type": "markdown",
   "id": "76cfaf39",
   "metadata": {},
   "source": [
    "## Fit the random forest model"
   ]
  },
  {
   "cell_type": "code",
   "execution_count": 49,
   "id": "0ed4ae69",
   "metadata": {},
   "outputs": [
    {
     "data": {
      "text/plain": [
       "RandomForestClassifier(random_state=42)"
      ]
     },
     "execution_count": 49,
     "metadata": {},
     "output_type": "execute_result"
    }
   ],
   "source": [
    "model = RandomForestClassifier(random_state=42)\n",
    "model.fit(X_train , y_train )"
   ]
  },
  {
   "cell_type": "markdown",
   "id": "e6c75495",
   "metadata": {},
   "source": [
    "## Evaluate the model on validation data"
   ]
  },
  {
   "cell_type": "code",
   "execution_count": 50,
   "id": "ae5b12ec",
   "metadata": {},
   "outputs": [
    {
     "name": "stdout",
     "output_type": "stream",
     "text": [
      "Accuracy =  0.8936657091387117\n",
      "[[17143   425]\n",
      " [ 1759  1212]]\n"
     ]
    },
    {
     "name": "stderr",
     "output_type": "stream",
     "text": [
      "C:\\Users\\pc\\anaconda3\\lib\\site-packages\\sklearn\\utils\\validation.py:70: FutureWarning: Pass display_labels=[0 1] as keyword args. From version 1.0 (renaming of 0.25) passing these as positional arguments will result in an error\n",
      "  warnings.warn(f\"Pass {args_msg} as keyword args. From version \"\n"
     ]
    },
    {
     "name": "stdout",
     "output_type": "stream",
     "text": [
      "              precision    recall  f1-score   support\n",
      "\n",
      "    nonmatch       0.91      0.98      0.94     17568\n",
      "       match       0.74      0.41      0.53      2971\n",
      "\n",
      "    accuracy                           0.89     20539\n",
      "   macro avg       0.82      0.69      0.73     20539\n",
      "weighted avg       0.88      0.89      0.88     20539\n",
      "\n",
      "ROC Score: 0.6919\n"
     ]
    },
    {
     "data": {
      "image/png": "[encoded data removed]",
      "text/plain": [
       "<Figure size 432x288 with 2 Axes>"
      ]
     },
     "metadata": {
      "needs_background": "light"
     },
     "output_type": "display_data"
    }
   ],
   "source": [
    "### Evaluate model on validation data\n",
    "y_pred= model.predict(X_val)\n",
    "print(\"Accuracy = \" , metrics.accuracy_score(y_val, y_pred))\n",
    "cm= confusion_matrix(y_val, y_pred)\n",
    "print(cm)\n",
    "ConfusionMatrixDisplay(cm, model.classes_).plot()\n",
    "print(metrics.classification_report(y_val, y_pred, target_names=['nonmatch', 'match']))\n",
    "\n",
    "from sklearn.metrics import roc_auc_score\n",
    "# Calculate the ROC score\n",
    "roc_score = roc_auc_score(y_val, y_pred)\n",
    "\n",
    "# Print the ROC score\n",
    "print(\"ROC Score: {:.4f}\".format(roc_score))"
   ]
  },
  {
   "cell_type": "markdown",
   "id": "768d1bcc",
   "metadata": {},
   "source": [
    "#### Evaluate model on test data"
   ]
  },
  {
   "cell_type": "code",
   "execution_count": 51,
   "id": "437eabbc",
   "metadata": {},
   "outputs": [
    {
     "name": "stdout",
     "output_type": "stream",
     "text": [
      "Accuracy =  0.66\n",
      "[[974   1]\n",
      " [509  16]]\n"
     ]
    },
    {
     "name": "stderr",
     "output_type": "stream",
     "text": [
      "C:\\Users\\pc\\anaconda3\\lib\\site-packages\\sklearn\\utils\\validation.py:70: FutureWarning: Pass display_labels=[0 1] as keyword args. From version 1.0 (renaming of 0.25) passing these as positional arguments will result in an error\n",
      "  warnings.warn(f\"Pass {args_msg} as keyword args. From version \"\n"
     ]
    },
    {
     "name": "stdout",
     "output_type": "stream",
     "text": [
      "              precision    recall  f1-score   support\n",
      "\n",
      "    nonmatch       0.66      1.00      0.79       975\n",
      "       match       0.94      0.03      0.06       525\n",
      "\n",
      "    accuracy                           0.66      1500\n",
      "   macro avg       0.80      0.51      0.43      1500\n",
      "weighted avg       0.76      0.66      0.54      1500\n",
      "\n",
      "ROC Score: 0.5147\n"
     ]
    },
    {
     "data": {
      "image/png": "[encoded data removed]",
      "text/plain": [
       "<Figure size 432x288 with 2 Axes>"
      ]
     },
     "metadata": {
      "needs_background": "light"
     },
     "output_type": "display_data"
    }
   ],
   "source": [
    "### Evaluate model on test data\n",
    "y_pred= model.predict(X_test)\n",
    "print(\"Accuracy = \" , metrics.accuracy_score(y_test, y_pred))\n",
    "cm= confusion_matrix(y_test, y_pred)\n",
    "print(cm)\n",
    "ConfusionMatrixDisplay(cm, model.classes_).plot()\n",
    "print(metrics.classification_report(y_test, y_pred, target_names=['nonmatch', 'match']))\n",
    "\n",
    "# Calculate the ROC score\n",
    "roc_score = roc_auc_score(y_test, y_pred)\n",
    "\n",
    "# Print the ROC score\n",
    "print(\"ROC Score: {:.4f}\".format(roc_score))"
   ]
  },
  {
   "cell_type": "markdown",
   "id": "8647f2e2",
   "metadata": {},
   "source": [
    "#### Evaluate model on gold standard data"
   ]
  },
  {
   "cell_type": "code",
   "execution_count": 52,
   "id": "6a857da4",
   "metadata": {},
   "outputs": [
    {
     "name": "stdout",
     "output_type": "stream",
     "text": [
      "Accuracy =  0.7781818181818182\n",
      "[[781  19]\n",
      " [225  75]]\n"
     ]
    },
    {
     "name": "stderr",
     "output_type": "stream",
     "text": [
      "C:\\Users\\pc\\anaconda3\\lib\\site-packages\\sklearn\\utils\\validation.py:70: FutureWarning: Pass display_labels=[0 1] as keyword args. From version 1.0 (renaming of 0.25) passing these as positional arguments will result in an error\n",
      "  warnings.warn(f\"Pass {args_msg} as keyword args. From version \"\n"
     ]
    },
    {
     "name": "stdout",
     "output_type": "stream",
     "text": [
      "              precision    recall  f1-score   support\n",
      "\n",
      "    nonmatch       0.78      0.98      0.86       800\n",
      "       match       0.80      0.25      0.38       300\n",
      "\n",
      "    accuracy                           0.78      1100\n",
      "   macro avg       0.79      0.61      0.62      1100\n",
      "weighted avg       0.78      0.78      0.73      1100\n",
      "\n",
      "ROC Score: 0.6131\n"
     ]
    },
    {
     "data": {
      "image/png": "[encoded data removed]",
      "text/plain": [
       "<Figure size 432x288 with 2 Axes>"
      ]
     },
     "metadata": {
      "needs_background": "light"
     },
     "output_type": "display_data"
    }
   ],
   "source": [
    "### Evaluate model on gold standard data\n",
    "y_gs_pred= model.predict(X_gs)\n",
    "print(\"Accuracy = \" , metrics.accuracy_score(y_gs, y_gs_pred))\n",
    "cm= confusion_matrix(y_gs, y_gs_pred)\n",
    "print(cm)\n",
    "ConfusionMatrixDisplay(cm, model.classes_).plot()\n",
    "print(metrics.classification_report(y_gs, y_gs_pred, target_names=['nonmatch', 'match']))\n",
    "\n",
    "from sklearn.metrics import roc_auc_score\n",
    "# Calculate the ROC score\n",
    "roc_score = roc_auc_score(y_gs, y_gs_pred)\n",
    "\n",
    "# Print the ROC score\n",
    "print(\"ROC Score: {:.4f}\".format(roc_score))"
   ]
  },
  {
   "cell_type": "markdown",
   "id": "dda5c034",
   "metadata": {},
   "source": [
    "As the dataset in the above experiment is large, conducting a randomised search for hyperparameter is time consuming., I will use the method suggested by Huijskens, T. (2016) to find the hyperparameters\n",
    "https://thuijskens.github.io/2016/12/29/bayesian-optimisation/#parameter-selection-of-a-support-vector-machine"
   ]
  },
  {
   "cell_type": "markdown",
   "id": "3f082e31",
   "metadata": {},
   "source": [
    "## Hyperparameter Tuning "
   ]
  },
  {
   "cell_type": "code",
   "execution_count": 53,
   "id": "40743b43",
   "metadata": {},
   "outputs": [
    {
     "name": "stdout",
     "output_type": "stream",
     "text": [
      "Accuracy: 0.8783333333333333\n"
     ]
    }
   ],
   "source": [
    "from sklearn.datasets import make_classification\n",
    "from sklearn.model_selection import train_test_split\n",
    "from sklearn.ensemble import RandomForestClassifier\n",
    "\n",
    "# Generate synthetic dataset\n",
    "data= X_train\n",
    "target = y_train\n",
    "data, target = make_classification(n_samples=2000,\n",
    "                                   n_features=1000,\n",
    "                                   random_state=42)  # Set a specific random state for reproducibility\n",
    "\n",
    "# Split the dataset into training and testing sets\n",
    "X_train01, X_test01, y_train01, y_test01 = train_test_split(data, target, test_size=0.3, random_state=42)\n",
    "\n",
    "# Create a Random Forest classifier\n",
    "rf_classifier = RandomForestClassifier(n_estimators=100, random_state=42)\n",
    "\n",
    "# Fit the classifier to the training data\n",
    "rf_classifier.fit(X_train01, y_train01)\n",
    "\n",
    "# Evaluate the classifier on the testing data\n",
    "accuracy = rf_classifier.score(X_test01, y_test01)\n",
    "print(\"Accuracy:\", accuracy)\n"
   ]
  },
  {
   "cell_type": "code",
   "execution_count": 54,
   "id": "a47f6e47",
   "metadata": {},
   "outputs": [
    {
     "name": "stdout",
     "output_type": "stream",
     "text": [
      "Best grid search hyperparameters are: {'criterion': 'entropy', 'max_depth': 11, 'max_features': 6, 'min_samples_leaf': 1, 'min_samples_split': 8, 'n_estimators': 410}\n",
      "Best grid search score is: 0.8814335560436598\n"
     ]
    }
   ],
   "source": [
    "###  Implementing Random Search Using Scikit-Learn\n",
    "##### Defining the Hyperparameter Space\n",
    "from scipy.stats import randint\n",
    "from sklearn.model_selection import RandomizedSearchCV\n",
    "import numpy as np\n",
    "rs_space={'max_depth':list(np.arange(1, 100, step=10)) + [None],\n",
    "              'n_estimators':np.arange(10, 500, step=50),\n",
    "              'max_features':randint(1,7),\n",
    "              'criterion':['gini','entropy'],\n",
    "              'min_samples_leaf':randint(1,4),\n",
    "              'min_samples_split':np.arange(2, 10, step=2)\n",
    "         }\n",
    "\n",
    "rf = RandomForestClassifier()\n",
    "rf_random = RandomizedSearchCV(rf, rs_space, n_iter=100, scoring='accuracy', n_jobs=-1, cv=3)\n",
    "model_random = rf_random.fit(X_train01,y_train01)\n",
    "\n",
    "\n",
    "print('Best grid search hyperparameters are: '+str(model_random.best_params_))\n",
    "print('Best grid search score is: '+str(model_random.best_score_))"
   ]
  },
  {
   "cell_type": "markdown",
   "id": "d342cea2",
   "metadata": {},
   "source": [
    "### Evaluate the hypertuned model on validation data"
   ]
  },
  {
   "cell_type": "code",
   "execution_count": 55,
   "id": "4ef60e42",
   "metadata": {},
   "outputs": [
    {
     "name": "stdout",
     "output_type": "stream",
     "text": [
      "Accuracy =  0.14786503724621453\n",
      "[[   75 17493]\n",
      " [    9  2962]]\n"
     ]
    },
    {
     "name": "stderr",
     "output_type": "stream",
     "text": [
      "C:\\Users\\pc\\anaconda3\\lib\\site-packages\\sklearn\\utils\\validation.py:70: FutureWarning: Pass display_labels=[0 1] as keyword args. From version 1.0 (renaming of 0.25) passing these as positional arguments will result in an error\n",
      "  warnings.warn(f\"Pass {args_msg} as keyword args. From version \"\n"
     ]
    },
    {
     "name": "stdout",
     "output_type": "stream",
     "text": [
      "              precision    recall  f1-score   support\n",
      "\n",
      "    nonmatch       0.89      0.00      0.01     17568\n",
      "       match       0.14      1.00      0.25      2971\n",
      "\n",
      "    accuracy                           0.15     20539\n",
      "   macro avg       0.52      0.50      0.13     20539\n",
      "weighted avg       0.78      0.15      0.04     20539\n",
      "\n",
      "ROC Score: 0.5006\n"
     ]
    },
    {
     "data": {
      "image/png": "[encoded data removed]",
      "text/plain": [
       "<Figure size 432x288 with 2 Axes>"
      ]
     },
     "metadata": {
      "needs_background": "light"
     },
     "output_type": "display_data"
    }
   ],
   "source": [
    "### Evaluate model on validation data\n",
    "y_pred= model_random.predict(X_val)\n",
    "print(\"Accuracy = \" , metrics.accuracy_score(y_val, y_pred))\n",
    "cm= confusion_matrix(y_val, y_pred)\n",
    "print(cm)\n",
    "ConfusionMatrixDisplay(cm, model.classes_).plot()\n",
    "print(metrics.classification_report(y_val, y_pred, target_names=['nonmatch', 'match']))\n",
    "\n",
    "from sklearn.metrics import roc_auc_score\n",
    "# Calculate the ROC score\n",
    "roc_score = roc_auc_score(y_val, y_pred)\n",
    "\n",
    "# Print the ROC score\n",
    "print(\"ROC Score: {:.4f}\".format(roc_score))"
   ]
  },
  {
   "cell_type": "markdown",
   "id": "6b3de89d",
   "metadata": {},
   "source": [
    "### Evaluate hypertuned model on test data"
   ]
  },
  {
   "cell_type": "code",
   "execution_count": 56,
   "id": "e2bbb771",
   "metadata": {},
   "outputs": [
    {
     "name": "stdout",
     "output_type": "stream",
     "text": [
      "Accuracy =  0.35\n",
      "[[  4 971]\n",
      " [  4 521]]\n",
      "              precision    recall  f1-score   support\n",
      "\n",
      "    nonmatch       0.50      0.00      0.01       975\n",
      "       match       0.35      0.99      0.52       525\n",
      "\n",
      "    accuracy                           0.35      1500\n",
      "   macro avg       0.42      0.50      0.26      1500\n",
      "weighted avg       0.45      0.35      0.19      1500\n",
      "\n",
      "ROC Score: 0.4982\n"
     ]
    },
    {
     "name": "stderr",
     "output_type": "stream",
     "text": [
      "C:\\Users\\pc\\anaconda3\\lib\\site-packages\\sklearn\\utils\\validation.py:70: FutureWarning: Pass display_labels=[0 1] as keyword args. From version 1.0 (renaming of 0.25) passing these as positional arguments will result in an error\n",
      "  warnings.warn(f\"Pass {args_msg} as keyword args. From version \"\n"
     ]
    },
    {
     "data": {
      "image/png": "[encoded data removed]",
      "text/plain": [
       "<Figure size 432x288 with 2 Axes>"
      ]
     },
     "metadata": {
      "needs_background": "light"
     },
     "output_type": "display_data"
    }
   ],
   "source": [
    "### Evaluate model on test data\n",
    "y_pred= model_random.predict(X_test)\n",
    "print(\"Accuracy = \" , metrics.accuracy_score(y_test, y_pred))\n",
    "cm= confusion_matrix(y_test, y_pred)\n",
    "print(cm)\n",
    "ConfusionMatrixDisplay(cm, model.classes_).plot()\n",
    "print(metrics.classification_report(y_test, y_pred, target_names=['nonmatch', 'match']))\n",
    "\n",
    "# Calculate the ROC score\n",
    "roc_score = roc_auc_score(y_test, y_pred)\n",
    "\n",
    "# Print the ROC score\n",
    "print(\"ROC Score: {:.4f}\".format(roc_score))"
   ]
  },
  {
   "cell_type": "markdown",
   "id": "e3667eec",
   "metadata": {},
   "source": [
    "### Evaluate hypertuned model on gold standard data"
   ]
  },
  {
   "cell_type": "code",
   "execution_count": 57,
   "id": "7bd9d851",
   "metadata": {},
   "outputs": [
    {
     "name": "stdout",
     "output_type": "stream",
     "text": [
      "Accuracy =  0.2736363636363636\n",
      "[[  3 797]\n",
      " [  2 298]]\n",
      "              precision    recall  f1-score   support\n",
      "\n",
      "    nonmatch       0.60      0.00      0.01       800\n",
      "       match       0.27      0.99      0.43       300\n",
      "\n",
      "    accuracy                           0.27      1100\n",
      "   macro avg       0.44      0.50      0.22      1100\n",
      "weighted avg       0.51      0.27      0.12      1100\n",
      "\n",
      "ROC Score: 0.4985\n"
     ]
    },
    {
     "name": "stderr",
     "output_type": "stream",
     "text": [
      "C:\\Users\\pc\\anaconda3\\lib\\site-packages\\sklearn\\utils\\validation.py:70: FutureWarning: Pass display_labels=[0 1] as keyword args. From version 1.0 (renaming of 0.25) passing these as positional arguments will result in an error\n",
      "  warnings.warn(f\"Pass {args_msg} as keyword args. From version \"\n"
     ]
    },
    {
     "data": {
      "image/png": "[encoded data removed]",
      "text/plain": [
       "<Figure size 432x288 with 2 Axes>"
      ]
     },
     "metadata": {
      "needs_background": "light"
     },
     "output_type": "display_data"
    }
   ],
   "source": [
    "### Evaluate model on gold standard data\n",
    "y_gs_pred= model_random.predict(X_gs)\n",
    "print(\"Accuracy = \" , metrics.accuracy_score(y_gs, y_gs_pred))\n",
    "cm= confusion_matrix(y_gs, y_gs_pred)\n",
    "print(cm)\n",
    "ConfusionMatrixDisplay(cm, model.classes_).plot()\n",
    "print(metrics.classification_report(y_gs, y_gs_pred, target_names=['nonmatch', 'match']))\n",
    "\n",
    "from sklearn.metrics import roc_auc_score\n",
    "# Calculate the ROC score\n",
    "roc_score = roc_auc_score(y_gs, y_gs_pred)\n",
    "\n",
    "# Print the ROC score\n",
    "print(\"ROC Score: {:.4f}\".format(roc_score))"
   ]
  },
  {
   "cell_type": "markdown",
   "id": "764ad301",
   "metadata": {},
   "source": [
    "## EXPERIMENT 2:\n",
    "#### WORKING WITH COLUMNS WITH LESS THAN 40,000 MISSING VALUES ,THEN DROPPING THE NULL VALUES\n"
   ]
  },
  {
   "cell_type": "markdown",
   "id": "939839a1",
   "metadata": {},
   "source": [
    "#### Recall the data from above."
   ]
  },
  {
   "cell_type": "code",
   "execution_count": 65,
   "id": "c09c672e",
   "metadata": {},
   "outputs": [
    {
     "name": "stdout",
     "output_type": "stream",
     "text": [
      "Are there any null values?\n",
      "True \n",
      "\n",
      "How many null values are in each column?\n",
      "id_left                       0\n",
      "category_left                 0\n",
      "cluster_id_left               0\n",
      "id_right                      0\n",
      "category_right                0\n",
      "cluster_id_right              0\n",
      "label                         0\n",
      "pair_id                       0\n",
      "brand_left                34228\n",
      "brand_right               34216\n",
      "description_left          21001\n",
      "description_right         20101\n",
      "keyValuePairs_left        49696\n",
      "keyValuePairs_right       48186\n",
      "price_left                56940\n",
      "price_right               56969\n",
      "specTableContent_left     47564\n",
      "specTableContent_right    46304\n",
      "title_left                    0\n",
      "title_right                   0\n",
      "dtype: int64 \n",
      "\n",
      "How many null values are in the data in total?\n",
      "415205\n"
     ]
    }
   ],
   "source": [
    "print(\"Are there any null values?\")\n",
    "print(data.isnull().values.any() , \"\\n\")\n",
    "#Find out how many - This gives you the breakdown per column\n",
    "print('How many null values are in each column?'),\n",
    "print(data.isnull().sum(), \"\\n\")\n",
    "#Get total overall null values\n",
    "print('How many null values are in the data in total?')\n",
    "print(data.isnull().sum().sum())"
   ]
  },
  {
   "cell_type": "markdown",
   "id": "e1a4c17d",
   "metadata": {},
   "source": [
    "- six columns have more than 40000 missing values:\n",
    "- The columns are:'specTableContent_left'\n",
    "                    'specTableContent_right' \n",
    "                    'keyValuePairs_left'  \n",
    "                    'keyValuePairs_right' \n",
    "                    'price_left' and\n",
    "                    'price_right'"
   ]
  },
  {
   "cell_type": "markdown",
   "id": "859c4a98",
   "metadata": {},
   "source": [
    "#### Dropping the six columns that have more than 40,000 missing values in the dataset"
   ]
  },
  {
   "cell_type": "code",
   "execution_count": 66,
   "id": "bd4cdf18",
   "metadata": {},
   "outputs": [],
   "source": [
    "data2 = data.drop(['specTableContent_left' , 'specTableContent_right' , 'keyValuePairs_left' , 'keyValuePairs_right' , 'price_left' , 'price_right'] , axis=1)\n",
    "test_set2= test_set.drop(['specTableContent_left' , 'specTableContent_right' , 'keyValuePairs_left' , 'keyValuePairs_right' , 'price_left' , 'price_right'] , axis=1)\n",
    "data_gs2= data_gs.drop(['specTableContent_left' , 'specTableContent_right' , 'keyValuePairs_left' , 'keyValuePairs_right' , 'price_left' , 'price_right'] , axis=1)"
   ]
  },
  {
   "cell_type": "markdown",
   "id": "55ec12bf",
   "metadata": {},
   "source": [
    "## DROP MISSING VALUES FROM THE DATASET ABOVE"
   ]
  },
  {
   "cell_type": "code",
   "execution_count": 67,
   "id": "bfffdba9",
   "metadata": {},
   "outputs": [
    {
     "name": "stdout",
     "output_type": "stream",
     "text": [
      "data2.shape (14834, 14)\n",
      "test_set2.shape (587, 14)\n",
      "data_gs2.shape (446, 14)\n"
     ]
    }
   ],
   "source": [
    "data2=data2.dropna()\n",
    "test_set2= test_set2.dropna()\n",
    "data_gs2 =data_gs2.dropna()\n",
    "\n",
    "print('data2.shape',data2.shape)\n",
    "print('test_set2.shape',test_set2.shape)\n",
    "print('data_gs2.shape' , data_gs2.shape)"
   ]
  },
  {
   "cell_type": "markdown",
   "id": "b9db4ca1",
   "metadata": {},
   "source": [
    "### VIEW SOME DATA PARAMETERS"
   ]
  },
  {
   "cell_type": "markdown",
   "id": "fabd42e6",
   "metadata": {},
   "source": [
    "#### COUNT OF ZEROS AND ONES IN LABEL COLUMN FOR data2"
   ]
  },
  {
   "cell_type": "code",
   "execution_count": 68,
   "id": "ddabc406",
   "metadata": {},
   "outputs": [
    {
     "data": {
      "text/plain": [
       "0    0.848726\n",
       "1    0.151274\n",
       "Name: label, dtype: float64"
      ]
     },
     "execution_count": 68,
     "metadata": {},
     "output_type": "execute_result"
    }
   ],
   "source": [
    "data2.label.value_counts(normalize=True)"
   ]
  },
  {
   "cell_type": "markdown",
   "id": "a5dcc025",
   "metadata": {},
   "source": [
    "#### Plot of label: 0 for non matching 1 for matching for data2"
   ]
  },
  {
   "cell_type": "code",
   "execution_count": null,
   "id": "0ef8754b",
   "metadata": {},
   "outputs": [],
   "source": [
    "data2.label.value_counts(normalize=True).sort_index().plot(kind='bar')"
   ]
  },
  {
   "cell_type": "markdown",
   "id": "980c0e22",
   "metadata": {},
   "source": [
    "#### COUNT OF ZEROS AND ONES IN LABEL COLUMN FOR test_set2"
   ]
  },
  {
   "cell_type": "code",
   "execution_count": null,
   "id": "2a48c678",
   "metadata": {},
   "outputs": [],
   "source": [
    "test_set2.label.value_counts(normalize=True)"
   ]
  },
  {
   "cell_type": "markdown",
   "id": "34cfc051",
   "metadata": {},
   "source": [
    "#### Plot of label: 0 for non matching 1 for matching for test_set2"
   ]
  },
  {
   "cell_type": "code",
   "execution_count": null,
   "id": "ced9cde1",
   "metadata": {},
   "outputs": [],
   "source": [
    "test_set2.label.value_counts(normalize=True).sort_index().plot(kind='bar')"
   ]
  },
  {
   "cell_type": "markdown",
   "id": "efd88814",
   "metadata": {},
   "source": [
    "#### COUNT OF ZEROS AND ONES IN LABEL COLUMN FOR data_gs2"
   ]
  },
  {
   "cell_type": "code",
   "execution_count": null,
   "id": "fbcab422",
   "metadata": {},
   "outputs": [],
   "source": [
    "data_gs2.label.value_counts(normalize=True)"
   ]
  },
  {
   "cell_type": "markdown",
   "id": "957588ac",
   "metadata": {},
   "source": [
    "#### Plot of label: 0 for non matching 1 for matching for data_gs2"
   ]
  },
  {
   "cell_type": "code",
   "execution_count": null,
   "id": "ae406468",
   "metadata": {},
   "outputs": [],
   "source": [
    "data_gs2.label.value_counts(normalize=True).sort_index().plot(kind='bar')"
   ]
  },
  {
   "cell_type": "markdown",
   "id": "8ea87a1e",
   "metadata": {},
   "source": [
    "## Merging of columns\n",
    "- we need to merge all the columns (except label column) together to form two columns: product_feature and label"
   ]
  },
  {
   "cell_type": "code",
   "execution_count": 69,
   "id": "7ab5ccdb",
   "metadata": {},
   "outputs": [
    {
     "name": "stderr",
     "output_type": "stream",
     "text": [
      "C:\\Users\\pc\\AppData\\Local\\Temp/ipykernel_4272/2068571018.py:2: FutureWarning: In a future version of pandas all arguments of DataFrame.drop except for the argument 'labels' will be keyword-only\n",
      "  data2.drop(data2.columns.difference(['product_feature','label']), 1, inplace=True)\n",
      "C:\\Users\\pc\\AppData\\Local\\Temp/ipykernel_4272/2068571018.py:5: FutureWarning: In a future version of pandas all arguments of DataFrame.drop except for the argument 'labels' will be keyword-only\n",
      "  test_set2.drop(test_set2.columns.difference(['product_feature','label']), 1, inplace=True)\n",
      "C:\\Users\\pc\\AppData\\Local\\Temp/ipykernel_4272/2068571018.py:8: FutureWarning: In a future version of pandas all arguments of DataFrame.drop except for the argument 'labels' will be keyword-only\n",
      "  data_gs2.drop(data_gs2.columns.difference(['product_feature','label']), 1, inplace=True)\n"
     ]
    }
   ],
   "source": [
    "data2['product_feature'] = str(data2['id_left']) + \" \" + data2['title_left'] +\" \" + data2['description_left'] + \" \" + data2['brand_left'] + \" \" + data2['category_left'] + \" \" + str(data2['cluster_id_left']) + \" \" + str(data2['id_right']) + \" \" + data2['title_right'] + \" \" + data2['description_right'] + \" \" + data2['brand_right'] + \" \" + data2['category_right'] +\" \" + str(data2['cluster_id_right']) + \" \" + str(data2['pair_id'])\n",
    "data2.drop(data2.columns.difference(['product_feature','label']), 1, inplace=True)\n",
    "\n",
    "test_set2['product_feature'] = str(test_set2['id_left']) + \" \" + test_set2['title_left'] +\" \" + test_set2['description_left'] + \" \" + test_set2['brand_left'] + \" \" + test_set2['category_left'] + \" \" + str(test_set2['cluster_id_left']) + \" \" + str(test_set2['id_right']) + \" \" + test_set2['title_right'] + \" \" + test_set2['description_right'] + \" \" + test_set2['brand_right'] + \" \" + test_set2['category_right'] +\" \" + str(test_set2['cluster_id_right']) + \" \" + str(test_set2['pair_id'])\n",
    "test_set2.drop(test_set2.columns.difference(['product_feature','label']), 1, inplace=True)\n",
    "\n",
    "data_gs2['product_feature'] = str(data_gs2['id_left']) + \" \" + data_gs2['title_left'] +\" \" + data_gs2['description_left'] + \" \" + data_gs2['brand_left'] + \" \" + data_gs2['category_left'] + \" \" + str(data_gs2['cluster_id_left']) + \" \" + str(data_gs2['id_right']) + \" \" + data_gs2['title_right'] + \" \" + data_gs2['description_right'] + \" \" + data_gs2['brand_right'] + \" \" + data_gs2['category_right'] +\" \" + str(data_gs2['cluster_id_right']) + \" \" + str(data_gs2['pair_id'])\n",
    "data_gs2.drop(data_gs2.columns.difference(['product_feature','label']), 1, inplace=True)"
   ]
  },
  {
   "cell_type": "code",
   "execution_count": 70,
   "id": "3cda63d8",
   "metadata": {},
   "outputs": [
    {
     "data": {
      "text/plain": [
       "(14834,)"
      ]
     },
     "execution_count": 70,
     "metadata": {},
     "output_type": "execute_result"
    }
   ],
   "source": [
    "data2.product_feature.shape"
   ]
  },
  {
   "cell_type": "code",
   "execution_count": 71,
   "id": "bb587611",
   "metadata": {},
   "outputs": [
    {
     "data": {
      "text/html": [
       "<div>\n",
       "<style scoped>\n",
       "    .dataframe tbody tr th:only-of-type {\n",
       "        vertical-align: middle;\n",
       "    }\n",
       "\n",
       "    .dataframe tbody tr th {\n",
       "        vertical-align: top;\n",
       "    }\n",
       "\n",
       "    .dataframe thead th {\n",
       "        text-align: right;\n",
       "    }\n",
       "</style>\n",
       "<table border=\"1\" class=\"dataframe\">\n",
       "  <thead>\n",
       "    <tr style=\"text-align: right;\">\n",
       "      <th></th>\n",
       "      <th>label</th>\n",
       "      <th>product_feature</th>\n",
       "    </tr>\n",
       "  </thead>\n",
       "  <tbody>\n",
       "    <tr>\n",
       "      <th>5</th>\n",
       "      <td>1</td>\n",
       "      <td>5       10372598\\n9        3483338\\n10      16...</td>\n",
       "    </tr>\n",
       "    <tr>\n",
       "      <th>9</th>\n",
       "      <td>1</td>\n",
       "      <td>5       10372598\\n9        3483338\\n10      16...</td>\n",
       "    </tr>\n",
       "    <tr>\n",
       "      <th>10</th>\n",
       "      <td>1</td>\n",
       "      <td>5       10372598\\n9        3483338\\n10      16...</td>\n",
       "    </tr>\n",
       "    <tr>\n",
       "      <th>12</th>\n",
       "      <td>1</td>\n",
       "      <td>5       10372598\\n9        3483338\\n10      16...</td>\n",
       "    </tr>\n",
       "    <tr>\n",
       "      <th>21</th>\n",
       "      <td>1</td>\n",
       "      <td>5       10372598\\n9        3483338\\n10      16...</td>\n",
       "    </tr>\n",
       "  </tbody>\n",
       "</table>\n",
       "</div>"
      ],
      "text/plain": [
       "    label                                    product_feature\n",
       "5       1  5       10372598\\n9        3483338\\n10      16...\n",
       "9       1  5       10372598\\n9        3483338\\n10      16...\n",
       "10      1  5       10372598\\n9        3483338\\n10      16...\n",
       "12      1  5       10372598\\n9        3483338\\n10      16...\n",
       "21      1  5       10372598\\n9        3483338\\n10      16..."
      ]
     },
     "execution_count": 71,
     "metadata": {},
     "output_type": "execute_result"
    }
   ],
   "source": [
    "test_set2.head()"
   ]
  },
  {
   "cell_type": "code",
   "execution_count": 72,
   "id": "0a988a10",
   "metadata": {},
   "outputs": [
    {
     "data": {
      "text/html": [
       "<div>\n",
       "<style scoped>\n",
       "    .dataframe tbody tr th:only-of-type {\n",
       "        vertical-align: middle;\n",
       "    }\n",
       "\n",
       "    .dataframe tbody tr th {\n",
       "        vertical-align: top;\n",
       "    }\n",
       "\n",
       "    .dataframe thead th {\n",
       "        text-align: right;\n",
       "    }\n",
       "</style>\n",
       "<table border=\"1\" class=\"dataframe\">\n",
       "  <thead>\n",
       "    <tr style=\"text-align: right;\">\n",
       "      <th></th>\n",
       "      <th>label</th>\n",
       "      <th>product_feature</th>\n",
       "    </tr>\n",
       "  </thead>\n",
       "  <tbody>\n",
       "    <tr>\n",
       "      <th>0</th>\n",
       "      <td>0</td>\n",
       "      <td>0         581109\\n1        3083228\\n7        1...</td>\n",
       "    </tr>\n",
       "    <tr>\n",
       "      <th>1</th>\n",
       "      <td>1</td>\n",
       "      <td>0         581109\\n1        3083228\\n7        1...</td>\n",
       "    </tr>\n",
       "    <tr>\n",
       "      <th>7</th>\n",
       "      <td>0</td>\n",
       "      <td>0         581109\\n1        3083228\\n7        1...</td>\n",
       "    </tr>\n",
       "    <tr>\n",
       "      <th>10</th>\n",
       "      <td>0</td>\n",
       "      <td>0         581109\\n1        3083228\\n7        1...</td>\n",
       "    </tr>\n",
       "    <tr>\n",
       "      <th>11</th>\n",
       "      <td>1</td>\n",
       "      <td>0         581109\\n1        3083228\\n7        1...</td>\n",
       "    </tr>\n",
       "  </tbody>\n",
       "</table>\n",
       "</div>"
      ],
      "text/plain": [
       "    label                                    product_feature\n",
       "0       0  0         581109\\n1        3083228\\n7        1...\n",
       "1       1  0         581109\\n1        3083228\\n7        1...\n",
       "7       0  0         581109\\n1        3083228\\n7        1...\n",
       "10      0  0         581109\\n1        3083228\\n7        1...\n",
       "11      1  0         581109\\n1        3083228\\n7        1..."
      ]
     },
     "execution_count": 72,
     "metadata": {},
     "output_type": "execute_result"
    }
   ],
   "source": [
    "data_gs2.head()"
   ]
  },
  {
   "cell_type": "code",
   "execution_count": 73,
   "id": "2b9c600c",
   "metadata": {},
   "outputs": [
    {
     "name": "stdout",
     "output_type": "stream",
     "text": [
      "data2.shape (14834, 2)\n",
      "test_set2.shape (587, 2)\n",
      "data_gs2.shape (446, 2)\n"
     ]
    }
   ],
   "source": [
    "print('data2.shape',data2.shape)\n",
    "print('test_set2.shape',test_set2.shape)\n",
    "print('data_gs2.shape' , data_gs2.shape)"
   ]
  },
  {
   "cell_type": "markdown",
   "id": "190b081c",
   "metadata": {},
   "source": [
    "#### Apply the function remove_punctuation to columns"
   ]
  },
  {
   "cell_type": "code",
   "execution_count": 74,
   "id": "26b6a4f0",
   "metadata": {},
   "outputs": [],
   "source": [
    "data2['product_feature'] = data2['product_feature'].apply(lambda x:remove_punctuation(x))\n",
    "test_set2['product_feature'] = test_set2['product_feature'].apply(lambda x:remove_punctuation(x))\n",
    "data_gs2['product_feature'] = data_gs2['product_feature'].apply(lambda x:remove_punctuation(x))"
   ]
  },
  {
   "cell_type": "markdown",
   "id": "53b82b60",
   "metadata": {},
   "source": [
    "#### Create a Tf-Idf instance"
   ]
  },
  {
   "cell_type": "code",
   "execution_count": 75,
   "id": "099f222e",
   "metadata": {},
   "outputs": [],
   "source": [
    "from sklearn.feature_extraction.text import TfidfVectorizer\n",
    "vectorizer = TfidfVectorizer(tokenizer=tokenize , \n",
    "                             stop_words=english_stopwords,\n",
    "                            ngram_range=(1,1) ,max_df=0.5 , max_features=1000\n",
    "                            )"
   ]
  },
  {
   "cell_type": "markdown",
   "id": "5d5c52ba",
   "metadata": {},
   "source": [
    "#### Passing in the text into vectorizer\n"
   ]
  },
  {
   "cell_type": "code",
   "execution_count": 76,
   "id": "885b6fcf",
   "metadata": {},
   "outputs": [
    {
     "name": "stderr",
     "output_type": "stream",
     "text": [
      "C:\\Users\\pc\\anaconda3\\lib\\site-packages\\sklearn\\feature_extraction\\text.py:489: UserWarning: The parameter 'token_pattern' will not be used since 'tokenizer' is not None'\n",
      "  warnings.warn(\"The parameter 'token_pattern' will not be used\"\n",
      "C:\\Users\\pc\\anaconda3\\lib\\site-packages\\sklearn\\feature_extraction\\text.py:388: UserWarning: Your stop_words may be inconsistent with your preprocessing. Tokenizing the stop words generated tokens [\"'d\", \"'s\", 'abov', 'ani', 'becaus', 'befor', 'could', 'doe', 'dure', 'might', 'must', \"n't\", 'need', 'onc', 'onli', 'ourselv', 'sha', 'themselv', 'veri', 'whi', 'wo', 'would', 'yourselv'] not in stop_words.\n",
      "  warnings.warn('Your stop_words may be inconsistent with '\n"
     ]
    },
    {
     "data": {
      "text/plain": [
       "TfidfVectorizer(max_df=0.5, max_features=1000,\n",
       "                stop_words=['i', 'me', 'my', 'myself', 'we', 'our', 'ours',\n",
       "                            'ourselves', 'you', \"you're\", \"you've\", \"you'll\",\n",
       "                            \"you'd\", 'your', 'yours', 'yourself', 'yourselves',\n",
       "                            'he', 'him', 'his', 'himself', 'she', \"she's\",\n",
       "                            'her', 'hers', 'herself', 'it', \"it's\", 'its',\n",
       "                            'itself', ...],\n",
       "                tokenizer=<function tokenize at 0x00000271809C6D30>)"
      ]
     },
     "execution_count": 76,
     "metadata": {},
     "output_type": "execute_result"
    }
   ],
   "source": [
    "vectorizer.fit(data2.product_feature)"
   ]
  },
  {
   "cell_type": "markdown",
   "id": "8b288684",
   "metadata": {},
   "source": [
    "### Transform Training , gold standard data and test data"
   ]
  },
  {
   "cell_type": "markdown",
   "id": "991bee39",
   "metadata": {},
   "source": [
    "#### Transform training data"
   ]
  },
  {
   "cell_type": "code",
   "execution_count": 77,
   "id": "755294ff",
   "metadata": {},
   "outputs": [
    {
     "name": "stdout",
     "output_type": "stream",
     "text": [
      "inputs.shape: (14834, 1000)\n",
      "test_inputs.shape (587, 1000)\n",
      "gs_inputs.shape (446, 1000)\n"
     ]
    }
   ],
   "source": [
    "inputs = pd.DataFrame(vectorizer.transform(data2[\"product_feature\"]).toarray(), columns=vectorizer.vocabulary_)\n",
    "test_inputs = pd.DataFrame(vectorizer.transform(test_set2.product_feature).toarray(), columns=vectorizer.vocabulary_)\n",
    "gs_inputs = pd.DataFrame(vectorizer.transform(data_gs2.product_feature).toarray(), columns=vectorizer.vocabulary_)\n",
    "\n",
    "\n",
    "print('inputs.shape:' , inputs.shape)\n",
    "print('test_inputs.shape' , test_inputs.shape)\n",
    "print('gs_inputs.shape' , gs_inputs.shape)"
   ]
  },
  {
   "cell_type": "markdown",
   "id": "4e304a46",
   "metadata": {},
   "source": [
    "#### Split the Training data into train and validation "
   ]
  },
  {
   "cell_type": "code",
   "execution_count": 78,
   "id": "4cdd55cf",
   "metadata": {},
   "outputs": [],
   "source": [
    "X_train , X_val , y_train , y_val = train_test_split(inputs , data2.label , test_size= 0.3 , random_state=42)\n",
    "\n",
    "X_test=test_inputs \n",
    "y_test = test_set2.label\n",
    "\n",
    "X_gs =gs_inputs\n",
    "y_gs= data_gs2.label"
   ]
  },
  {
   "cell_type": "code",
   "execution_count": 79,
   "id": "6a676fc6",
   "metadata": {},
   "outputs": [
    {
     "data": {
      "text/html": [
       "<div>\n",
       "<style scoped>\n",
       "    .dataframe tbody tr th:only-of-type {\n",
       "        vertical-align: middle;\n",
       "    }\n",
       "\n",
       "    .dataframe tbody tr th {\n",
       "        vertical-align: top;\n",
       "    }\n",
       "\n",
       "    .dataframe thead th {\n",
       "        text-align: right;\n",
       "    }\n",
       "</style>\n",
       "<table border=\"1\" class=\"dataframe\">\n",
       "  <thead>\n",
       "    <tr style=\"text-align: right;\">\n",
       "      <th></th>\n",
       "      <th>dh0072balwl</th>\n",
       "      <th>72gb</th>\n",
       "      <th>3g</th>\n",
       "      <th>15k</th>\n",
       "      <th>25</th>\n",
       "      <th>dp</th>\n",
       "      <th>sas</th>\n",
       "      <th>new</th>\n",
       "      <th>pack</th>\n",
       "      <th>description2</th>\n",
       "      <th>...</th>\n",
       "      <th>van</th>\n",
       "      <th>u</th>\n",
       "      <th>tot</th>\n",
       "      <th>xeon™</th>\n",
       "      <th>512m</th>\n",
       "      <th>des</th>\n",
       "      <th>les</th>\n",
       "      <th>vous</th>\n",
       "      <th>il</th>\n",
       "      <th>hyperst</th>\n",
       "    </tr>\n",
       "  </thead>\n",
       "  <tbody>\n",
       "    <tr>\n",
       "      <th>0</th>\n",
       "      <td>0.0</td>\n",
       "      <td>0.0</td>\n",
       "      <td>0.0</td>\n",
       "      <td>0.00000</td>\n",
       "      <td>0.0</td>\n",
       "      <td>0.0</td>\n",
       "      <td>0.0</td>\n",
       "      <td>0.276509</td>\n",
       "      <td>0.0</td>\n",
       "      <td>0.0</td>\n",
       "      <td>...</td>\n",
       "      <td>0.0</td>\n",
       "      <td>0.0</td>\n",
       "      <td>0.0</td>\n",
       "      <td>0.0</td>\n",
       "      <td>0.0</td>\n",
       "      <td>0.0</td>\n",
       "      <td>0.000000</td>\n",
       "      <td>0.0</td>\n",
       "      <td>0.0</td>\n",
       "      <td>0.0</td>\n",
       "    </tr>\n",
       "    <tr>\n",
       "      <th>1</th>\n",
       "      <td>0.0</td>\n",
       "      <td>0.0</td>\n",
       "      <td>0.0</td>\n",
       "      <td>0.00000</td>\n",
       "      <td>0.0</td>\n",
       "      <td>0.0</td>\n",
       "      <td>0.0</td>\n",
       "      <td>0.085306</td>\n",
       "      <td>0.0</td>\n",
       "      <td>0.0</td>\n",
       "      <td>...</td>\n",
       "      <td>0.0</td>\n",
       "      <td>0.0</td>\n",
       "      <td>0.0</td>\n",
       "      <td>0.0</td>\n",
       "      <td>0.0</td>\n",
       "      <td>0.0</td>\n",
       "      <td>0.157009</td>\n",
       "      <td>0.0</td>\n",
       "      <td>0.0</td>\n",
       "      <td>0.0</td>\n",
       "    </tr>\n",
       "    <tr>\n",
       "      <th>2</th>\n",
       "      <td>0.0</td>\n",
       "      <td>0.0</td>\n",
       "      <td>0.0</td>\n",
       "      <td>0.10121</td>\n",
       "      <td>0.0</td>\n",
       "      <td>0.0</td>\n",
       "      <td>0.0</td>\n",
       "      <td>0.000000</td>\n",
       "      <td>0.0</td>\n",
       "      <td>0.0</td>\n",
       "      <td>...</td>\n",
       "      <td>0.0</td>\n",
       "      <td>0.0</td>\n",
       "      <td>0.0</td>\n",
       "      <td>0.0</td>\n",
       "      <td>0.0</td>\n",
       "      <td>0.0</td>\n",
       "      <td>0.000000</td>\n",
       "      <td>0.0</td>\n",
       "      <td>0.0</td>\n",
       "      <td>0.0</td>\n",
       "    </tr>\n",
       "    <tr>\n",
       "      <th>3</th>\n",
       "      <td>0.0</td>\n",
       "      <td>0.0</td>\n",
       "      <td>0.0</td>\n",
       "      <td>0.00000</td>\n",
       "      <td>0.0</td>\n",
       "      <td>0.0</td>\n",
       "      <td>0.0</td>\n",
       "      <td>0.000000</td>\n",
       "      <td>0.0</td>\n",
       "      <td>0.0</td>\n",
       "      <td>...</td>\n",
       "      <td>0.0</td>\n",
       "      <td>0.0</td>\n",
       "      <td>0.0</td>\n",
       "      <td>0.0</td>\n",
       "      <td>0.0</td>\n",
       "      <td>0.0</td>\n",
       "      <td>0.000000</td>\n",
       "      <td>0.0</td>\n",
       "      <td>0.0</td>\n",
       "      <td>0.0</td>\n",
       "    </tr>\n",
       "    <tr>\n",
       "      <th>4</th>\n",
       "      <td>0.0</td>\n",
       "      <td>0.0</td>\n",
       "      <td>0.0</td>\n",
       "      <td>0.00000</td>\n",
       "      <td>0.0</td>\n",
       "      <td>0.0</td>\n",
       "      <td>0.0</td>\n",
       "      <td>0.000000</td>\n",
       "      <td>0.0</td>\n",
       "      <td>0.0</td>\n",
       "      <td>...</td>\n",
       "      <td>0.0</td>\n",
       "      <td>0.0</td>\n",
       "      <td>0.0</td>\n",
       "      <td>0.0</td>\n",
       "      <td>0.0</td>\n",
       "      <td>0.0</td>\n",
       "      <td>0.000000</td>\n",
       "      <td>0.0</td>\n",
       "      <td>0.0</td>\n",
       "      <td>0.0</td>\n",
       "    </tr>\n",
       "  </tbody>\n",
       "</table>\n",
       "<p>5 rows × 1000 columns</p>\n",
       "</div>"
      ],
      "text/plain": [
       "   dh0072balwl  72gb   3g      15k   25   dp  sas       new  pack  \\\n",
       "0          0.0   0.0  0.0  0.00000  0.0  0.0  0.0  0.276509   0.0   \n",
       "1          0.0   0.0  0.0  0.00000  0.0  0.0  0.0  0.085306   0.0   \n",
       "2          0.0   0.0  0.0  0.10121  0.0  0.0  0.0  0.000000   0.0   \n",
       "3          0.0   0.0  0.0  0.00000  0.0  0.0  0.0  0.000000   0.0   \n",
       "4          0.0   0.0  0.0  0.00000  0.0  0.0  0.0  0.000000   0.0   \n",
       "\n",
       "   description2  ...  van    u  tot  xeon™  512m  des       les  vous   il  \\\n",
       "0           0.0  ...  0.0  0.0  0.0    0.0   0.0  0.0  0.000000   0.0  0.0   \n",
       "1           0.0  ...  0.0  0.0  0.0    0.0   0.0  0.0  0.157009   0.0  0.0   \n",
       "2           0.0  ...  0.0  0.0  0.0    0.0   0.0  0.0  0.000000   0.0  0.0   \n",
       "3           0.0  ...  0.0  0.0  0.0    0.0   0.0  0.0  0.000000   0.0  0.0   \n",
       "4           0.0  ...  0.0  0.0  0.0    0.0   0.0  0.0  0.000000   0.0  0.0   \n",
       "\n",
       "   hyperst  \n",
       "0      0.0  \n",
       "1      0.0  \n",
       "2      0.0  \n",
       "3      0.0  \n",
       "4      0.0  \n",
       "\n",
       "[5 rows x 1000 columns]"
      ]
     },
     "execution_count": 79,
     "metadata": {},
     "output_type": "execute_result"
    }
   ],
   "source": [
    "X_test.head()"
   ]
  },
  {
   "cell_type": "markdown",
   "id": "e9ee2f88",
   "metadata": {},
   "source": [
    "#### Initial Accuracy Test for Potential Models using K fold Evaluation"
   ]
  },
  {
   "cell_type": "code",
   "execution_count": 80,
   "id": "70bd7fc6",
   "metadata": {},
   "outputs": [
    {
     "name": "stdout",
     "output_type": "stream",
     "text": [
      "Model Name:  LR\n",
      "Cross value mean:  0.8596724841026553\n",
      "Cross value Standard Deviation:  0.014058271728504273\n",
      "\n",
      "Classification Report\n",
      "              precision    recall  f1-score   support\n",
      "\n",
      "           0       0.87      0.99      0.93      3792\n",
      "           1       0.74      0.12      0.21       659\n",
      "\n",
      "    accuracy                           0.86      4451\n",
      "   macro avg       0.80      0.56      0.57      4451\n",
      "weighted avg       0.85      0.86      0.82      4451\n",
      "\n",
      "=================================================================\n",
      "\n",
      "Model Name:  RF\n",
      "Cross value mean:  0.9425020538126738\n",
      "Cross value Standard Deviation:  0.007435176121670415\n",
      "\n",
      "Classification Report\n",
      "              precision    recall  f1-score   support\n",
      "\n",
      "           0       0.94      0.99      0.97      3792\n",
      "           1       0.92      0.65      0.76       659\n",
      "\n",
      "    accuracy                           0.94      4451\n",
      "   macro avg       0.93      0.82      0.86      4451\n",
      "weighted avg       0.94      0.94      0.93      4451\n",
      "\n",
      "=================================================================\n",
      "\n",
      "Model Name:  KNN\n",
      "Cross value mean:  0.9162099135636941\n",
      "Cross value Standard Deviation:  0.007039874075630551\n",
      "\n",
      "Classification Report\n",
      "              precision    recall  f1-score   support\n",
      "\n",
      "           0       0.94      0.96      0.95      3792\n",
      "           1       0.73      0.67      0.70       659\n",
      "\n",
      "    accuracy                           0.91      4451\n",
      "   macro avg       0.84      0.82      0.83      4451\n",
      "weighted avg       0.91      0.91      0.91      4451\n",
      "\n",
      "=================================================================\n",
      "\n",
      "Model Name:  CART\n",
      "Cross value mean:  0.9183275196062614\n",
      "Cross value Standard Deviation:  0.005435556421074829\n",
      "\n",
      "Classification Report\n",
      "              precision    recall  f1-score   support\n",
      "\n",
      "           0       0.95      0.96      0.95      3792\n",
      "           1       0.74      0.69      0.72       659\n",
      "\n",
      "    accuracy                           0.92      4451\n",
      "   macro avg       0.84      0.83      0.83      4451\n",
      "weighted avg       0.92      0.92      0.92      4451\n",
      "\n",
      "=================================================================\n",
      "\n"
     ]
    }
   ],
   "source": [
    "seed = 42\n",
    "models = []\n",
    "models.append(('LR', LogisticRegression(solver='sag')))\n",
    "models.append(('RF', RandomForestClassifier()))\n",
    "models.append(('KNN', KNeighborsClassifier()))\n",
    "models.append(('CART', DecisionTreeClassifier()))\n",
    "#models.append(('NB', GaussianNB()))\n",
    "\n",
    "\n",
    "#Evaluate each model\n",
    "results = []\n",
    "names = []\n",
    "scoring = 'accuracy'\n",
    "\n",
    "for name, model in models:\n",
    "    kfold = model_selection.KFold(n_splits = 10, random_state = seed , shuffle=True)\n",
    "    cv_results = model_selection.cross_val_score(model,X_train , y_train.ravel(), cv=kfold, scoring=scoring)\n",
    "    model.fit(X_train, y_train)\n",
    "    Y_pred = model.predict(X_val)\n",
    "    \n",
    "    results.append(cv_results)\n",
    "    names.append(name)\n",
    "    print('Model Name: ' , name)\n",
    "    print('Cross value mean: ' , cv_results.mean())\n",
    "    print('Cross value Standard Deviation: ', cv_results.std())\n",
    "    print('\\nClassification Report')\n",
    "    print(classification_report(y_val, Y_pred))\n",
    "    print('=================================================================\\n')\n",
    "    \n",
    "    \n"
   ]
  },
  {
   "cell_type": "markdown",
   "id": "6cd4b57c",
   "metadata": {},
   "source": [
    "Having applied KFold Validation to a number of possible classification algorithms, we have a strong accuracy rating from the following models:\n",
    "###### Logistic Regression , Random Forests , K Nearest Neighbour , Decision Tree Classifier\n",
    "\n",
    "we will select Random Forest because it has the highest accuracy.\n"
   ]
  },
  {
   "cell_type": "markdown",
   "id": "6ea16060",
   "metadata": {},
   "source": [
    "### Fit the Random Forest Model"
   ]
  },
  {
   "cell_type": "code",
   "execution_count": 81,
   "id": "96051233",
   "metadata": {},
   "outputs": [
    {
     "data": {
      "text/plain": [
       "RandomForestClassifier(random_state=42)"
      ]
     },
     "execution_count": 81,
     "metadata": {},
     "output_type": "execute_result"
    }
   ],
   "source": [
    "model = RandomForestClassifier(random_state=42)\n",
    "model.fit(X_train , y_train )"
   ]
  },
  {
   "cell_type": "markdown",
   "id": "e79df52b",
   "metadata": {},
   "source": [
    "### Evaluate model using validation set"
   ]
  },
  {
   "cell_type": "code",
   "execution_count": 82,
   "id": "fe151557",
   "metadata": {},
   "outputs": [
    {
     "name": "stdout",
     "output_type": "stream",
     "text": [
      "Accuracy =  0.9402381487306223\n",
      "[[3755   37]\n",
      " [ 229  430]]\n"
     ]
    },
    {
     "name": "stderr",
     "output_type": "stream",
     "text": [
      "C:\\Users\\pc\\anaconda3\\lib\\site-packages\\sklearn\\utils\\validation.py:70: FutureWarning: Pass display_labels=[0 1] as keyword args. From version 1.0 (renaming of 0.25) passing these as positional arguments will result in an error\n",
      "  warnings.warn(f\"Pass {args_msg} as keyword args. From version \"\n"
     ]
    },
    {
     "name": "stdout",
     "output_type": "stream",
     "text": [
      "              precision    recall  f1-score   support\n",
      "\n",
      "    nonmatch       0.94      0.99      0.97      3792\n",
      "       match       0.92      0.65      0.76       659\n",
      "\n",
      "    accuracy                           0.94      4451\n",
      "   macro avg       0.93      0.82      0.86      4451\n",
      "weighted avg       0.94      0.94      0.94      4451\n",
      "\n",
      "ROC Score: 0.8214\n"
     ]
    },
    {
     "data": {
      "image/png": "[encoded data removed]",
      "text/plain": [
       "<Figure size 432x288 with 2 Axes>"
      ]
     },
     "metadata": {
      "needs_background": "light"
     },
     "output_type": "display_data"
    }
   ],
   "source": [
    "### Evaluate model on validation data\n",
    "y_pred= model.predict(X_val)\n",
    "print(\"Accuracy = \" , metrics.accuracy_score(y_val, y_pred))\n",
    "cm= confusion_matrix(y_val, y_pred)\n",
    "print(cm)\n",
    "ConfusionMatrixDisplay(cm, model.classes_).plot()\n",
    "print(metrics.classification_report(y_val, y_pred, target_names=['nonmatch', 'match']))\n",
    "\n",
    "from sklearn.metrics import roc_auc_score\n",
    "# Calculate the ROC score\n",
    "roc_score = roc_auc_score(y_val, y_pred)\n",
    "\n",
    "# Print the ROC score\n",
    "print(\"ROC Score: {:.4f}\".format(roc_score))"
   ]
  },
  {
   "cell_type": "code",
   "execution_count": 83,
   "id": "264eefda",
   "metadata": {},
   "outputs": [
    {
     "name": "stdout",
     "output_type": "stream",
     "text": [
      "Accuracy =  0.7717206132879046\n",
      "[[446   0]\n",
      " [134   7]]\n",
      "              precision    recall  f1-score   support\n",
      "\n",
      "    nonmatch       0.77      1.00      0.87       446\n",
      "       match       1.00      0.05      0.09       141\n",
      "\n",
      "    accuracy                           0.77       587\n",
      "   macro avg       0.88      0.52      0.48       587\n",
      "weighted avg       0.82      0.77      0.68       587\n",
      "\n",
      "ROC Score: 0.5248\n"
     ]
    },
    {
     "name": "stderr",
     "output_type": "stream",
     "text": [
      "C:\\Users\\pc\\anaconda3\\lib\\site-packages\\sklearn\\utils\\validation.py:70: FutureWarning: Pass display_labels=[0 1] as keyword args. From version 1.0 (renaming of 0.25) passing these as positional arguments will result in an error\n",
      "  warnings.warn(f\"Pass {args_msg} as keyword args. From version \"\n"
     ]
    },
    {
     "data": {
      "image/png": "[encoded data removed]",
      "text/plain": [
       "<Figure size 432x288 with 2 Axes>"
      ]
     },
     "metadata": {
      "needs_background": "light"
     },
     "output_type": "display_data"
    }
   ],
   "source": [
    "### Evaluate model on test data\n",
    "y_pred= model.predict(X_test)\n",
    "print(\"Accuracy = \" , metrics.accuracy_score(y_test, y_pred))\n",
    "cm= confusion_matrix(y_test, y_pred)\n",
    "print(cm)\n",
    "ConfusionMatrixDisplay(cm, model.classes_).plot()\n",
    "print(metrics.classification_report(y_test, y_pred, target_names=['nonmatch', 'match']))\n",
    "\n",
    "from sklearn.metrics import roc_auc_score\n",
    "# Calculate the ROC score\n",
    "roc_score = roc_auc_score(y_test, y_pred)\n",
    "\n",
    "# Print the ROC score\n",
    "print(\"ROC Score: {:.4f}\".format(roc_score))"
   ]
  },
  {
   "cell_type": "code",
   "execution_count": null,
   "id": "701bc52e",
   "metadata": {},
   "outputs": [],
   "source": []
  },
  {
   "cell_type": "code",
   "execution_count": 84,
   "id": "5e0d7cc3",
   "metadata": {},
   "outputs": [
    {
     "name": "stdout",
     "output_type": "stream",
     "text": [
      "Accuracy =  0.7892376681614349\n",
      "[[350   0]\n",
      " [ 94   2]]\n",
      "              precision    recall  f1-score   support\n",
      "\n",
      "    nonmatch       0.79      1.00      0.88       350\n",
      "       match       1.00      0.02      0.04        96\n",
      "\n",
      "    accuracy                           0.79       446\n",
      "   macro avg       0.89      0.51      0.46       446\n",
      "weighted avg       0.83      0.79      0.70       446\n",
      "\n",
      "ROC Score: 0.5104\n"
     ]
    },
    {
     "name": "stderr",
     "output_type": "stream",
     "text": [
      "C:\\Users\\pc\\anaconda3\\lib\\site-packages\\sklearn\\utils\\validation.py:70: FutureWarning: Pass display_labels=[0 1] as keyword args. From version 1.0 (renaming of 0.25) passing these as positional arguments will result in an error\n",
      "  warnings.warn(f\"Pass {args_msg} as keyword args. From version \"\n"
     ]
    },
    {
     "data": {
      "image/png": "[encoded data removed]",
      "text/plain": [
       "<Figure size 432x288 with 2 Axes>"
      ]
     },
     "metadata": {
      "needs_background": "light"
     },
     "output_type": "display_data"
    }
   ],
   "source": [
    "### Evaluate model on gold standard data\n",
    "y_gs_pred= model.predict(X_gs)\n",
    "print(\"Accuracy = \" , metrics.accuracy_score(y_gs, y_gs_pred))\n",
    "cm= confusion_matrix(y_gs, y_gs_pred)\n",
    "print(cm)\n",
    "ConfusionMatrixDisplay(cm, model.classes_).plot()\n",
    "print(metrics.classification_report(y_gs, y_gs_pred, target_names=['nonmatch', 'match']))\n",
    "\n",
    "from sklearn.metrics import roc_auc_score\n",
    "# Calculate the ROC score\n",
    "roc_score = roc_auc_score(y_gs, y_gs_pred)\n",
    "\n",
    "# Print the ROC score\n",
    "print(\"ROC Score: {:.4f}\".format(roc_score))"
   ]
  },
  {
   "cell_type": "markdown",
   "id": "518ed6fb",
   "metadata": {},
   "source": [
    "### Hyperparameter Tuning for Random Forest using Randomised Search"
   ]
  },
  {
   "cell_type": "markdown",
   "id": "a09c9eaf",
   "metadata": {},
   "source": [
    "###  Implementing Random Search Using Scikit-Learn\n",
    "##### Defining the Hyperparameter Space"
   ]
  },
  {
   "cell_type": "code",
   "execution_count": 85,
   "id": "93f488bc",
   "metadata": {},
   "outputs": [
    {
     "name": "stdout",
     "output_type": "stream",
     "text": [
      "Best grid search hyperparameters are: {'criterion': 'entropy', 'max_depth': None, 'max_features': 1, 'min_samples_leaf': 1, 'min_samples_split': 2, 'n_estimators': 260}\n",
      "Best grid search score is: 0.9368198015987672\n"
     ]
    }
   ],
   "source": [
    "###  Implementing Random Search Using Scikit-Learn\n",
    "##### Defining the Hyperparameter Space\n",
    "from scipy.stats import randint\n",
    "from sklearn.model_selection import RandomizedSearchCV\n",
    "import numpy as np\n",
    "rs_space={'max_depth':list(np.arange(1, 100, step=10)) + [None],\n",
    "              'n_estimators':np.arange(10, 500, step=50),\n",
    "              'max_features':randint(1,7),\n",
    "              'criterion':['gini','entropy'],\n",
    "              'min_samples_leaf':randint(1,4),\n",
    "              'min_samples_split':np.arange(2, 10, step=2)\n",
    "         }\n",
    "\n",
    "rf = RandomForestClassifier()\n",
    "rf_random = RandomizedSearchCV(rf, rs_space, n_iter=100, scoring='accuracy', n_jobs=-1, cv=3)\n",
    "model_random = rf_random.fit(X_train,y_train)\n",
    "\n",
    "\n",
    "print('Best grid search hyperparameters are: '+str(model_random.best_params_))\n",
    "print('Best grid search score is: '+str(model_random.best_score_))"
   ]
  },
  {
   "cell_type": "markdown",
   "id": "91ff6cab",
   "metadata": {},
   "source": [
    "### Evaluate model on validation data"
   ]
  },
  {
   "cell_type": "code",
   "execution_count": 87,
   "id": "57b71488",
   "metadata": {},
   "outputs": [
    {
     "name": "stdout",
     "output_type": "stream",
     "text": [
      "Accuracy =  0.9418108290271849\n",
      "[[3762   30]\n",
      " [ 229  430]]\n"
     ]
    },
    {
     "name": "stderr",
     "output_type": "stream",
     "text": [
      "C:\\Users\\pc\\anaconda3\\lib\\site-packages\\sklearn\\utils\\validation.py:70: FutureWarning: Pass display_labels=[0 1] as keyword args. From version 1.0 (renaming of 0.25) passing these as positional arguments will result in an error\n",
      "  warnings.warn(f\"Pass {args_msg} as keyword args. From version \"\n"
     ]
    },
    {
     "name": "stdout",
     "output_type": "stream",
     "text": [
      "              precision    recall  f1-score   support\n",
      "\n",
      "    nonmatch       0.94      0.99      0.97      3792\n",
      "       match       0.93      0.65      0.77       659\n",
      "\n",
      "    accuracy                           0.94      4451\n",
      "   macro avg       0.94      0.82      0.87      4451\n",
      "weighted avg       0.94      0.94      0.94      4451\n",
      "\n",
      "ROC Score: 0.8223\n"
     ]
    },
    {
     "data": {
      "image/png": "[encoded data removed]",
      "text/plain": [
       "<Figure size 432x288 with 2 Axes>"
      ]
     },
     "metadata": {
      "needs_background": "light"
     },
     "output_type": "display_data"
    }
   ],
   "source": [
    "### Evaluate model on validation data\n",
    "y_pred= model_random.predict(X_val)\n",
    "print(\"Accuracy = \" , metrics.accuracy_score(y_val, y_pred))\n",
    "cm= confusion_matrix(y_val, y_pred)\n",
    "print(cm)\n",
    "ConfusionMatrixDisplay(cm, model.classes_).plot()\n",
    "print(metrics.classification_report(y_val, y_pred, target_names=['nonmatch', 'match']))\n",
    "\n",
    "from sklearn.metrics import roc_auc_score\n",
    "# Calculate the ROC score\n",
    "roc_score = roc_auc_score(y_val, y_pred)\n",
    "\n",
    "# Print the ROC score\n",
    "print(\"ROC Score: {:.4f}\".format(roc_score))"
   ]
  },
  {
   "cell_type": "markdown",
   "id": "23759902",
   "metadata": {},
   "source": [
    "### Evaluate model using test set"
   ]
  },
  {
   "cell_type": "code",
   "execution_count": 88,
   "id": "6c2d3807",
   "metadata": {},
   "outputs": [
    {
     "name": "stdout",
     "output_type": "stream",
     "text": [
      "Accuracy =  0.7768313458262351\n",
      "[[444   2]\n",
      " [129  12]]\n"
     ]
    },
    {
     "name": "stderr",
     "output_type": "stream",
     "text": [
      "C:\\Users\\pc\\anaconda3\\lib\\site-packages\\sklearn\\utils\\validation.py:70: FutureWarning: Pass display_labels=[0 1] as keyword args. From version 1.0 (renaming of 0.25) passing these as positional arguments will result in an error\n",
      "  warnings.warn(f\"Pass {args_msg} as keyword args. From version \"\n"
     ]
    },
    {
     "name": "stdout",
     "output_type": "stream",
     "text": [
      "              precision    recall  f1-score   support\n",
      "\n",
      "    nonmatch       0.77      1.00      0.87       446\n",
      "       match       0.86      0.09      0.15       141\n",
      "\n",
      "    accuracy                           0.78       587\n",
      "   macro avg       0.82      0.54      0.51       587\n",
      "weighted avg       0.79      0.78      0.70       587\n",
      "\n",
      "ROC Score: 0.5403\n"
     ]
    },
    {
     "data": {
      "image/png": "[encoded data removed]",
      "text/plain": [
       "<Figure size 432x288 with 2 Axes>"
      ]
     },
     "metadata": {
      "needs_background": "light"
     },
     "output_type": "display_data"
    }
   ],
   "source": [
    "### Evaluate model on test data\n",
    "y_pred= model_random.predict(X_test)\n",
    "print(\"Accuracy = \" , metrics.accuracy_score(y_test, y_pred))\n",
    "cm= confusion_matrix(y_test, y_pred)\n",
    "print(cm)\n",
    "ConfusionMatrixDisplay(cm, model.classes_).plot()\n",
    "print(metrics.classification_report(y_test, y_pred, target_names=['nonmatch', 'match']))\n",
    "\n",
    "from sklearn.metrics import roc_auc_score\n",
    "# Calculate the ROC score\n",
    "roc_score = roc_auc_score(y_test, y_pred)\n",
    "\n",
    "# Print the ROC score\n",
    "print(\"ROC Score: {:.4f}\".format(roc_score))"
   ]
  },
  {
   "cell_type": "markdown",
   "id": "94341fc9",
   "metadata": {},
   "source": [
    "### Evaluate the model using gold standard data"
   ]
  },
  {
   "cell_type": "code",
   "execution_count": 89,
   "id": "73887e12",
   "metadata": {},
   "outputs": [
    {
     "name": "stdout",
     "output_type": "stream",
     "text": [
      "Accuracy =  0.7937219730941704\n",
      "[[349   1]\n",
      " [ 91   5]]\n",
      "              precision    recall  f1-score   support\n",
      "\n",
      "    nonmatch       0.79      1.00      0.88       350\n",
      "       match       0.83      0.05      0.10        96\n",
      "\n",
      "    accuracy                           0.79       446\n",
      "   macro avg       0.81      0.52      0.49       446\n",
      "weighted avg       0.80      0.79      0.71       446\n",
      "\n",
      "ROC Score: 0.5246\n"
     ]
    },
    {
     "name": "stderr",
     "output_type": "stream",
     "text": [
      "C:\\Users\\pc\\anaconda3\\lib\\site-packages\\sklearn\\utils\\validation.py:70: FutureWarning: Pass display_labels=[0 1] as keyword args. From version 1.0 (renaming of 0.25) passing these as positional arguments will result in an error\n",
      "  warnings.warn(f\"Pass {args_msg} as keyword args. From version \"\n"
     ]
    },
    {
     "data": {
      "image/png": "[encoded data removed]",
      "text/plain": [
       "<Figure size 432x288 with 2 Axes>"
      ]
     },
     "metadata": {
      "needs_background": "light"
     },
     "output_type": "display_data"
    }
   ],
   "source": [
    "### Evaluate model on gold standard data\n",
    "y_gs_pred= model_random.predict(X_gs)\n",
    "print(\"Accuracy = \" , metrics.accuracy_score(y_gs, y_gs_pred))\n",
    "cm= confusion_matrix(y_gs, y_gs_pred)\n",
    "print(cm)\n",
    "ConfusionMatrixDisplay(cm, model.classes_).plot()\n",
    "print(metrics.classification_report(y_gs, y_gs_pred, target_names=['nonmatch', 'match']))\n",
    "\n",
    "from sklearn.metrics import roc_auc_score\n",
    "# Calculate the ROC score\n",
    "roc_score = roc_auc_score(y_gs, y_gs_pred)\n",
    "\n",
    "# Print the ROC score\n",
    "print(\"ROC Score: {:.4f}\".format(roc_score))"
   ]
  },
  {
   "cell_type": "markdown",
   "id": "5dd55c09",
   "metadata": {},
   "source": [
    "# Experiment Three\n",
    "#### WORKING WITH COLUMNS WITH LESS THAN 40,000 MISSING VALUES ,THEN REPLACING THE NULL VALUES WITH BLANKS"
   ]
  },
  {
   "cell_type": "code",
   "execution_count": 90,
   "id": "b702e3f9",
   "metadata": {},
   "outputs": [],
   "source": [
    "data2a = data.drop(['specTableContent_left' , 'specTableContent_right' , 'keyValuePairs_left' , 'keyValuePairs_right' , 'price_left' , 'price_right'] , axis=1)\n",
    "data2a = data2a.fillna('')\n",
    "test_set2a= test_set.drop(['specTableContent_left' , 'specTableContent_right' , 'keyValuePairs_left' , 'keyValuePairs_right' , 'price_left' , 'price_right'] , axis=1)\n",
    "data_gs2a= data_gs.drop(['specTableContent_left' , 'specTableContent_right' , 'keyValuePairs_left' , 'keyValuePairs_right' , 'price_left' , 'price_right'] , axis=1)"
   ]
  },
  {
   "cell_type": "code",
   "execution_count": 92,
   "id": "a2449882",
   "metadata": {},
   "outputs": [
    {
     "name": "stdout",
     "output_type": "stream",
     "text": [
      "data2a.shape (68461, 14)\n",
      "test_set2a.shape (587, 14)\n",
      "data_gs2a.shape (446, 14)\n"
     ]
    }
   ],
   "source": [
    "data2a=data2a.dropna()\n",
    "test_set2a= test_set2a.dropna()\n",
    "data_gs2a =data_gs2a.dropna()\n",
    "\n",
    "print('data2a.shape',data2a.shape)\n",
    "print('test_set2a.shape',test_set2a.shape)\n",
    "print('data_gs2a.shape' , data_gs2a.shape)\n"
   ]
  },
  {
   "cell_type": "markdown",
   "id": "26247ffa",
   "metadata": {},
   "source": [
    "## Merging of culumns"
   ]
  },
  {
   "cell_type": "code",
   "execution_count": 93,
   "id": "e747a20c",
   "metadata": {},
   "outputs": [
    {
     "name": "stderr",
     "output_type": "stream",
     "text": [
      "C:\\Users\\pc\\AppData\\Local\\Temp/ipykernel_4272/2655543665.py:2: FutureWarning: In a future version of pandas all arguments of DataFrame.drop except for the argument 'labels' will be keyword-only\n",
      "  data2a.drop(data2a.columns.difference(['product_feature','label']), 1, inplace=True)\n",
      "C:\\Users\\pc\\AppData\\Local\\Temp/ipykernel_4272/2655543665.py:5: FutureWarning: In a future version of pandas all arguments of DataFrame.drop except for the argument 'labels' will be keyword-only\n",
      "  test_set2a.drop(test_set2a.columns.difference(['product_feature','label']), 1, inplace=True)\n",
      "C:\\Users\\pc\\AppData\\Local\\Temp/ipykernel_4272/2655543665.py:8: FutureWarning: In a future version of pandas all arguments of DataFrame.drop except for the argument 'labels' will be keyword-only\n",
      "  data_gs2a.drop(data_gs2a.columns.difference(['product_feature','label']), 1, inplace=True)\n"
     ]
    }
   ],
   "source": [
    "data2a['product_feature'] = str(data2a['id_left']) + \" \" + data2a['title_left'] +\" \" + data2a['description_left'] + \" \" + data2a['brand_left'] + \" \" + data2a['category_left'] + \" \" + str(data2a['cluster_id_left']) + \" \" + str(data2a['id_right']) + \" \" + data2a['title_right'] + \" \" + data2a['description_right'] + \" \" + data2a['brand_right'] + \" \" + data2a['category_right'] +\" \" + str(data2a['cluster_id_right']) + \" \" + str(data2a['pair_id'])\n",
    "data2a.drop(data2a.columns.difference(['product_feature','label']), 1, inplace=True)\n",
    "\n",
    "test_set2a['product_feature'] = str(test_set2a['id_left']) + \" \" + test_set2a['title_left'] +\" \" + test_set2a['description_left'] + \" \" + test_set2a['brand_left'] + \" \" + test_set2a['category_left'] + \" \" + str(test_set2a['cluster_id_left']) + \" \" + str(test_set2a['id_right']) + \" \" + test_set2a['title_right'] + \" \" + test_set2a['description_right'] + \" \" + test_set2a['brand_right'] + \" \" + test_set2a['category_right'] +\" \" + str(test_set2a['cluster_id_right']) + \" \" + str(test_set2a['pair_id'])\n",
    "test_set2a.drop(test_set2a.columns.difference(['product_feature','label']), 1, inplace=True)\n",
    "\n",
    "data_gs2a['product_feature'] = str(data_gs2a['id_left']) + \" \" + data_gs2a['title_left'] +\" \" + data_gs2a['description_left'] + \" \" + data_gs2a['brand_left'] + \" \" + data_gs2a['category_left'] + \" \" + str(data_gs2a['cluster_id_left']) + \" \" + str(data_gs2a['id_right']) + \" \" + data_gs2a['title_right'] + \" \" + data_gs2a['description_right'] + \" \" + data_gs2a['brand_right'] + \" \" + data_gs2a['category_right'] +\" \" + str(data_gs2a['cluster_id_right']) + \" \" + str(data_gs2a['pair_id'])\n",
    "data_gs2a.drop(data_gs2a.columns.difference(['product_feature','label']), 1, inplace=True)\n"
   ]
  },
  {
   "cell_type": "markdown",
   "id": "0eeddcc8",
   "metadata": {},
   "source": [
    "### Shape of data after column merge"
   ]
  },
  {
   "cell_type": "code",
   "execution_count": 94,
   "id": "9160efb8",
   "metadata": {},
   "outputs": [
    {
     "name": "stdout",
     "output_type": "stream",
     "text": [
      "data2a.shape (68461, 2)\n",
      "test_set2a.shape (587, 2)\n",
      "data_gs2a.shape (446, 2)\n"
     ]
    }
   ],
   "source": [
    "print('data2a.shape',data2a.shape)\n",
    "print('test_set2a.shape',test_set2a.shape)\n",
    "print('data_gs2a.shape' , data_gs2a.shape)"
   ]
  },
  {
   "cell_type": "markdown",
   "id": "70cc3304",
   "metadata": {},
   "source": [
    "#### Apply the function remove_punctuation to columns"
   ]
  },
  {
   "cell_type": "code",
   "execution_count": 95,
   "id": "85af6861",
   "metadata": {},
   "outputs": [],
   "source": [
    "data2a['product_feature'] = data2a['product_feature'].apply(lambda x:remove_punctuation(x))\n",
    "test_set2a['product_feature'] = test_set2a['product_feature'].apply(lambda x:remove_punctuation(x))\n",
    "data_gs2a['product_feature'] = data_gs2a['product_feature'].apply(lambda x:remove_punctuation(x))\n"
   ]
  },
  {
   "cell_type": "markdown",
   "id": "b90cd5a4",
   "metadata": {},
   "source": [
    "#### Create tfidf instance"
   ]
  },
  {
   "cell_type": "code",
   "execution_count": 96,
   "id": "09767ef2",
   "metadata": {},
   "outputs": [],
   "source": [
    "from sklearn.feature_extraction.text import TfidfVectorizer\n",
    "vectorizer = TfidfVectorizer(tokenizer=tokenize , \n",
    "                             stop_words=english_stopwords,\n",
    "                            ngram_range=(1,1) ,max_df=0.5 , max_features=1000\n",
    "                            )"
   ]
  },
  {
   "cell_type": "markdown",
   "id": "9411a5b4",
   "metadata": {},
   "source": [
    "#### Passing in the text into vectorizer"
   ]
  },
  {
   "cell_type": "code",
   "execution_count": 97,
   "id": "8546d327",
   "metadata": {},
   "outputs": [
    {
     "name": "stderr",
     "output_type": "stream",
     "text": [
      "C:\\Users\\pc\\anaconda3\\lib\\site-packages\\sklearn\\feature_extraction\\text.py:489: UserWarning: The parameter 'token_pattern' will not be used since 'tokenizer' is not None'\n",
      "  warnings.warn(\"The parameter 'token_pattern' will not be used\"\n",
      "C:\\Users\\pc\\anaconda3\\lib\\site-packages\\sklearn\\feature_extraction\\text.py:388: UserWarning: Your stop_words may be inconsistent with your preprocessing. Tokenizing the stop words generated tokens [\"'d\", \"'s\", 'abov', 'ani', 'becaus', 'befor', 'could', 'doe', 'dure', 'might', 'must', \"n't\", 'need', 'onc', 'onli', 'ourselv', 'sha', 'themselv', 'veri', 'whi', 'wo', 'would', 'yourselv'] not in stop_words.\n",
      "  warnings.warn('Your stop_words may be inconsistent with '\n"
     ]
    },
    {
     "data": {
      "text/plain": [
       "TfidfVectorizer(max_df=0.5, max_features=1000,\n",
       "                stop_words=['i', 'me', 'my', 'myself', 'we', 'our', 'ours',\n",
       "                            'ourselves', 'you', \"you're\", \"you've\", \"you'll\",\n",
       "                            \"you'd\", 'your', 'yours', 'yourself', 'yourselves',\n",
       "                            'he', 'him', 'his', 'himself', 'she', \"she's\",\n",
       "                            'her', 'hers', 'herself', 'it', \"it's\", 'its',\n",
       "                            'itself', ...],\n",
       "                tokenizer=<function tokenize at 0x00000271809C6D30>)"
      ]
     },
     "execution_count": 97,
     "metadata": {},
     "output_type": "execute_result"
    }
   ],
   "source": [
    "vectorizer.fit(data2a.product_feature)"
   ]
  },
  {
   "cell_type": "markdown",
   "id": "1adbe823",
   "metadata": {},
   "source": [
    "#### Transform training , test and gold standard datasets"
   ]
  },
  {
   "cell_type": "code",
   "execution_count": 98,
   "id": "68506ef3",
   "metadata": {},
   "outputs": [
    {
     "name": "stdout",
     "output_type": "stream",
     "text": [
      "inputs.shape: (68461, 1000)\n",
      "test_inputs.shape (587, 1000)\n",
      "gs_inputs.shape (446, 1000)\n"
     ]
    }
   ],
   "source": [
    "inputs = pd.DataFrame(vectorizer.transform(data2a[\"product_feature\"]).toarray(), columns=vectorizer.vocabulary_)\n",
    "test_inputs = pd.DataFrame(vectorizer.transform(test_set2a.product_feature).toarray(), columns=vectorizer.vocabulary_)\n",
    "gs_inputs = pd.DataFrame(vectorizer.transform(data_gs2a.product_feature).toarray(), columns=vectorizer.vocabulary_)\n",
    "\n",
    "\n",
    "print('inputs.shape:' , inputs.shape)\n",
    "print('test_inputs.shape' , test_inputs.shape)\n",
    "print('gs_inputs.shape' , gs_inputs.shape)\n"
   ]
  },
  {
   "cell_type": "markdown",
   "id": "14cc3a82",
   "metadata": {},
   "source": [
    "#### Split the Training data into train and validation "
   ]
  },
  {
   "cell_type": "code",
   "execution_count": 99,
   "id": "b00a6281",
   "metadata": {},
   "outputs": [],
   "source": [
    "X_train , X_val , y_train , y_val = train_test_split(inputs , data2a.label , test_size= 0.3 , random_state=42)\n",
    "\n",
    "X_test=test_inputs \n",
    "y_test = test_set2a.label\n",
    "\n",
    "X_gs =gs_inputs\n",
    "y_gs= data_gs2a.label\n"
   ]
  },
  {
   "cell_type": "markdown",
   "id": "31707d79",
   "metadata": {},
   "source": [
    "#### Initial Accuracy Test for Potential Models using K fold Evaluation"
   ]
  },
  {
   "cell_type": "code",
   "execution_count": 100,
   "id": "ff8e788b",
   "metadata": {},
   "outputs": [
    {
     "name": "stdout",
     "output_type": "stream",
     "text": [
      "Model Name:  LR\n",
      "Cross value mean:  0.8646757914557506\n",
      "Cross value Standard Deviation:  0.005731304291378829\n",
      "\n",
      "Classification Report\n",
      "              precision    recall  f1-score   support\n",
      "\n",
      "           0       0.86      1.00      0.92     17568\n",
      "           1       0.77      0.06      0.11      2971\n",
      "\n",
      "    accuracy                           0.86     20539\n",
      "   macro avg       0.81      0.53      0.52     20539\n",
      "weighted avg       0.85      0.86      0.81     20539\n",
      "\n",
      "=================================================================\n",
      "\n",
      "Model Name:  RF\n",
      "Cross value mean:  0.8972705918167388\n",
      "Cross value Standard Deviation:  0.004740596702799753\n",
      "\n",
      "Classification Report\n",
      "              precision    recall  f1-score   support\n",
      "\n",
      "           0       0.91      0.98      0.94     17568\n",
      "           1       0.76      0.43      0.55      2971\n",
      "\n",
      "    accuracy                           0.90     20539\n",
      "   macro avg       0.83      0.70      0.74     20539\n",
      "weighted avg       0.89      0.90      0.88     20539\n",
      "\n",
      "=================================================================\n",
      "\n",
      "Model Name:  KNN\n",
      "Cross value mean:  0.8653852202380559\n",
      "Cross value Standard Deviation:  0.005604367149987682\n",
      "\n",
      "Classification Report\n",
      "              precision    recall  f1-score   support\n",
      "\n",
      "           0       0.91      0.93      0.92     17568\n",
      "           1       0.54      0.46      0.50      2971\n",
      "\n",
      "    accuracy                           0.87     20539\n",
      "   macro avg       0.73      0.70      0.71     20539\n",
      "weighted avg       0.86      0.87      0.86     20539\n",
      "\n",
      "=================================================================\n",
      "\n"
     ]
    },
    {
     "ename": "KeyboardInterrupt",
     "evalue": "",
     "output_type": "error",
     "traceback": [
      "\u001b[1;31m---------------------------------------------------------------------------\u001b[0m",
      "\u001b[1;31mKeyboardInterrupt\u001b[0m                         Traceback (most recent call last)",
      "\u001b[1;32m~\\AppData\\Local\\Temp/ipykernel_4272/2287018871.py\u001b[0m in \u001b[0;36m<module>\u001b[1;34m\u001b[0m\n\u001b[0;32m     15\u001b[0m \u001b[1;32mfor\u001b[0m \u001b[0mname\u001b[0m\u001b[1;33m,\u001b[0m \u001b[0mmodel\u001b[0m \u001b[1;32min\u001b[0m \u001b[0mmodels\u001b[0m\u001b[1;33m:\u001b[0m\u001b[1;33m\u001b[0m\u001b[1;33m\u001b[0m\u001b[0m\n\u001b[0;32m     16\u001b[0m     \u001b[0mkfold\u001b[0m \u001b[1;33m=\u001b[0m \u001b[0mmodel_selection\u001b[0m\u001b[1;33m.\u001b[0m\u001b[0mKFold\u001b[0m\u001b[1;33m(\u001b[0m\u001b[0mn_splits\u001b[0m \u001b[1;33m=\u001b[0m \u001b[1;36m10\u001b[0m\u001b[1;33m,\u001b[0m \u001b[0mrandom_state\u001b[0m \u001b[1;33m=\u001b[0m \u001b[0mseed\u001b[0m \u001b[1;33m,\u001b[0m \u001b[0mshuffle\u001b[0m\u001b[1;33m=\u001b[0m\u001b[1;32mTrue\u001b[0m\u001b[1;33m)\u001b[0m\u001b[1;33m\u001b[0m\u001b[1;33m\u001b[0m\u001b[0m\n\u001b[1;32m---> 17\u001b[1;33m     \u001b[0mcv_results\u001b[0m \u001b[1;33m=\u001b[0m \u001b[0mmodel_selection\u001b[0m\u001b[1;33m.\u001b[0m\u001b[0mcross_val_score\u001b[0m\u001b[1;33m(\u001b[0m\u001b[0mmodel\u001b[0m\u001b[1;33m,\u001b[0m\u001b[0mX_train\u001b[0m \u001b[1;33m,\u001b[0m \u001b[0my_train\u001b[0m\u001b[1;33m.\u001b[0m\u001b[0mravel\u001b[0m\u001b[1;33m(\u001b[0m\u001b[1;33m)\u001b[0m\u001b[1;33m,\u001b[0m \u001b[0mcv\u001b[0m\u001b[1;33m=\u001b[0m\u001b[0mkfold\u001b[0m\u001b[1;33m,\u001b[0m \u001b[0mscoring\u001b[0m\u001b[1;33m=\u001b[0m\u001b[0mscoring\u001b[0m\u001b[1;33m)\u001b[0m\u001b[1;33m\u001b[0m\u001b[1;33m\u001b[0m\u001b[0m\n\u001b[0m\u001b[0;32m     18\u001b[0m     \u001b[0mmodel\u001b[0m\u001b[1;33m.\u001b[0m\u001b[0mfit\u001b[0m\u001b[1;33m(\u001b[0m\u001b[0mX_train\u001b[0m\u001b[1;33m,\u001b[0m \u001b[0my_train\u001b[0m\u001b[1;33m)\u001b[0m\u001b[1;33m\u001b[0m\u001b[1;33m\u001b[0m\u001b[0m\n\u001b[0;32m     19\u001b[0m     \u001b[0mY_pred\u001b[0m \u001b[1;33m=\u001b[0m \u001b[0mmodel\u001b[0m\u001b[1;33m.\u001b[0m\u001b[0mpredict\u001b[0m\u001b[1;33m(\u001b[0m\u001b[0mX_val\u001b[0m\u001b[1;33m)\u001b[0m\u001b[1;33m\u001b[0m\u001b[1;33m\u001b[0m\u001b[0m\n",
      "\u001b[1;32m~\\anaconda3\\lib\\site-packages\\sklearn\\utils\\validation.py\u001b[0m in \u001b[0;36minner_f\u001b[1;34m(*args, **kwargs)\u001b[0m\n\u001b[0;32m     61\u001b[0m             \u001b[0mextra_args\u001b[0m \u001b[1;33m=\u001b[0m \u001b[0mlen\u001b[0m\u001b[1;33m(\u001b[0m\u001b[0margs\u001b[0m\u001b[1;33m)\u001b[0m \u001b[1;33m-\u001b[0m \u001b[0mlen\u001b[0m\u001b[1;33m(\u001b[0m\u001b[0mall_args\u001b[0m\u001b[1;33m)\u001b[0m\u001b[1;33m\u001b[0m\u001b[1;33m\u001b[0m\u001b[0m\n\u001b[0;32m     62\u001b[0m             \u001b[1;32mif\u001b[0m \u001b[0mextra_args\u001b[0m \u001b[1;33m<=\u001b[0m \u001b[1;36m0\u001b[0m\u001b[1;33m:\u001b[0m\u001b[1;33m\u001b[0m\u001b[1;33m\u001b[0m\u001b[0m\n\u001b[1;32m---> 63\u001b[1;33m                 \u001b[1;32mreturn\u001b[0m \u001b[0mf\u001b[0m\u001b[1;33m(\u001b[0m\u001b[1;33m*\u001b[0m\u001b[0margs\u001b[0m\u001b[1;33m,\u001b[0m \u001b[1;33m**\u001b[0m\u001b[0mkwargs\u001b[0m\u001b[1;33m)\u001b[0m\u001b[1;33m\u001b[0m\u001b[1;33m\u001b[0m\u001b[0m\n\u001b[0m\u001b[0;32m     64\u001b[0m \u001b[1;33m\u001b[0m\u001b[0m\n\u001b[0;32m     65\u001b[0m             \u001b[1;31m# extra_args > 0\u001b[0m\u001b[1;33m\u001b[0m\u001b[1;33m\u001b[0m\u001b[0m\n",
      "\u001b[1;32m~\\anaconda3\\lib\\site-packages\\sklearn\\model_selection\\_validation.py\u001b[0m in \u001b[0;36mcross_val_score\u001b[1;34m(estimator, X, y, groups, scoring, cv, n_jobs, verbose, fit_params, pre_dispatch, error_score)\u001b[0m\n\u001b[0;32m    443\u001b[0m     \u001b[0mscorer\u001b[0m \u001b[1;33m=\u001b[0m \u001b[0mcheck_scoring\u001b[0m\u001b[1;33m(\u001b[0m\u001b[0mestimator\u001b[0m\u001b[1;33m,\u001b[0m \u001b[0mscoring\u001b[0m\u001b[1;33m=\u001b[0m\u001b[0mscoring\u001b[0m\u001b[1;33m)\u001b[0m\u001b[1;33m\u001b[0m\u001b[1;33m\u001b[0m\u001b[0m\n\u001b[0;32m    444\u001b[0m \u001b[1;33m\u001b[0m\u001b[0m\n\u001b[1;32m--> 445\u001b[1;33m     cv_results = cross_validate(estimator=estimator, X=X, y=y, groups=groups,\n\u001b[0m\u001b[0;32m    446\u001b[0m                                 \u001b[0mscoring\u001b[0m\u001b[1;33m=\u001b[0m\u001b[1;33m{\u001b[0m\u001b[1;34m'score'\u001b[0m\u001b[1;33m:\u001b[0m \u001b[0mscorer\u001b[0m\u001b[1;33m}\u001b[0m\u001b[1;33m,\u001b[0m \u001b[0mcv\u001b[0m\u001b[1;33m=\u001b[0m\u001b[0mcv\u001b[0m\u001b[1;33m,\u001b[0m\u001b[1;33m\u001b[0m\u001b[1;33m\u001b[0m\u001b[0m\n\u001b[0;32m    447\u001b[0m                                 \u001b[0mn_jobs\u001b[0m\u001b[1;33m=\u001b[0m\u001b[0mn_jobs\u001b[0m\u001b[1;33m,\u001b[0m \u001b[0mverbose\u001b[0m\u001b[1;33m=\u001b[0m\u001b[0mverbose\u001b[0m\u001b[1;33m,\u001b[0m\u001b[1;33m\u001b[0m\u001b[1;33m\u001b[0m\u001b[0m\n",
      "\u001b[1;32m~\\anaconda3\\lib\\site-packages\\sklearn\\utils\\validation.py\u001b[0m in \u001b[0;36minner_f\u001b[1;34m(*args, **kwargs)\u001b[0m\n\u001b[0;32m     61\u001b[0m             \u001b[0mextra_args\u001b[0m \u001b[1;33m=\u001b[0m \u001b[0mlen\u001b[0m\u001b[1;33m(\u001b[0m\u001b[0margs\u001b[0m\u001b[1;33m)\u001b[0m \u001b[1;33m-\u001b[0m \u001b[0mlen\u001b[0m\u001b[1;33m(\u001b[0m\u001b[0mall_args\u001b[0m\u001b[1;33m)\u001b[0m\u001b[1;33m\u001b[0m\u001b[1;33m\u001b[0m\u001b[0m\n\u001b[0;32m     62\u001b[0m             \u001b[1;32mif\u001b[0m \u001b[0mextra_args\u001b[0m \u001b[1;33m<=\u001b[0m \u001b[1;36m0\u001b[0m\u001b[1;33m:\u001b[0m\u001b[1;33m\u001b[0m\u001b[1;33m\u001b[0m\u001b[0m\n\u001b[1;32m---> 63\u001b[1;33m                 \u001b[1;32mreturn\u001b[0m \u001b[0mf\u001b[0m\u001b[1;33m(\u001b[0m\u001b[1;33m*\u001b[0m\u001b[0margs\u001b[0m\u001b[1;33m,\u001b[0m \u001b[1;33m**\u001b[0m\u001b[0mkwargs\u001b[0m\u001b[1;33m)\u001b[0m\u001b[1;33m\u001b[0m\u001b[1;33m\u001b[0m\u001b[0m\n\u001b[0m\u001b[0;32m     64\u001b[0m \u001b[1;33m\u001b[0m\u001b[0m\n\u001b[0;32m     65\u001b[0m             \u001b[1;31m# extra_args > 0\u001b[0m\u001b[1;33m\u001b[0m\u001b[1;33m\u001b[0m\u001b[0m\n",
      "\u001b[1;32m~\\anaconda3\\lib\\site-packages\\sklearn\\model_selection\\_validation.py\u001b[0m in \u001b[0;36mcross_validate\u001b[1;34m(estimator, X, y, groups, scoring, cv, n_jobs, verbose, fit_params, pre_dispatch, return_train_score, return_estimator, error_score)\u001b[0m\n\u001b[0;32m    248\u001b[0m     parallel = Parallel(n_jobs=n_jobs, verbose=verbose,\n\u001b[0;32m    249\u001b[0m                         pre_dispatch=pre_dispatch)\n\u001b[1;32m--> 250\u001b[1;33m     results = parallel(\n\u001b[0m\u001b[0;32m    251\u001b[0m         delayed(_fit_and_score)(\n\u001b[0;32m    252\u001b[0m             \u001b[0mclone\u001b[0m\u001b[1;33m(\u001b[0m\u001b[0mestimator\u001b[0m\u001b[1;33m)\u001b[0m\u001b[1;33m,\u001b[0m \u001b[0mX\u001b[0m\u001b[1;33m,\u001b[0m \u001b[0my\u001b[0m\u001b[1;33m,\u001b[0m \u001b[0mscorers\u001b[0m\u001b[1;33m,\u001b[0m \u001b[0mtrain\u001b[0m\u001b[1;33m,\u001b[0m \u001b[0mtest\u001b[0m\u001b[1;33m,\u001b[0m \u001b[0mverbose\u001b[0m\u001b[1;33m,\u001b[0m \u001b[1;32mNone\u001b[0m\u001b[1;33m,\u001b[0m\u001b[1;33m\u001b[0m\u001b[1;33m\u001b[0m\u001b[0m\n",
      "\u001b[1;32m~\\anaconda3\\lib\\site-packages\\joblib\\parallel.py\u001b[0m in \u001b[0;36m__call__\u001b[1;34m(self, iterable)\u001b[0m\n\u001b[0;32m   1041\u001b[0m             \u001b[1;31m# remaining jobs.\u001b[0m\u001b[1;33m\u001b[0m\u001b[1;33m\u001b[0m\u001b[0m\n\u001b[0;32m   1042\u001b[0m             \u001b[0mself\u001b[0m\u001b[1;33m.\u001b[0m\u001b[0m_iterating\u001b[0m \u001b[1;33m=\u001b[0m \u001b[1;32mFalse\u001b[0m\u001b[1;33m\u001b[0m\u001b[1;33m\u001b[0m\u001b[0m\n\u001b[1;32m-> 1043\u001b[1;33m             \u001b[1;32mif\u001b[0m \u001b[0mself\u001b[0m\u001b[1;33m.\u001b[0m\u001b[0mdispatch_one_batch\u001b[0m\u001b[1;33m(\u001b[0m\u001b[0miterator\u001b[0m\u001b[1;33m)\u001b[0m\u001b[1;33m:\u001b[0m\u001b[1;33m\u001b[0m\u001b[1;33m\u001b[0m\u001b[0m\n\u001b[0m\u001b[0;32m   1044\u001b[0m                 \u001b[0mself\u001b[0m\u001b[1;33m.\u001b[0m\u001b[0m_iterating\u001b[0m \u001b[1;33m=\u001b[0m \u001b[0mself\u001b[0m\u001b[1;33m.\u001b[0m\u001b[0m_original_iterator\u001b[0m \u001b[1;32mis\u001b[0m \u001b[1;32mnot\u001b[0m \u001b[1;32mNone\u001b[0m\u001b[1;33m\u001b[0m\u001b[1;33m\u001b[0m\u001b[0m\n\u001b[0;32m   1045\u001b[0m \u001b[1;33m\u001b[0m\u001b[0m\n",
      "\u001b[1;32m~\\anaconda3\\lib\\site-packages\\joblib\\parallel.py\u001b[0m in \u001b[0;36mdispatch_one_batch\u001b[1;34m(self, iterator)\u001b[0m\n\u001b[0;32m    859\u001b[0m                 \u001b[1;32mreturn\u001b[0m \u001b[1;32mFalse\u001b[0m\u001b[1;33m\u001b[0m\u001b[1;33m\u001b[0m\u001b[0m\n\u001b[0;32m    860\u001b[0m             \u001b[1;32melse\u001b[0m\u001b[1;33m:\u001b[0m\u001b[1;33m\u001b[0m\u001b[1;33m\u001b[0m\u001b[0m\n\u001b[1;32m--> 861\u001b[1;33m                 \u001b[0mself\u001b[0m\u001b[1;33m.\u001b[0m\u001b[0m_dispatch\u001b[0m\u001b[1;33m(\u001b[0m\u001b[0mtasks\u001b[0m\u001b[1;33m)\u001b[0m\u001b[1;33m\u001b[0m\u001b[1;33m\u001b[0m\u001b[0m\n\u001b[0m\u001b[0;32m    862\u001b[0m                 \u001b[1;32mreturn\u001b[0m \u001b[1;32mTrue\u001b[0m\u001b[1;33m\u001b[0m\u001b[1;33m\u001b[0m\u001b[0m\n\u001b[0;32m    863\u001b[0m \u001b[1;33m\u001b[0m\u001b[0m\n",
      "\u001b[1;32m~\\anaconda3\\lib\\site-packages\\joblib\\parallel.py\u001b[0m in \u001b[0;36m_dispatch\u001b[1;34m(self, batch)\u001b[0m\n\u001b[0;32m    777\u001b[0m         \u001b[1;32mwith\u001b[0m \u001b[0mself\u001b[0m\u001b[1;33m.\u001b[0m\u001b[0m_lock\u001b[0m\u001b[1;33m:\u001b[0m\u001b[1;33m\u001b[0m\u001b[1;33m\u001b[0m\u001b[0m\n\u001b[0;32m    778\u001b[0m             \u001b[0mjob_idx\u001b[0m \u001b[1;33m=\u001b[0m \u001b[0mlen\u001b[0m\u001b[1;33m(\u001b[0m\u001b[0mself\u001b[0m\u001b[1;33m.\u001b[0m\u001b[0m_jobs\u001b[0m\u001b[1;33m)\u001b[0m\u001b[1;33m\u001b[0m\u001b[1;33m\u001b[0m\u001b[0m\n\u001b[1;32m--> 779\u001b[1;33m             \u001b[0mjob\u001b[0m \u001b[1;33m=\u001b[0m \u001b[0mself\u001b[0m\u001b[1;33m.\u001b[0m\u001b[0m_backend\u001b[0m\u001b[1;33m.\u001b[0m\u001b[0mapply_async\u001b[0m\u001b[1;33m(\u001b[0m\u001b[0mbatch\u001b[0m\u001b[1;33m,\u001b[0m \u001b[0mcallback\u001b[0m\u001b[1;33m=\u001b[0m\u001b[0mcb\u001b[0m\u001b[1;33m)\u001b[0m\u001b[1;33m\u001b[0m\u001b[1;33m\u001b[0m\u001b[0m\n\u001b[0m\u001b[0;32m    780\u001b[0m             \u001b[1;31m# A job can complete so quickly than its callback is\u001b[0m\u001b[1;33m\u001b[0m\u001b[1;33m\u001b[0m\u001b[0m\n\u001b[0;32m    781\u001b[0m             \u001b[1;31m# called before we get here, causing self._jobs to\u001b[0m\u001b[1;33m\u001b[0m\u001b[1;33m\u001b[0m\u001b[0m\n",
      "\u001b[1;32m~\\anaconda3\\lib\\site-packages\\joblib\\_parallel_backends.py\u001b[0m in \u001b[0;36mapply_async\u001b[1;34m(self, func, callback)\u001b[0m\n\u001b[0;32m    206\u001b[0m     \u001b[1;32mdef\u001b[0m \u001b[0mapply_async\u001b[0m\u001b[1;33m(\u001b[0m\u001b[0mself\u001b[0m\u001b[1;33m,\u001b[0m \u001b[0mfunc\u001b[0m\u001b[1;33m,\u001b[0m \u001b[0mcallback\u001b[0m\u001b[1;33m=\u001b[0m\u001b[1;32mNone\u001b[0m\u001b[1;33m)\u001b[0m\u001b[1;33m:\u001b[0m\u001b[1;33m\u001b[0m\u001b[1;33m\u001b[0m\u001b[0m\n\u001b[0;32m    207\u001b[0m         \u001b[1;34m\"\"\"Schedule a func to be run\"\"\"\u001b[0m\u001b[1;33m\u001b[0m\u001b[1;33m\u001b[0m\u001b[0m\n\u001b[1;32m--> 208\u001b[1;33m         \u001b[0mresult\u001b[0m \u001b[1;33m=\u001b[0m \u001b[0mImmediateResult\u001b[0m\u001b[1;33m(\u001b[0m\u001b[0mfunc\u001b[0m\u001b[1;33m)\u001b[0m\u001b[1;33m\u001b[0m\u001b[1;33m\u001b[0m\u001b[0m\n\u001b[0m\u001b[0;32m    209\u001b[0m         \u001b[1;32mif\u001b[0m \u001b[0mcallback\u001b[0m\u001b[1;33m:\u001b[0m\u001b[1;33m\u001b[0m\u001b[1;33m\u001b[0m\u001b[0m\n\u001b[0;32m    210\u001b[0m             \u001b[0mcallback\u001b[0m\u001b[1;33m(\u001b[0m\u001b[0mresult\u001b[0m\u001b[1;33m)\u001b[0m\u001b[1;33m\u001b[0m\u001b[1;33m\u001b[0m\u001b[0m\n",
      "\u001b[1;32m~\\anaconda3\\lib\\site-packages\\joblib\\_parallel_backends.py\u001b[0m in \u001b[0;36m__init__\u001b[1;34m(self, batch)\u001b[0m\n\u001b[0;32m    570\u001b[0m         \u001b[1;31m# Don't delay the application, to avoid keeping the input\u001b[0m\u001b[1;33m\u001b[0m\u001b[1;33m\u001b[0m\u001b[0m\n\u001b[0;32m    571\u001b[0m         \u001b[1;31m# arguments in memory\u001b[0m\u001b[1;33m\u001b[0m\u001b[1;33m\u001b[0m\u001b[0m\n\u001b[1;32m--> 572\u001b[1;33m         \u001b[0mself\u001b[0m\u001b[1;33m.\u001b[0m\u001b[0mresults\u001b[0m \u001b[1;33m=\u001b[0m \u001b[0mbatch\u001b[0m\u001b[1;33m(\u001b[0m\u001b[1;33m)\u001b[0m\u001b[1;33m\u001b[0m\u001b[1;33m\u001b[0m\u001b[0m\n\u001b[0m\u001b[0;32m    573\u001b[0m \u001b[1;33m\u001b[0m\u001b[0m\n\u001b[0;32m    574\u001b[0m     \u001b[1;32mdef\u001b[0m \u001b[0mget\u001b[0m\u001b[1;33m(\u001b[0m\u001b[0mself\u001b[0m\u001b[1;33m)\u001b[0m\u001b[1;33m:\u001b[0m\u001b[1;33m\u001b[0m\u001b[1;33m\u001b[0m\u001b[0m\n",
      "\u001b[1;32m~\\anaconda3\\lib\\site-packages\\joblib\\parallel.py\u001b[0m in \u001b[0;36m__call__\u001b[1;34m(self)\u001b[0m\n\u001b[0;32m    260\u001b[0m         \u001b[1;31m# change the default number of processes to -1\u001b[0m\u001b[1;33m\u001b[0m\u001b[1;33m\u001b[0m\u001b[0m\n\u001b[0;32m    261\u001b[0m         \u001b[1;32mwith\u001b[0m \u001b[0mparallel_backend\u001b[0m\u001b[1;33m(\u001b[0m\u001b[0mself\u001b[0m\u001b[1;33m.\u001b[0m\u001b[0m_backend\u001b[0m\u001b[1;33m,\u001b[0m \u001b[0mn_jobs\u001b[0m\u001b[1;33m=\u001b[0m\u001b[0mself\u001b[0m\u001b[1;33m.\u001b[0m\u001b[0m_n_jobs\u001b[0m\u001b[1;33m)\u001b[0m\u001b[1;33m:\u001b[0m\u001b[1;33m\u001b[0m\u001b[1;33m\u001b[0m\u001b[0m\n\u001b[1;32m--> 262\u001b[1;33m             return [func(*args, **kwargs)\n\u001b[0m\u001b[0;32m    263\u001b[0m                     for func, args, kwargs in self.items]\n\u001b[0;32m    264\u001b[0m \u001b[1;33m\u001b[0m\u001b[0m\n",
      "\u001b[1;32m~\\anaconda3\\lib\\site-packages\\joblib\\parallel.py\u001b[0m in \u001b[0;36m<listcomp>\u001b[1;34m(.0)\u001b[0m\n\u001b[0;32m    260\u001b[0m         \u001b[1;31m# change the default number of processes to -1\u001b[0m\u001b[1;33m\u001b[0m\u001b[1;33m\u001b[0m\u001b[0m\n\u001b[0;32m    261\u001b[0m         \u001b[1;32mwith\u001b[0m \u001b[0mparallel_backend\u001b[0m\u001b[1;33m(\u001b[0m\u001b[0mself\u001b[0m\u001b[1;33m.\u001b[0m\u001b[0m_backend\u001b[0m\u001b[1;33m,\u001b[0m \u001b[0mn_jobs\u001b[0m\u001b[1;33m=\u001b[0m\u001b[0mself\u001b[0m\u001b[1;33m.\u001b[0m\u001b[0m_n_jobs\u001b[0m\u001b[1;33m)\u001b[0m\u001b[1;33m:\u001b[0m\u001b[1;33m\u001b[0m\u001b[1;33m\u001b[0m\u001b[0m\n\u001b[1;32m--> 262\u001b[1;33m             return [func(*args, **kwargs)\n\u001b[0m\u001b[0;32m    263\u001b[0m                     for func, args, kwargs in self.items]\n\u001b[0;32m    264\u001b[0m \u001b[1;33m\u001b[0m\u001b[0m\n",
      "\u001b[1;32m~\\anaconda3\\lib\\site-packages\\sklearn\\utils\\fixes.py\u001b[0m in \u001b[0;36m__call__\u001b[1;34m(self, *args, **kwargs)\u001b[0m\n\u001b[0;32m    220\u001b[0m     \u001b[1;32mdef\u001b[0m \u001b[0m__call__\u001b[0m\u001b[1;33m(\u001b[0m\u001b[0mself\u001b[0m\u001b[1;33m,\u001b[0m \u001b[1;33m*\u001b[0m\u001b[0margs\u001b[0m\u001b[1;33m,\u001b[0m \u001b[1;33m**\u001b[0m\u001b[0mkwargs\u001b[0m\u001b[1;33m)\u001b[0m\u001b[1;33m:\u001b[0m\u001b[1;33m\u001b[0m\u001b[1;33m\u001b[0m\u001b[0m\n\u001b[0;32m    221\u001b[0m         \u001b[1;32mwith\u001b[0m \u001b[0mconfig_context\u001b[0m\u001b[1;33m(\u001b[0m\u001b[1;33m**\u001b[0m\u001b[0mself\u001b[0m\u001b[1;33m.\u001b[0m\u001b[0mconfig\u001b[0m\u001b[1;33m)\u001b[0m\u001b[1;33m:\u001b[0m\u001b[1;33m\u001b[0m\u001b[1;33m\u001b[0m\u001b[0m\n\u001b[1;32m--> 222\u001b[1;33m             \u001b[1;32mreturn\u001b[0m \u001b[0mself\u001b[0m\u001b[1;33m.\u001b[0m\u001b[0mfunction\u001b[0m\u001b[1;33m(\u001b[0m\u001b[1;33m*\u001b[0m\u001b[0margs\u001b[0m\u001b[1;33m,\u001b[0m \u001b[1;33m**\u001b[0m\u001b[0mkwargs\u001b[0m\u001b[1;33m)\u001b[0m\u001b[1;33m\u001b[0m\u001b[1;33m\u001b[0m\u001b[0m\n\u001b[0m",
      "\u001b[1;32m~\\anaconda3\\lib\\site-packages\\sklearn\\model_selection\\_validation.py\u001b[0m in \u001b[0;36m_fit_and_score\u001b[1;34m(estimator, X, y, scorer, train, test, verbose, parameters, fit_params, return_train_score, return_parameters, return_n_test_samples, return_times, return_estimator, split_progress, candidate_progress, error_score)\u001b[0m\n\u001b[0;32m    596\u001b[0m             \u001b[0mestimator\u001b[0m\u001b[1;33m.\u001b[0m\u001b[0mfit\u001b[0m\u001b[1;33m(\u001b[0m\u001b[0mX_train\u001b[0m\u001b[1;33m,\u001b[0m \u001b[1;33m**\u001b[0m\u001b[0mfit_params\u001b[0m\u001b[1;33m)\u001b[0m\u001b[1;33m\u001b[0m\u001b[1;33m\u001b[0m\u001b[0m\n\u001b[0;32m    597\u001b[0m         \u001b[1;32melse\u001b[0m\u001b[1;33m:\u001b[0m\u001b[1;33m\u001b[0m\u001b[1;33m\u001b[0m\u001b[0m\n\u001b[1;32m--> 598\u001b[1;33m             \u001b[0mestimator\u001b[0m\u001b[1;33m.\u001b[0m\u001b[0mfit\u001b[0m\u001b[1;33m(\u001b[0m\u001b[0mX_train\u001b[0m\u001b[1;33m,\u001b[0m \u001b[0my_train\u001b[0m\u001b[1;33m,\u001b[0m \u001b[1;33m**\u001b[0m\u001b[0mfit_params\u001b[0m\u001b[1;33m)\u001b[0m\u001b[1;33m\u001b[0m\u001b[1;33m\u001b[0m\u001b[0m\n\u001b[0m\u001b[0;32m    599\u001b[0m \u001b[1;33m\u001b[0m\u001b[0m\n\u001b[0;32m    600\u001b[0m     \u001b[1;32mexcept\u001b[0m \u001b[0mException\u001b[0m \u001b[1;32mas\u001b[0m \u001b[0me\u001b[0m\u001b[1;33m:\u001b[0m\u001b[1;33m\u001b[0m\u001b[1;33m\u001b[0m\u001b[0m\n",
      "\u001b[1;32m~\\anaconda3\\lib\\site-packages\\sklearn\\tree\\_classes.py\u001b[0m in \u001b[0;36mfit\u001b[1;34m(self, X, y, sample_weight, check_input, X_idx_sorted)\u001b[0m\n\u001b[0;32m    901\u001b[0m         \"\"\"\n\u001b[0;32m    902\u001b[0m \u001b[1;33m\u001b[0m\u001b[0m\n\u001b[1;32m--> 903\u001b[1;33m         super().fit(\n\u001b[0m\u001b[0;32m    904\u001b[0m             \u001b[0mX\u001b[0m\u001b[1;33m,\u001b[0m \u001b[0my\u001b[0m\u001b[1;33m,\u001b[0m\u001b[1;33m\u001b[0m\u001b[1;33m\u001b[0m\u001b[0m\n\u001b[0;32m    905\u001b[0m             \u001b[0msample_weight\u001b[0m\u001b[1;33m=\u001b[0m\u001b[0msample_weight\u001b[0m\u001b[1;33m,\u001b[0m\u001b[1;33m\u001b[0m\u001b[1;33m\u001b[0m\u001b[0m\n",
      "\u001b[1;32m~\\anaconda3\\lib\\site-packages\\sklearn\\tree\\_classes.py\u001b[0m in \u001b[0;36mfit\u001b[1;34m(self, X, y, sample_weight, check_input, X_idx_sorted)\u001b[0m\n\u001b[0;32m    392\u001b[0m                                            min_impurity_split)\n\u001b[0;32m    393\u001b[0m \u001b[1;33m\u001b[0m\u001b[0m\n\u001b[1;32m--> 394\u001b[1;33m         \u001b[0mbuilder\u001b[0m\u001b[1;33m.\u001b[0m\u001b[0mbuild\u001b[0m\u001b[1;33m(\u001b[0m\u001b[0mself\u001b[0m\u001b[1;33m.\u001b[0m\u001b[0mtree_\u001b[0m\u001b[1;33m,\u001b[0m \u001b[0mX\u001b[0m\u001b[1;33m,\u001b[0m \u001b[0my\u001b[0m\u001b[1;33m,\u001b[0m \u001b[0msample_weight\u001b[0m\u001b[1;33m)\u001b[0m\u001b[1;33m\u001b[0m\u001b[1;33m\u001b[0m\u001b[0m\n\u001b[0m\u001b[0;32m    395\u001b[0m \u001b[1;33m\u001b[0m\u001b[0m\n\u001b[0;32m    396\u001b[0m         \u001b[1;32mif\u001b[0m \u001b[0mself\u001b[0m\u001b[1;33m.\u001b[0m\u001b[0mn_outputs_\u001b[0m \u001b[1;33m==\u001b[0m \u001b[1;36m1\u001b[0m \u001b[1;32mand\u001b[0m \u001b[0mis_classifier\u001b[0m\u001b[1;33m(\u001b[0m\u001b[0mself\u001b[0m\u001b[1;33m)\u001b[0m\u001b[1;33m:\u001b[0m\u001b[1;33m\u001b[0m\u001b[1;33m\u001b[0m\u001b[0m\n",
      "\u001b[1;31mKeyboardInterrupt\u001b[0m: "
     ]
    }
   ],
   "source": [
    "seed = 42\n",
    "models = []\n",
    "models.append(('LR', LogisticRegression(solver='sag')))\n",
    "models.append(('RF', RandomForestClassifier()))\n",
    "models.append(('KNN', KNeighborsClassifier()))\n",
    "models.append(('CART', DecisionTreeClassifier()))\n",
    "#models.append(('NB', GaussianNB()))\n",
    "\n",
    "\n",
    "#Evaluate each model\n",
    "results = []\n",
    "names = []\n",
    "scoring = 'accuracy'\n",
    "\n",
    "for name, model in models:\n",
    "    kfold = model_selection.KFold(n_splits = 10, random_state = seed , shuffle=True)\n",
    "    cv_results = model_selection.cross_val_score(model,X_train , y_train.ravel(), cv=kfold, scoring=scoring)\n",
    "    model.fit(X_train, y_train)\n",
    "    Y_pred = model.predict(X_val)\n",
    "    \n",
    "    results.append(cv_results)\n",
    "    names.append(name)\n",
    "    print('Model Name: ' , name)\n",
    "    print('Cross value mean: ' , cv_results.mean())\n",
    "    print('Cross value Standard Deviation: ', cv_results.std())\n",
    "    print('\\nClassification Report')\n",
    "    print(classification_report(y_val, Y_pred))\n",
    "    print('=================================================================\\n')\n",
    "    \n",
    "    \n"
   ]
  },
  {
   "cell_type": "code",
   "execution_count": null,
   "id": "cfb0f7cd",
   "metadata": {},
   "outputs": [],
   "source": []
  },
  {
   "cell_type": "markdown",
   "id": "5ea9d340",
   "metadata": {},
   "source": [
    "### Fit the Random Forest Model"
   ]
  },
  {
   "cell_type": "code",
   "execution_count": 101,
   "id": "188a5117",
   "metadata": {},
   "outputs": [
    {
     "data": {
      "text/plain": [
       "RandomForestClassifier(random_state=42)"
      ]
     },
     "execution_count": 101,
     "metadata": {},
     "output_type": "execute_result"
    }
   ],
   "source": [
    "model = RandomForestClassifier(random_state=42)\n",
    "model.fit(X_train , y_train )"
   ]
  },
  {
   "cell_type": "markdown",
   "id": "73947f9e",
   "metadata": {},
   "source": [
    "### Evaluate model using validation set"
   ]
  },
  {
   "cell_type": "code",
   "execution_count": 102,
   "id": "9b1cffd0",
   "metadata": {},
   "outputs": [
    {
     "name": "stdout",
     "output_type": "stream",
     "text": [
      "Accuracy =  0.8976094259701056\n",
      "[[17170   398]\n",
      " [ 1705  1266]]\n"
     ]
    },
    {
     "name": "stderr",
     "output_type": "stream",
     "text": [
      "C:\\Users\\pc\\anaconda3\\lib\\site-packages\\sklearn\\utils\\validation.py:70: FutureWarning: Pass display_labels=[0 1] as keyword args. From version 1.0 (renaming of 0.25) passing these as positional arguments will result in an error\n",
      "  warnings.warn(f\"Pass {args_msg} as keyword args. From version \"\n"
     ]
    },
    {
     "name": "stdout",
     "output_type": "stream",
     "text": [
      "              precision    recall  f1-score   support\n",
      "\n",
      "    nonmatch       0.91      0.98      0.94     17568\n",
      "       match       0.76      0.43      0.55      2971\n",
      "\n",
      "    accuracy                           0.90     20539\n",
      "   macro avg       0.84      0.70      0.74     20539\n",
      "weighted avg       0.89      0.90      0.89     20539\n",
      "\n",
      "ROC Score: 0.7017\n"
     ]
    },
    {
     "data": {
      "image/png": "[encoded data removed]",
      "text/plain": [
       "<Figure size 432x288 with 2 Axes>"
      ]
     },
     "metadata": {
      "needs_background": "light"
     },
     "output_type": "display_data"
    }
   ],
   "source": [
    "### Evaluate model on validation data\n",
    "y_pred= model.predict(X_val)\n",
    "print(\"Accuracy = \" , metrics.accuracy_score(y_val, y_pred))\n",
    "cm= confusion_matrix(y_val, y_pred)\n",
    "print(cm)\n",
    "ConfusionMatrixDisplay(cm, model.classes_).plot()\n",
    "print(metrics.classification_report(y_val, y_pred, target_names=['nonmatch', 'match']))\n",
    "\n",
    "from sklearn.metrics import roc_auc_score\n",
    "# Calculate the ROC score\n",
    "roc_score = roc_auc_score(y_val, y_pred)\n",
    "\n",
    "# Print the ROC score\n",
    "print(\"ROC Score: {:.4f}\".format(roc_score))"
   ]
  },
  {
   "cell_type": "markdown",
   "id": "9f51ac1e",
   "metadata": {},
   "source": [
    "### Evaluate model on test data"
   ]
  },
  {
   "cell_type": "code",
   "execution_count": 103,
   "id": "4f4c359e",
   "metadata": {},
   "outputs": [
    {
     "name": "stdout",
     "output_type": "stream",
     "text": [
      "Accuracy =  0.7649063032367973\n",
      "[[445   1]\n",
      " [137   4]]\n",
      "              precision    recall  f1-score   support\n",
      "\n",
      "    nonmatch       0.76      1.00      0.87       446\n",
      "       match       0.80      0.03      0.05       141\n",
      "\n",
      "    accuracy                           0.76       587\n",
      "   macro avg       0.78      0.51      0.46       587\n",
      "weighted avg       0.77      0.76      0.67       587\n",
      "\n",
      "ROC Score: 0.5131\n"
     ]
    },
    {
     "name": "stderr",
     "output_type": "stream",
     "text": [
      "C:\\Users\\pc\\anaconda3\\lib\\site-packages\\sklearn\\utils\\validation.py:70: FutureWarning: Pass display_labels=[0 1] as keyword args. From version 1.0 (renaming of 0.25) passing these as positional arguments will result in an error\n",
      "  warnings.warn(f\"Pass {args_msg} as keyword args. From version \"\n"
     ]
    },
    {
     "data": {
      "image/png": "[encoded data removed]",
      "text/plain": [
       "<Figure size 432x288 with 2 Axes>"
      ]
     },
     "metadata": {
      "needs_background": "light"
     },
     "output_type": "display_data"
    }
   ],
   "source": [
    "### Evaluate model on test data\n",
    "y_pred= model.predict(X_test)\n",
    "print(\"Accuracy = \" , metrics.accuracy_score(y_test, y_pred))\n",
    "cm= confusion_matrix(y_test, y_pred)\n",
    "print(cm)\n",
    "ConfusionMatrixDisplay(cm, model.classes_).plot()\n",
    "print(metrics.classification_report(y_test, y_pred, target_names=['nonmatch', 'match']))\n",
    "\n",
    "from sklearn.metrics import roc_auc_score\n",
    "# Calculate the ROC score\n",
    "roc_score = roc_auc_score(y_test, y_pred)\n",
    "\n",
    "# Print the ROC score\n",
    "print(\"ROC Score: {:.4f}\".format(roc_score))\n"
   ]
  },
  {
   "cell_type": "markdown",
   "id": "7312051c",
   "metadata": {},
   "source": [
    "### Evaluate model on gold standard data"
   ]
  },
  {
   "cell_type": "code",
   "execution_count": 104,
   "id": "ecf868ca",
   "metadata": {},
   "outputs": [
    {
     "name": "stdout",
     "output_type": "stream",
     "text": [
      "Accuracy =  0.7892376681614349\n",
      "[[347   3]\n",
      " [ 91   5]]\n",
      "              precision    recall  f1-score   support\n",
      "\n",
      "    nonmatch       0.79      0.99      0.88       350\n",
      "       match       0.62      0.05      0.10        96\n",
      "\n",
      "    accuracy                           0.79       446\n",
      "   macro avg       0.71      0.52      0.49       446\n",
      "weighted avg       0.76      0.79      0.71       446\n",
      "\n",
      "ROC Score: 0.5218\n"
     ]
    },
    {
     "name": "stderr",
     "output_type": "stream",
     "text": [
      "C:\\Users\\pc\\anaconda3\\lib\\site-packages\\sklearn\\utils\\validation.py:70: FutureWarning: Pass display_labels=[0 1] as keyword args. From version 1.0 (renaming of 0.25) passing these as positional arguments will result in an error\n",
      "  warnings.warn(f\"Pass {args_msg} as keyword args. From version \"\n"
     ]
    },
    {
     "data": {
      "image/png": "[encoded data removed]",
      "text/plain": [
       "<Figure size 432x288 with 2 Axes>"
      ]
     },
     "metadata": {
      "needs_background": "light"
     },
     "output_type": "display_data"
    }
   ],
   "source": [
    "### Evaluate model on gold standard data\n",
    "y_gs_pred= model.predict(X_gs)\n",
    "print(\"Accuracy = \" , metrics.accuracy_score(y_gs, y_gs_pred))\n",
    "cm= confusion_matrix(y_gs, y_gs_pred)\n",
    "print(cm)\n",
    "ConfusionMatrixDisplay(cm, model.classes_).plot()\n",
    "print(metrics.classification_report(y_gs, y_gs_pred, target_names=['nonmatch', 'match']))\n",
    "\n",
    "from sklearn.metrics import roc_auc_score\n",
    "# Calculate the ROC score\n",
    "roc_score = roc_auc_score(y_gs, y_gs_pred)\n",
    "\n",
    "# Print the ROC score\n",
    "print(\"ROC Score: {:.4f}\".format(roc_score))"
   ]
  },
  {
   "cell_type": "markdown",
   "id": "cbfc2b13",
   "metadata": {},
   "source": [
    "## EXPERIMENT FOUR"
   ]
  },
  {
   "cell_type": "markdown",
   "id": "38a7aa39",
   "metadata": {},
   "source": [
    "## Working with COLUMNS WITH less than 20,000 missing values and brand"
   ]
  },
  {
   "cell_type": "markdown",
   "id": "251f4c7e",
   "metadata": {},
   "source": [
    "#### Recall the (train & validation) data above"
   ]
  },
  {
   "cell_type": "code",
   "execution_count": null,
   "id": "cfa6832c",
   "metadata": {},
   "outputs": [],
   "source": [
    "print(\"Are there any null values?\")\n",
    "print(data.isnull().values.any() , \"\\n\")\n",
    "#Find out how many - This gives you the breakdown per column\n",
    "print('How many null values are in each column?'),\n",
    "print(data.isnull().sum(), \"\\n\")\n",
    "#Get total overall null values\n",
    "print('How many null values are in the data in total?')\n",
    "print(data.isnull().sum().sum())"
   ]
  },
  {
   "cell_type": "markdown",
   "id": "efc261d9",
   "metadata": {},
   "source": [
    "- The columns that satisfy our condition of using columns with less than 20,000 null values are:\n",
    "- id_left , title_left , description_left , category_left, , cluster_id_left , id_right , title_right, description_right, category_right , and cluster_id_right. I will also exclude pair_id because it is a combination of id_left and id_right.\n",
    "- this means that I will be using the ten features listed above.\n"
   ]
  },
  {
   "cell_type": "markdown",
   "id": "54c0c860",
   "metadata": {},
   "source": [
    "### Drop the excluded columns , null values and merge the remaining features into one column"
   ]
  },
  {
   "cell_type": "code",
   "execution_count": 143,
   "id": "736432c4",
   "metadata": {},
   "outputs": [
    {
     "name": "stderr",
     "output_type": "stream",
     "text": [
      "C:\\Users\\pc\\AppData\\Local\\Temp/ipykernel_4272/4237739595.py:13: FutureWarning: In a future version of pandas all arguments of DataFrame.drop except for the argument 'labels' will be keyword-only\n",
      "  data3.drop(data3.columns.difference(['product_feature','label']), 1, inplace=True)\n",
      "C:\\Users\\pc\\AppData\\Local\\Temp/ipykernel_4272/4237739595.py:16: FutureWarning: In a future version of pandas all arguments of DataFrame.drop except for the argument 'labels' will be keyword-only\n",
      "  test_set3.drop(test_set3.columns.difference(['product_feature','label']), 1, inplace=True)\n",
      "C:\\Users\\pc\\AppData\\Local\\Temp/ipykernel_4272/4237739595.py:19: FutureWarning: In a future version of pandas all arguments of DataFrame.drop except for the argument 'labels' will be keyword-only\n",
      "  data_gs3.drop(data_gs3.columns.difference(['product_feature','label']), 1, inplace=True)\n"
     ]
    }
   ],
   "source": [
    "# Drop excluded columns\n",
    "data3 = data.drop(['specTableContent_left' , 'specTableContent_right' , 'keyValuePairs_left' , 'keyValuePairs_right' , 'price_left' , 'price_right','description_left' , 'description_right', 'pair_id'] , axis=1)\n",
    "test_set3= test_set.drop(['specTableContent_left' , 'specTableContent_right' , 'keyValuePairs_left' , 'keyValuePairs_right' , 'price_left' , 'price_right','description_left' , 'description_right', 'pair_id'] , axis=1)\n",
    "data_gs3= data_gs.drop(['specTableContent_left' , 'specTableContent_right' , 'keyValuePairs_left' , 'keyValuePairs_right' , 'price_left' , 'price_right','description_left' , 'description_right', 'pair_id'] , axis=1)\n",
    "\n",
    "# Drop null values\n",
    "data3=data3.dropna()\n",
    "test_set3= test_set3.dropna()\n",
    "data_gs3 =data_gs3.dropna()\n",
    "\n",
    "\n",
    "data3['product_feature'] = str(data3['id_left']) + \" \" + data3['title_left'] + \"\" +data3['brand_left'] + \" \" + data3['category_left'] + \" \" + str(data3['cluster_id_left']) + \" \" + str(data3['id_right']) + \" \" + data3['title_right'] +  data3['brand_right'] + \" \" + data3['category_right'] +\" \" + str(data3['cluster_id_right'])\n",
    "data3.drop(data3.columns.difference(['product_feature','label']), 1, inplace=True)\n",
    "\n",
    "test_set3['product_feature'] = str(test_set3['id_left']) + \" \" + test_set3['title_left'] + \"\" + str(test_set3['brand_left']) + \" \" + test_set3['category_left'] + \" \" + str(test_set3['cluster_id_left']) + \" \" + str(test_set3['id_right']) + \" \" + test_set3['title_right'] +  test_set3['brand_right'] + \" \" + test_set3['category_right'] +\" \" + str(test_set3['cluster_id_right'])\n",
    "test_set3.drop(test_set3.columns.difference(['product_feature','label']), 1, inplace=True)\n",
    "\n",
    "data_gs3['product_feature'] = str(data_gs3['id_left']) + \" \" + data_gs3['title_left'] + \"\" + str(data_gs3['brand_left']) + \" \" + data_gs3['category_left'] + \" \" + str(data_gs3['cluster_id_left']) + \" \" + str(data_gs3['id_right']) + \" \" + data_gs3['title_right'] +  data_gs3['brand_right'] + \" \" + data_gs3['category_right'] +\" \" + str(data_gs3['cluster_id_right'])\n",
    "data_gs3.drop(data_gs3.columns.difference(['product_feature','label']), 1, inplace=True)\n"
   ]
  },
  {
   "cell_type": "code",
   "execution_count": 144,
   "id": "e52ba7ca",
   "metadata": {},
   "outputs": [
    {
     "data": {
      "text/plain": [
       "(21559, 2)"
      ]
     },
     "execution_count": 144,
     "metadata": {},
     "output_type": "execute_result"
    }
   ],
   "source": [
    "data3.shape"
   ]
  },
  {
   "cell_type": "markdown",
   "id": "430e4544",
   "metadata": {},
   "source": [
    "## Remove punctuations from features"
   ]
  },
  {
   "cell_type": "code",
   "execution_count": 145,
   "id": "a1a7c652",
   "metadata": {},
   "outputs": [],
   "source": [
    "data3['product_feature'] = data3['product_feature'].apply(lambda x:remove_punctuation(x))\n",
    "test_set3['product_feature'] = test_set3['product_feature'].apply(lambda x:remove_punctuation(x))\n",
    "data_gs3['product_feature'] = data_gs3['product_feature'].apply(lambda x:remove_punctuation(x))"
   ]
  },
  {
   "cell_type": "markdown",
   "id": "1f625254",
   "metadata": {},
   "source": [
    "#### Passing in the text into vectorizer"
   ]
  },
  {
   "cell_type": "code",
   "execution_count": 146,
   "id": "95d74bd8",
   "metadata": {},
   "outputs": [
    {
     "name": "stdout",
     "output_type": "stream",
     "text": [
      "inputs shape: (21559, 1000)\n",
      "test_inputs shape: (666, 1000)\n",
      "gs_inputs shape: (501, 1000)\n"
     ]
    }
   ],
   "source": [
    "inputs= vectorizer.transform(data3.product_feature)\n",
    "print('inputs shape:' ,inputs.shape)\n",
    "\n",
    "test_inputs= vectorizer.transform(test_set3.product_feature)\n",
    "print('test_inputs shape:',test_inputs.shape)\n",
    "\n",
    "gs_inputs= vectorizer.transform(data_gs3.product_feature)\n",
    "print('gs_inputs shape:',gs_inputs.shape)"
   ]
  },
  {
   "cell_type": "markdown",
   "id": "97a3d136",
   "metadata": {},
   "source": [
    "### Splitting data into train and validation , test and gold standard into features and labels"
   ]
  },
  {
   "cell_type": "code",
   "execution_count": 147,
   "id": "d61f8edc",
   "metadata": {},
   "outputs": [],
   "source": [
    "X_train , X_val , y_train , y_val = train_test_split(inputs , data3.label , test_size= 0.3 , random_state=42)\n",
    "\n",
    "X_test=test_inputs \n",
    "y_test = test_set3.label\n",
    "\n",
    "X_gs =gs_inputs\n",
    "y_gs= data_gs3.label"
   ]
  },
  {
   "cell_type": "markdown",
   "id": "1e9bac29",
   "metadata": {},
   "source": [
    "#### Initial Accuracy Test for Potential Models using K fold Evaluation"
   ]
  },
  {
   "cell_type": "code",
   "execution_count": 110,
   "id": "d043606b",
   "metadata": {},
   "outputs": [
    {
     "name": "stderr",
     "output_type": "stream",
     "text": [
      "C:\\Users\\pc\\anaconda3\\lib\\site-packages\\sklearn\\linear_model\\_logistic.py:763: ConvergenceWarning: lbfgs failed to converge (status=1):\n",
      "STOP: TOTAL NO. of ITERATIONS REACHED LIMIT.\n",
      "\n",
      "Increase the number of iterations (max_iter) or scale the data as shown in:\n",
      "    https://scikit-learn.org/stable/modules/preprocessing.html\n",
      "Please also refer to the documentation for alternative solver options:\n",
      "    https://scikit-learn.org/stable/modules/linear_model.html#logistic-regression\n",
      "  n_iter_i = _check_optimize_result(\n",
      "C:\\Users\\pc\\anaconda3\\lib\\site-packages\\sklearn\\linear_model\\_logistic.py:763: ConvergenceWarning: lbfgs failed to converge (status=1):\n",
      "STOP: TOTAL NO. of ITERATIONS REACHED LIMIT.\n",
      "\n",
      "Increase the number of iterations (max_iter) or scale the data as shown in:\n",
      "    https://scikit-learn.org/stable/modules/preprocessing.html\n",
      "Please also refer to the documentation for alternative solver options:\n",
      "    https://scikit-learn.org/stable/modules/linear_model.html#logistic-regression\n",
      "  n_iter_i = _check_optimize_result(\n",
      "C:\\Users\\pc\\anaconda3\\lib\\site-packages\\sklearn\\linear_model\\_logistic.py:763: ConvergenceWarning: lbfgs failed to converge (status=1):\n",
      "STOP: TOTAL NO. of ITERATIONS REACHED LIMIT.\n",
      "\n",
      "Increase the number of iterations (max_iter) or scale the data as shown in:\n",
      "    https://scikit-learn.org/stable/modules/preprocessing.html\n",
      "Please also refer to the documentation for alternative solver options:\n",
      "    https://scikit-learn.org/stable/modules/linear_model.html#logistic-regression\n",
      "  n_iter_i = _check_optimize_result(\n"
     ]
    },
    {
     "name": "stdout",
     "output_type": "stream",
     "text": [
      "Model Name:  LR\n",
      "Cross value mean:  0.8619708679490387\n",
      "Cross value Standard Deviation:  0.0077199287705521456\n",
      "\n",
      "Classification Report\n",
      "              precision    recall  f1-score   support\n",
      "\n",
      "           0       0.86      1.00      0.93      5482\n",
      "           1       0.87      0.12      0.22       986\n",
      "\n",
      "    accuracy                           0.86      6468\n",
      "   macro avg       0.86      0.56      0.57      6468\n",
      "weighted avg       0.86      0.86      0.82      6468\n",
      "\n",
      "=================================================================\n",
      "\n",
      "Model Name:  RF\n",
      "Cross value mean:  0.905307580565174\n",
      "Cross value Standard Deviation:  0.006512609945920104\n",
      "\n",
      "Classification Report\n",
      "              precision    recall  f1-score   support\n",
      "\n",
      "           0       0.93      0.97      0.95      5482\n",
      "           1       0.80      0.56      0.66       986\n",
      "\n",
      "    accuracy                           0.91      6468\n",
      "   macro avg       0.86      0.77      0.80      6468\n",
      "weighted avg       0.91      0.91      0.91      6468\n",
      "\n",
      "=================================================================\n",
      "\n",
      "Model Name:  KNN\n",
      "Cross value mean:  0.9006030044896185\n",
      "Cross value Standard Deviation:  0.004610387462649939\n",
      "\n",
      "Classification Report\n",
      "              precision    recall  f1-score   support\n",
      "\n",
      "           0       0.93      0.96      0.94      5482\n",
      "           1       0.71      0.59      0.65       986\n",
      "\n",
      "    accuracy                           0.90      6468\n",
      "   macro avg       0.82      0.78      0.79      6468\n",
      "weighted avg       0.90      0.90      0.90      6468\n",
      "\n",
      "=================================================================\n",
      "\n",
      "Model Name:  CART\n",
      "Cross value mean:  0.8892710843109116\n",
      "Cross value Standard Deviation:  0.007087843413298843\n",
      "\n",
      "Classification Report\n",
      "              precision    recall  f1-score   support\n",
      "\n",
      "           0       0.93      0.94      0.94      5482\n",
      "           1       0.65      0.62      0.63       986\n",
      "\n",
      "    accuracy                           0.89      6468\n",
      "   macro avg       0.79      0.78      0.79      6468\n",
      "weighted avg       0.89      0.89      0.89      6468\n",
      "\n",
      "=================================================================\n",
      "\n"
     ]
    }
   ],
   "source": [
    "seed = 42\n",
    "models = []\n",
    "models.append(('LR', LogisticRegression()))\n",
    "models.append(('RF', RandomForestClassifier()))\n",
    "models.append(('KNN', KNeighborsClassifier()))\n",
    "models.append(('CART', DecisionTreeClassifier()))\n",
    "#models.append(('NB', GaussianNB()))\n",
    "\n",
    "\n",
    "#Evaluate each model\n",
    "results = []\n",
    "names = []\n",
    "scoring = 'accuracy'\n",
    "\n",
    "for name, model in models:\n",
    "    kfold = model_selection.KFold(n_splits = 10, random_state = seed , shuffle=True)\n",
    "    cv_results = model_selection.cross_val_score(model,X_train , y_train.ravel(), cv=kfold, scoring=scoring)\n",
    "    model.fit(X_train, y_train)\n",
    "    Y_pred = model.predict(X_val)\n",
    "    \n",
    "    results.append(cv_results)\n",
    "    names.append(name)\n",
    "    print('Model Name: ' , name)\n",
    "    print('Cross value mean: ' , cv_results.mean())\n",
    "    print('Cross value Standard Deviation: ', cv_results.std())\n",
    "    print('\\nClassification Report')\n",
    "    print(classification_report(y_val, Y_pred))\n",
    "    print('=================================================================\\n')\n",
    "    \n",
    "    \n"
   ]
  },
  {
   "cell_type": "markdown",
   "id": "8a89c5b0",
   "metadata": {},
   "source": [
    "the model is not better than the first model"
   ]
  },
  {
   "cell_type": "markdown",
   "id": "d1b51306",
   "metadata": {},
   "source": [
    "### Fit the Random Forest Model"
   ]
  },
  {
   "cell_type": "code",
   "execution_count": 148,
   "id": "d591c0a0",
   "metadata": {},
   "outputs": [
    {
     "data": {
      "text/plain": [
       "RandomForestClassifier(random_state=42)"
      ]
     },
     "execution_count": 148,
     "metadata": {},
     "output_type": "execute_result"
    }
   ],
   "source": [
    "### Fit the Random Forest Model\n",
    "\n",
    "model = RandomForestClassifier(random_state=42)\n",
    "model.fit(X_train , y_train )"
   ]
  },
  {
   "cell_type": "markdown",
   "id": "e877b36f",
   "metadata": {},
   "source": [
    "### Evaluate model on validation data"
   ]
  },
  {
   "cell_type": "code",
   "execution_count": 149,
   "id": "09c11204",
   "metadata": {},
   "outputs": [
    {
     "name": "stdout",
     "output_type": "stream",
     "text": [
      "Accuracy =  0.909400123685838\n",
      "[[5333  149]\n",
      " [ 437  549]]\n"
     ]
    },
    {
     "name": "stderr",
     "output_type": "stream",
     "text": [
      "C:\\Users\\pc\\anaconda3\\lib\\site-packages\\sklearn\\utils\\validation.py:70: FutureWarning: Pass display_labels=[0 1] as keyword args. From version 1.0 (renaming of 0.25) passing these as positional arguments will result in an error\n",
      "  warnings.warn(f\"Pass {args_msg} as keyword args. From version \"\n"
     ]
    },
    {
     "name": "stdout",
     "output_type": "stream",
     "text": [
      "              precision    recall  f1-score   support\n",
      "\n",
      "    nonmatch       0.92      0.97      0.95      5482\n",
      "       match       0.79      0.56      0.65       986\n",
      "\n",
      "    accuracy                           0.91      6468\n",
      "   macro avg       0.86      0.76      0.80      6468\n",
      "weighted avg       0.90      0.91      0.90      6468\n",
      "\n",
      "ROC Score: 0.7648\n"
     ]
    },
    {
     "data": {
      "image/png": "[encoded data removed]",
      "text/plain": [
       "<Figure size 432x288 with 2 Axes>"
      ]
     },
     "metadata": {
      "needs_background": "light"
     },
     "output_type": "display_data"
    }
   ],
   "source": [
    "### Evaluate model on validation data\n",
    "y_pred= model.predict(X_val)\n",
    "print(\"Accuracy = \" , metrics.accuracy_score(y_val, y_pred))\n",
    "cm= confusion_matrix(y_val, y_pred)\n",
    "print(cm)\n",
    "ConfusionMatrixDisplay(cm, model.classes_).plot()\n",
    "print(metrics.classification_report(y_val, y_pred, target_names=['nonmatch', 'match']))\n",
    "\n",
    "from sklearn.metrics import roc_auc_score\n",
    "# Calculate the ROC score\n",
    "roc_score = roc_auc_score(y_val, y_pred)\n",
    "\n",
    "# Print the ROC score\n",
    "print(\"ROC Score: {:.4f}\".format(roc_score))\n"
   ]
  },
  {
   "cell_type": "markdown",
   "id": "2b29faf3",
   "metadata": {},
   "source": [
    "## Evaluate model on test data"
   ]
  },
  {
   "cell_type": "code",
   "execution_count": 150,
   "id": "25d959f2",
   "metadata": {},
   "outputs": [
    {
     "name": "stdout",
     "output_type": "stream",
     "text": [
      "Accuracy =  0.7222222222222222\n",
      "[[471   6]\n",
      " [179  10]]\n",
      "              precision    recall  f1-score   support\n",
      "\n",
      "    nonmatch       0.72      0.99      0.84       477\n",
      "       match       0.62      0.05      0.10       189\n",
      "\n",
      "    accuracy                           0.72       666\n",
      "   macro avg       0.67      0.52      0.47       666\n",
      "weighted avg       0.70      0.72      0.63       666\n",
      "\n",
      "ROC Score: 0.5202\n"
     ]
    },
    {
     "name": "stderr",
     "output_type": "stream",
     "text": [
      "C:\\Users\\pc\\anaconda3\\lib\\site-packages\\sklearn\\utils\\validation.py:70: FutureWarning: Pass display_labels=[0 1] as keyword args. From version 1.0 (renaming of 0.25) passing these as positional arguments will result in an error\n",
      "  warnings.warn(f\"Pass {args_msg} as keyword args. From version \"\n"
     ]
    },
    {
     "data": {
      "image/png": "[encoded data removed]",
      "text/plain": [
       "<Figure size 432x288 with 2 Axes>"
      ]
     },
     "metadata": {
      "needs_background": "light"
     },
     "output_type": "display_data"
    }
   ],
   "source": [
    "## Evaluate model on test data\n",
    "y_pred= model.predict(X_test)\n",
    "print(\"Accuracy = \" , metrics.accuracy_score(y_test, y_pred))\n",
    "cm= confusion_matrix(y_test, y_pred)\n",
    "print(cm)\n",
    "ConfusionMatrixDisplay(cm, model.classes_).plot()\n",
    "print(metrics.classification_report(y_test, y_pred, target_names=['nonmatch', 'match']))\n",
    "\n",
    "from sklearn.metrics import roc_auc_score\n",
    "# Calculate the ROC score\n",
    "roc_score = roc_auc_score(y_test, y_pred)\n",
    "\n",
    "# Print the ROC score\n",
    "print(\"ROC Score: {:.4f}\".format(roc_score))"
   ]
  },
  {
   "cell_type": "markdown",
   "id": "dc1b15ac",
   "metadata": {},
   "source": [
    "### Evaluate model on gold standard data"
   ]
  },
  {
   "cell_type": "code",
   "execution_count": 152,
   "id": "de387dac",
   "metadata": {},
   "outputs": [
    {
     "name": "stdout",
     "output_type": "stream",
     "text": [
      "Accuracy =  0.6626746506986028\n",
      "[[290  89]\n",
      " [ 80  42]]\n",
      "              precision    recall  f1-score   support\n",
      "\n",
      "    nonmatch       0.78      0.77      0.77       379\n",
      "       match       0.32      0.34      0.33       122\n",
      "\n",
      "    accuracy                           0.66       501\n",
      "   macro avg       0.55      0.55      0.55       501\n",
      "weighted avg       0.67      0.66      0.67       501\n",
      "\n",
      "ROC Score: 0.5547\n"
     ]
    },
    {
     "name": "stderr",
     "output_type": "stream",
     "text": [
      "C:\\Users\\pc\\anaconda3\\lib\\site-packages\\sklearn\\utils\\validation.py:70: FutureWarning: Pass display_labels=[0 1] as keyword args. From version 1.0 (renaming of 0.25) passing these as positional arguments will result in an error\n",
      "  warnings.warn(f\"Pass {args_msg} as keyword args. From version \"\n"
     ]
    },
    {
     "data": {
      "image/png": "[encoded data removed]",
      "text/plain": [
       "<Figure size 432x288 with 2 Axes>"
      ]
     },
     "metadata": {
      "needs_background": "light"
     },
     "output_type": "display_data"
    }
   ],
   "source": [
    "### Evaluate model on gold standard data\n",
    "y_gs_pred= model.predict(X_gs)\n",
    "print(\"Accuracy = \" , metrics.accuracy_score(y_gs, y_gs_pred))\n",
    "cm= confusion_matrix(y_gs, y_gs_pred)\n",
    "print(cm)\n",
    "ConfusionMatrixDisplay(cm, model.classes_).plot()\n",
    "print(metrics.classification_report(y_gs, y_gs_pred, target_names=['nonmatch', 'match']))\n",
    "\n",
    "from sklearn.metrics import roc_auc_score\n",
    "# Calculate the ROC score\n",
    "roc_score = roc_auc_score(y_gs, y_gs_pred)\n",
    "\n",
    "# Print the ROC score\n",
    "print(\"ROC Score: {:.4f}\".format(roc_score))"
   ]
  },
  {
   "cell_type": "markdown",
   "id": "3cf35319",
   "metadata": {},
   "source": [
    "## EXPERIMENT FIVE"
   ]
  },
  {
   "cell_type": "markdown",
   "id": "869fe6e3",
   "metadata": {},
   "source": [
    "### USING BASIC COLUMNS : id, title and brand only"
   ]
  },
  {
   "cell_type": "code",
   "execution_count": 116,
   "id": "36370863",
   "metadata": {},
   "outputs": [
    {
     "name": "stderr",
     "output_type": "stream",
     "text": [
      "C:\\Users\\pc\\AppData\\Local\\Temp/ipykernel_4272/2410474713.py:2: FutureWarning: In a future version of pandas all arguments of DataFrame.drop except for the argument 'labels' will be keyword-only\n",
      "  data4.drop(data4.columns.difference(['id_left','title_left', 'brand_left', 'id_right' , 'title_right', 'brand_right','label']), 1, inplace=True)\n",
      "C:\\Users\\pc\\AppData\\Local\\Temp/ipykernel_4272/2410474713.py:5: FutureWarning: In a future version of pandas all arguments of DataFrame.drop except for the argument 'labels' will be keyword-only\n",
      "  test_set4.drop(test_set4.columns.difference(['id_left','title_left', 'brand_left', 'id_right' , 'title_right','brand_right','label']), 1, inplace=True)\n",
      "C:\\Users\\pc\\AppData\\Local\\Temp/ipykernel_4272/2410474713.py:8: FutureWarning: In a future version of pandas all arguments of DataFrame.drop except for the argument 'labels' will be keyword-only\n",
      "  data_gs4.drop(data_gs4.columns.difference(['id_left','title_left', 'brand_left', 'id_right' , 'title_right','brand_right','label']), 1, inplace=True)\n"
     ]
    }
   ],
   "source": [
    "data4 = data.copy(deep=True) \n",
    "data4.drop(data4.columns.difference(['id_left','title_left', 'brand_left', 'id_right' , 'title_right', 'brand_right','label']), 1, inplace=True)\n",
    "\n",
    "test_set4= test_set.copy(deep=True) \n",
    "test_set4.drop(test_set4.columns.difference(['id_left','title_left', 'brand_left', 'id_right' , 'title_right','brand_right','label']), 1, inplace=True)\n",
    "\n",
    "data_gs4= data_gs.copy(deep=True) \n",
    "data_gs4.drop(data_gs4.columns.difference(['id_left','title_left', 'brand_left', 'id_right' , 'title_right','brand_right','label']), 1, inplace=True)\n",
    "\n",
    "\n",
    "# Drop null values\n",
    "data4=data4.dropna()\n",
    "test_set4= test_set4.dropna()\n",
    "data_gs4 =data_gs4.dropna()"
   ]
  },
  {
   "cell_type": "markdown",
   "id": "10647d3a",
   "metadata": {},
   "source": [
    "### Merging the features into one column and removing punctuations from the column"
   ]
  },
  {
   "cell_type": "code",
   "execution_count": 117,
   "id": "a1da52da",
   "metadata": {},
   "outputs": [
    {
     "name": "stderr",
     "output_type": "stream",
     "text": [
      "C:\\Users\\pc\\AppData\\Local\\Temp/ipykernel_4272/3440122692.py:2: FutureWarning: In a future version of pandas all arguments of DataFrame.drop except for the argument 'labels' will be keyword-only\n",
      "  data4.drop(data4.columns.difference(['product_feature','label']), 1, inplace=True)\n",
      "C:\\Users\\pc\\AppData\\Local\\Temp/ipykernel_4272/3440122692.py:5: FutureWarning: In a future version of pandas all arguments of DataFrame.drop except for the argument 'labels' will be keyword-only\n",
      "  test_set4.drop(test_set4.columns.difference(['product_feature','label']), 1, inplace=True)\n",
      "C:\\Users\\pc\\AppData\\Local\\Temp/ipykernel_4272/3440122692.py:8: FutureWarning: In a future version of pandas all arguments of DataFrame.drop except for the argument 'labels' will be keyword-only\n",
      "  data_gs4.drop(data_gs4.columns.difference(['product_feature','label']), 1, inplace=True)\n"
     ]
    }
   ],
   "source": [
    "data4['product_feature']=  str(data4['id_left']) + \" \" + data4['title_left'] +\" \" + data4['brand_left'] + str(data4['id_right']) + \" \" + data4['title_right'] +\" \" + data4['brand_right']\n",
    "data4.drop(data4.columns.difference(['product_feature','label']), 1, inplace=True)\n",
    "\n",
    "test_set4['product_feature']=  str(test_set4['id_left']) + \" \" + test_set4['title_left'] +\" \" + test_set4['brand_left'] + str(test_set4['id_right']) + \" \" + test_set4['title_right'] +\" \" + test_set4['brand_right']\n",
    "test_set4.drop(test_set4.columns.difference(['product_feature','label']), 1, inplace=True)\n",
    "\n",
    "data_gs4['product_feature']=  str(data_gs4['id_left']) + \" \" + data_gs4['title_left'] +\" \" + data_gs4['brand_left'] + str(data_gs4['id_right']) + \" \" + data_gs4['title_right'] +\" \" + data_gs4['brand_right']\n",
    "data_gs4.drop(data_gs4.columns.difference(['product_feature','label']), 1, inplace=True)\n",
    "\n",
    "#REmove punctuations\n",
    "data4['product_feature'] = data4['product_feature'].apply(lambda x:remove_punctuation(x))\n",
    "test_set4['product_feature'] = test_set4['product_feature'].apply(lambda x:remove_punctuation(x))\n",
    "data_gs4['product_feature'] = data_gs4['product_feature'].apply(lambda x:remove_punctuation(x))"
   ]
  },
  {
   "cell_type": "code",
   "execution_count": null,
   "id": "97408bfe",
   "metadata": {},
   "outputs": [],
   "source": [
    "data_gs4.head()"
   ]
  },
  {
   "cell_type": "markdown",
   "id": "9231df67",
   "metadata": {},
   "source": [
    "### Passing in the text into vectorizer"
   ]
  },
  {
   "cell_type": "code",
   "execution_count": 119,
   "id": "f5483b88",
   "metadata": {},
   "outputs": [
    {
     "name": "stdout",
     "output_type": "stream",
     "text": [
      "inputs shape: (21559, 1000)\n",
      "test_inputs shape: (666, 1000)\n",
      "gs_inputs shape: (501, 1000)\n"
     ]
    }
   ],
   "source": [
    "inputs= vectorizer.transform(data4.product_feature)\n",
    "print('inputs shape:' ,inputs.shape)\n",
    "\n",
    "test_inputs= vectorizer.transform(test_set4.product_feature)\n",
    "print('test_inputs shape:',test_inputs.shape)\n",
    "\n",
    "gs_inputs= vectorizer.transform(data_gs4.product_feature)\n",
    "print('gs_inputs shape:',gs_inputs.shape)"
   ]
  },
  {
   "cell_type": "markdown",
   "id": "b7baf70b",
   "metadata": {},
   "source": [
    "#### Split the Training data into train and validation "
   ]
  },
  {
   "cell_type": "code",
   "execution_count": 120,
   "id": "55fe2a75",
   "metadata": {},
   "outputs": [],
   "source": [
    "X_train , X_val , y_train , y_val = train_test_split(inputs , data4.label , test_size= 0.3 , random_state=42)\n",
    "\n",
    "X_test=test_inputs \n",
    "y_test = test_set4.label\n",
    "\n",
    "X_gs =gs_inputs\n",
    "y_gs= data_gs4.label"
   ]
  },
  {
   "cell_type": "markdown",
   "id": "df23ae22",
   "metadata": {},
   "source": [
    "#### Initial Accuracy Test for Potential Models using K fold Evaluation"
   ]
  },
  {
   "cell_type": "code",
   "execution_count": 121,
   "id": "dee08d17",
   "metadata": {},
   "outputs": [
    {
     "name": "stdout",
     "output_type": "stream",
     "text": [
      "Model Name:  LR\n",
      "Cross value mean:  0.8617720607919811\n",
      "Cross value Standard Deviation:  0.007777691935759594\n",
      "\n",
      "Classification Report\n",
      "              precision    recall  f1-score   support\n",
      "\n",
      "           0       0.86      1.00      0.93      5482\n",
      "           1       0.84      0.13      0.22       986\n",
      "\n",
      "    accuracy                           0.86      6468\n",
      "   macro avg       0.85      0.56      0.57      6468\n",
      "weighted avg       0.86      0.86      0.82      6468\n",
      "\n",
      "=================================================================\n",
      "\n",
      "Model Name:  RF\n",
      "Cross value mean:  0.9100122005275193\n",
      "Cross value Standard Deviation:  0.0062906284313187285\n",
      "\n",
      "Classification Report\n",
      "              precision    recall  f1-score   support\n",
      "\n",
      "           0       0.93      0.98      0.95      5482\n",
      "           1       0.81      0.56      0.66       986\n",
      "\n",
      "    accuracy                           0.91      6468\n",
      "   macro avg       0.87      0.77      0.81      6468\n",
      "weighted avg       0.91      0.91      0.91      6468\n",
      "\n",
      "=================================================================\n",
      "\n",
      "Model Name:  KNN\n",
      "Cross value mean:  0.8967596627739084\n",
      "Cross value Standard Deviation:  0.004665116687387565\n",
      "\n",
      "Classification Report\n",
      "              precision    recall  f1-score   support\n",
      "\n",
      "           0       0.93      0.95      0.94      5482\n",
      "           1       0.69      0.60      0.64       986\n",
      "\n",
      "    accuracy                           0.90      6468\n",
      "   macro avg       0.81      0.78      0.79      6468\n",
      "weighted avg       0.89      0.90      0.90      6468\n",
      "\n",
      "=================================================================\n",
      "\n",
      "Model Name:  CART\n",
      "Cross value mean:  0.8897350115641691\n",
      "Cross value Standard Deviation:  0.00878439905605038\n",
      "\n",
      "Classification Report\n",
      "              precision    recall  f1-score   support\n",
      "\n",
      "           0       0.93      0.94      0.94      5482\n",
      "           1       0.67      0.63      0.65       986\n",
      "\n",
      "    accuracy                           0.90      6468\n",
      "   macro avg       0.80      0.79      0.79      6468\n",
      "weighted avg       0.89      0.90      0.89      6468\n",
      "\n",
      "=================================================================\n",
      "\n"
     ]
    }
   ],
   "source": [
    "seed = 42\n",
    "models = []\n",
    "models.append(('LR', LogisticRegression()))\n",
    "models.append(('RF', RandomForestClassifier()))\n",
    "models.append(('KNN', KNeighborsClassifier()))\n",
    "models.append(('CART', DecisionTreeClassifier()))\n",
    "#models.append(('NB', GaussianNB()))\n",
    "\n",
    "\n",
    "#Evaluate each model\n",
    "results = []\n",
    "names = []\n",
    "scoring = 'accuracy'\n",
    "\n",
    "for name, model in models:\n",
    "    kfold = model_selection.KFold(n_splits = 10, random_state = seed , shuffle=True)\n",
    "    cv_results = model_selection.cross_val_score(model,X_train , y_train.ravel(), cv=kfold, scoring=scoring)\n",
    "    model.fit(X_train, y_train)\n",
    "    Y_pred = model.predict(X_val)\n",
    "    \n",
    "    results.append(cv_results)\n",
    "    names.append(name)\n",
    "    print('Model Name: ' , name)\n",
    "    print('Cross value mean: ' , cv_results.mean())\n",
    "    print('Cross value Standard Deviation: ', cv_results.std())\n",
    "    print('\\nClassification Report')\n",
    "    print(classification_report(y_val, Y_pred))\n",
    "    print('=================================================================\\n')\n",
    "    \n",
    "    \n"
   ]
  },
  {
   "cell_type": "markdown",
   "id": "5273e7d1",
   "metadata": {},
   "source": [
    "### Fit the Random Forest Model"
   ]
  },
  {
   "cell_type": "code",
   "execution_count": 122,
   "id": "c3a50409",
   "metadata": {},
   "outputs": [
    {
     "data": {
      "text/plain": [
       "RandomForestClassifier(random_state=42)"
      ]
     },
     "execution_count": 122,
     "metadata": {},
     "output_type": "execute_result"
    }
   ],
   "source": [
    "model = RandomForestClassifier(random_state=42)\n",
    "model.fit(X_train , y_train )"
   ]
  },
  {
   "cell_type": "markdown",
   "id": "1fadad2f",
   "metadata": {},
   "source": [
    "### Evaluate model using validation set\n",
    "\n"
   ]
  },
  {
   "cell_type": "code",
   "execution_count": 124,
   "id": "346a1825",
   "metadata": {},
   "outputs": [
    {
     "name": "stdout",
     "output_type": "stream",
     "text": [
      "Accuracy =  0.9129560915275201\n",
      "[[5352  130]\n",
      " [ 433  553]]\n",
      "              precision    recall  f1-score   support\n",
      "\n",
      "    nonmatch       0.93      0.98      0.95      5482\n",
      "       match       0.81      0.56      0.66       986\n",
      "\n",
      "    accuracy                           0.91      6468\n",
      "   macro avg       0.87      0.77      0.81      6468\n",
      "weighted avg       0.91      0.91      0.91      6468\n",
      "\n",
      "ROC Score: 0.7686\n"
     ]
    },
    {
     "name": "stderr",
     "output_type": "stream",
     "text": [
      "C:\\Users\\pc\\anaconda3\\lib\\site-packages\\sklearn\\utils\\validation.py:70: FutureWarning: Pass display_labels=[0 1] as keyword args. From version 1.0 (renaming of 0.25) passing these as positional arguments will result in an error\n",
      "  warnings.warn(f\"Pass {args_msg} as keyword args. From version \"\n"
     ]
    },
    {
     "data": {
      "image/png": "[encoded data removed]",
      "text/plain": [
       "<Figure size 432x288 with 2 Axes>"
      ]
     },
     "metadata": {
      "needs_background": "light"
     },
     "output_type": "display_data"
    }
   ],
   "source": [
    "### Evaluate model on validation data\n",
    "y_pred= model.predict(X_val)\n",
    "print(\"Accuracy = \" , metrics.accuracy_score(y_val, y_pred))\n",
    "cm= confusion_matrix(y_val, y_pred)\n",
    "print(cm)\n",
    "ConfusionMatrixDisplay(cm, model.classes_).plot()\n",
    "print(metrics.classification_report(y_val, y_pred, target_names=['nonmatch', 'match']))\n",
    "\n",
    "from sklearn.metrics import roc_auc_score\n",
    "# Calculate the ROC score\n",
    "roc_score = roc_auc_score(y_val, y_pred)\n",
    "\n",
    "# Print the ROC score\n",
    "print(\"ROC Score: {:.4f}\".format(roc_score))\n"
   ]
  },
  {
   "cell_type": "markdown",
   "id": "7fec001b",
   "metadata": {},
   "source": [
    "### Evaluate model on test data"
   ]
  },
  {
   "cell_type": "code",
   "execution_count": 125,
   "id": "07cd9ed7",
   "metadata": {},
   "outputs": [
    {
     "name": "stdout",
     "output_type": "stream",
     "text": [
      "Accuracy =  0.6546546546546547\n",
      "[[347 130]\n",
      " [100  89]]\n",
      "              precision    recall  f1-score   support\n",
      "\n",
      "    nonmatch       0.78      0.73      0.75       477\n",
      "       match       0.41      0.47      0.44       189\n",
      "\n",
      "    accuracy                           0.65       666\n",
      "   macro avg       0.59      0.60      0.59       666\n",
      "weighted avg       0.67      0.65      0.66       666\n",
      "\n",
      "ROC Score: 0.5992\n"
     ]
    },
    {
     "name": "stderr",
     "output_type": "stream",
     "text": [
      "C:\\Users\\pc\\anaconda3\\lib\\site-packages\\sklearn\\utils\\validation.py:70: FutureWarning: Pass display_labels=[0 1] as keyword args. From version 1.0 (renaming of 0.25) passing these as positional arguments will result in an error\n",
      "  warnings.warn(f\"Pass {args_msg} as keyword args. From version \"\n"
     ]
    },
    {
     "data": {
      "image/png": "[encoded data removed]",
      "text/plain": [
       "<Figure size 432x288 with 2 Axes>"
      ]
     },
     "metadata": {
      "needs_background": "light"
     },
     "output_type": "display_data"
    }
   ],
   "source": [
    "### Evaluate model on test data\n",
    "y_pred= model.predict(X_test)\n",
    "print(\"Accuracy = \" , metrics.accuracy_score(y_test, y_pred))\n",
    "cm= confusion_matrix(y_test, y_pred)\n",
    "print(cm)\n",
    "ConfusionMatrixDisplay(cm, model.classes_).plot()\n",
    "print(metrics.classification_report(y_test, y_pred, target_names=['nonmatch', 'match']))\n",
    "\n",
    "from sklearn.metrics import roc_auc_score\n",
    "# Calculate the ROC score\n",
    "roc_score = roc_auc_score(y_test, y_pred)\n",
    "\n",
    "# Print the ROC score\n",
    "print(\"ROC Score: {:.4f}\".format(roc_score))\n"
   ]
  },
  {
   "cell_type": "markdown",
   "id": "8854f406",
   "metadata": {},
   "source": [
    "### Evaluate model on gold standard data"
   ]
  },
  {
   "cell_type": "code",
   "execution_count": 126,
   "id": "31852a57",
   "metadata": {},
   "outputs": [
    {
     "name": "stdout",
     "output_type": "stream",
     "text": [
      "Accuracy =  0.5409181636726547\n",
      "[[176 203]\n",
      " [ 27  95]]\n",
      "              precision    recall  f1-score   support\n",
      "\n",
      "    nonmatch       0.87      0.46      0.60       379\n",
      "       match       0.32      0.78      0.45       122\n",
      "\n",
      "    accuracy                           0.54       501\n",
      "   macro avg       0.59      0.62      0.53       501\n",
      "weighted avg       0.73      0.54      0.57       501\n",
      "\n",
      "ROC Score: 0.6215\n"
     ]
    },
    {
     "name": "stderr",
     "output_type": "stream",
     "text": [
      "C:\\Users\\pc\\anaconda3\\lib\\site-packages\\sklearn\\utils\\validation.py:70: FutureWarning: Pass display_labels=[0 1] as keyword args. From version 1.0 (renaming of 0.25) passing these as positional arguments will result in an error\n",
      "  warnings.warn(f\"Pass {args_msg} as keyword args. From version \"\n"
     ]
    },
    {
     "data": {
      "image/png": "[encoded data removed]",
      "text/plain": [
       "<Figure size 432x288 with 2 Axes>"
      ]
     },
     "metadata": {
      "needs_background": "light"
     },
     "output_type": "display_data"
    }
   ],
   "source": [
    "\n",
    "y_gs_pred= model.predict(X_gs)\n",
    "print(\"Accuracy = \" , metrics.accuracy_score(y_gs, y_gs_pred))\n",
    "cm= confusion_matrix(y_gs, y_gs_pred)\n",
    "print(cm)\n",
    "ConfusionMatrixDisplay(cm, model.classes_).plot()\n",
    "print(metrics.classification_report(y_gs, y_gs_pred, target_names=['nonmatch', 'match']))\n",
    "\n",
    "from sklearn.metrics import roc_auc_score\n",
    "# Calculate the ROC score\n",
    "roc_score = roc_auc_score(y_gs, y_gs_pred)\n",
    "\n",
    "# Print the ROC score\n",
    "print(\"ROC Score: {:.4f}\".format(roc_score))"
   ]
  },
  {
   "cell_type": "markdown",
   "id": "7da1e741",
   "metadata": {},
   "source": [
    "### Hyperparameter Tuning for Random Forest using Randomised Search\n",
    "###  Implementing Random Search Using Scikit-Learn\n",
    "##### Defining the Hyperparameter Space and fitting the model"
   ]
  },
  {
   "cell_type": "code",
   "execution_count": 127,
   "id": "e39c4201",
   "metadata": {},
   "outputs": [
    {
     "name": "stdout",
     "output_type": "stream",
     "text": [
      "Best grid search hyperparameters are: {'criterion': 'gini', 'max_depth': None, 'max_features': 4, 'min_samples_leaf': 1, 'min_samples_split': 4, 'n_estimators': 410}\n",
      "Best grid search score is: 0.9048440161390369\n"
     ]
    }
   ],
   "source": [
    "from scipy.stats import randint\n",
    "import numpy as np\n",
    "rs_space={'max_depth':list(np.arange(1, 100, step=10)) + [None],\n",
    "              'n_estimators':np.arange(10, 500, step=50),\n",
    "              'max_features':randint(1,7),\n",
    "              'criterion':['gini','entropy'],\n",
    "              'min_samples_leaf':randint(1,4),\n",
    "              'min_samples_split':np.arange(2, 10, step=2)\n",
    "         }\n",
    "\n",
    "from sklearn.model_selection import RandomizedSearchCV\n",
    "\n",
    "rf = RandomForestClassifier()\n",
    "rf_random = RandomizedSearchCV(rf, rs_space, n_iter=100, scoring='accuracy', n_jobs=-1, cv=3)\n",
    "model_random = rf_random.fit(X_train,y_train)\n",
    "\n",
    "print('Best grid search hyperparameters are: '+str(model_random.best_params_))\n",
    "print('Best grid search score is: '+str(model_random.best_score_))"
   ]
  },
  {
   "cell_type": "markdown",
   "id": "976a4844",
   "metadata": {},
   "source": [
    "## Fit the model with the best parameters"
   ]
  },
  {
   "cell_type": "code",
   "execution_count": 128,
   "id": "7af76245",
   "metadata": {},
   "outputs": [
    {
     "data": {
      "text/plain": [
       "RandomForestClassifier(max_features=1, n_estimators=360)"
      ]
     },
     "execution_count": 128,
     "metadata": {},
     "output_type": "execute_result"
    }
   ],
   "source": [
    "rf_best = RandomForestClassifier(criterion='gini' ,max_features=1,min_samples_leaf=1,min_samples_split=2,n_estimators=360 )\n",
    "rf_best.fit(X_train , y_train )"
   ]
  },
  {
   "cell_type": "code",
   "execution_count": 129,
   "id": "1d01930f",
   "metadata": {},
   "outputs": [],
   "source": [
    "y_pred= model_random.predict(X_val)"
   ]
  },
  {
   "cell_type": "code",
   "execution_count": 130,
   "id": "dc61311f",
   "metadata": {},
   "outputs": [
    {
     "data": {
      "text/plain": [
       "0.9115646258503401"
      ]
     },
     "execution_count": 130,
     "metadata": {},
     "output_type": "execute_result"
    }
   ],
   "source": [
    "accuracy_score(y_val, y_pred)"
   ]
  },
  {
   "cell_type": "code",
   "execution_count": 131,
   "id": "29dedfd8",
   "metadata": {},
   "outputs": [
    {
     "name": "stdout",
     "output_type": "stream",
     "text": [
      "ROC Score: 0.7574\n"
     ]
    }
   ],
   "source": [
    "from sklearn.metrics import roc_auc_score\n",
    "# Calculate the ROC score\n",
    "roc_score = roc_auc_score(y_val, y_pred)\n",
    "\n",
    "# Print the ROC score\n",
    "print(\"ROC Score: {:.4f}\".format(roc_score))"
   ]
  },
  {
   "cell_type": "markdown",
   "id": "218ecae2",
   "metadata": {},
   "source": [
    "### Evaluate model on test data"
   ]
  },
  {
   "cell_type": "code",
   "execution_count": 132,
   "id": "3cba0040",
   "metadata": {},
   "outputs": [
    {
     "name": "stdout",
     "output_type": "stream",
     "text": [
      "Accuracy =  0.7282282282282282\n",
      "[[463  14]\n",
      " [167  22]]\n"
     ]
    },
    {
     "name": "stderr",
     "output_type": "stream",
     "text": [
      "C:\\Users\\pc\\anaconda3\\lib\\site-packages\\sklearn\\utils\\validation.py:70: FutureWarning: Pass display_labels=[0 1] as keyword args. From version 1.0 (renaming of 0.25) passing these as positional arguments will result in an error\n",
      "  warnings.warn(f\"Pass {args_msg} as keyword args. From version \"\n"
     ]
    },
    {
     "name": "stdout",
     "output_type": "stream",
     "text": [
      "              precision    recall  f1-score   support\n",
      "\n",
      "    nonmatch       0.73      0.97      0.84       477\n",
      "       match       0.61      0.12      0.20       189\n",
      "\n",
      "    accuracy                           0.73       666\n",
      "   macro avg       0.67      0.54      0.52       666\n",
      "weighted avg       0.70      0.73      0.65       666\n",
      "\n",
      "ROC Score: 0.5435\n"
     ]
    },
    {
     "data": {
      "image/png": "[encoded data removed]",
      "text/plain": [
       "<Figure size 432x288 with 2 Axes>"
      ]
     },
     "metadata": {
      "needs_background": "light"
     },
     "output_type": "display_data"
    }
   ],
   "source": [
    "### Evaluate model on test data\n",
    "y_pred= model_random.predict(X_test)\n",
    "print(\"Accuracy = \" , metrics.accuracy_score(y_test, y_pred))\n",
    "cm= confusion_matrix(y_test, y_pred)\n",
    "print(cm)\n",
    "ConfusionMatrixDisplay(cm, model.classes_).plot()\n",
    "print(metrics.classification_report(y_test, y_pred, target_names=['nonmatch', 'match']))\n",
    "\n",
    "from sklearn.metrics import roc_auc_score\n",
    "# Calculate the ROC score\n",
    "roc_score = roc_auc_score(y_test, y_pred)\n",
    "\n",
    "# Print the ROC score\n",
    "print(\"ROC Score: {:.4f}\".format(roc_score))"
   ]
  },
  {
   "cell_type": "markdown",
   "id": "50f5232c",
   "metadata": {},
   "source": [
    "### Evaluate model on gold standard data"
   ]
  },
  {
   "cell_type": "code",
   "execution_count": 133,
   "id": "960bf400",
   "metadata": {},
   "outputs": [
    {
     "name": "stdout",
     "output_type": "stream",
     "text": [
      "Accuracy =  0.780439121756487\n",
      "[[365  14]\n",
      " [ 96  26]]\n",
      "              precision    recall  f1-score   support\n",
      "\n",
      "    nonmatch       0.79      0.96      0.87       379\n",
      "       match       0.65      0.21      0.32       122\n",
      "\n",
      "    accuracy                           0.78       501\n",
      "   macro avg       0.72      0.59      0.60       501\n",
      "weighted avg       0.76      0.78      0.74       501\n",
      "\n",
      "ROC Score: 0.5881\n"
     ]
    },
    {
     "name": "stderr",
     "output_type": "stream",
     "text": [
      "C:\\Users\\pc\\anaconda3\\lib\\site-packages\\sklearn\\utils\\validation.py:70: FutureWarning: Pass display_labels=[0 1] as keyword args. From version 1.0 (renaming of 0.25) passing these as positional arguments will result in an error\n",
      "  warnings.warn(f\"Pass {args_msg} as keyword args. From version \"\n"
     ]
    },
    {
     "data": {
      "image/png": "[encoded data removed]",
      "text/plain": [
       "<Figure size 432x288 with 2 Axes>"
      ]
     },
     "metadata": {
      "needs_background": "light"
     },
     "output_type": "display_data"
    }
   ],
   "source": [
    "### Evaluate model on gold standard data\n",
    "y_gs_pred= model_random.predict(X_gs)\n",
    "print(\"Accuracy = \" , metrics.accuracy_score(y_gs, y_gs_pred))\n",
    "cm= confusion_matrix(y_gs, y_gs_pred)\n",
    "print(cm)\n",
    "ConfusionMatrixDisplay(cm, model.classes_).plot()\n",
    "print(metrics.classification_report(y_gs, y_gs_pred, target_names=['nonmatch', 'match']))\n",
    "\n",
    "from sklearn.metrics import roc_auc_score\n",
    "# Calculate the ROC score\n",
    "roc_score = roc_auc_score(y_gs, y_gs_pred)\n",
    "\n",
    "# Print the ROC score\n",
    "print(\"ROC Score: {:.4f}\".format(roc_score))"
   ]
  },
  {
   "cell_type": "code",
   "execution_count": null,
   "id": "0cec7141",
   "metadata": {},
   "outputs": [],
   "source": []
  },
  {
   "cell_type": "code",
   "execution_count": null,
   "id": "b5bfe64c",
   "metadata": {},
   "outputs": [],
   "source": []
  }
 ],
 "metadata": {
  "kernelspec": {
   "display_name": "Python 3 (ipykernel)",
   "language": "python",
   "name": "python3"
  },
  "language_info": {
   "codemirror_mode": {
    "name": "ipython",
    "version": 3
   },
   "file_extension": ".py",
   "mimetype": "text/x-python",
   "name": "python",
   "nbconvert_exporter": "python",
   "pygments_lexer": "ipython3",
   "version": "3.9.7"
  }
 },
 "nbformat": 4,
 "nbformat_minor": 5
}
