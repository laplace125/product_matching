{
 "cells": [
  {
   "cell_type": "code",
   "execution_count": 2,
   "id": "be7bd6bd",
   "metadata": {},
   "outputs": [],
   "source": [
    "import pandas as pd\n",
    "import json"
   ]
  },
  {
   "cell_type": "code",
   "execution_count": 217,
   "id": "c6d73c5e",
   "metadata": {},
   "outputs": [],
   "source": [
    "data = pd.read_json('computers_train_xl_normal.json' , lines=True)"
   ]
  },
  {
   "cell_type": "code",
   "execution_count": 118,
   "id": "853c8b87",
   "metadata": {},
   "outputs": [],
   "source": [
    "test_set = pd.read_json('task1_testset_1500_with_labels.json' , lines=True)"
   ]
  },
  {
   "cell_type": "markdown",
   "id": "15048539",
   "metadata": {},
   "source": [
    "### VIEW WHAT THE DATA LOOK LIKE"
   ]
  },
  {
   "cell_type": "code",
   "execution_count": 111,
   "id": "140b5eb2",
   "metadata": {},
   "outputs": [
    {
     "data": {
      "text/html": [
       "<div>\n",
       "<style scoped>\n",
       "    .dataframe tbody tr th:only-of-type {\n",
       "        vertical-align: middle;\n",
       "    }\n",
       "\n",
       "    .dataframe tbody tr th {\n",
       "        vertical-align: top;\n",
       "    }\n",
       "\n",
       "    .dataframe thead th {\n",
       "        text-align: right;\n",
       "    }\n",
       "</style>\n",
       "<table border=\"1\" class=\"dataframe\">\n",
       "  <thead>\n",
       "    <tr style=\"text-align: right;\">\n",
       "      <th></th>\n",
       "      <th>cluster_id_left</th>\n",
       "      <th>cluster_id_right</th>\n",
       "      <th>label</th>\n",
       "      <th>prod_left_right</th>\n",
       "    </tr>\n",
       "  </thead>\n",
       "  <tbody>\n",
       "    <tr>\n",
       "      <th>1</th>\n",
       "      <td>1679624</td>\n",
       "      <td>1679624</td>\n",
       "      <td>1</td>\n",
       "      <td>hp enterprise description intel xeon x5560 ml3...</td>\n",
       "    </tr>\n",
       "    <tr>\n",
       "      <th>9</th>\n",
       "      <td>109916</td>\n",
       "      <td>109916</td>\n",
       "      <td>1</td>\n",
       "      <td>asus support for x series intel core processor...</td>\n",
       "    </tr>\n",
       "    <tr>\n",
       "      <th>18</th>\n",
       "      <td>4703255</td>\n",
       "      <td>4703255</td>\n",
       "      <td>1</td>\n",
       "      <td>hp enterprise description intel xeon processor...</td>\n",
       "    </tr>\n",
       "    <tr>\n",
       "      <th>19</th>\n",
       "      <td>4682367</td>\n",
       "      <td>4682367</td>\n",
       "      <td>1</td>\n",
       "      <td>fujitsu description fujitsu 146gb ultra320 3 5...</td>\n",
       "    </tr>\n",
       "    <tr>\n",
       "      <th>24</th>\n",
       "      <td>1060754</td>\n",
       "      <td>1060754</td>\n",
       "      <td>1</td>\n",
       "      <td>amd amd a6 5400k dual core apu processor 3 6gh...</td>\n",
       "    </tr>\n",
       "  </tbody>\n",
       "</table>\n",
       "</div>"
      ],
      "text/plain": [
       "    cluster_id_left  cluster_id_right  label  \\\n",
       "1           1679624           1679624      1   \n",
       "9            109916            109916      1   \n",
       "18          4703255           4703255      1   \n",
       "19          4682367           4682367      1   \n",
       "24          1060754           1060754      1   \n",
       "\n",
       "                                      prod_left_right  \n",
       "1   hp enterprise description intel xeon x5560 ml3...  \n",
       "9   asus support for x series intel core processor...  \n",
       "18  hp enterprise description intel xeon processor...  \n",
       "19  fujitsu description fujitsu 146gb ultra320 3 5...  \n",
       "24  amd amd a6 5400k dual core apu processor 3 6gh...  "
      ]
     },
     "execution_count": 111,
     "metadata": {},
     "output_type": "execute_result"
    }
   ],
   "source": [
    "data.head()"
   ]
  },
  {
   "cell_type": "code",
   "execution_count": 110,
   "id": "046e849f",
   "metadata": {},
   "outputs": [
    {
     "data": {
      "text/html": [
       "<div>\n",
       "<style scoped>\n",
       "    .dataframe tbody tr th:only-of-type {\n",
       "        vertical-align: middle;\n",
       "    }\n",
       "\n",
       "    .dataframe tbody tr th {\n",
       "        vertical-align: top;\n",
       "    }\n",
       "\n",
       "    .dataframe thead th {\n",
       "        text-align: right;\n",
       "    }\n",
       "</style>\n",
       "<table border=\"1\" class=\"dataframe\">\n",
       "  <thead>\n",
       "    <tr style=\"text-align: right;\">\n",
       "      <th></th>\n",
       "      <th>id_left</th>\n",
       "      <th>cluster_id_left</th>\n",
       "      <th>category_left</th>\n",
       "      <th>title_left</th>\n",
       "      <th>description_left</th>\n",
       "      <th>brand_left</th>\n",
       "      <th>price_left</th>\n",
       "      <th>keyValuePairs_left</th>\n",
       "      <th>specTableContent_left</th>\n",
       "      <th>id_right</th>\n",
       "      <th>...</th>\n",
       "      <th>category_right</th>\n",
       "      <th>title_right</th>\n",
       "      <th>description_right</th>\n",
       "      <th>brand_right</th>\n",
       "      <th>price_right</th>\n",
       "      <th>keyValuePairs_right</th>\n",
       "      <th>specTableContent_right</th>\n",
       "      <th>label</th>\n",
       "      <th>pair_id</th>\n",
       "      <th>sampling</th>\n",
       "    </tr>\n",
       "  </thead>\n",
       "  <tbody>\n",
       "    <tr>\n",
       "      <th>0</th>\n",
       "      <td>4210789</td>\n",
       "      <td>533129</td>\n",
       "      <td>Computers_and_Accessories</td>\n",
       "      <td>\"Intel X520-DA2 PCI Express 2.0 Network Adapt...</td>\n",
       "      <td>\"Intel's family of adapter, the Intel' Etherne...</td>\n",
       "      <td>None</td>\n",
       "      <td>\"$\", \"333.16\"</td>\n",
       "      <td>None</td>\n",
       "      <td>None</td>\n",
       "      <td>6428629</td>\n",
       "      <td>...</td>\n",
       "      <td>Computers_and_Accessories</td>\n",
       "      <td>\"Intel X520-DA2 Dual Port Gigabit SFP Etherne...</td>\n",
       "      <td>\"2 Port Intel E10G42BTDA 10 Gigabit SFP Ethern...</td>\n",
       "      <td>None</td>\n",
       "      <td>None</td>\n",
       "      <td>None</td>\n",
       "      <td>None</td>\n",
       "      <td>1</td>\n",
       "      <td>4210789#6428629</td>\n",
       "      <td>high similarity with old products</td>\n",
       "    </tr>\n",
       "    <tr>\n",
       "      <th>1</th>\n",
       "      <td>8813989</td>\n",
       "      <td>55385</td>\n",
       "      <td>Computers_and_Accessories</td>\n",
       "      <td>\"Zotac GeForce GTX 1070Ti AMP Extreme 8192MB ...</td>\n",
       "      <td>\"ZT-P10710B-10P, Core Clock: 1607MHz, Boost Cl...</td>\n",
       "      <td>\"Zotac\"@en</td>\n",
       "      <td>None</td>\n",
       "      <td>None</td>\n",
       "      <td>None</td>\n",
       "      <td>4435647</td>\n",
       "      <td>...</td>\n",
       "      <td>Computers_and_Accessories</td>\n",
       "      <td>\"Zotac NVIDIA GeForce GTX 1070 Ti 8GB AMP! Ex...</td>\n",
       "      <td>\"Zotac GeForce GTX 1070 Ti AMP! Extreme Editio...</td>\n",
       "      <td>None</td>\n",
       "      <td>None</td>\n",
       "      <td>None</td>\n",
       "      <td>None</td>\n",
       "      <td>1</td>\n",
       "      <td>8813989#4435647</td>\n",
       "      <td>high similarity with old products</td>\n",
       "    </tr>\n",
       "    <tr>\n",
       "      <th>2</th>\n",
       "      <td>4132226</td>\n",
       "      <td>69927</td>\n",
       "      <td>Computers_and_Accessories</td>\n",
       "      <td>\"TP-LINK TL-WPS510U 150Mbps Wireless Print Se...</td>\n",
       "      <td>\"TP-Link 54Mbps Pocket-Sized Wireless Print Se...</td>\n",
       "      <td>\"TP-Link\"@en-US</td>\n",
       "      <td>None</td>\n",
       "      <td>None</td>\n",
       "      <td>None</td>\n",
       "      <td>2095262</td>\n",
       "      <td>...</td>\n",
       "      <td>Computers_and_Accessories</td>\n",
       "      <td>\"TP-LINK TL-WPS510U - print server\" \" TP-LINK...</td>\n",
       "      <td>\"Print servers give businesses the ability to ...</td>\n",
       "      <td>None</td>\n",
       "      <td>\"$\", \"71.81\"</td>\n",
       "      <td>None</td>\n",
       "      <td>None</td>\n",
       "      <td>1</td>\n",
       "      <td>4132226#2095262</td>\n",
       "      <td>high similarity with old products</td>\n",
       "    </tr>\n",
       "    <tr>\n",
       "      <th>3</th>\n",
       "      <td>12056462</td>\n",
       "      <td>1380893</td>\n",
       "      <td>Computers_and_Accessories</td>\n",
       "      <td>\"Logitech - MK550 Wireless Wave Keyboard and ...</td>\n",
       "      <td>\"Logitech MK550 Wireless Wave Keyboard and Mou...</td>\n",
       "      <td>None</td>\n",
       "      <td>None</td>\n",
       "      <td>None</td>\n",
       "      <td>None</td>\n",
       "      <td>11152603</td>\n",
       "      <td>...</td>\n",
       "      <td>Computers_and_Accessories</td>\n",
       "      <td>\"Logitech MK550 Wireless Wave Keyboard and Mo...</td>\n",
       "      <td>\"The Logitech MK550 Wireless Wave Keyboard and...</td>\n",
       "      <td>\"Logitech\"@en-US</td>\n",
       "      <td>None</td>\n",
       "      <td>None</td>\n",
       "      <td>None</td>\n",
       "      <td>1</td>\n",
       "      <td>12056462#11152603</td>\n",
       "      <td>high similarity with old products</td>\n",
       "    </tr>\n",
       "    <tr>\n",
       "      <th>4</th>\n",
       "      <td>8636740</td>\n",
       "      <td>104025</td>\n",
       "      <td>Computers_and_Accessories</td>\n",
       "      <td>\"Western Digital - Blue 500GB 2.5\" Solid Stat...</td>\n",
       "      <td>None</td>\n",
       "      <td>\"Western Digital\"</td>\n",
       "      <td>None</td>\n",
       "      <td>None</td>\n",
       "      <td>None</td>\n",
       "      <td>16302898</td>\n",
       "      <td>...</td>\n",
       "      <td>Computers_and_Accessories</td>\n",
       "      <td>\"Buy Online | WD Blue PC SSD 500GB SATA III 2...</td>\n",
       "      <td>\"\\n\\tWD Blue PC SSD 500GB SATA III 2.5″ WDS500...</td>\n",
       "      <td>None</td>\n",
       "      <td>None</td>\n",
       "      <td>None</td>\n",
       "      <td>Weight 0.1 kg Brand Western Digital Model WDS...</td>\n",
       "      <td>1</td>\n",
       "      <td>8636740#16302898</td>\n",
       "      <td>high similarity with old products</td>\n",
       "    </tr>\n",
       "  </tbody>\n",
       "</table>\n",
       "<p>5 rows × 21 columns</p>\n",
       "</div>"
      ],
      "text/plain": [
       "    id_left  cluster_id_left              category_left  \\\n",
       "0   4210789           533129  Computers_and_Accessories   \n",
       "1   8813989            55385  Computers_and_Accessories   \n",
       "2   4132226            69927  Computers_and_Accessories   \n",
       "3  12056462          1380893  Computers_and_Accessories   \n",
       "4   8636740           104025  Computers_and_Accessories   \n",
       "\n",
       "                                          title_left  \\\n",
       "0   \"Intel X520-DA2 PCI Express 2.0 Network Adapt...   \n",
       "1   \"Zotac GeForce GTX 1070Ti AMP Extreme 8192MB ...   \n",
       "2   \"TP-LINK TL-WPS510U 150Mbps Wireless Print Se...   \n",
       "3   \"Logitech - MK550 Wireless Wave Keyboard and ...   \n",
       "4   \"Western Digital - Blue 500GB 2.5\" Solid Stat...   \n",
       "\n",
       "                                    description_left         brand_left  \\\n",
       "0  \"Intel's family of adapter, the Intel' Etherne...               None   \n",
       "1  \"ZT-P10710B-10P, Core Clock: 1607MHz, Boost Cl...         \"Zotac\"@en   \n",
       "2  \"TP-Link 54Mbps Pocket-Sized Wireless Print Se...    \"TP-Link\"@en-US   \n",
       "3  \"Logitech MK550 Wireless Wave Keyboard and Mou...               None   \n",
       "4                                               None  \"Western Digital\"   \n",
       "\n",
       "      price_left keyValuePairs_left specTableContent_left  id_right  ...  \\\n",
       "0  \"$\", \"333.16\"               None                  None   6428629  ...   \n",
       "1           None               None                  None   4435647  ...   \n",
       "2           None               None                  None   2095262  ...   \n",
       "3           None               None                  None  11152603  ...   \n",
       "4           None               None                  None  16302898  ...   \n",
       "\n",
       "              category_right  \\\n",
       "0  Computers_and_Accessories   \n",
       "1  Computers_and_Accessories   \n",
       "2  Computers_and_Accessories   \n",
       "3  Computers_and_Accessories   \n",
       "4  Computers_and_Accessories   \n",
       "\n",
       "                                         title_right  \\\n",
       "0   \"Intel X520-DA2 Dual Port Gigabit SFP Etherne...   \n",
       "1   \"Zotac NVIDIA GeForce GTX 1070 Ti 8GB AMP! Ex...   \n",
       "2   \"TP-LINK TL-WPS510U - print server\" \" TP-LINK...   \n",
       "3   \"Logitech MK550 Wireless Wave Keyboard and Mo...   \n",
       "4   \"Buy Online | WD Blue PC SSD 500GB SATA III 2...   \n",
       "\n",
       "                                   description_right       brand_right  \\\n",
       "0  \"2 Port Intel E10G42BTDA 10 Gigabit SFP Ethern...              None   \n",
       "1  \"Zotac GeForce GTX 1070 Ti AMP! Extreme Editio...              None   \n",
       "2  \"Print servers give businesses the ability to ...              None   \n",
       "3  \"The Logitech MK550 Wireless Wave Keyboard and...  \"Logitech\"@en-US   \n",
       "4  \"\\n\\tWD Blue PC SSD 500GB SATA III 2.5″ WDS500...              None   \n",
       "\n",
       "    price_right keyValuePairs_right  \\\n",
       "0          None                None   \n",
       "1          None                None   \n",
       "2  \"$\", \"71.81\"                None   \n",
       "3          None                None   \n",
       "4          None                None   \n",
       "\n",
       "                              specTableContent_right label            pair_id  \\\n",
       "0                                               None     1    4210789#6428629   \n",
       "1                                               None     1    8813989#4435647   \n",
       "2                                               None     1    4132226#2095262   \n",
       "3                                               None     1  12056462#11152603   \n",
       "4   Weight 0.1 kg Brand Western Digital Model WDS...     1   8636740#16302898   \n",
       "\n",
       "                            sampling  \n",
       "0  high similarity with old products  \n",
       "1  high similarity with old products  \n",
       "2  high similarity with old products  \n",
       "3  high similarity with old products  \n",
       "4  high similarity with old products  \n",
       "\n",
       "[5 rows x 21 columns]"
      ]
     },
     "execution_count": 110,
     "metadata": {},
     "output_type": "execute_result"
    }
   ],
   "source": [
    "test_set.head()"
   ]
  },
  {
   "cell_type": "code",
   "execution_count": null,
   "id": "dd5173c1",
   "metadata": {},
   "outputs": [],
   "source": [
    "### VIEW "
   ]
  },
  {
   "cell_type": "code",
   "execution_count": 6,
   "id": "b2be1e1c",
   "metadata": {},
   "outputs": [
    {
     "name": "stdout",
     "output_type": "stream",
     "text": [
      "Are there any null values?\n",
      "True \n",
      "\n",
      "How many null values are in each column?\n",
      "id_left                       0\n",
      "title_left                    0\n",
      "description_left          21875\n",
      "brand_left                34993\n",
      "price_left                57085\n",
      "specTableContent_left     47564\n",
      "keyValuePairs_left        49696\n",
      "category_left                 0\n",
      "cluster_id_left               0\n",
      "identifiers_left              0\n",
      "id_right                      0\n",
      "title_right                   0\n",
      "description_right         20821\n",
      "brand_right               35393\n",
      "price_right               57114\n",
      "specTableContent_right    46304\n",
      "keyValuePairs_right       48186\n",
      "category_right                0\n",
      "cluster_id_right              0\n",
      "identifiers_right             0\n",
      "label                         0\n",
      "pair_id                       0\n",
      "dtype: int64 \n",
      "\n",
      "How many null values are in the data in total?\n",
      "419031\n"
     ]
    }
   ],
   "source": [
    "print(\"Are there any null values?\")\n",
    "print(data.isnull().values.any() , \"\\n\")\n",
    "#Find out how many - This gives you the breakdown per column\n",
    "print('How many null values are in each column?'),\n",
    "print(data.isnull().sum(), \"\\n\")\n",
    "#Get total overall null values\n",
    "print('How many null values are in the data in total?')\n",
    "print(data.isnull().sum().sum())"
   ]
  },
  {
   "cell_type": "markdown",
   "id": "ab941046",
   "metadata": {},
   "source": [
    "- For this analysis, I would like to use the three columns for the product matching.\n",
    "- First, title only\n",
    "- Second, title and brand\n",
    "- Third, title , brand and description"
   ]
  },
  {
   "cell_type": "markdown",
   "id": "432b80db",
   "metadata": {},
   "source": [
    "### Function to generate data any of the three categories above"
   ]
  },
  {
   "cell_type": "code",
   "execution_count": 218,
   "id": "9f0e1a6a",
   "metadata": {},
   "outputs": [
    {
     "name": "stdout",
     "output_type": "stream",
     "text": [
      "What type of data do you want to generate? \n",
      "Enter 1 for title only \n",
      "Enter 2 for title and brand \n",
      "Enter 3 for title , brand and description\n",
      "Then press Enter1\n"
     ]
    }
   ],
   "source": [
    "def generate_data(df):\n",
    "    ans= int(input('What type of data do you want to generate? \\nEnter 1 for title only \\nEnter 2 for title and brand \\nEnter 3 for title , brand and description\\nThen press Enter'))\n",
    "    if ans==1:\n",
    "        df['prod_left_right']= df['title_left'] +\" \" + df['title_right']\n",
    "    elif ans==2:\n",
    "        df['prod_left_right']= df['title_left'] +\" \" + df['brand_left'] +\" \" + df['title_right'] +\" \" +df['brand_right'] \n",
    "    elif ans==3:\n",
    "        df['prod_left_right']= df['title_left'] + \" \" + df['brand_left'] + \" \" +df['description_left'] +\" \" + df['title_right'] + \" \" + df['brand_right'] + \" \" +df['description_right']\n",
    "    elif ans<1 or ans > 3:\n",
    "        generate_data(df)\n",
    "    new_data= df\n",
    "    return new_data\n",
    "new_data= generate_data(data)"
   ]
  },
  {
   "cell_type": "code",
   "execution_count": 219,
   "id": "4aa2d02a",
   "metadata": {},
   "outputs": [
    {
     "data": {
      "text/html": [
       "<div>\n",
       "<style scoped>\n",
       "    .dataframe tbody tr th:only-of-type {\n",
       "        vertical-align: middle;\n",
       "    }\n",
       "\n",
       "    .dataframe tbody tr th {\n",
       "        vertical-align: top;\n",
       "    }\n",
       "\n",
       "    .dataframe thead th {\n",
       "        text-align: right;\n",
       "    }\n",
       "</style>\n",
       "<table border=\"1\" class=\"dataframe\">\n",
       "  <thead>\n",
       "    <tr style=\"text-align: right;\">\n",
       "      <th></th>\n",
       "      <th>id_left</th>\n",
       "      <th>title_left</th>\n",
       "      <th>description_left</th>\n",
       "      <th>brand_left</th>\n",
       "      <th>price_left</th>\n",
       "      <th>specTableContent_left</th>\n",
       "      <th>keyValuePairs_left</th>\n",
       "      <th>category_left</th>\n",
       "      <th>cluster_id_left</th>\n",
       "      <th>identifiers_left</th>\n",
       "      <th>...</th>\n",
       "      <th>brand_right</th>\n",
       "      <th>price_right</th>\n",
       "      <th>specTableContent_right</th>\n",
       "      <th>keyValuePairs_right</th>\n",
       "      <th>category_right</th>\n",
       "      <th>cluster_id_right</th>\n",
       "      <th>identifiers_right</th>\n",
       "      <th>label</th>\n",
       "      <th>pair_id</th>\n",
       "      <th>prod_left_right</th>\n",
       "    </tr>\n",
       "  </thead>\n",
       "  <tbody>\n",
       "    <tr>\n",
       "      <th>0</th>\n",
       "      <td>5490217</td>\n",
       "      <td>hp intel xeon x5560 prijzen tweakers</td>\n",
       "      <td>None</td>\n",
       "      <td>None</td>\n",
       "      <td>None</td>\n",
       "      <td>categorie processors merk hp product hp intel ...</td>\n",
       "      <td>{'categorie': 'processors', 'merk': 'hp', 'pro...</td>\n",
       "      <td>Computers_and_Accessories</td>\n",
       "      <td>1679624</td>\n",
       "      <td>[{'/mpn': '[495906b21]'}, {'/gtin13': '[884420...</td>\n",
       "      <td>...</td>\n",
       "      <td>hp enterprise</td>\n",
       "      <td>usd 213 85</td>\n",
       "      <td>specifications category proliant processor sub...</td>\n",
       "      <td>{'category': 'proliant processor', 'sub catego...</td>\n",
       "      <td>Computers_and_Accessories</td>\n",
       "      <td>1679624</td>\n",
       "      <td>[{'/mpn': '[495906b21]'}]</td>\n",
       "      <td>1</td>\n",
       "      <td>5490217#16248399</td>\n",
       "      <td>hp intel xeon x5560 prijzen tweakers null , 49...</td>\n",
       "    </tr>\n",
       "    <tr>\n",
       "      <th>1</th>\n",
       "      <td>16876009</td>\n",
       "      <td>495906 b21 hp x5560 2 80ghz ml350 g6 , null ne...</td>\n",
       "      <td>description intel xeon x5560 ml350 g6 2 80ghz ...</td>\n",
       "      <td>hp enterprise</td>\n",
       "      <td>None</td>\n",
       "      <td>specifications category proliant processor sub...</td>\n",
       "      <td>{'category': 'proliant processor', 'sub catego...</td>\n",
       "      <td>Computers_and_Accessories</td>\n",
       "      <td>1679624</td>\n",
       "      <td>[{'/sku': '[495906b21]'}, {'/mpn': '[495906b21...</td>\n",
       "      <td>...</td>\n",
       "      <td>hp enterprise</td>\n",
       "      <td>usd 213 85</td>\n",
       "      <td>specifications category proliant processor sub...</td>\n",
       "      <td>{'category': 'proliant processor', 'sub catego...</td>\n",
       "      <td>Computers_and_Accessories</td>\n",
       "      <td>1679624</td>\n",
       "      <td>[{'/mpn': '[495906b21]'}]</td>\n",
       "      <td>1</td>\n",
       "      <td>16876009#16248399</td>\n",
       "      <td>495906 b21 hp x5560 2 80ghz ml350 g6 , null ne...</td>\n",
       "    </tr>\n",
       "    <tr>\n",
       "      <th>2</th>\n",
       "      <td>16543750</td>\n",
       "      <td>asus motherboard lga2066 ddr4 m 2 u atx 2xgbe ...</td>\n",
       "      <td>None</td>\n",
       "      <td>None</td>\n",
       "      <td>None</td>\n",
       "      <td>None</td>\n",
       "      <td>None</td>\n",
       "      <td>Computers_and_Accessories</td>\n",
       "      <td>109916</td>\n",
       "      <td>[{'/sku': '[34181655]'}, {'/mpn': '[primex299d...</td>\n",
       "      <td>...</td>\n",
       "      <td>None</td>\n",
       "      <td>None</td>\n",
       "      <td>None</td>\n",
       "      <td>None</td>\n",
       "      <td>Computers_and_Accessories</td>\n",
       "      <td>109916</td>\n",
       "      <td>[{'/productID': '[90mb0ty0m0eay0]'}]</td>\n",
       "      <td>1</td>\n",
       "      <td>16543750#14031864</td>\n",
       "      <td>asus motherboard lga2066 ddr4 m 2 u atx 2xgbe ...</td>\n",
       "    </tr>\n",
       "    <tr>\n",
       "      <th>3</th>\n",
       "      <td>16721450</td>\n",
       "      <td>asus prime x299 deluxe prijzen tweakers</td>\n",
       "      <td>None</td>\n",
       "      <td>None</td>\n",
       "      <td>None</td>\n",
       "      <td>categorie moederborden merk asus product asus ...</td>\n",
       "      <td>{'categorie': 'moederborden', 'merk': 'asus', ...</td>\n",
       "      <td>Computers_and_Accessories</td>\n",
       "      <td>109916</td>\n",
       "      <td>[{'/mpn': '[primex299deluxe,  90mb0ty0m0eay0]'...</td>\n",
       "      <td>...</td>\n",
       "      <td>asus</td>\n",
       "      <td>None</td>\n",
       "      <td>None</td>\n",
       "      <td>None</td>\n",
       "      <td>Computers_and_Accessories</td>\n",
       "      <td>109916</td>\n",
       "      <td>[{'/mpn': '[90mb0ty0m0eay0]'}, {'/gtin13': '[4...</td>\n",
       "      <td>1</td>\n",
       "      <td>16721450#10358026</td>\n",
       "      <td>asus prime x299 deluxe prijzen tweakers asus p...</td>\n",
       "    </tr>\n",
       "    <tr>\n",
       "      <th>4</th>\n",
       "      <td>14031864</td>\n",
       "      <td>asus prime x299 deluxe</td>\n",
       "      <td>placa base atx socket lga2066 chipset intel x2...</td>\n",
       "      <td>None</td>\n",
       "      <td>None</td>\n",
       "      <td>None</td>\n",
       "      <td>None</td>\n",
       "      <td>Computers_and_Accessories</td>\n",
       "      <td>109916</td>\n",
       "      <td>[{'/productID': '[90mb0ty0m0eay0]'}]</td>\n",
       "      <td>...</td>\n",
       "      <td>asus</td>\n",
       "      <td>None</td>\n",
       "      <td>None</td>\n",
       "      <td>None</td>\n",
       "      <td>Computers_and_Accessories</td>\n",
       "      <td>109916</td>\n",
       "      <td>[{'/productID': '[asux29del]'}, {'/mpn': '[pri...</td>\n",
       "      <td>1</td>\n",
       "      <td>14031864#4588573</td>\n",
       "      <td>asus prime x299 deluxe asus prime x299 deluxe ...</td>\n",
       "    </tr>\n",
       "  </tbody>\n",
       "</table>\n",
       "<p>5 rows × 23 columns</p>\n",
       "</div>"
      ],
      "text/plain": [
       "    id_left                                         title_left  \\\n",
       "0   5490217               hp intel xeon x5560 prijzen tweakers   \n",
       "1  16876009  495906 b21 hp x5560 2 80ghz ml350 g6 , null ne...   \n",
       "2  16543750  asus motherboard lga2066 ddr4 m 2 u atx 2xgbe ...   \n",
       "3  16721450            asus prime x299 deluxe prijzen tweakers   \n",
       "4  14031864                             asus prime x299 deluxe   \n",
       "\n",
       "                                    description_left     brand_left  \\\n",
       "0                                               None           None   \n",
       "1  description intel xeon x5560 ml350 g6 2 80ghz ...  hp enterprise   \n",
       "2                                               None           None   \n",
       "3                                               None           None   \n",
       "4  placa base atx socket lga2066 chipset intel x2...           None   \n",
       "\n",
       "  price_left                              specTableContent_left  \\\n",
       "0       None  categorie processors merk hp product hp intel ...   \n",
       "1       None  specifications category proliant processor sub...   \n",
       "2       None                                               None   \n",
       "3       None  categorie moederborden merk asus product asus ...   \n",
       "4       None                                               None   \n",
       "\n",
       "                                  keyValuePairs_left  \\\n",
       "0  {'categorie': 'processors', 'merk': 'hp', 'pro...   \n",
       "1  {'category': 'proliant processor', 'sub catego...   \n",
       "2                                               None   \n",
       "3  {'categorie': 'moederborden', 'merk': 'asus', ...   \n",
       "4                                               None   \n",
       "\n",
       "               category_left  cluster_id_left  \\\n",
       "0  Computers_and_Accessories          1679624   \n",
       "1  Computers_and_Accessories          1679624   \n",
       "2  Computers_and_Accessories           109916   \n",
       "3  Computers_and_Accessories           109916   \n",
       "4  Computers_and_Accessories           109916   \n",
       "\n",
       "                                    identifiers_left  ...    brand_right  \\\n",
       "0  [{'/mpn': '[495906b21]'}, {'/gtin13': '[884420...  ...  hp enterprise   \n",
       "1  [{'/sku': '[495906b21]'}, {'/mpn': '[495906b21...  ...  hp enterprise   \n",
       "2  [{'/sku': '[34181655]'}, {'/mpn': '[primex299d...  ...           None   \n",
       "3  [{'/mpn': '[primex299deluxe,  90mb0ty0m0eay0]'...  ...           asus   \n",
       "4               [{'/productID': '[90mb0ty0m0eay0]'}]  ...           asus   \n",
       "\n",
       "  price_right                             specTableContent_right  \\\n",
       "0  usd 213 85  specifications category proliant processor sub...   \n",
       "1  usd 213 85  specifications category proliant processor sub...   \n",
       "2        None                                               None   \n",
       "3        None                                               None   \n",
       "4        None                                               None   \n",
       "\n",
       "                                 keyValuePairs_right  \\\n",
       "0  {'category': 'proliant processor', 'sub catego...   \n",
       "1  {'category': 'proliant processor', 'sub catego...   \n",
       "2                                               None   \n",
       "3                                               None   \n",
       "4                                               None   \n",
       "\n",
       "              category_right cluster_id_right  \\\n",
       "0  Computers_and_Accessories          1679624   \n",
       "1  Computers_and_Accessories          1679624   \n",
       "2  Computers_and_Accessories           109916   \n",
       "3  Computers_and_Accessories           109916   \n",
       "4  Computers_and_Accessories           109916   \n",
       "\n",
       "                                   identifiers_right label            pair_id  \\\n",
       "0                          [{'/mpn': '[495906b21]'}]     1   5490217#16248399   \n",
       "1                          [{'/mpn': '[495906b21]'}]     1  16876009#16248399   \n",
       "2               [{'/productID': '[90mb0ty0m0eay0]'}]     1  16543750#14031864   \n",
       "3  [{'/mpn': '[90mb0ty0m0eay0]'}, {'/gtin13': '[4...     1  16721450#10358026   \n",
       "4  [{'/productID': '[asux29del]'}, {'/mpn': '[pri...     1   14031864#4588573   \n",
       "\n",
       "                                     prod_left_right  \n",
       "0  hp intel xeon x5560 prijzen tweakers null , 49...  \n",
       "1  495906 b21 hp x5560 2 80ghz ml350 g6 , null ne...  \n",
       "2  asus motherboard lga2066 ddr4 m 2 u atx 2xgbe ...  \n",
       "3  asus prime x299 deluxe prijzen tweakers asus p...  \n",
       "4  asus prime x299 deluxe asus prime x299 deluxe ...  \n",
       "\n",
       "[5 rows x 23 columns]"
      ]
     },
     "execution_count": 219,
     "metadata": {},
     "output_type": "execute_result"
    }
   ],
   "source": [
    "new_data.head()"
   ]
  },
  {
   "cell_type": "code",
   "execution_count": 174,
   "id": "ea05983b",
   "metadata": {},
   "outputs": [
    {
     "name": "stdout",
     "output_type": "stream",
     "text": [
      "<class 'pandas.core.series.Series'>\n"
     ]
    },
    {
     "data": {
      "text/plain": [
       "0        1\n",
       "1        1\n",
       "2        1\n",
       "3        1\n",
       "4        1\n",
       "        ..\n",
       "68456    0\n",
       "68457    0\n",
       "68458    0\n",
       "68459    0\n",
       "68460    0\n",
       "Name: label, Length: 68461, dtype: int64"
      ]
     },
     "execution_count": 174,
     "metadata": {},
     "output_type": "execute_result"
    }
   ],
   "source": [
    "def extract_features(df,field,training_data,testing_data,type=\"\"):\n",
    "    \"\"\"Extract features \"\"\"\n",
    "    \n",
    "    logging.info(\"Extracting features and creating vocabulary...\")\n",
    "    \n",
    "        \n",
    "    # TF-IDF BASED FEATURE REPRESENTATION\n",
    "    tfidf_vectorizer=TfidfVectorizer(use_idf=True, max_df=0.95)\n",
    "    tfidf_vectorizer.fit_transform(training_data[field].values)\n",
    "        \n",
    "    train_feature_set=tfidf_vectorizer.transform(training_data[field].values)\n",
    "    test_feature_set=tfidf_vectorizer.transform(testing_data[field].values)\n",
    "        \n",
    "    return train_feature_set,test_feature_set,tfidf_vectorizer"
   ]
  },
  {
   "cell_type": "markdown",
   "id": "b5c79417",
   "metadata": {},
   "source": [
    "### Drop missing data"
   ]
  },
  {
   "cell_type": "code",
   "execution_count": 220,
   "id": "ce775634",
   "metadata": {},
   "outputs": [],
   "source": [
    "new_data=new_data.dropna()\n",
    "test= test.dropna()"
   ]
  },
  {
   "cell_type": "code",
   "execution_count": 221,
   "id": "2dba88aa",
   "metadata": {},
   "outputs": [
    {
     "data": {
      "text/html": [
       "<div>\n",
       "<style scoped>\n",
       "    .dataframe tbody tr th:only-of-type {\n",
       "        vertical-align: middle;\n",
       "    }\n",
       "\n",
       "    .dataframe tbody tr th {\n",
       "        vertical-align: top;\n",
       "    }\n",
       "\n",
       "    .dataframe thead th {\n",
       "        text-align: right;\n",
       "    }\n",
       "</style>\n",
       "<table border=\"1\" class=\"dataframe\">\n",
       "  <thead>\n",
       "    <tr style=\"text-align: right;\">\n",
       "      <th></th>\n",
       "      <th>id_left</th>\n",
       "      <th>title_left</th>\n",
       "      <th>description_left</th>\n",
       "      <th>brand_left</th>\n",
       "      <th>price_left</th>\n",
       "      <th>specTableContent_left</th>\n",
       "      <th>keyValuePairs_left</th>\n",
       "      <th>category_left</th>\n",
       "      <th>cluster_id_left</th>\n",
       "      <th>identifiers_left</th>\n",
       "      <th>...</th>\n",
       "      <th>brand_right</th>\n",
       "      <th>price_right</th>\n",
       "      <th>specTableContent_right</th>\n",
       "      <th>keyValuePairs_right</th>\n",
       "      <th>category_right</th>\n",
       "      <th>cluster_id_right</th>\n",
       "      <th>identifiers_right</th>\n",
       "      <th>label</th>\n",
       "      <th>pair_id</th>\n",
       "      <th>prod_left_right</th>\n",
       "    </tr>\n",
       "  </thead>\n",
       "  <tbody>\n",
       "    <tr>\n",
       "      <th>244</th>\n",
       "      <td>16438005</td>\n",
       "      <td>242469 001 hp storageworks external , null</td>\n",
       "      <td>description storageworks external tapepart num...</td>\n",
       "      <td>hp enterprise</td>\n",
       "      <td>149 35 usd</td>\n",
       "      <td>specifications category proliant sub category ...</td>\n",
       "      <td>{'category': 'proliant', 'sub category': 'tape...</td>\n",
       "      <td>Computers_and_Accessories</td>\n",
       "      <td>15504953</td>\n",
       "      <td>[{'/mpn': '[242469001]'}]</td>\n",
       "      <td>...</td>\n",
       "      <td>hp enterprise</td>\n",
       "      <td>149 35 usd</td>\n",
       "      <td>specifications category proliant sub category ...</td>\n",
       "      <td>{'category': 'proliant', 'sub category': 'tape...</td>\n",
       "      <td>Computers_and_Accessories</td>\n",
       "      <td>15504953</td>\n",
       "      <td>[{'/mpn': '[242469001]'}]</td>\n",
       "      <td>1</td>\n",
       "      <td>16438005#17205507</td>\n",
       "      <td>242469 001 hp storageworks external , null nul...</td>\n",
       "    </tr>\n",
       "    <tr>\n",
       "      <th>510</th>\n",
       "      <td>17227264</td>\n",
       "      <td>238921 b21 hp 72 8 gb 10k fc al hdd , null</td>\n",
       "      <td>description storageworks 72 8gb 10k fibre chan...</td>\n",
       "      <td>hp enterprise</td>\n",
       "      <td>111 74 cad cad</td>\n",
       "      <td>specifications category storageworks hdd sub c...</td>\n",
       "      <td>{'category': 'storageworks hdd', 'sub category...</td>\n",
       "      <td>Computers_and_Accessories</td>\n",
       "      <td>650894</td>\n",
       "      <td>[{'/mpn': '[238921b21]'}]</td>\n",
       "      <td>...</td>\n",
       "      <td>hp enterprise</td>\n",
       "      <td>789 95 cad cad</td>\n",
       "      <td>specifications category storageworks hdd sub c...</td>\n",
       "      <td>{'category': 'storageworks hdd', 'sub category...</td>\n",
       "      <td>Computers_and_Accessories</td>\n",
       "      <td>650894</td>\n",
       "      <td>[{'/mpn': '[238921b21]'}]</td>\n",
       "      <td>1</td>\n",
       "      <td>17227264#15910101</td>\n",
       "      <td>238921 b21 hp 72 8 gb 10k fc al hdd , null 238...</td>\n",
       "    </tr>\n",
       "    <tr>\n",
       "      <th>584</th>\n",
       "      <td>12160995</td>\n",
       "      <td>430165 003 hp 146 gb 3g 10k 2 5 dp sas 10 pack...</td>\n",
       "      <td>description 10 x 146gb 2 5 inch serial attache...</td>\n",
       "      <td>hp enterprise</td>\n",
       "      <td>cad</td>\n",
       "      <td>specifications manufacturer hp category hard d...</td>\n",
       "      <td>{'manufacturer': 'hewlett packard', 'category'...</td>\n",
       "      <td>Computers_and_Accessories</td>\n",
       "      <td>152802</td>\n",
       "      <td>[{'/productID': '[455127hp]'}, {'/sku': '[hp43...</td>\n",
       "      <td>...</td>\n",
       "      <td>hp enterprise</td>\n",
       "      <td>75 95 usd</td>\n",
       "      <td>specifications manufacturer hp category hard d...</td>\n",
       "      <td>{'manufacturer': 'hewlett packard', 'category'...</td>\n",
       "      <td>Computers_and_Accessories</td>\n",
       "      <td>152802</td>\n",
       "      <td>[{'/mpn': '[hp430165003]'}]</td>\n",
       "      <td>1</td>\n",
       "      <td>12160995#14688594</td>\n",
       "      <td>430165 003 hp 146 gb 3g 10k 2 5 dp sas 10 pack...</td>\n",
       "    </tr>\n",
       "    <tr>\n",
       "      <th>585</th>\n",
       "      <td>11238231</td>\n",
       "      <td>430165 003 hp 146 gb 3g 10k 2 5 dp sas 10 pack</td>\n",
       "      <td>description 10 x 146gb 2 5 inch serial attache...</td>\n",
       "      <td>hp enterprise</td>\n",
       "      <td>757 67 cad</td>\n",
       "      <td>specifications manufacturer hp category hard d...</td>\n",
       "      <td>{'manufacturer': 'hewlett packard', 'category'...</td>\n",
       "      <td>Computers_and_Accessories</td>\n",
       "      <td>152802</td>\n",
       "      <td>[{'/mpn': '[hp430165003]'}]</td>\n",
       "      <td>...</td>\n",
       "      <td>hp enterprise</td>\n",
       "      <td>75 95 usd</td>\n",
       "      <td>specifications manufacturer hp category hard d...</td>\n",
       "      <td>{'manufacturer': 'hewlett packard', 'category'...</td>\n",
       "      <td>Computers_and_Accessories</td>\n",
       "      <td>152802</td>\n",
       "      <td>[{'/mpn': '[hp430165003]'}]</td>\n",
       "      <td>1</td>\n",
       "      <td>11238231#14688594</td>\n",
       "      <td>430165 003 hp 146 gb 3g 10k 2 5 dp sas 10 pack...</td>\n",
       "    </tr>\n",
       "    <tr>\n",
       "      <th>588</th>\n",
       "      <td>12160995</td>\n",
       "      <td>430165 003 hp 146 gb 3g 10k 2 5 dp sas 10 pack...</td>\n",
       "      <td>description 10 x 146gb 2 5 inch serial attache...</td>\n",
       "      <td>hp enterprise</td>\n",
       "      <td>cad</td>\n",
       "      <td>specifications manufacturer hp category hard d...</td>\n",
       "      <td>{'manufacturer': 'hewlett packard', 'category'...</td>\n",
       "      <td>Computers_and_Accessories</td>\n",
       "      <td>152802</td>\n",
       "      <td>[{'/productID': '[455127hp]'}, {'/sku': '[hp43...</td>\n",
       "      <td>...</td>\n",
       "      <td>hp enterprise</td>\n",
       "      <td>133 20 usd</td>\n",
       "      <td>specifications manufacturer hp category hard d...</td>\n",
       "      <td>{'manufacturer': 'hewlett packard', 'category'...</td>\n",
       "      <td>Computers_and_Accessories</td>\n",
       "      <td>152802</td>\n",
       "      <td>[{'/mpn': '[hp430165003]'}]</td>\n",
       "      <td>1</td>\n",
       "      <td>12160995#9512726</td>\n",
       "      <td>430165 003 hp 146 gb 3g 10k 2 5 dp sas 10 pack...</td>\n",
       "    </tr>\n",
       "  </tbody>\n",
       "</table>\n",
       "<p>5 rows × 23 columns</p>\n",
       "</div>"
      ],
      "text/plain": [
       "      id_left                                         title_left  \\\n",
       "244  16438005         242469 001 hp storageworks external , null   \n",
       "510  17227264         238921 b21 hp 72 8 gb 10k fc al hdd , null   \n",
       "584  12160995  430165 003 hp 146 gb 3g 10k 2 5 dp sas 10 pack...   \n",
       "585  11238231     430165 003 hp 146 gb 3g 10k 2 5 dp sas 10 pack   \n",
       "588  12160995  430165 003 hp 146 gb 3g 10k 2 5 dp sas 10 pack...   \n",
       "\n",
       "                                      description_left     brand_left  \\\n",
       "244  description storageworks external tapepart num...  hp enterprise   \n",
       "510  description storageworks 72 8gb 10k fibre chan...  hp enterprise   \n",
       "584  description 10 x 146gb 2 5 inch serial attache...  hp enterprise   \n",
       "585  description 10 x 146gb 2 5 inch serial attache...  hp enterprise   \n",
       "588  description 10 x 146gb 2 5 inch serial attache...  hp enterprise   \n",
       "\n",
       "         price_left                              specTableContent_left  \\\n",
       "244      149 35 usd  specifications category proliant sub category ...   \n",
       "510  111 74 cad cad  specifications category storageworks hdd sub c...   \n",
       "584             cad  specifications manufacturer hp category hard d...   \n",
       "585      757 67 cad  specifications manufacturer hp category hard d...   \n",
       "588             cad  specifications manufacturer hp category hard d...   \n",
       "\n",
       "                                    keyValuePairs_left  \\\n",
       "244  {'category': 'proliant', 'sub category': 'tape...   \n",
       "510  {'category': 'storageworks hdd', 'sub category...   \n",
       "584  {'manufacturer': 'hewlett packard', 'category'...   \n",
       "585  {'manufacturer': 'hewlett packard', 'category'...   \n",
       "588  {'manufacturer': 'hewlett packard', 'category'...   \n",
       "\n",
       "                 category_left  cluster_id_left  \\\n",
       "244  Computers_and_Accessories         15504953   \n",
       "510  Computers_and_Accessories           650894   \n",
       "584  Computers_and_Accessories           152802   \n",
       "585  Computers_and_Accessories           152802   \n",
       "588  Computers_and_Accessories           152802   \n",
       "\n",
       "                                      identifiers_left  ...    brand_right  \\\n",
       "244                          [{'/mpn': '[242469001]'}]  ...  hp enterprise   \n",
       "510                          [{'/mpn': '[238921b21]'}]  ...  hp enterprise   \n",
       "584  [{'/productID': '[455127hp]'}, {'/sku': '[hp43...  ...  hp enterprise   \n",
       "585                        [{'/mpn': '[hp430165003]'}]  ...  hp enterprise   \n",
       "588  [{'/productID': '[455127hp]'}, {'/sku': '[hp43...  ...  hp enterprise   \n",
       "\n",
       "        price_right                             specTableContent_right  \\\n",
       "244      149 35 usd  specifications category proliant sub category ...   \n",
       "510  789 95 cad cad  specifications category storageworks hdd sub c...   \n",
       "584       75 95 usd  specifications manufacturer hp category hard d...   \n",
       "585       75 95 usd  specifications manufacturer hp category hard d...   \n",
       "588      133 20 usd  specifications manufacturer hp category hard d...   \n",
       "\n",
       "                                   keyValuePairs_right  \\\n",
       "244  {'category': 'proliant', 'sub category': 'tape...   \n",
       "510  {'category': 'storageworks hdd', 'sub category...   \n",
       "584  {'manufacturer': 'hewlett packard', 'category'...   \n",
       "585  {'manufacturer': 'hewlett packard', 'category'...   \n",
       "588  {'manufacturer': 'hewlett packard', 'category'...   \n",
       "\n",
       "                category_right cluster_id_right            identifiers_right  \\\n",
       "244  Computers_and_Accessories         15504953    [{'/mpn': '[242469001]'}]   \n",
       "510  Computers_and_Accessories           650894    [{'/mpn': '[238921b21]'}]   \n",
       "584  Computers_and_Accessories           152802  [{'/mpn': '[hp430165003]'}]   \n",
       "585  Computers_and_Accessories           152802  [{'/mpn': '[hp430165003]'}]   \n",
       "588  Computers_and_Accessories           152802  [{'/mpn': '[hp430165003]'}]   \n",
       "\n",
       "    label            pair_id  \\\n",
       "244     1  16438005#17205507   \n",
       "510     1  17227264#15910101   \n",
       "584     1  12160995#14688594   \n",
       "585     1  11238231#14688594   \n",
       "588     1   12160995#9512726   \n",
       "\n",
       "                                       prod_left_right  \n",
       "244  242469 001 hp storageworks external , null nul...  \n",
       "510  238921 b21 hp 72 8 gb 10k fc al hdd , null 238...  \n",
       "584  430165 003 hp 146 gb 3g 10k 2 5 dp sas 10 pack...  \n",
       "585  430165 003 hp 146 gb 3g 10k 2 5 dp sas 10 pack...  \n",
       "588  430165 003 hp 146 gb 3g 10k 2 5 dp sas 10 pack...  \n",
       "\n",
       "[5 rows x 23 columns]"
      ]
     },
     "execution_count": 221,
     "metadata": {},
     "output_type": "execute_result"
    }
   ],
   "source": [
    "new_data.head()"
   ]
  },
  {
   "cell_type": "code",
   "execution_count": 70,
   "id": "01d0c92c",
   "metadata": {},
   "outputs": [
    {
     "data": {
      "text/plain": [
       "5     \"ARRIS\"@en-US \"8X Faster than DOCSIS 2.0 Downl...\n",
       "9     \"LOGITECH\" \"OverviewLOGITECH ADVANCED 2.4 GHZ ...\n",
       "10    \"HP Enterprise\" \"Description:Genuine HPE 4GB (...\n",
       "12    \"Transcend\" \"Transcend 16GB SDHC10 Secure Digi...\n",
       "21    \"Patriot\"@en-US \"The Patriot LX Class 10 Micro...\n",
       "Name: prod_left_right, dtype: object"
      ]
     },
     "execution_count": 70,
     "metadata": {},
     "output_type": "execute_result"
    }
   ],
   "source": [
    "test.prod_left_right.head()"
   ]
  },
  {
   "cell_type": "markdown",
   "id": "b9db4ca1",
   "metadata": {},
   "source": [
    "#### View some data parameters"
   ]
  },
  {
   "cell_type": "code",
   "execution_count": 222,
   "id": "ddabc406",
   "metadata": {},
   "outputs": [
    {
     "data": {
      "text/plain": [
       "0    0.85846\n",
       "1    0.14154\n",
       "Name: label, dtype: float64"
      ]
     },
     "execution_count": 222,
     "metadata": {},
     "output_type": "execute_result"
    }
   ],
   "source": [
    "data.label.value_counts(normalize=True)"
   ]
  },
  {
   "cell_type": "markdown",
   "id": "a5dcc025",
   "metadata": {},
   "source": [
    "#### Plot the labels 0 for non matching 1 for matching"
   ]
  },
  {
   "cell_type": "code",
   "execution_count": 223,
   "id": "0ef8754b",
   "metadata": {},
   "outputs": [
    {
     "data": {
      "text/plain": [
       "<AxesSubplot:>"
      ]
     },
     "execution_count": 223,
     "metadata": {},
     "output_type": "execute_result"
    },
    {
     "data": {
      "image/png": "[encoded data removed]",
      "text/plain": [
       "<Figure size 432x288 with 1 Axes>"
      ]
     },
     "metadata": {
      "needs_background": "light"
     },
     "output_type": "display_data"
    }
   ],
   "source": [
    "data.label.value_counts(normalize=True).sort_index().plot(kind='bar')"
   ]
  },
  {
   "cell_type": "markdown",
   "id": "6d3ef9d5",
   "metadata": {},
   "source": [
    "## LEARN THE VOCABULARY"
   ]
  },
  {
   "cell_type": "code",
   "execution_count": 226,
   "id": "f2f10eec",
   "metadata": {},
   "outputs": [
    {
     "name": "stdout",
     "output_type": "stream",
     "text": [
      "===applying the function remove_punctuation to column \"prod_left_right\" in new_data set===\n",
      "===Function remove_punctuation applied to column \"prod_left_right\" in new_data set===\n",
      "===Generating Stopwords===...\n"
     ]
    },
    {
     "name": "stderr",
     "output_type": "stream",
     "text": [
      "C:\\Users\\pc\\AppData\\Local\\Temp/ipykernel_14244/2456849028.py:16: SettingWithCopyWarning: \n",
      "A value is trying to be set on a copy of a slice from a DataFrame.\n",
      "Try using .loc[row_indexer,col_indexer] = value instead\n",
      "\n",
      "See the caveats in the documentation: https://pandas.pydata.org/pandas-docs/stable/user_guide/indexing.html#returning-a-view-versus-a-copy\n",
      "  new_data['prod_left_right'] = new_data['prod_left_right'].apply(lambda x:remove_punctuation(x))\n",
      "[nltk_data] Downloading package stopwords to\n",
      "[nltk_data]     C:\\Users\\pc\\anaconda3\\lib\\nltk_data...\n",
      "[nltk_data]   Package stopwords is already up-to-date!\n",
      "C:\\Users\\pc\\anaconda3\\lib\\site-packages\\sklearn\\feature_extraction\\text.py:489: UserWarning: The parameter 'token_pattern' will not be used since 'tokenizer' is not None'\n",
      "  warnings.warn(\"The parameter 'token_pattern' will not be used\"\n"
     ]
    },
    {
     "name": "stdout",
     "output_type": "stream",
     "text": [
      "Creating a Tf-Idf instance\n",
      "Learning the vocabulary and pass in the text it needs to fit\n",
      "\n",
      "\n",
      "The length of the vocabulary learnt is 503\n"
     ]
    }
   ],
   "source": [
    "import nltk\n",
    "from nltk.tokenize import word_tokenize #to tokenize the column\n",
    "from nltk.stem.snowball import SnowballStemmer # To stem the each word\n",
    "stemmer= SnowballStemmer(language='english')\n",
    "\n",
    "#defining the function to remove punctuation\n",
    "import re\n",
    "import string\n",
    "string.punctuation\n",
    "#library that contains punctuation\n",
    "def remove_punctuation(text):\n",
    "    punctuationfree=\"\".join([i for i in text if i not in string.punctuation])\n",
    "    return punctuationfree\n",
    "\n",
    "print('===applying the function remove_punctuation to column \"prod_left_right\" in new_data set===\\n\\n')\n",
    "new_data['prod_left_right'] = new_data['prod_left_right'].apply(lambda x:remove_punctuation(x))\n",
    "print('===Function remove_punctuation applied to column \"prod_left_right\" in new_data set===\\n\\n')\n",
    "\n",
    "print('===Generating Stopwords===...')\n",
    "nltk.download('stopwords')\n",
    "from nltk.corpus import stopwords\n",
    "english_stopwords=stopwords.words('english')\n",
    "print('Creating a Tf-Idf instance')\n",
    "print('Learning the vocabulary and pass in the text it needs to fit')\n",
    "vectorizer.fit(new_data.prod_left_right)\n",
    "print('\\n\\n')\n",
    "print('The length of the vocabulary learnt is', len(vectorizer.vocabulary_))\n",
    "\n",
    "\n",
    "print('Transform Training and test data')\n",
    "inputs= vectorizer.transform(new_data.prod_left_right)\n"
   ]
  },
  {
   "cell_type": "code",
   "execution_count": 18,
   "id": "520bfa53",
   "metadata": {},
   "outputs": [
    {
     "data": {
      "text/plain": [
       "['This', 'is', 'a', 'man']"
      ]
     },
     "execution_count": 18,
     "metadata": {},
     "output_type": "execute_result"
    }
   ],
   "source": [
    "word_tokenize('This is a man')"
   ]
  },
  {
   "cell_type": "code",
   "execution_count": 225,
   "id": "22e77ace",
   "metadata": {},
   "outputs": [
    {
     "data": {
      "text/plain": [
       "244    242469 001 hp storageworks external  null null...\n",
       "510    238921 b21 hp 72 8 gb 10k fc al hdd  null 2389...\n",
       "584    430165 003 hp 146 gb 3g 10k 2 5 dp sas 10 pack...\n",
       "585    430165 003 hp 146 gb 3g 10k 2 5 dp sas 10 pack...\n",
       "588    430165 003 hp 146 gb 3g 10k 2 5 dp sas 10 pack...\n",
       "Name: prod_left_right, dtype: object"
      ]
     },
     "execution_count": 225,
     "metadata": {},
     "output_type": "execute_result"
    }
   ],
   "source": [
    "new_data.prod_left_right.head()"
   ]
  },
  {
   "cell_type": "code",
   "execution_count": 20,
   "id": "704d8ade",
   "metadata": {},
   "outputs": [
    {
     "data": {
      "text/plain": [
       "'pray'"
      ]
     },
     "execution_count": 20,
     "metadata": {},
     "output_type": "execute_result"
    }
   ],
   "source": [
    "stemmer.stem('praying')"
   ]
  },
  {
   "cell_type": "markdown",
   "id": "989cc254",
   "metadata": {},
   "source": [
    "#### Function To Remove punctuations"
   ]
  },
  {
   "cell_type": "code",
   "execution_count": 65,
   "id": "47ddce07",
   "metadata": {},
   "outputs": [],
   "source": [
    "import re\n",
    "import string\n",
    "string.punctuation\n",
    "\n",
    "''' def tokenize(url:str):   \n",
    "    url=re.sub(\"(\\W|_)+\",\" \",url)\n",
    "    return url \n",
    "'''\n",
    "#library that contains punctuation\n",
    "#defining the function to remove punctuation\n",
    "def remove_punctuation(text):\n",
    "    punctuationfree=\"\".join([i for i in text if i not in string.punctuation])\n",
    "    return punctuationfree"
   ]
  },
  {
   "cell_type": "markdown",
   "id": "05a45a98",
   "metadata": {},
   "source": [
    "#### apply the function remove_punctuation to all columns for train data set"
   ]
  },
  {
   "cell_type": "code",
   "execution_count": 66,
   "id": "4f5de4d2",
   "metadata": {},
   "outputs": [],
   "source": [
    "data['prod_left_right'] = data['prod_left_right'].apply(lambda x:remove_punctuation(x))\n",
    "test['prod_left_right'] = test['prod_left_right'].apply(lambda x:remove_punctuation(x))"
   ]
  },
  {
   "cell_type": "code",
   "execution_count": 71,
   "id": "e58b4c7a",
   "metadata": {},
   "outputs": [],
   "source": [
    "test['prod_left_right'] = test['prod_left_right'].apply(lambda x:remove_punctuation(x))"
   ]
  },
  {
   "cell_type": "markdown",
   "id": "6b675921",
   "metadata": {},
   "source": [
    "### Define Tokenizer function"
   ]
  },
  {
   "cell_type": "code",
   "execution_count": 67,
   "id": "191bc05f",
   "metadata": {},
   "outputs": [],
   "source": [
    "def tokenize(text):\n",
    "            return [stemmer.stem(token) for token in word_tokenize(text)]"
   ]
  },
  {
   "cell_type": "markdown",
   "id": "b4d94c47",
   "metadata": {},
   "source": [
    "#### Generate Stopwords"
   ]
  },
  {
   "cell_type": "code",
   "execution_count": 24,
   "id": "c8221ec1",
   "metadata": {},
   "outputs": [],
   "source": [
    "#nltk.download('stopwords')\n",
    "from nltk.corpus import stopwords\n",
    "english_stopwords=stopwords.words('english')"
   ]
  },
  {
   "cell_type": "markdown",
   "id": "8168728b",
   "metadata": {},
   "source": [
    "#### Create a Tf-Idf instance"
   ]
  },
  {
   "cell_type": "code",
   "execution_count": 68,
   "id": "223c767d",
   "metadata": {},
   "outputs": [],
   "source": [
    "from sklearn.feature_extraction.text import TfidfVectorizer\n",
    "vectorizer = TfidfVectorizer(tokenizer=tokenize , \n",
    "                             stop_words=english_stopwords,\n",
    "                            ngram_range=(1,1) #, max_features=2000\n",
    "                            )"
   ]
  },
  {
   "cell_type": "markdown",
   "id": "cdd53b1f",
   "metadata": {},
   "source": [
    "#### Learn the vocabulary and pass in the text it needs to fit"
   ]
  },
  {
   "cell_type": "code",
   "execution_count": 69,
   "id": "d8388842",
   "metadata": {},
   "outputs": [
    {
     "name": "stderr",
     "output_type": "stream",
     "text": [
      "C:\\Users\\pc\\anaconda3\\lib\\site-packages\\sklearn\\feature_extraction\\text.py:489: UserWarning: The parameter 'token_pattern' will not be used since 'tokenizer' is not None'\n",
      "  warnings.warn(\"The parameter 'token_pattern' will not be used\"\n",
      "C:\\Users\\pc\\anaconda3\\lib\\site-packages\\sklearn\\feature_extraction\\text.py:388: UserWarning: Your stop_words may be inconsistent with your preprocessing. Tokenizing the stop words generated tokens [\"'d\", \"'s\", 'abov', 'ani', 'becaus', 'befor', 'could', 'doe', 'dure', 'might', 'must', \"n't\", 'need', 'onc', 'onli', 'ourselv', 'sha', 'themselv', 'veri', 'whi', 'wo', 'would', 'yourselv'] not in stop_words.\n",
      "  warnings.warn('Your stop_words may be inconsistent with '\n"
     ]
    },
    {
     "data": {
      "text/plain": [
       "TfidfVectorizer(stop_words=['i', 'me', 'my', 'myself', 'we', 'our', 'ours',\n",
       "                            'ourselves', 'you', \"you're\", \"you've\", \"you'll\",\n",
       "                            \"you'd\", 'your', 'yours', 'yourself', 'yourselves',\n",
       "                            'he', 'him', 'his', 'himself', 'she', \"she's\",\n",
       "                            'her', 'hers', 'herself', 'it', \"it's\", 'its',\n",
       "                            'itself', ...],\n",
       "                tokenizer=<function tokenize at 0x000001CAAC161AF0>)"
      ]
     },
     "execution_count": 69,
     "metadata": {},
     "output_type": "execute_result"
    }
   ],
   "source": [
    "vectorizer.fit(data.prod_left_right)"
   ]
  },
  {
   "cell_type": "markdown",
   "id": "5072dbc1",
   "metadata": {},
   "source": [
    "#### View the first 200 features of the first row"
   ]
  },
  {
   "cell_type": "code",
   "execution_count": 237,
   "id": "de20cd08",
   "metadata": {},
   "outputs": [
    {
     "data": {
      "text/plain": [
       "['bl680c',\n",
       " 'bl685c',\n",
       " 'blade',\n",
       " 'board',\n",
       " 'box',\n",
       " 'bus',\n",
       " 'chassi',\n",
       " 'consol',\n",
       " 'control',\n",
       " 'cooler',\n",
       " 'core',\n",
       " 'cpu',\n",
       " 'ddr',\n",
       " 'desktop',\n",
       " 'dg0146famwl',\n",
       " 'dg0300bahzq',\n",
       " 'dg0300farvv',\n",
       " 'dh0072balwl',\n",
       " 'dimm',\n",
       " 'dl120',\n",
       " 'dl140',\n",
       " 'dl145',\n",
       " 'dl160',\n",
       " 'dl165',\n",
       " 'dl170h',\n",
       " 'dl320',\n",
       " 'dl360',\n",
       " 'dl360p',\n",
       " 'dl360r',\n",
       " 'dl380',\n",
       " 'dl560',\n",
       " 'dl580',\n",
       " 'dl580r',\n",
       " 'dl740r',\n",
       " 'dl760',\n",
       " 'dlt',\n",
       " 'dp',\n",
       " 'drive',\n",
       " 'dual',\n",
       " 'dvd',\n",
       " 'e',\n",
       " 'e5',\n",
       " 'e5335',\n",
       " 'e5345',\n",
       " 'e5410',\n",
       " 'e5504',\n",
       " 'e5506',\n",
       " 'e5507',\n",
       " 'e5607',\n",
       " 'e7400',\n",
       " 'e7440',\n",
       " 'e74820',\n",
       " 'e74830',\n",
       " 'e78867',\n",
       " 'ec',\n",
       " 'ecc',\n",
       " 'eg0146fartr',\n",
       " 'eh0146fawjb',\n",
       " 'el',\n",
       " 'enclosur',\n",
       " 'eql',\n",
       " 'ethernet',\n",
       " 'ext',\n",
       " 'extern',\n",
       " 'fan',\n",
       " 'fc',\n",
       " 'flexfabr',\n",
       " 'fujitsu',\n",
       " 'g',\n",
       " 'g2',\n",
       " 'g3',\n",
       " 'g4p',\n",
       " 'g5',\n",
       " 'g6',\n",
       " 'g7',\n",
       " 'g8',\n",
       " 'g9',\n",
       " 'gb',\n",
       " 'hba',\n",
       " 'hca',\n",
       " 'hd00931c35',\n",
       " 'hdd',\n",
       " 'host',\n",
       " 'hp',\n",
       " 'hplug',\n",
       " 'hz',\n",
       " 'i5',\n",
       " 'insight',\n",
       " 'int',\n",
       " 'intel',\n",
       " 'interfac',\n",
       " 'intern',\n",
       " 'kit',\n",
       " 'kvm',\n",
       " 'l5335',\n",
       " 'le',\n",
       " 'librari',\n",
       " 'lp',\n",
       " 'may2073rc',\n",
       " 'mb',\n",
       " 'mdl',\n",
       " 'memori',\n",
       " 'ml350',\n",
       " 'ml350t',\n",
       " 'ml370',\n",
       " 'ml370t',\n",
       " 'mlc',\n",
       " 'modul',\n",
       " 'mp',\n",
       " 'msa2',\n",
       " 'msa50',\n",
       " 'msl5026',\n",
       " 'msl5026s2',\n",
       " 'nc340t',\n",
       " 'nhp',\n",
       " 'null',\n",
       " 'opal',\n",
       " 'opteron',\n",
       " 'p222',\n",
       " 'p410',\n",
       " 'p411',\n",
       " 'p420',\n",
       " 'p421',\n",
       " 'p600',\n",
       " 'pack',\n",
       " 'part',\n",
       " 'pc100',\n",
       " 'pc1600',\n",
       " 'pc2',\n",
       " 'pc2100',\n",
       " 'pc2700',\n",
       " 'pc3',\n",
       " 'pc300',\n",
       " 'pc3200',\n",
       " 'pc5300',\n",
       " 'pc6400',\n",
       " 'pci',\n",
       " 'pl',\n",
       " 'port',\n",
       " 'proliant',\n",
       " 'ps',\n",
       " 'ps4000e',\n",
       " 'rackmount',\n",
       " 'ram',\n",
       " 'rdimm',\n",
       " 'reg',\n",
       " 'remot',\n",
       " 'ri',\n",
       " 's21',\n",
       " 'sa',\n",
       " 'sas',\n",
       " 'sata',\n",
       " 'sc',\n",
       " 'sc40ge',\n",
       " 'scsi',\n",
       " 'sdl',\n",
       " 'sdlt',\n",
       " 'sdram',\n",
       " 'seagat',\n",
       " 'server',\n",
       " 'slc',\n",
       " 'slim',\n",
       " 'smart',\n",
       " 'sp',\n",
       " 'ssd',\n",
       " 'st1000dm003',\n",
       " 'st1000nm0033',\n",
       " 'st2000nm0011',\n",
       " 'st31000340as',\n",
       " 'st31000524ns',\n",
       " 'st31000640ns',\n",
       " 'st3500630ns',\n",
       " 'st3750330ns',\n",
       " 'stndalon',\n",
       " 'storagework',\n",
       " 'sun',\n",
       " 'super',\n",
       " 'tape',\n",
       " 'tb',\n",
       " 'u160',\n",
       " 'u320',\n",
       " 'udimm',\n",
       " 'ultra',\n",
       " 'ultra2',\n",
       " 'ultra3',\n",
       " 'usb',\n",
       " 'wide',\n",
       " 'without',\n",
       " 'x',\n",
       " 'x2',\n",
       " 'x3210',\n",
       " 'x3220',\n",
       " 'x3330',\n",
       " 'x5450',\n",
       " 'x5470',\n",
       " 'x5560',\n",
       " 'x7560',\n",
       " 'xem',\n",
       " 'xeon',\n",
       " 'xta']"
      ]
     },
     "execution_count": 237,
     "metadata": {},
     "output_type": "execute_result"
    }
   ],
   "source": [
    "vectorizer.get_feature_names()[-200:]"
   ]
  },
  {
   "cell_type": "code",
   "execution_count": 1,
   "id": "81f65c1a",
   "metadata": {},
   "outputs": [
    {
     "ename": "NameError",
     "evalue": "name 'tokenize' is not defined",
     "output_type": "error",
     "traceback": [
      "\u001b[1;31m---------------------------------------------------------------------------\u001b[0m",
      "\u001b[1;31mNameError\u001b[0m                                 Traceback (most recent call last)",
      "\u001b[1;32m~\\AppData\\Local\\Temp/ipykernel_3024/292098007.py\u001b[0m in \u001b[0;36m<module>\u001b[1;34m\u001b[0m\n\u001b[1;32m----> 1\u001b[1;33m \u001b[0mtokenize\u001b[0m\u001b[1;33m(\u001b[0m\u001b[1;34m'Computers_and_Accessories hp enterpris'\u001b[0m\u001b[1;33m)\u001b[0m\u001b[1;33m\u001b[0m\u001b[1;33m\u001b[0m\u001b[0m\n\u001b[0m",
      "\u001b[1;31mNameError\u001b[0m: name 'tokenize' is not defined"
     ]
    }
   ],
   "source": [
    "tokenize('Computers_and_Accessories hp enterpris')"
   ]
  },
  {
   "cell_type": "markdown",
   "id": "8b288684",
   "metadata": {},
   "source": [
    "#### Transform Training and test data"
   ]
  },
  {
   "cell_type": "code",
   "execution_count": 47,
   "id": "ee2aa6be",
   "metadata": {},
   "outputs": [],
   "source": [
    "inputs= vectorizer.transform(data.prod_left_right)"
   ]
  },
  {
   "cell_type": "code",
   "execution_count": 48,
   "id": "0a866b62",
   "metadata": {},
   "outputs": [
    {
     "data": {
      "text/plain": [
       "(14238, 10225)"
      ]
     },
     "execution_count": 48,
     "metadata": {},
     "output_type": "execute_result"
    }
   ],
   "source": [
    "inputs.shape"
   ]
  },
  {
   "cell_type": "code",
   "execution_count": 50,
   "id": "a025f7c1",
   "metadata": {},
   "outputs": [
    {
     "data": {
      "text/plain": [
       "array([0.06926941, 0.        , 0.        , ..., 0.        , 0.        ,\n",
       "       0.        ])"
      ]
     },
     "execution_count": 50,
     "metadata": {},
     "output_type": "execute_result"
    }
   ],
   "source": [
    "inputs.toarray()[1]"
   ]
  },
  {
   "cell_type": "code",
   "execution_count": null,
   "id": "17275465",
   "metadata": {},
   "outputs": [],
   "source": []
  },
  {
   "cell_type": "code",
   "execution_count": null,
   "id": "1e8f692a",
   "metadata": {},
   "outputs": [],
   "source": []
  },
  {
   "cell_type": "markdown",
   "id": "cd27f7d2",
   "metadata": {},
   "source": [
    "#### Transform test data"
   ]
  },
  {
   "cell_type": "code",
   "execution_count": 72,
   "id": "beecbee0",
   "metadata": {},
   "outputs": [],
   "source": [
    "test_inputs= vectorizer.transform(test.prod_left_right)"
   ]
  },
  {
   "cell_type": "code",
   "execution_count": 73,
   "id": "ec9bc072",
   "metadata": {},
   "outputs": [
    {
     "data": {
      "text/plain": [
       "(587, 9196)"
      ]
     },
     "execution_count": 73,
     "metadata": {},
     "output_type": "execute_result"
    }
   ],
   "source": [
    "test_inputs.shape"
   ]
  },
  {
   "cell_type": "code",
   "execution_count": 249,
   "id": "13265132",
   "metadata": {},
   "outputs": [],
   "source": [
    "from sklearn.linear_model import LogisticRegression\n",
    "from sklearn.feature_extraction.text import CountVectorizer,TfidfVectorizer"
   ]
  },
  {
   "cell_type": "markdown",
   "id": "4e304a46",
   "metadata": {},
   "source": [
    "#### Split the data into train and validation "
   ]
  },
  {
   "cell_type": "code",
   "execution_count": 74,
   "id": "0544d433",
   "metadata": {},
   "outputs": [],
   "source": [
    "from sklearn.model_selection import train_test_split"
   ]
  },
  {
   "cell_type": "code",
   "execution_count": 81,
   "id": "fcfa9897",
   "metadata": {},
   "outputs": [],
   "source": [
    "X_train , X_test , y_train , y_test = train_test_split(inputs , data.label , test_size= 0.3 , random_state=42)"
   ]
  },
  {
   "cell_type": "code",
   "execution_count": 84,
   "id": "638dc36d",
   "metadata": {},
   "outputs": [
    {
     "data": {
      "text/plain": [
       "<9966x10225 sparse matrix of type '<class 'numpy.float64'>'\n",
       "\twith 653042 stored elements in Compressed Sparse Row format>"
      ]
     },
     "execution_count": 84,
     "metadata": {},
     "output_type": "execute_result"
    }
   ],
   "source": [
    "X_train"
   ]
  },
  {
   "cell_type": "code",
   "execution_count": 88,
   "id": "a671dd0e",
   "metadata": {},
   "outputs": [
    {
     "data": {
      "text/plain": [
       "62087    0\n",
       "60275    0\n",
       "36015    0\n",
       "26869    0\n",
       "47345    0\n",
       "Name: label, dtype: int64"
      ]
     },
     "execution_count": 88,
     "metadata": {},
     "output_type": "execute_result"
    }
   ],
   "source": [
    "y_test.tail()"
   ]
  },
  {
   "cell_type": "markdown",
   "id": "7f60834d",
   "metadata": {},
   "source": [
    "#### Validation data"
   ]
  },
  {
   "cell_type": "code",
   "execution_count": 90,
   "id": "c7a16b50",
   "metadata": {},
   "outputs": [],
   "source": [
    "X_train , X_test , y_train , y_test = train_test_split(test_inputs , test.label , test_size= 0.3 , random_state=42)"
   ]
  },
  {
   "cell_type": "code",
   "execution_count": 93,
   "id": "dce41a33",
   "metadata": {},
   "outputs": [
    {
     "data": {
      "text/plain": [
       "MultinomialNB()"
      ]
     },
     "execution_count": 93,
     "metadata": {},
     "output_type": "execute_result"
    }
   ],
   "source": [
    "#naive bayes classifier\n",
    "from sklearn.naive_bayes import MultinomialNB\n",
    "from sklearn import metrics\n",
    "naive_bayes_classifier = MultinomialNB()\n",
    "naive_bayes_classifier.fit(X_train, y_train)"
   ]
  },
  {
   "cell_type": "code",
   "execution_count": 94,
   "id": "1f6e951a",
   "metadata": {},
   "outputs": [],
   "source": [
    "#predicted y\n",
    "y_pred = naive_bayes_classifier.predict(X_test)"
   ]
  },
  {
   "cell_type": "code",
   "execution_count": 99,
   "id": "c35dd04b",
   "metadata": {},
   "outputs": [
    {
     "name": "stdout",
     "output_type": "stream",
     "text": [
      "              precision    recall  f1-score   support\n",
      "\n",
      "    nonmatch       0.78      1.00      0.88       137\n",
      "       match       1.00      0.03      0.05        40\n",
      "\n",
      "    accuracy                           0.78       177\n",
      "   macro avg       0.89      0.51      0.46       177\n",
      "weighted avg       0.83      0.78      0.69       177\n",
      "\n"
     ]
    }
   ],
   "source": [
    "from sklearn import metrics\n",
    "print(metrics.classification_report(y_test, y_pred, target_names=['nonmatch', 'match']))"
   ]
  },
  {
   "cell_type": "code",
   "execution_count": 100,
   "id": "9160fc4e",
   "metadata": {},
   "outputs": [],
   "source": [
    "from sklearn.linear_model import LogisticRegression"
   ]
  },
  {
   "cell_type": "code",
   "execution_count": 106,
   "id": "02dc08b8",
   "metadata": {},
   "outputs": [
    {
     "name": "stdout",
     "output_type": "stream",
     "text": [
      "[LibLinear]"
     ]
    }
   ],
   "source": [
    "log_reg = LogisticRegression(verbose=1, solver='liblinear',random_state=0, C=5, penalty='l2',max_iter=1000)\n",
    "model=log_reg.fit(X_train,y_train)"
   ]
  },
  {
   "cell_type": "code",
   "execution_count": 107,
   "id": "f9ce4725",
   "metadata": {},
   "outputs": [],
   "source": [
    "#predicted y\n",
    "y_pred = model.predict(X_test)"
   ]
  },
  {
   "cell_type": "code",
   "execution_count": 108,
   "id": "3639c040",
   "metadata": {},
   "outputs": [
    {
     "name": "stdout",
     "output_type": "stream",
     "text": [
      "              precision    recall  f1-score   support\n",
      "\n",
      "    nonmatch       0.80      0.95      0.87       137\n",
      "       match       0.50      0.17      0.26        40\n",
      "\n",
      "    accuracy                           0.77       177\n",
      "   macro avg       0.65      0.56      0.56       177\n",
      "weighted avg       0.73      0.77      0.73       177\n",
      "\n"
     ]
    }
   ],
   "source": [
    "print(metrics.classification_report(y_test, y_pred, target_names=['nonmatch', 'match']))"
   ]
  },
  {
   "cell_type": "code",
   "execution_count": null,
   "id": "4f99d7ed",
   "metadata": {},
   "outputs": [],
   "source": []
  },
  {
   "cell_type": "code",
   "execution_count": null,
   "id": "37e1cd09",
   "metadata": {},
   "outputs": [],
   "source": []
  },
  {
   "cell_type": "code",
   "execution_count": null,
   "id": "e2555ea0",
   "metadata": {},
   "outputs": [],
   "source": []
  },
  {
   "cell_type": "code",
   "execution_count": null,
   "id": "787aca7c",
   "metadata": {},
   "outputs": [],
   "source": []
  },
  {
   "cell_type": "code",
   "execution_count": null,
   "id": "0b29d090",
   "metadata": {},
   "outputs": [],
   "source": []
  }
 ],
 "metadata": {
  "kernelspec": {
   "display_name": "Python 3 (ipykernel)",
   "language": "python",
   "name": "python3"
  },
  "language_info": {
   "codemirror_mode": {
    "name": "ipython",
    "version": 3
   },
   "file_extension": ".py",
   "mimetype": "text/x-python",
   "name": "python",
   "nbconvert_exporter": "python",
   "pygments_lexer": "ipython3",
   "version": "3.9.7"
  }
 },
 "nbformat": 4,
 "nbformat_minor": 5
}
