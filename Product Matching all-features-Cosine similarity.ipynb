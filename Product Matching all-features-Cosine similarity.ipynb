{
 "cells": [
  {
   "cell_type": "code",
   "execution_count": 3,
   "id": "be7bd6bd",
   "metadata": {},
   "outputs": [],
   "source": [
    "import pandas as pd\n",
    "import json"
   ]
  },
  {
   "cell_type": "markdown",
   "id": "63fcf596",
   "metadata": {},
   "source": [
    "### Read Data"
   ]
  },
  {
   "cell_type": "code",
   "execution_count": 4,
   "id": "57494aac",
   "metadata": {},
   "outputs": [],
   "source": [
    "# data containing all product category\n",
    "data= pd.read_json('computers_train_xlarge.json' , lines=True)"
   ]
  },
  {
   "cell_type": "code",
   "execution_count": 5,
   "id": "c6d73c5e",
   "metadata": {},
   "outputs": [],
   "source": [
    "# gold standard data for all categories\n",
    "data_gs= pd.read_json('computers_gs.json' , lines=True)"
   ]
  },
  {
   "cell_type": "code",
   "execution_count": 6,
   "id": "853c8b87",
   "metadata": {},
   "outputs": [],
   "source": [
    "# test set containing all categories\n",
    "test_set = pd.read_json('task1_testset_1500_with_labels.json' , lines=True)"
   ]
  },
  {
   "cell_type": "markdown",
   "id": "c55371e8",
   "metadata": {},
   "source": [
    "### VIEW WHAT THE DATA LOOK LIKE"
   ]
  },
  {
   "cell_type": "code",
   "execution_count": 7,
   "id": "4e1f9f71",
   "metadata": {},
   "outputs": [
    {
     "data": {
      "text/html": [
       "<div>\n",
       "<style scoped>\n",
       "    .dataframe tbody tr th:only-of-type {\n",
       "        vertical-align: middle;\n",
       "    }\n",
       "\n",
       "    .dataframe tbody tr th {\n",
       "        vertical-align: top;\n",
       "    }\n",
       "\n",
       "    .dataframe thead th {\n",
       "        text-align: right;\n",
       "    }\n",
       "</style>\n",
       "<table border=\"1\" class=\"dataframe\">\n",
       "  <thead>\n",
       "    <tr style=\"text-align: right;\">\n",
       "      <th></th>\n",
       "      <th>id_left</th>\n",
       "      <th>category_left</th>\n",
       "      <th>cluster_id_left</th>\n",
       "      <th>id_right</th>\n",
       "      <th>category_right</th>\n",
       "      <th>cluster_id_right</th>\n",
       "      <th>label</th>\n",
       "      <th>pair_id</th>\n",
       "      <th>brand_left</th>\n",
       "      <th>brand_right</th>\n",
       "      <th>description_left</th>\n",
       "      <th>description_right</th>\n",
       "      <th>keyValuePairs_left</th>\n",
       "      <th>keyValuePairs_right</th>\n",
       "      <th>price_left</th>\n",
       "      <th>price_right</th>\n",
       "      <th>specTableContent_left</th>\n",
       "      <th>specTableContent_right</th>\n",
       "      <th>title_left</th>\n",
       "      <th>title_right</th>\n",
       "    </tr>\n",
       "  </thead>\n",
       "  <tbody>\n",
       "    <tr>\n",
       "      <th>0</th>\n",
       "      <td>2551242</td>\n",
       "      <td>Computers_and_Accessories</td>\n",
       "      <td>79457</td>\n",
       "      <td>16272671</td>\n",
       "      <td>Computers_and_Accessories</td>\n",
       "      <td>79457</td>\n",
       "      <td>1</td>\n",
       "      <td>2551242#16272671</td>\n",
       "      <td>\"Corsair\"@en</td>\n",
       "      <td>None</td>\n",
       "      <td>\"DDR4, 2666MHz, CL16, 1.2v, XMP 2.0, Lifetime ...</td>\n",
       "      <td>None</td>\n",
       "      <td>{'Memory Type': 'DDR4 (PC4-21300)', 'Capacity'...</td>\n",
       "      <td>{'Categorie': 'Geheugen intern', 'Merk': 'Cors...</td>\n",
       "      <td>None</td>\n",
       "      <td>None</td>\n",
       "      <td>Memory Type DDR4 (PC4-21300) Capacity 64GB (4...</td>\n",
       "      <td>Categorie Geheugen intern Merk Corsair Produc...</td>\n",
       "      <td>\"Corsair Vengeance LPX Black 64GB (4x16GB) DD...</td>\n",
       "      <td>\"Corsair Vengeance LPX CMK64GX4M4A2666C16 - P...</td>\n",
       "    </tr>\n",
       "    <tr>\n",
       "      <th>1</th>\n",
       "      <td>16757469</td>\n",
       "      <td>Computers_and_Accessories</td>\n",
       "      <td>63553</td>\n",
       "      <td>16476204</td>\n",
       "      <td>Computers_and_Accessories</td>\n",
       "      <td>63553</td>\n",
       "      <td>1</td>\n",
       "      <td>16757469#16476204</td>\n",
       "      <td>\"HP Enterprise\"</td>\n",
       "      <td>\"HP Enterprise\"</td>\n",
       "      <td>\"Description:2 x 72GB 2.5-inch Serial Attached...</td>\n",
       "      <td>\"Description:10 x 72GB 2.5-inch Serial Attach...</td>\n",
       "      <td>{'Category': 'Proliant HardDrive', 'Sub-Catego...</td>\n",
       "      <td>{'Category': 'Proliant HardDrive', 'Sub-Catego...</td>\n",
       "      <td>None</td>\n",
       "      <td>\"CAD\", \"$757.74 CAD\"</td>\n",
       "      <td>Specifications: Category Proliant HardDrive S...</td>\n",
       "      <td>Specifications: Category Proliant HardDrive S...</td>\n",
       "      <td>\"DH0072BALWL HP 72-GB 3G 15K 2.5 DP SAS\", \"Nu...</td>\n",
       "      <td>\"DH0072BALWL HP 72-GB 3G 15K 2.5 DP SAS\" \"Null\"</td>\n",
       "    </tr>\n",
       "  </tbody>\n",
       "</table>\n",
       "</div>"
      ],
      "text/plain": [
       "    id_left              category_left  cluster_id_left  id_right  \\\n",
       "0   2551242  Computers_and_Accessories            79457  16272671   \n",
       "1  16757469  Computers_and_Accessories            63553  16476204   \n",
       "\n",
       "              category_right  cluster_id_right  label            pair_id  \\\n",
       "0  Computers_and_Accessories             79457      1   2551242#16272671   \n",
       "1  Computers_and_Accessories             63553      1  16757469#16476204   \n",
       "\n",
       "        brand_left      brand_right  \\\n",
       "0     \"Corsair\"@en             None   \n",
       "1  \"HP Enterprise\"  \"HP Enterprise\"   \n",
       "\n",
       "                                    description_left  \\\n",
       "0  \"DDR4, 2666MHz, CL16, 1.2v, XMP 2.0, Lifetime ...   \n",
       "1  \"Description:2 x 72GB 2.5-inch Serial Attached...   \n",
       "\n",
       "                                   description_right  \\\n",
       "0                                               None   \n",
       "1   \"Description:10 x 72GB 2.5-inch Serial Attach...   \n",
       "\n",
       "                                  keyValuePairs_left  \\\n",
       "0  {'Memory Type': 'DDR4 (PC4-21300)', 'Capacity'...   \n",
       "1  {'Category': 'Proliant HardDrive', 'Sub-Catego...   \n",
       "\n",
       "                                 keyValuePairs_right price_left  \\\n",
       "0  {'Categorie': 'Geheugen intern', 'Merk': 'Cors...       None   \n",
       "1  {'Category': 'Proliant HardDrive', 'Sub-Catego...       None   \n",
       "\n",
       "            price_right                              specTableContent_left  \\\n",
       "0                  None   Memory Type DDR4 (PC4-21300) Capacity 64GB (4...   \n",
       "1  \"CAD\", \"$757.74 CAD\"   Specifications: Category Proliant HardDrive S...   \n",
       "\n",
       "                              specTableContent_right  \\\n",
       "0   Categorie Geheugen intern Merk Corsair Produc...   \n",
       "1   Specifications: Category Proliant HardDrive S...   \n",
       "\n",
       "                                          title_left  \\\n",
       "0   \"Corsair Vengeance LPX Black 64GB (4x16GB) DD...   \n",
       "1   \"DH0072BALWL HP 72-GB 3G 15K 2.5 DP SAS\", \"Nu...   \n",
       "\n",
       "                                         title_right  \n",
       "0   \"Corsair Vengeance LPX CMK64GX4M4A2666C16 - P...  \n",
       "1    \"DH0072BALWL HP 72-GB 3G 15K 2.5 DP SAS\" \"Null\"  "
      ]
     },
     "execution_count": 7,
     "metadata": {},
     "output_type": "execute_result"
    }
   ],
   "source": [
    "data.head(2)"
   ]
  },
  {
   "cell_type": "code",
   "execution_count": 8,
   "id": "046e849f",
   "metadata": {
    "scrolled": true
   },
   "outputs": [
    {
     "data": {
      "text/html": [
       "<div>\n",
       "<style scoped>\n",
       "    .dataframe tbody tr th:only-of-type {\n",
       "        vertical-align: middle;\n",
       "    }\n",
       "\n",
       "    .dataframe tbody tr th {\n",
       "        vertical-align: top;\n",
       "    }\n",
       "\n",
       "    .dataframe thead th {\n",
       "        text-align: right;\n",
       "    }\n",
       "</style>\n",
       "<table border=\"1\" class=\"dataframe\">\n",
       "  <thead>\n",
       "    <tr style=\"text-align: right;\">\n",
       "      <th></th>\n",
       "      <th>id_left</th>\n",
       "      <th>cluster_id_left</th>\n",
       "      <th>category_left</th>\n",
       "      <th>title_left</th>\n",
       "      <th>description_left</th>\n",
       "      <th>brand_left</th>\n",
       "      <th>price_left</th>\n",
       "      <th>keyValuePairs_left</th>\n",
       "      <th>specTableContent_left</th>\n",
       "      <th>id_right</th>\n",
       "      <th>...</th>\n",
       "      <th>category_right</th>\n",
       "      <th>title_right</th>\n",
       "      <th>description_right</th>\n",
       "      <th>brand_right</th>\n",
       "      <th>price_right</th>\n",
       "      <th>keyValuePairs_right</th>\n",
       "      <th>specTableContent_right</th>\n",
       "      <th>label</th>\n",
       "      <th>pair_id</th>\n",
       "      <th>sampling</th>\n",
       "    </tr>\n",
       "  </thead>\n",
       "  <tbody>\n",
       "    <tr>\n",
       "      <th>0</th>\n",
       "      <td>4210789</td>\n",
       "      <td>533129</td>\n",
       "      <td>Computers_and_Accessories</td>\n",
       "      <td>\"Intel X520-DA2 PCI Express 2.0 Network Adapt...</td>\n",
       "      <td>\"Intel's family of adapter, the Intel' Etherne...</td>\n",
       "      <td>None</td>\n",
       "      <td>\"$\", \"333.16\"</td>\n",
       "      <td>None</td>\n",
       "      <td>None</td>\n",
       "      <td>6428629</td>\n",
       "      <td>...</td>\n",
       "      <td>Computers_and_Accessories</td>\n",
       "      <td>\"Intel X520-DA2 Dual Port Gigabit SFP Etherne...</td>\n",
       "      <td>\"2 Port Intel E10G42BTDA 10 Gigabit SFP Ethern...</td>\n",
       "      <td>None</td>\n",
       "      <td>None</td>\n",
       "      <td>None</td>\n",
       "      <td>None</td>\n",
       "      <td>1</td>\n",
       "      <td>4210789#6428629</td>\n",
       "      <td>high similarity with old products</td>\n",
       "    </tr>\n",
       "    <tr>\n",
       "      <th>1</th>\n",
       "      <td>8813989</td>\n",
       "      <td>55385</td>\n",
       "      <td>Computers_and_Accessories</td>\n",
       "      <td>\"Zotac GeForce GTX 1070Ti AMP Extreme 8192MB ...</td>\n",
       "      <td>\"ZT-P10710B-10P, Core Clock: 1607MHz, Boost Cl...</td>\n",
       "      <td>\"Zotac\"@en</td>\n",
       "      <td>None</td>\n",
       "      <td>None</td>\n",
       "      <td>None</td>\n",
       "      <td>4435647</td>\n",
       "      <td>...</td>\n",
       "      <td>Computers_and_Accessories</td>\n",
       "      <td>\"Zotac NVIDIA GeForce GTX 1070 Ti 8GB AMP! Ex...</td>\n",
       "      <td>\"Zotac GeForce GTX 1070 Ti AMP! Extreme Editio...</td>\n",
       "      <td>None</td>\n",
       "      <td>None</td>\n",
       "      <td>None</td>\n",
       "      <td>None</td>\n",
       "      <td>1</td>\n",
       "      <td>8813989#4435647</td>\n",
       "      <td>high similarity with old products</td>\n",
       "    </tr>\n",
       "  </tbody>\n",
       "</table>\n",
       "<p>2 rows × 21 columns</p>\n",
       "</div>"
      ],
      "text/plain": [
       "   id_left  cluster_id_left              category_left  \\\n",
       "0  4210789           533129  Computers_and_Accessories   \n",
       "1  8813989            55385  Computers_and_Accessories   \n",
       "\n",
       "                                          title_left  \\\n",
       "0   \"Intel X520-DA2 PCI Express 2.0 Network Adapt...   \n",
       "1   \"Zotac GeForce GTX 1070Ti AMP Extreme 8192MB ...   \n",
       "\n",
       "                                    description_left  brand_left  \\\n",
       "0  \"Intel's family of adapter, the Intel' Etherne...        None   \n",
       "1  \"ZT-P10710B-10P, Core Clock: 1607MHz, Boost Cl...  \"Zotac\"@en   \n",
       "\n",
       "      price_left keyValuePairs_left specTableContent_left  id_right  ...  \\\n",
       "0  \"$\", \"333.16\"               None                  None   6428629  ...   \n",
       "1           None               None                  None   4435647  ...   \n",
       "\n",
       "              category_right  \\\n",
       "0  Computers_and_Accessories   \n",
       "1  Computers_and_Accessories   \n",
       "\n",
       "                                         title_right  \\\n",
       "0   \"Intel X520-DA2 Dual Port Gigabit SFP Etherne...   \n",
       "1   \"Zotac NVIDIA GeForce GTX 1070 Ti 8GB AMP! Ex...   \n",
       "\n",
       "                                   description_right brand_right price_right  \\\n",
       "0  \"2 Port Intel E10G42BTDA 10 Gigabit SFP Ethern...        None        None   \n",
       "1  \"Zotac GeForce GTX 1070 Ti AMP! Extreme Editio...        None        None   \n",
       "\n",
       "  keyValuePairs_right specTableContent_right label          pair_id  \\\n",
       "0                None                   None     1  4210789#6428629   \n",
       "1                None                   None     1  8813989#4435647   \n",
       "\n",
       "                            sampling  \n",
       "0  high similarity with old products  \n",
       "1  high similarity with old products  \n",
       "\n",
       "[2 rows x 21 columns]"
      ]
     },
     "execution_count": 8,
     "metadata": {},
     "output_type": "execute_result"
    }
   ],
   "source": [
    "test_set.head(2)"
   ]
  },
  {
   "cell_type": "code",
   "execution_count": 9,
   "id": "012673b8",
   "metadata": {},
   "outputs": [
    {
     "data": {
      "text/plain": [
       "Index(['id_left', 'cluster_id_left', 'category_left', 'title_left',\n",
       "       'description_left', 'brand_left', 'price_left', 'keyValuePairs_left',\n",
       "       'specTableContent_left', 'id_right', 'cluster_id_right',\n",
       "       'category_right', 'title_right', 'description_right', 'brand_right',\n",
       "       'price_right', 'keyValuePairs_right', 'specTableContent_right', 'label',\n",
       "       'pair_id', 'sampling'],\n",
       "      dtype='object')"
      ]
     },
     "execution_count": 9,
     "metadata": {},
     "output_type": "execute_result"
    }
   ],
   "source": [
    "test_set.columns\n"
   ]
  },
  {
   "cell_type": "code",
   "execution_count": 10,
   "id": "31935ba0",
   "metadata": {},
   "outputs": [
    {
     "data": {
      "text/html": [
       "<div>\n",
       "<style scoped>\n",
       "    .dataframe tbody tr th:only-of-type {\n",
       "        vertical-align: middle;\n",
       "    }\n",
       "\n",
       "    .dataframe tbody tr th {\n",
       "        vertical-align: top;\n",
       "    }\n",
       "\n",
       "    .dataframe thead th {\n",
       "        text-align: right;\n",
       "    }\n",
       "</style>\n",
       "<table border=\"1\" class=\"dataframe\">\n",
       "  <thead>\n",
       "    <tr style=\"text-align: right;\">\n",
       "      <th></th>\n",
       "      <th>id_left</th>\n",
       "      <th>category_left</th>\n",
       "      <th>cluster_id_left</th>\n",
       "      <th>identifiers_left</th>\n",
       "      <th>id_right</th>\n",
       "      <th>category_right</th>\n",
       "      <th>cluster_id_right</th>\n",
       "      <th>identifiers_right</th>\n",
       "      <th>label</th>\n",
       "      <th>pair_id</th>\n",
       "      <th>...</th>\n",
       "      <th>description_left</th>\n",
       "      <th>description_right</th>\n",
       "      <th>keyValuePairs_left</th>\n",
       "      <th>keyValuePairs_right</th>\n",
       "      <th>price_left</th>\n",
       "      <th>price_right</th>\n",
       "      <th>specTableContent_left</th>\n",
       "      <th>specTableContent_right</th>\n",
       "      <th>title_left</th>\n",
       "      <th>title_right</th>\n",
       "    </tr>\n",
       "  </thead>\n",
       "  <tbody>\n",
       "    <tr>\n",
       "      <th>0</th>\n",
       "      <td>581109</td>\n",
       "      <td>Computers_and_Accessories</td>\n",
       "      <td>1324529</td>\n",
       "      <td>[{'/mpn': '[gvrx480g1gaming4gd]'}, {'/gtin13':...</td>\n",
       "      <td>16637861</td>\n",
       "      <td>Computers_and_Accessories</td>\n",
       "      <td>107415</td>\n",
       "      <td>[{'/mpn': '[gvrx550gamingoc2gd]'}, {'/gtin13':...</td>\n",
       "      <td>0</td>\n",
       "      <td>581109#16637861</td>\n",
       "      <td>...</td>\n",
       "      <td>\"GV-RX480G1 GAMING-4GD, Core Clock: 1202MHz, B...</td>\n",
       "      <td>\"GV-RX550GAMING OC-2GD, Boost: 1219MHz, Memory...</td>\n",
       "      <td>None</td>\n",
       "      <td>None</td>\n",
       "      <td>None</td>\n",
       "      <td>None</td>\n",
       "      <td>None</td>\n",
       "      <td>None</td>\n",
       "      <td>\"Gigabyte Radeon RX 480 G1 Gaming 4096MB GDDR...</td>\n",
       "      <td>\"Gigabyte Radeon RX 550 Gaming OC 2048MB GDDR...</td>\n",
       "    </tr>\n",
       "    <tr>\n",
       "      <th>1</th>\n",
       "      <td>3083228</td>\n",
       "      <td>Computers_and_Accessories</td>\n",
       "      <td>640007</td>\n",
       "      <td>[{'/mpn': '[9hlf4lbdbe]'}, {'/gtin13': '[47187...</td>\n",
       "      <td>3424944</td>\n",
       "      <td>Computers_and_Accessories</td>\n",
       "      <td>640007</td>\n",
       "      <td>[{'/mpn': '[9hlf4lbdbe]'}, {'/gtin13': '[47187...</td>\n",
       "      <td>1</td>\n",
       "      <td>3083228#3424944</td>\n",
       "      <td>...</td>\n",
       "      <td>\"\\n                More&gt;&gt;&gt;\\n                \\n...</td>\n",
       "      <td>\"\\n\\n                                Every det...</td>\n",
       "      <td>None</td>\n",
       "      <td>None</td>\n",
       "      <td>None</td>\n",
       "      <td>None</td>\n",
       "      <td>None</td>\n",
       "      <td>None</td>\n",
       "      <td>\"Benq ZOWIE RL2455 24\" Full HD TN Grey comput...</td>\n",
       "      <td>\"Zowie RL2455 E-Sports 24\" Full HD LED Monito...</td>\n",
       "    </tr>\n",
       "  </tbody>\n",
       "</table>\n",
       "<p>2 rows × 22 columns</p>\n",
       "</div>"
      ],
      "text/plain": [
       "   id_left              category_left  cluster_id_left  \\\n",
       "0   581109  Computers_and_Accessories          1324529   \n",
       "1  3083228  Computers_and_Accessories           640007   \n",
       "\n",
       "                                    identifiers_left  id_right  \\\n",
       "0  [{'/mpn': '[gvrx480g1gaming4gd]'}, {'/gtin13':...  16637861   \n",
       "1  [{'/mpn': '[9hlf4lbdbe]'}, {'/gtin13': '[47187...   3424944   \n",
       "\n",
       "              category_right  cluster_id_right  \\\n",
       "0  Computers_and_Accessories            107415   \n",
       "1  Computers_and_Accessories            640007   \n",
       "\n",
       "                                   identifiers_right  label          pair_id  \\\n",
       "0  [{'/mpn': '[gvrx550gamingoc2gd]'}, {'/gtin13':...      0  581109#16637861   \n",
       "1  [{'/mpn': '[9hlf4lbdbe]'}, {'/gtin13': '[47187...      1  3083228#3424944   \n",
       "\n",
       "   ...                                   description_left  \\\n",
       "0  ...  \"GV-RX480G1 GAMING-4GD, Core Clock: 1202MHz, B...   \n",
       "1  ...  \"\\n                More>>>\\n                \\n...   \n",
       "\n",
       "                                   description_right keyValuePairs_left  \\\n",
       "0  \"GV-RX550GAMING OC-2GD, Boost: 1219MHz, Memory...               None   \n",
       "1  \"\\n\\n                                Every det...               None   \n",
       "\n",
       "  keyValuePairs_right price_left price_right specTableContent_left  \\\n",
       "0                None       None        None                  None   \n",
       "1                None       None        None                  None   \n",
       "\n",
       "  specTableContent_right                                         title_left  \\\n",
       "0                   None   \"Gigabyte Radeon RX 480 G1 Gaming 4096MB GDDR...   \n",
       "1                   None   \"Benq ZOWIE RL2455 24\" Full HD TN Grey comput...   \n",
       "\n",
       "                                         title_right  \n",
       "0   \"Gigabyte Radeon RX 550 Gaming OC 2048MB GDDR...  \n",
       "1   \"Zowie RL2455 E-Sports 24\" Full HD LED Monito...  \n",
       "\n",
       "[2 rows x 22 columns]"
      ]
     },
     "execution_count": 10,
     "metadata": {},
     "output_type": "execute_result"
    }
   ],
   "source": [
    "data_gs.head(2)"
   ]
  },
  {
   "cell_type": "markdown",
   "id": "7be7701e",
   "metadata": {},
   "source": [
    "## View the shape of each dataset \n"
   ]
  },
  {
   "cell_type": "code",
   "execution_count": 11,
   "id": "94458c1d",
   "metadata": {},
   "outputs": [
    {
     "data": {
      "text/plain": [
       "(68461, 20)"
      ]
     },
     "execution_count": 11,
     "metadata": {},
     "output_type": "execute_result"
    }
   ],
   "source": [
    "data.shape"
   ]
  },
  {
   "cell_type": "code",
   "execution_count": 12,
   "id": "ff57c141",
   "metadata": {},
   "outputs": [
    {
     "data": {
      "text/plain": [
       "(1500, 21)"
      ]
     },
     "execution_count": 12,
     "metadata": {},
     "output_type": "execute_result"
    }
   ],
   "source": [
    "test_set.shape"
   ]
  },
  {
   "cell_type": "code",
   "execution_count": 13,
   "id": "08a9a286",
   "metadata": {},
   "outputs": [
    {
     "data": {
      "text/plain": [
       "(1100, 22)"
      ]
     },
     "execution_count": 13,
     "metadata": {},
     "output_type": "execute_result"
    }
   ],
   "source": [
    "data_gs.shape"
   ]
  },
  {
   "cell_type": "markdown",
   "id": "61305b2f",
   "metadata": {},
   "source": [
    "- As we can see above, each data have different number of columns. On a closer look, the column \"sampling\" is present in the test_set, but missing in the remaining two columns. \n",
    "- Also, the columns \"identifiers_left\" and \"identifiers_right\" are present data_gs , but missing in test_set. we need to drop the columns \"sampling\" , \"identifiers_left\" and \"identifiers_right\"\n"
   ]
  },
  {
   "cell_type": "code",
   "execution_count": 14,
   "id": "1924aa8a",
   "metadata": {},
   "outputs": [
    {
     "data": {
      "text/html": [
       "<div>\n",
       "<style scoped>\n",
       "    .dataframe tbody tr th:only-of-type {\n",
       "        vertical-align: middle;\n",
       "    }\n",
       "\n",
       "    .dataframe tbody tr th {\n",
       "        vertical-align: top;\n",
       "    }\n",
       "\n",
       "    .dataframe thead th {\n",
       "        text-align: right;\n",
       "    }\n",
       "</style>\n",
       "<table border=\"1\" class=\"dataframe\">\n",
       "  <thead>\n",
       "    <tr style=\"text-align: right;\">\n",
       "      <th></th>\n",
       "      <th>id_left</th>\n",
       "      <th>category_left</th>\n",
       "      <th>cluster_id_left</th>\n",
       "      <th>id_right</th>\n",
       "      <th>category_right</th>\n",
       "      <th>cluster_id_right</th>\n",
       "      <th>label</th>\n",
       "      <th>pair_id</th>\n",
       "      <th>brand_left</th>\n",
       "      <th>brand_right</th>\n",
       "      <th>description_left</th>\n",
       "      <th>description_right</th>\n",
       "      <th>keyValuePairs_left</th>\n",
       "      <th>keyValuePairs_right</th>\n",
       "      <th>price_left</th>\n",
       "      <th>price_right</th>\n",
       "      <th>specTableContent_left</th>\n",
       "      <th>specTableContent_right</th>\n",
       "      <th>title_left</th>\n",
       "      <th>title_right</th>\n",
       "    </tr>\n",
       "  </thead>\n",
       "  <tbody>\n",
       "    <tr>\n",
       "      <th>0</th>\n",
       "      <td>2551242</td>\n",
       "      <td>Computers_and_Accessories</td>\n",
       "      <td>79457</td>\n",
       "      <td>16272671</td>\n",
       "      <td>Computers_and_Accessories</td>\n",
       "      <td>79457</td>\n",
       "      <td>1</td>\n",
       "      <td>2551242#16272671</td>\n",
       "      <td>\"Corsair\"@en</td>\n",
       "      <td>None</td>\n",
       "      <td>\"DDR4, 2666MHz, CL16, 1.2v, XMP 2.0, Lifetime ...</td>\n",
       "      <td>None</td>\n",
       "      <td>{'Memory Type': 'DDR4 (PC4-21300)', 'Capacity'...</td>\n",
       "      <td>{'Categorie': 'Geheugen intern', 'Merk': 'Cors...</td>\n",
       "      <td>None</td>\n",
       "      <td>None</td>\n",
       "      <td>Memory Type DDR4 (PC4-21300) Capacity 64GB (4...</td>\n",
       "      <td>Categorie Geheugen intern Merk Corsair Produc...</td>\n",
       "      <td>\"Corsair Vengeance LPX Black 64GB (4x16GB) DD...</td>\n",
       "      <td>\"Corsair Vengeance LPX CMK64GX4M4A2666C16 - P...</td>\n",
       "    </tr>\n",
       "    <tr>\n",
       "      <th>1</th>\n",
       "      <td>16757469</td>\n",
       "      <td>Computers_and_Accessories</td>\n",
       "      <td>63553</td>\n",
       "      <td>16476204</td>\n",
       "      <td>Computers_and_Accessories</td>\n",
       "      <td>63553</td>\n",
       "      <td>1</td>\n",
       "      <td>16757469#16476204</td>\n",
       "      <td>\"HP Enterprise\"</td>\n",
       "      <td>\"HP Enterprise\"</td>\n",
       "      <td>\"Description:2 x 72GB 2.5-inch Serial Attached...</td>\n",
       "      <td>\"Description:10 x 72GB 2.5-inch Serial Attach...</td>\n",
       "      <td>{'Category': 'Proliant HardDrive', 'Sub-Catego...</td>\n",
       "      <td>{'Category': 'Proliant HardDrive', 'Sub-Catego...</td>\n",
       "      <td>None</td>\n",
       "      <td>\"CAD\", \"$757.74 CAD\"</td>\n",
       "      <td>Specifications: Category Proliant HardDrive S...</td>\n",
       "      <td>Specifications: Category Proliant HardDrive S...</td>\n",
       "      <td>\"DH0072BALWL HP 72-GB 3G 15K 2.5 DP SAS\", \"Nu...</td>\n",
       "      <td>\"DH0072BALWL HP 72-GB 3G 15K 2.5 DP SAS\" \"Null\"</td>\n",
       "    </tr>\n",
       "    <tr>\n",
       "      <th>2</th>\n",
       "      <td>232007</td>\n",
       "      <td>Computers_and_Accessories</td>\n",
       "      <td>212917</td>\n",
       "      <td>16442945</td>\n",
       "      <td>Computers_and_Accessories</td>\n",
       "      <td>14319765</td>\n",
       "      <td>0</td>\n",
       "      <td>232007#16442945</td>\n",
       "      <td>\"SanDisk\"</td>\n",
       "      <td>\"HP Enterprise\"</td>\n",
       "      <td>\"SDSDJ-1024 BXP 1GB 9p SD Class 2 Secure Digi...</td>\n",
       "      <td>\"Description:Genuine HPE 1GB FBD PC2-5300(2x5...</td>\n",
       "      <td>None</td>\n",
       "      <td>{'Category': 'Proliant Memory', 'Sub-Category'...</td>\n",
       "      <td>\"USD\", \"7.98\"</td>\n",
       "      <td>\"USD\", \"$69.95\"</td>\n",
       "      <td>None</td>\n",
       "      <td>Specifications: Category Proliant Memory Sub-...</td>\n",
       "      <td>\"SanDisk SDSDJ-1024 BXP 1GB 9p SD Class 2 Sec...</td>\n",
       "      <td>\"397409-B21 HP 1GB (2x512MB) PC2-5300 SDRAM\" ...</td>\n",
       "    </tr>\n",
       "    <tr>\n",
       "      <th>3</th>\n",
       "      <td>2066119</td>\n",
       "      <td>Computers_and_Accessories</td>\n",
       "      <td>667772</td>\n",
       "      <td>12411100</td>\n",
       "      <td>Computers_and_Accessories</td>\n",
       "      <td>667772</td>\n",
       "      <td>1</td>\n",
       "      <td>2066119#12411100</td>\n",
       "      <td>None</td>\n",
       "      <td>\"KINGSTON\"</td>\n",
       "      <td>\"DISCO DURO INTERNO SOLIDO HDD SSD\"@es</td>\n",
       "      <td>None</td>\n",
       "      <td>None</td>\n",
       "      <td>None</td>\n",
       "      <td>None</td>\n",
       "      <td>None</td>\n",
       "      <td>None</td>\n",
       "      <td>None</td>\n",
       "      <td>\"DISCO DURO INTERNO SOLIDO HDD SSD KINGSTON V...</td>\n",
       "      <td>\"DISCO DURO SSD Kingston Technology SSDNow V3...</td>\n",
       "    </tr>\n",
       "    <tr>\n",
       "      <th>4</th>\n",
       "      <td>6656540</td>\n",
       "      <td>Computers_and_Accessories</td>\n",
       "      <td>505997</td>\n",
       "      <td>2639431</td>\n",
       "      <td>Computers_and_Accessories</td>\n",
       "      <td>154118</td>\n",
       "      <td>0</td>\n",
       "      <td>6656540#2639431</td>\n",
       "      <td>None</td>\n",
       "      <td>\"Corsair\"</td>\n",
       "      <td>None</td>\n",
       "      <td>None</td>\n",
       "      <td>None</td>\n",
       "      <td>None</td>\n",
       "      <td>None</td>\n",
       "      <td>None</td>\n",
       "      <td>None</td>\n",
       "      <td>None</td>\n",
       "      <td>\"Corsair Vengeance LED 32GB (2 x 16GB) DDR4 D...</td>\n",
       "      <td>\"Corsair - Vengeance LPX 32GB (2 x 16GB) DDR4...</td>\n",
       "    </tr>\n",
       "  </tbody>\n",
       "</table>\n",
       "</div>"
      ],
      "text/plain": [
       "    id_left              category_left  cluster_id_left  id_right  \\\n",
       "0   2551242  Computers_and_Accessories            79457  16272671   \n",
       "1  16757469  Computers_and_Accessories            63553  16476204   \n",
       "2    232007  Computers_and_Accessories           212917  16442945   \n",
       "3   2066119  Computers_and_Accessories           667772  12411100   \n",
       "4   6656540  Computers_and_Accessories           505997   2639431   \n",
       "\n",
       "              category_right  cluster_id_right  label            pair_id  \\\n",
       "0  Computers_and_Accessories             79457      1   2551242#16272671   \n",
       "1  Computers_and_Accessories             63553      1  16757469#16476204   \n",
       "2  Computers_and_Accessories          14319765      0    232007#16442945   \n",
       "3  Computers_and_Accessories            667772      1   2066119#12411100   \n",
       "4  Computers_and_Accessories            154118      0    6656540#2639431   \n",
       "\n",
       "        brand_left      brand_right  \\\n",
       "0     \"Corsair\"@en             None   \n",
       "1  \"HP Enterprise\"  \"HP Enterprise\"   \n",
       "2        \"SanDisk\"  \"HP Enterprise\"   \n",
       "3             None       \"KINGSTON\"   \n",
       "4             None        \"Corsair\"   \n",
       "\n",
       "                                    description_left  \\\n",
       "0  \"DDR4, 2666MHz, CL16, 1.2v, XMP 2.0, Lifetime ...   \n",
       "1  \"Description:2 x 72GB 2.5-inch Serial Attached...   \n",
       "2   \"SDSDJ-1024 BXP 1GB 9p SD Class 2 Secure Digi...   \n",
       "3            \"DISCO DURO INTERNO SOLIDO HDD SSD\"@es    \n",
       "4                                               None   \n",
       "\n",
       "                                   description_right  \\\n",
       "0                                               None   \n",
       "1   \"Description:10 x 72GB 2.5-inch Serial Attach...   \n",
       "2   \"Description:Genuine HPE 1GB FBD PC2-5300(2x5...   \n",
       "3                                               None   \n",
       "4                                               None   \n",
       "\n",
       "                                  keyValuePairs_left  \\\n",
       "0  {'Memory Type': 'DDR4 (PC4-21300)', 'Capacity'...   \n",
       "1  {'Category': 'Proliant HardDrive', 'Sub-Catego...   \n",
       "2                                               None   \n",
       "3                                               None   \n",
       "4                                               None   \n",
       "\n",
       "                                 keyValuePairs_right     price_left  \\\n",
       "0  {'Categorie': 'Geheugen intern', 'Merk': 'Cors...           None   \n",
       "1  {'Category': 'Proliant HardDrive', 'Sub-Catego...           None   \n",
       "2  {'Category': 'Proliant Memory', 'Sub-Category'...  \"USD\", \"7.98\"   \n",
       "3                                               None           None   \n",
       "4                                               None           None   \n",
       "\n",
       "            price_right                              specTableContent_left  \\\n",
       "0                  None   Memory Type DDR4 (PC4-21300) Capacity 64GB (4...   \n",
       "1  \"CAD\", \"$757.74 CAD\"   Specifications: Category Proliant HardDrive S...   \n",
       "2       \"USD\", \"$69.95\"                                               None   \n",
       "3                  None                                               None   \n",
       "4                  None                                               None   \n",
       "\n",
       "                              specTableContent_right  \\\n",
       "0   Categorie Geheugen intern Merk Corsair Produc...   \n",
       "1   Specifications: Category Proliant HardDrive S...   \n",
       "2   Specifications: Category Proliant Memory Sub-...   \n",
       "3                                               None   \n",
       "4                                               None   \n",
       "\n",
       "                                          title_left  \\\n",
       "0   \"Corsair Vengeance LPX Black 64GB (4x16GB) DD...   \n",
       "1   \"DH0072BALWL HP 72-GB 3G 15K 2.5 DP SAS\", \"Nu...   \n",
       "2   \"SanDisk SDSDJ-1024 BXP 1GB 9p SD Class 2 Sec...   \n",
       "3   \"DISCO DURO INTERNO SOLIDO HDD SSD KINGSTON V...   \n",
       "4   \"Corsair Vengeance LED 32GB (2 x 16GB) DDR4 D...   \n",
       "\n",
       "                                         title_right  \n",
       "0   \"Corsair Vengeance LPX CMK64GX4M4A2666C16 - P...  \n",
       "1    \"DH0072BALWL HP 72-GB 3G 15K 2.5 DP SAS\" \"Null\"  \n",
       "2   \"397409-B21 HP 1GB (2x512MB) PC2-5300 SDRAM\" ...  \n",
       "3   \"DISCO DURO SSD Kingston Technology SSDNow V3...  \n",
       "4   \"Corsair - Vengeance LPX 32GB (2 x 16GB) DDR4...  "
      ]
     },
     "execution_count": 14,
     "metadata": {},
     "output_type": "execute_result"
    }
   ],
   "source": [
    "data.head()"
   ]
  },
  {
   "cell_type": "code",
   "execution_count": 15,
   "id": "3c8da963",
   "metadata": {},
   "outputs": [],
   "source": [
    "data_gs = data_gs.drop(['identifiers_right' , 'identifiers_left'] , axis=1)"
   ]
  },
  {
   "cell_type": "code",
   "execution_count": 16,
   "id": "5c59ee03",
   "metadata": {},
   "outputs": [],
   "source": [
    "test_set = test_set.drop(['sampling'] , axis=1)"
   ]
  },
  {
   "cell_type": "markdown",
   "id": "604cdc7e",
   "metadata": {},
   "source": [
    "## View the new shape of the data"
   ]
  },
  {
   "cell_type": "code",
   "execution_count": 17,
   "id": "23f616b7",
   "metadata": {},
   "outputs": [
    {
     "data": {
      "text/plain": [
       "(68461, 20)"
      ]
     },
     "execution_count": 17,
     "metadata": {},
     "output_type": "execute_result"
    }
   ],
   "source": [
    "data.shape"
   ]
  },
  {
   "cell_type": "code",
   "execution_count": 18,
   "id": "e5e8277f",
   "metadata": {},
   "outputs": [
    {
     "data": {
      "text/plain": [
       "0.9788200581352887"
      ]
     },
     "execution_count": 18,
     "metadata": {},
     "output_type": "execute_result"
    }
   ],
   "source": [
    "1- 1450/68461"
   ]
  },
  {
   "cell_type": "code",
   "execution_count": 19,
   "id": "80e991b4",
   "metadata": {},
   "outputs": [
    {
     "data": {
      "text/plain": [
       "(1500, 20)"
      ]
     },
     "execution_count": 19,
     "metadata": {},
     "output_type": "execute_result"
    }
   ],
   "source": [
    "test_set.shape"
   ]
  },
  {
   "cell_type": "code",
   "execution_count": 20,
   "id": "aea3212c",
   "metadata": {},
   "outputs": [
    {
     "data": {
      "text/plain": [
       "(1100, 20)"
      ]
     },
     "execution_count": 20,
     "metadata": {},
     "output_type": "execute_result"
    }
   ],
   "source": [
    "data_gs.shape"
   ]
  },
  {
   "cell_type": "markdown",
   "id": "cdda5e1a",
   "metadata": {},
   "source": [
    "### VIEW THE EXTENT OF MISSING DATA"
   ]
  },
  {
   "cell_type": "markdown",
   "id": "4036aa4e",
   "metadata": {},
   "source": [
    "#### columns with missing data in data dataset"
   ]
  },
  {
   "cell_type": "code",
   "execution_count": 21,
   "id": "b2be1e1c",
   "metadata": {},
   "outputs": [
    {
     "name": "stdout",
     "output_type": "stream",
     "text": [
      "Are there any null values?\n",
      "True \n",
      "\n",
      "How many null values are in each column?\n",
      "id_left                       0\n",
      "category_left                 0\n",
      "cluster_id_left               0\n",
      "id_right                      0\n",
      "category_right                0\n",
      "cluster_id_right              0\n",
      "label                         0\n",
      "pair_id                       0\n",
      "brand_left                34228\n",
      "brand_right               34216\n",
      "description_left          21001\n",
      "description_right         20101\n",
      "keyValuePairs_left        49696\n",
      "keyValuePairs_right       48186\n",
      "price_left                56940\n",
      "price_right               56969\n",
      "specTableContent_left     47564\n",
      "specTableContent_right    46304\n",
      "title_left                    0\n",
      "title_right                   0\n",
      "dtype: int64 \n",
      "\n",
      "How many null values are in the data in total?\n",
      "415205\n"
     ]
    }
   ],
   "source": [
    "print(\"Are there any null values?\")\n",
    "print(data.isnull().values.any() , \"\\n\")\n",
    "#Find out how many - This gives you the breakdown per column\n",
    "print('How many null values are in each column?'),\n",
    "print(data.isnull().sum(), \"\\n\")\n",
    "#Get total overall null values\n",
    "print('How many null values are in the data in total?')\n",
    "print(data.isnull().sum().sum())"
   ]
  },
  {
   "cell_type": "markdown",
   "id": "1ccea065",
   "metadata": {},
   "source": [
    "#### columns with missing data in test_set dataset"
   ]
  },
  {
   "cell_type": "code",
   "execution_count": 22,
   "id": "7801da98",
   "metadata": {},
   "outputs": [
    {
     "name": "stdout",
     "output_type": "stream",
     "text": [
      "Are there any null values in the test_set?\n",
      "True \n",
      "\n",
      "How many null values are in each column?\n",
      "id_left                      0\n",
      "cluster_id_left              0\n",
      "category_left                0\n",
      "title_left                   0\n",
      "description_left           167\n",
      "brand_left                 635\n",
      "price_left                1161\n",
      "keyValuePairs_left        1025\n",
      "specTableContent_left      995\n",
      "id_right                     0\n",
      "cluster_id_right             0\n",
      "category_right               0\n",
      "title_right                  0\n",
      "description_right          219\n",
      "brand_right                644\n",
      "price_right               1156\n",
      "keyValuePairs_right       1076\n",
      "specTableContent_right    1030\n",
      "label                        0\n",
      "pair_id                      0\n",
      "dtype: int64 \n",
      "\n",
      "How many null values are in the data in total?\n",
      "8108\n"
     ]
    }
   ],
   "source": [
    "print(\"Are there any null values in the test_set?\")\n",
    "print(test_set.isnull().values.any() , \"\\n\")\n",
    "#Find out how many - This gives you the breakdown per column\n",
    "print('How many null values are in each column?'),\n",
    "print(test_set.isnull().sum(), \"\\n\")\n",
    "#Get total overall null values\n",
    "print('How many null values are in the data in total?')\n",
    "print(test_set.isnull().sum().sum())"
   ]
  },
  {
   "cell_type": "markdown",
   "id": "7a2dd8c3",
   "metadata": {},
   "source": [
    "#### columns with missing data in Gold standard dataset"
   ]
  },
  {
   "cell_type": "code",
   "execution_count": 23,
   "id": "93898286",
   "metadata": {},
   "outputs": [
    {
     "name": "stdout",
     "output_type": "stream",
     "text": [
      "Are there any null values in the data_gs?\n",
      "True \n",
      "\n",
      "How many null values are in each column?\n",
      "id_left                     0\n",
      "category_left               0\n",
      "cluster_id_left             0\n",
      "id_right                    0\n",
      "category_right              0\n",
      "cluster_id_right            0\n",
      "label                       0\n",
      "pair_id                     0\n",
      "brand_left                438\n",
      "brand_right               460\n",
      "description_left           78\n",
      "description_right         140\n",
      "keyValuePairs_left        719\n",
      "keyValuePairs_right       766\n",
      "price_left                846\n",
      "price_right               840\n",
      "specTableContent_left     698\n",
      "specTableContent_right    736\n",
      "title_left                  0\n",
      "title_right                 0\n",
      "dtype: int64 \n",
      "\n",
      "How many null values are in the data in total?\n",
      "5721\n"
     ]
    }
   ],
   "source": [
    "print(\"Are there any null values in the data_gs?\")\n",
    "print(data_gs.isnull().values.any() , \"\\n\")\n",
    "#Find out how many - This gives you the breakdown per column\n",
    "print('How many null values are in each column?'),\n",
    "print(data_gs.isnull().sum(), \"\\n\")\n",
    "#Get total overall null values\n",
    "print('How many null values are in the data in total?')\n",
    "print(data_gs.isnull().sum().sum())"
   ]
  },
  {
   "cell_type": "markdown",
   "id": "72579417",
   "metadata": {},
   "source": [
    "## Drop Missing data"
   ]
  },
  {
   "cell_type": "code",
   "execution_count": 24,
   "id": "4126c53c",
   "metadata": {},
   "outputs": [],
   "source": [
    "data1=data.dropna()\n",
    "test_set1= test_set.dropna()\n",
    "data_gs1 =data_gs.dropna()"
   ]
  },
  {
   "cell_type": "markdown",
   "id": "661ff75d",
   "metadata": {},
   "source": [
    "## View the shape of the remaining datasets"
   ]
  },
  {
   "cell_type": "code",
   "execution_count": 25,
   "id": "2a271486",
   "metadata": {},
   "outputs": [
    {
     "data": {
      "text/plain": [
       "(1450, 20)"
      ]
     },
     "execution_count": 25,
     "metadata": {},
     "output_type": "execute_result"
    }
   ],
   "source": [
    "data1.shape"
   ]
  },
  {
   "cell_type": "code",
   "execution_count": 26,
   "id": "ea0f6f32",
   "metadata": {},
   "outputs": [
    {
     "data": {
      "text/plain": [
       "(59, 20)"
      ]
     },
     "execution_count": 26,
     "metadata": {},
     "output_type": "execute_result"
    }
   ],
   "source": [
    "test_set1.shape"
   ]
  },
  {
   "cell_type": "code",
   "execution_count": 27,
   "id": "8ac2bd87",
   "metadata": {},
   "outputs": [
    {
     "data": {
      "text/plain": [
       "0.9554545454545454"
      ]
     },
     "execution_count": 27,
     "metadata": {},
     "output_type": "execute_result"
    }
   ],
   "source": [
    "1- 49/1100"
   ]
  },
  {
   "cell_type": "code",
   "execution_count": 28,
   "id": "61ce993e",
   "metadata": {},
   "outputs": [
    {
     "data": {
      "text/plain": [
       "(49, 20)"
      ]
     },
     "execution_count": 28,
     "metadata": {},
     "output_type": "execute_result"
    }
   ],
   "source": [
    "data_gs1.shape"
   ]
  },
  {
   "cell_type": "markdown",
   "id": "49f7f782",
   "metadata": {},
   "source": [
    "## Comment\n",
    "- As we can see above the missing values are too much. For data dataset, about 98 percent of the data are gone\n",
    "- for test_set , 96 percent are deleted.\n",
    "- Also ,in the gold standard dataset , 96 percent of the dataset have been phased out.\n",
    "\n",
    "- The remaining data is not enough for training most machine learning algorithms and also might not be enough to model the    whole dataset\n",
    "- We might need to drop the columns with too many missing data\n",
    "- in the data dataset, the following six columns each having over 40,000 missing values.\n",
    "- The columns are: SpecTableContent_left , SpecTableContent_right , KeyValuePairs_left, keyValuePairs_right , price_left , and price_right"
   ]
  },
  {
   "cell_type": "markdown",
   "id": "89fe72e7",
   "metadata": {},
   "source": [
    "## USING COLUMNS WITH LESS THAN 40,000 MISSING VALUES"
   ]
  },
  {
   "cell_type": "markdown",
   "id": "859c4a98",
   "metadata": {},
   "source": [
    "#### Dropping the six columns in the dataset"
   ]
  },
  {
   "cell_type": "code",
   "execution_count": 29,
   "id": "bd4cdf18",
   "metadata": {},
   "outputs": [],
   "source": [
    "data2 = data.drop(['specTableContent_left' , 'specTableContent_right' , 'keyValuePairs_left' , 'keyValuePairs_right' , 'price_left' , 'price_right'] , axis=1)"
   ]
  },
  {
   "cell_type": "code",
   "execution_count": 30,
   "id": "1886fdfb",
   "metadata": {},
   "outputs": [],
   "source": [
    "test_set2= test_set.drop(['specTableContent_left' , 'specTableContent_right' , 'keyValuePairs_left' , 'keyValuePairs_right' , 'price_left' , 'price_right'] , axis=1)"
   ]
  },
  {
   "cell_type": "code",
   "execution_count": 31,
   "id": "2dba88aa",
   "metadata": {},
   "outputs": [],
   "source": [
    "data_gs2= data_gs.drop(['specTableContent_left' , 'specTableContent_right' , 'keyValuePairs_left' , 'keyValuePairs_right' , 'price_left' , 'price_right'] , axis=1)"
   ]
  },
  {
   "cell_type": "markdown",
   "id": "55ec12bf",
   "metadata": {},
   "source": [
    "## Drop Missing values in the new datasets above"
   ]
  },
  {
   "cell_type": "code",
   "execution_count": 32,
   "id": "bfffdba9",
   "metadata": {},
   "outputs": [],
   "source": [
    "data2=data2.dropna()\n",
    "test_set2= test_set2.dropna()\n",
    "data_gs2 =data_gs2.dropna()"
   ]
  },
  {
   "cell_type": "code",
   "execution_count": 33,
   "id": "c85fddb5",
   "metadata": {},
   "outputs": [
    {
     "data": {
      "text/plain": [
       "(14834, 14)"
      ]
     },
     "execution_count": 33,
     "metadata": {},
     "output_type": "execute_result"
    }
   ],
   "source": [
    "data2.shape"
   ]
  },
  {
   "cell_type": "code",
   "execution_count": 34,
   "id": "0c1655d3",
   "metadata": {},
   "outputs": [
    {
     "data": {
      "text/plain": [
       "(587, 14)"
      ]
     },
     "execution_count": 34,
     "metadata": {},
     "output_type": "execute_result"
    }
   ],
   "source": [
    "test_set2.shape"
   ]
  },
  {
   "cell_type": "code",
   "execution_count": 35,
   "id": "b031f4e7",
   "metadata": {},
   "outputs": [
    {
     "data": {
      "text/plain": [
       "(446, 14)"
      ]
     },
     "execution_count": 35,
     "metadata": {},
     "output_type": "execute_result"
    }
   ],
   "source": [
    "data_gs2.shape"
   ]
  },
  {
   "cell_type": "markdown",
   "id": "b9db4ca1",
   "metadata": {},
   "source": [
    "### VIEW SOME DATA PARAMETERS"
   ]
  },
  {
   "cell_type": "markdown",
   "id": "fabd42e6",
   "metadata": {},
   "source": [
    "- COUNT OF ZEROS AND ONES IN LABEL COLUMN FOR data2"
   ]
  },
  {
   "cell_type": "code",
   "execution_count": 36,
   "id": "ddabc406",
   "metadata": {},
   "outputs": [
    {
     "data": {
      "text/plain": [
       "0    0.848726\n",
       "1    0.151274\n",
       "Name: label, dtype: float64"
      ]
     },
     "execution_count": 36,
     "metadata": {},
     "output_type": "execute_result"
    }
   ],
   "source": [
    "data2.label.value_counts(normalize=True)"
   ]
  },
  {
   "cell_type": "markdown",
   "id": "a5dcc025",
   "metadata": {},
   "source": [
    "- Plot of label: 0 for non matching 1 for matching for data2"
   ]
  },
  {
   "cell_type": "code",
   "execution_count": 37,
   "id": "0ef8754b",
   "metadata": {},
   "outputs": [
    {
     "data": {
      "text/plain": [
       "<AxesSubplot:>"
      ]
     },
     "execution_count": 37,
     "metadata": {},
     "output_type": "execute_result"
    },
    {
     "data": {
      "image/png": "[encoded data removed]",
      "text/plain": [
       "<Figure size 432x288 with 1 Axes>"
      ]
     },
     "metadata": {
      "needs_background": "light"
     },
     "output_type": "display_data"
    }
   ],
   "source": [
    "data2.label.value_counts(normalize=True).sort_index().plot(kind='bar')"
   ]
  },
  {
   "cell_type": "markdown",
   "id": "980c0e22",
   "metadata": {},
   "source": [
    "- COUNT OF ZEROS AND ONES IN LABEL COLUMN FOR test_set2"
   ]
  },
  {
   "cell_type": "code",
   "execution_count": 38,
   "id": "2a48c678",
   "metadata": {},
   "outputs": [
    {
     "data": {
      "text/plain": [
       "0    0.759796\n",
       "1    0.240204\n",
       "Name: label, dtype: float64"
      ]
     },
     "execution_count": 38,
     "metadata": {},
     "output_type": "execute_result"
    }
   ],
   "source": [
    "test_set2.label.value_counts(normalize=True)"
   ]
  },
  {
   "cell_type": "markdown",
   "id": "34cfc051",
   "metadata": {},
   "source": [
    "- Plot of label: 0 for non matching 1 for matching for test_set2"
   ]
  },
  {
   "cell_type": "code",
   "execution_count": 39,
   "id": "ced9cde1",
   "metadata": {},
   "outputs": [
    {
     "data": {
      "text/plain": [
       "<AxesSubplot:>"
      ]
     },
     "execution_count": 39,
     "metadata": {},
     "output_type": "execute_result"
    },
    {
     "data": {
      "image/png": "[encoded data removed]",
      "text/plain": [
       "<Figure size 432x288 with 1 Axes>"
      ]
     },
     "metadata": {
      "needs_background": "light"
     },
     "output_type": "display_data"
    }
   ],
   "source": [
    "test_set2.label.value_counts(normalize=True).sort_index().plot(kind='bar')"
   ]
  },
  {
   "cell_type": "markdown",
   "id": "efd88814",
   "metadata": {},
   "source": [
    "- COUNT OF ZEROS AND ONES IN LABEL COLUMN FOR data_gs2"
   ]
  },
  {
   "cell_type": "code",
   "execution_count": 40,
   "id": "fbcab422",
   "metadata": {},
   "outputs": [
    {
     "data": {
      "text/plain": [
       "0    0.784753\n",
       "1    0.215247\n",
       "Name: label, dtype: float64"
      ]
     },
     "execution_count": 40,
     "metadata": {},
     "output_type": "execute_result"
    }
   ],
   "source": [
    "data_gs2.label.value_counts(normalize=True)"
   ]
  },
  {
   "cell_type": "markdown",
   "id": "957588ac",
   "metadata": {},
   "source": [
    "- Plot of label: 0 for non matching 1 for matching for data_gs2"
   ]
  },
  {
   "cell_type": "code",
   "execution_count": 41,
   "id": "ae406468",
   "metadata": {},
   "outputs": [
    {
     "data": {
      "text/plain": [
       "<AxesSubplot:>"
      ]
     },
     "execution_count": 41,
     "metadata": {},
     "output_type": "execute_result"
    },
    {
     "data": {
      "image/png": "[encoded data removed]",
      "text/plain": [
       "<Figure size 432x288 with 1 Axes>"
      ]
     },
     "metadata": {
      "needs_background": "light"
     },
     "output_type": "display_data"
    }
   ],
   "source": [
    "data_gs2.label.value_counts(normalize=True).sort_index().plot(kind='bar')"
   ]
  },
  {
   "cell_type": "markdown",
   "id": "96f36665",
   "metadata": {},
   "source": [
    "## Merging of columns\n",
    "- we need to merge all the columns (except label column) together to form two columns: product_feature and label"
   ]
  },
  {
   "cell_type": "code",
   "execution_count": 42,
   "id": "6137eefe",
   "metadata": {},
   "outputs": [
    {
     "name": "stderr",
     "output_type": "stream",
     "text": [
      "C:\\Users\\pc\\AppData\\Local\\Temp/ipykernel_20796/144590819.py:2: FutureWarning: In a future version of pandas all arguments of DataFrame.drop except for the argument 'labels' will be keyword-only\n",
      "  data2.drop(data2.columns.difference(['product_feature','label']), 1, inplace=True)\n"
     ]
    }
   ],
   "source": [
    "data2['product_feature'] = str(data2['id_left']) + \" \" + data2['title_left'] +\" \" + data2['description_left'] + \" \" + data2['brand_left'] + \" \" + data2['category_left'] + \" \" + str(data2['cluster_id_left']) + \" \" + str(data2['id_right']) + \" \" + data2['title_right'] + \" \" + data2['description_right'] + \" \" + data2['brand_right'] + \" \" + data2['category_right'] +\" \" + str(data2['cluster_id_right']) + \" \" + str(data2['pair_id'])\n",
    "data2.drop(data2.columns.difference(['product_feature','label']), 1, inplace=True)"
   ]
  },
  {
   "cell_type": "code",
   "execution_count": 43,
   "id": "ad87cd87",
   "metadata": {},
   "outputs": [
    {
     "name": "stderr",
     "output_type": "stream",
     "text": [
      "C:\\Users\\pc\\AppData\\Local\\Temp/ipykernel_20796/2586597507.py:2: FutureWarning: In a future version of pandas all arguments of DataFrame.drop except for the argument 'labels' will be keyword-only\n",
      "  test_set2.drop(test_set2.columns.difference(['product_feature','label']), 1, inplace=True)\n"
     ]
    }
   ],
   "source": [
    "test_set2['product_feature'] = str(test_set2['id_left']) + \" \" + test_set2['title_left'] +\" \" + test_set2['description_left'] + \" \" + test_set2['brand_left'] + \" \" + test_set2['category_left'] + \" \" + str(test_set2['cluster_id_left']) + \" \" + str(test_set2['id_right']) + \" \" + test_set2['title_right'] + \" \" + test_set2['description_right'] + \" \" + test_set2['brand_right'] + \" \" + test_set2['category_right'] +\" \" + str(test_set2['cluster_id_right']) + \" \" + str(test_set2['pair_id'])\n",
    "test_set2.drop(test_set2.columns.difference(['product_feature','label']), 1, inplace=True)"
   ]
  },
  {
   "cell_type": "code",
   "execution_count": 44,
   "id": "dbc10916",
   "metadata": {},
   "outputs": [
    {
     "name": "stderr",
     "output_type": "stream",
     "text": [
      "C:\\Users\\pc\\AppData\\Local\\Temp/ipykernel_20796/4108320089.py:2: FutureWarning: In a future version of pandas all arguments of DataFrame.drop except for the argument 'labels' will be keyword-only\n",
      "  data_gs2.drop(data_gs2.columns.difference(['product_feature','label']), 1, inplace=True)\n"
     ]
    }
   ],
   "source": [
    "data_gs2['product_feature'] = str(data_gs2['id_left']) + \" \" + data_gs2['title_left'] +\" \" + data_gs2['description_left'] + \" \" + data_gs2['brand_left'] + \" \" + data_gs2['category_left'] + \" \" + str(data_gs2['cluster_id_left']) + \" \" + str(data_gs2['id_right']) + \" \" + data_gs2['title_right'] + \" \" + data_gs2['description_right'] + \" \" + data_gs2['brand_right'] + \" \" + data_gs2['category_right'] +\" \" + str(data_gs2['cluster_id_right']) + \" \" + str(data_gs2['pair_id'])\n",
    "data_gs2.drop(data_gs2.columns.difference(['product_feature','label']), 1, inplace=True)"
   ]
  },
  {
   "cell_type": "code",
   "execution_count": 45,
   "id": "624f4dff",
   "metadata": {},
   "outputs": [
    {
     "data": {
      "text/html": [
       "<div>\n",
       "<style scoped>\n",
       "    .dataframe tbody tr th:only-of-type {\n",
       "        vertical-align: middle;\n",
       "    }\n",
       "\n",
       "    .dataframe tbody tr th {\n",
       "        vertical-align: top;\n",
       "    }\n",
       "\n",
       "    .dataframe thead th {\n",
       "        text-align: right;\n",
       "    }\n",
       "</style>\n",
       "<table border=\"1\" class=\"dataframe\">\n",
       "  <thead>\n",
       "    <tr style=\"text-align: right;\">\n",
       "      <th></th>\n",
       "      <th>label</th>\n",
       "      <th>product_feature</th>\n",
       "    </tr>\n",
       "  </thead>\n",
       "  <tbody>\n",
       "    <tr>\n",
       "      <th>1</th>\n",
       "      <td>1</td>\n",
       "      <td>1        16757469\\n2          232007\\n9       ...</td>\n",
       "    </tr>\n",
       "    <tr>\n",
       "      <th>2</th>\n",
       "      <td>0</td>\n",
       "      <td>1        16757469\\n2          232007\\n9       ...</td>\n",
       "    </tr>\n",
       "    <tr>\n",
       "      <th>9</th>\n",
       "      <td>0</td>\n",
       "      <td>1        16757469\\n2          232007\\n9       ...</td>\n",
       "    </tr>\n",
       "    <tr>\n",
       "      <th>10</th>\n",
       "      <td>1</td>\n",
       "      <td>1        16757469\\n2          232007\\n9       ...</td>\n",
       "    </tr>\n",
       "    <tr>\n",
       "      <th>15</th>\n",
       "      <td>0</td>\n",
       "      <td>1        16757469\\n2          232007\\n9       ...</td>\n",
       "    </tr>\n",
       "  </tbody>\n",
       "</table>\n",
       "</div>"
      ],
      "text/plain": [
       "    label                                    product_feature\n",
       "1       1  1        16757469\\n2          232007\\n9       ...\n",
       "2       0  1        16757469\\n2          232007\\n9       ...\n",
       "9       0  1        16757469\\n2          232007\\n9       ...\n",
       "10      1  1        16757469\\n2          232007\\n9       ...\n",
       "15      0  1        16757469\\n2          232007\\n9       ..."
      ]
     },
     "execution_count": 45,
     "metadata": {},
     "output_type": "execute_result"
    }
   ],
   "source": [
    "data2.head()"
   ]
  },
  {
   "cell_type": "code",
   "execution_count": 46,
   "id": "9c9e8672",
   "metadata": {},
   "outputs": [
    {
     "data": {
      "text/html": [
       "<div>\n",
       "<style scoped>\n",
       "    .dataframe tbody tr th:only-of-type {\n",
       "        vertical-align: middle;\n",
       "    }\n",
       "\n",
       "    .dataframe tbody tr th {\n",
       "        vertical-align: top;\n",
       "    }\n",
       "\n",
       "    .dataframe thead th {\n",
       "        text-align: right;\n",
       "    }\n",
       "</style>\n",
       "<table border=\"1\" class=\"dataframe\">\n",
       "  <thead>\n",
       "    <tr style=\"text-align: right;\">\n",
       "      <th></th>\n",
       "      <th>label</th>\n",
       "      <th>product_feature</th>\n",
       "    </tr>\n",
       "  </thead>\n",
       "  <tbody>\n",
       "    <tr>\n",
       "      <th>5</th>\n",
       "      <td>1</td>\n",
       "      <td>5       10372598\\n9        3483338\\n10      16...</td>\n",
       "    </tr>\n",
       "    <tr>\n",
       "      <th>9</th>\n",
       "      <td>1</td>\n",
       "      <td>5       10372598\\n9        3483338\\n10      16...</td>\n",
       "    </tr>\n",
       "    <tr>\n",
       "      <th>10</th>\n",
       "      <td>1</td>\n",
       "      <td>5       10372598\\n9        3483338\\n10      16...</td>\n",
       "    </tr>\n",
       "    <tr>\n",
       "      <th>12</th>\n",
       "      <td>1</td>\n",
       "      <td>5       10372598\\n9        3483338\\n10      16...</td>\n",
       "    </tr>\n",
       "    <tr>\n",
       "      <th>21</th>\n",
       "      <td>1</td>\n",
       "      <td>5       10372598\\n9        3483338\\n10      16...</td>\n",
       "    </tr>\n",
       "  </tbody>\n",
       "</table>\n",
       "</div>"
      ],
      "text/plain": [
       "    label                                    product_feature\n",
       "5       1  5       10372598\\n9        3483338\\n10      16...\n",
       "9       1  5       10372598\\n9        3483338\\n10      16...\n",
       "10      1  5       10372598\\n9        3483338\\n10      16...\n",
       "12      1  5       10372598\\n9        3483338\\n10      16...\n",
       "21      1  5       10372598\\n9        3483338\\n10      16..."
      ]
     },
     "execution_count": 46,
     "metadata": {},
     "output_type": "execute_result"
    }
   ],
   "source": [
    "test_set2.head()"
   ]
  },
  {
   "cell_type": "code",
   "execution_count": 47,
   "id": "57e8b49f",
   "metadata": {},
   "outputs": [
    {
     "data": {
      "text/html": [
       "<div>\n",
       "<style scoped>\n",
       "    .dataframe tbody tr th:only-of-type {\n",
       "        vertical-align: middle;\n",
       "    }\n",
       "\n",
       "    .dataframe tbody tr th {\n",
       "        vertical-align: top;\n",
       "    }\n",
       "\n",
       "    .dataframe thead th {\n",
       "        text-align: right;\n",
       "    }\n",
       "</style>\n",
       "<table border=\"1\" class=\"dataframe\">\n",
       "  <thead>\n",
       "    <tr style=\"text-align: right;\">\n",
       "      <th></th>\n",
       "      <th>label</th>\n",
       "      <th>product_feature</th>\n",
       "    </tr>\n",
       "  </thead>\n",
       "  <tbody>\n",
       "    <tr>\n",
       "      <th>0</th>\n",
       "      <td>0</td>\n",
       "      <td>0         581109\\n1        3083228\\n7        1...</td>\n",
       "    </tr>\n",
       "    <tr>\n",
       "      <th>1</th>\n",
       "      <td>1</td>\n",
       "      <td>0         581109\\n1        3083228\\n7        1...</td>\n",
       "    </tr>\n",
       "    <tr>\n",
       "      <th>7</th>\n",
       "      <td>0</td>\n",
       "      <td>0         581109\\n1        3083228\\n7        1...</td>\n",
       "    </tr>\n",
       "    <tr>\n",
       "      <th>10</th>\n",
       "      <td>0</td>\n",
       "      <td>0         581109\\n1        3083228\\n7        1...</td>\n",
       "    </tr>\n",
       "    <tr>\n",
       "      <th>11</th>\n",
       "      <td>1</td>\n",
       "      <td>0         581109\\n1        3083228\\n7        1...</td>\n",
       "    </tr>\n",
       "  </tbody>\n",
       "</table>\n",
       "</div>"
      ],
      "text/plain": [
       "    label                                    product_feature\n",
       "0       0  0         581109\\n1        3083228\\n7        1...\n",
       "1       1  0         581109\\n1        3083228\\n7        1...\n",
       "7       0  0         581109\\n1        3083228\\n7        1...\n",
       "10      0  0         581109\\n1        3083228\\n7        1...\n",
       "11      1  0         581109\\n1        3083228\\n7        1..."
      ]
     },
     "execution_count": 47,
     "metadata": {},
     "output_type": "execute_result"
    }
   ],
   "source": [
    "data_gs2.head()"
   ]
  },
  {
   "cell_type": "code",
   "execution_count": 48,
   "id": "fb33a334",
   "metadata": {},
   "outputs": [
    {
     "ename": "MemoryError",
     "evalue": "Unable to allocate 1.64 GiB for an array with shape (14834, 14834) and data type float64",
     "output_type": "error",
     "traceback": [
      "\u001b[1;31m---------------------------------------------------------------------------\u001b[0m",
      "\u001b[1;31mMemoryError\u001b[0m                               Traceback (most recent call last)",
      "\u001b[1;32m~\\AppData\\Local\\Temp/ipykernel_20796/1390882617.py\u001b[0m in \u001b[0;36m<module>\u001b[1;34m\u001b[0m\n\u001b[0;32m     17\u001b[0m \u001b[1;33m\u001b[0m\u001b[0m\n\u001b[0;32m     18\u001b[0m \u001b[1;31m# calculate the cosine similarity between the products\u001b[0m\u001b[1;33m\u001b[0m\u001b[1;33m\u001b[0m\u001b[0m\n\u001b[1;32m---> 19\u001b[1;33m \u001b[0mcosine_similarities\u001b[0m \u001b[1;33m=\u001b[0m \u001b[0mcosine_similarity\u001b[0m\u001b[1;33m(\u001b[0m\u001b[0mtfidf\u001b[0m\u001b[1;33m)\u001b[0m\u001b[1;33m\u001b[0m\u001b[1;33m\u001b[0m\u001b[0m\n\u001b[0m\u001b[0;32m     20\u001b[0m \u001b[1;33m\u001b[0m\u001b[0m\n\u001b[0;32m     21\u001b[0m \u001b[1;31m# print the cosine similarity matrix\u001b[0m\u001b[1;33m\u001b[0m\u001b[1;33m\u001b[0m\u001b[0m\n",
      "\u001b[1;32m~\\anaconda3\\lib\\site-packages\\sklearn\\metrics\\pairwise.py\u001b[0m in \u001b[0;36mcosine_similarity\u001b[1;34m(X, Y, dense_output)\u001b[0m\n\u001b[0;32m   1186\u001b[0m         \u001b[0mY_normalized\u001b[0m \u001b[1;33m=\u001b[0m \u001b[0mnormalize\u001b[0m\u001b[1;33m(\u001b[0m\u001b[0mY\u001b[0m\u001b[1;33m,\u001b[0m \u001b[0mcopy\u001b[0m\u001b[1;33m=\u001b[0m\u001b[1;32mTrue\u001b[0m\u001b[1;33m)\u001b[0m\u001b[1;33m\u001b[0m\u001b[1;33m\u001b[0m\u001b[0m\n\u001b[0;32m   1187\u001b[0m \u001b[1;33m\u001b[0m\u001b[0m\n\u001b[1;32m-> 1188\u001b[1;33m     K = safe_sparse_dot(X_normalized, Y_normalized.T,\n\u001b[0m\u001b[0;32m   1189\u001b[0m                         dense_output=dense_output)\n\u001b[0;32m   1190\u001b[0m \u001b[1;33m\u001b[0m\u001b[0m\n",
      "\u001b[1;32m~\\anaconda3\\lib\\site-packages\\sklearn\\utils\\validation.py\u001b[0m in \u001b[0;36minner_f\u001b[1;34m(*args, **kwargs)\u001b[0m\n\u001b[0;32m     61\u001b[0m             \u001b[0mextra_args\u001b[0m \u001b[1;33m=\u001b[0m \u001b[0mlen\u001b[0m\u001b[1;33m(\u001b[0m\u001b[0margs\u001b[0m\u001b[1;33m)\u001b[0m \u001b[1;33m-\u001b[0m \u001b[0mlen\u001b[0m\u001b[1;33m(\u001b[0m\u001b[0mall_args\u001b[0m\u001b[1;33m)\u001b[0m\u001b[1;33m\u001b[0m\u001b[1;33m\u001b[0m\u001b[0m\n\u001b[0;32m     62\u001b[0m             \u001b[1;32mif\u001b[0m \u001b[0mextra_args\u001b[0m \u001b[1;33m<=\u001b[0m \u001b[1;36m0\u001b[0m\u001b[1;33m:\u001b[0m\u001b[1;33m\u001b[0m\u001b[1;33m\u001b[0m\u001b[0m\n\u001b[1;32m---> 63\u001b[1;33m                 \u001b[1;32mreturn\u001b[0m \u001b[0mf\u001b[0m\u001b[1;33m(\u001b[0m\u001b[1;33m*\u001b[0m\u001b[0margs\u001b[0m\u001b[1;33m,\u001b[0m \u001b[1;33m**\u001b[0m\u001b[0mkwargs\u001b[0m\u001b[1;33m)\u001b[0m\u001b[1;33m\u001b[0m\u001b[1;33m\u001b[0m\u001b[0m\n\u001b[0m\u001b[0;32m     64\u001b[0m \u001b[1;33m\u001b[0m\u001b[0m\n\u001b[0;32m     65\u001b[0m             \u001b[1;31m# extra_args > 0\u001b[0m\u001b[1;33m\u001b[0m\u001b[1;33m\u001b[0m\u001b[0m\n",
      "\u001b[1;32m~\\anaconda3\\lib\\site-packages\\sklearn\\utils\\extmath.py\u001b[0m in \u001b[0;36msafe_sparse_dot\u001b[1;34m(a, b, dense_output)\u001b[0m\n\u001b[0;32m    154\u001b[0m     if (sparse.issparse(a) and sparse.issparse(b)\n\u001b[0;32m    155\u001b[0m             and dense_output and hasattr(ret, \"toarray\")):\n\u001b[1;32m--> 156\u001b[1;33m         \u001b[1;32mreturn\u001b[0m \u001b[0mret\u001b[0m\u001b[1;33m.\u001b[0m\u001b[0mtoarray\u001b[0m\u001b[1;33m(\u001b[0m\u001b[1;33m)\u001b[0m\u001b[1;33m\u001b[0m\u001b[1;33m\u001b[0m\u001b[0m\n\u001b[0m\u001b[0;32m    157\u001b[0m     \u001b[1;32mreturn\u001b[0m \u001b[0mret\u001b[0m\u001b[1;33m\u001b[0m\u001b[1;33m\u001b[0m\u001b[0m\n\u001b[0;32m    158\u001b[0m \u001b[1;33m\u001b[0m\u001b[0m\n",
      "\u001b[1;32m~\\anaconda3\\lib\\site-packages\\scipy\\sparse\\compressed.py\u001b[0m in \u001b[0;36mtoarray\u001b[1;34m(self, order, out)\u001b[0m\n\u001b[0;32m   1029\u001b[0m         \u001b[1;32mif\u001b[0m \u001b[0mout\u001b[0m \u001b[1;32mis\u001b[0m \u001b[1;32mNone\u001b[0m \u001b[1;32mand\u001b[0m \u001b[0morder\u001b[0m \u001b[1;32mis\u001b[0m \u001b[1;32mNone\u001b[0m\u001b[1;33m:\u001b[0m\u001b[1;33m\u001b[0m\u001b[1;33m\u001b[0m\u001b[0m\n\u001b[0;32m   1030\u001b[0m             \u001b[0morder\u001b[0m \u001b[1;33m=\u001b[0m \u001b[0mself\u001b[0m\u001b[1;33m.\u001b[0m\u001b[0m_swap\u001b[0m\u001b[1;33m(\u001b[0m\u001b[1;34m'cf'\u001b[0m\u001b[1;33m)\u001b[0m\u001b[1;33m[\u001b[0m\u001b[1;36m0\u001b[0m\u001b[1;33m]\u001b[0m\u001b[1;33m\u001b[0m\u001b[1;33m\u001b[0m\u001b[0m\n\u001b[1;32m-> 1031\u001b[1;33m         \u001b[0mout\u001b[0m \u001b[1;33m=\u001b[0m \u001b[0mself\u001b[0m\u001b[1;33m.\u001b[0m\u001b[0m_process_toarray_args\u001b[0m\u001b[1;33m(\u001b[0m\u001b[0morder\u001b[0m\u001b[1;33m,\u001b[0m \u001b[0mout\u001b[0m\u001b[1;33m)\u001b[0m\u001b[1;33m\u001b[0m\u001b[1;33m\u001b[0m\u001b[0m\n\u001b[0m\u001b[0;32m   1032\u001b[0m         \u001b[1;32mif\u001b[0m \u001b[1;32mnot\u001b[0m \u001b[1;33m(\u001b[0m\u001b[0mout\u001b[0m\u001b[1;33m.\u001b[0m\u001b[0mflags\u001b[0m\u001b[1;33m.\u001b[0m\u001b[0mc_contiguous\u001b[0m \u001b[1;32mor\u001b[0m \u001b[0mout\u001b[0m\u001b[1;33m.\u001b[0m\u001b[0mflags\u001b[0m\u001b[1;33m.\u001b[0m\u001b[0mf_contiguous\u001b[0m\u001b[1;33m)\u001b[0m\u001b[1;33m:\u001b[0m\u001b[1;33m\u001b[0m\u001b[1;33m\u001b[0m\u001b[0m\n\u001b[0;32m   1033\u001b[0m             \u001b[1;32mraise\u001b[0m \u001b[0mValueError\u001b[0m\u001b[1;33m(\u001b[0m\u001b[1;34m'Output array must be C or F contiguous'\u001b[0m\u001b[1;33m)\u001b[0m\u001b[1;33m\u001b[0m\u001b[1;33m\u001b[0m\u001b[0m\n",
      "\u001b[1;32m~\\anaconda3\\lib\\site-packages\\scipy\\sparse\\base.py\u001b[0m in \u001b[0;36m_process_toarray_args\u001b[1;34m(self, order, out)\u001b[0m\n\u001b[0;32m   1200\u001b[0m             \u001b[1;32mreturn\u001b[0m \u001b[0mout\u001b[0m\u001b[1;33m\u001b[0m\u001b[1;33m\u001b[0m\u001b[0m\n\u001b[0;32m   1201\u001b[0m         \u001b[1;32melse\u001b[0m\u001b[1;33m:\u001b[0m\u001b[1;33m\u001b[0m\u001b[1;33m\u001b[0m\u001b[0m\n\u001b[1;32m-> 1202\u001b[1;33m             \u001b[1;32mreturn\u001b[0m \u001b[0mnp\u001b[0m\u001b[1;33m.\u001b[0m\u001b[0mzeros\u001b[0m\u001b[1;33m(\u001b[0m\u001b[0mself\u001b[0m\u001b[1;33m.\u001b[0m\u001b[0mshape\u001b[0m\u001b[1;33m,\u001b[0m \u001b[0mdtype\u001b[0m\u001b[1;33m=\u001b[0m\u001b[0mself\u001b[0m\u001b[1;33m.\u001b[0m\u001b[0mdtype\u001b[0m\u001b[1;33m,\u001b[0m \u001b[0morder\u001b[0m\u001b[1;33m=\u001b[0m\u001b[0morder\u001b[0m\u001b[1;33m)\u001b[0m\u001b[1;33m\u001b[0m\u001b[1;33m\u001b[0m\u001b[0m\n\u001b[0m\u001b[0;32m   1203\u001b[0m \u001b[1;33m\u001b[0m\u001b[0m\n\u001b[0;32m   1204\u001b[0m \u001b[1;33m\u001b[0m\u001b[0m\n",
      "\u001b[1;31mMemoryError\u001b[0m: Unable to allocate 1.64 GiB for an array with shape (14834, 14834) and data type float64"
     ]
    }
   ],
   "source": [
    "from sklearn.feature_extraction.text import TfidfVectorizer\n",
    "from sklearn.metrics.pairwise import cosine_similarity\n",
    "\n",
    "# sample product data\n",
    "products = [\n",
    "    \"iPhone 11, 64GB, Black\",\n",
    "    \"Samsung Galaxy S21, 128GB, Gray\",\n",
    "    \"iPhone 12, 128GB, Blue\",\n",
    "    \"Samsung Galaxy Note 20, 256GB, Black\"\n",
    "]\n",
    "\n",
    "# create the TF-IDF vectorizer\n",
    "vectorizer = TfidfVectorizer()\n",
    "\n",
    "# transform the product data into TF-IDF vectors\n",
    "tfidf = vectorizer.fit_transform(data2.product_feature)\n",
    "\n",
    "# calculate the cosine similarity between the products\n",
    "cosine_similarities = cosine_similarity(tfidf)\n",
    "\n",
    "# print the cosine similarity matrix\n",
    "print(cosine_similarities)\n"
   ]
  },
  {
   "cell_type": "code",
   "execution_count": null,
   "id": "97c31a01",
   "metadata": {},
   "outputs": [],
   "source": []
  },
  {
   "cell_type": "code",
   "execution_count": null,
   "id": "9690fc02",
   "metadata": {},
   "outputs": [],
   "source": []
  },
  {
   "cell_type": "code",
   "execution_count": null,
   "id": "ef876c2e",
   "metadata": {},
   "outputs": [],
   "source": []
  },
  {
   "cell_type": "code",
   "execution_count": null,
   "id": "1a54482f",
   "metadata": {},
   "outputs": [],
   "source": []
  },
  {
   "cell_type": "code",
   "execution_count": null,
   "id": "2bae1583",
   "metadata": {},
   "outputs": [],
   "source": []
  },
  {
   "cell_type": "code",
   "execution_count": null,
   "id": "85b4c7c9",
   "metadata": {},
   "outputs": [],
   "source": []
  },
  {
   "cell_type": "code",
   "execution_count": null,
   "id": "ef41ef36",
   "metadata": {},
   "outputs": [],
   "source": []
  },
  {
   "cell_type": "code",
   "execution_count": null,
   "id": "cae1347e",
   "metadata": {},
   "outputs": [],
   "source": []
  },
  {
   "cell_type": "markdown",
   "id": "6d3ef9d5",
   "metadata": {},
   "source": [
    "## LEARNING THE VOCABULARY"
   ]
  },
  {
   "cell_type": "markdown",
   "id": "cbd821e3",
   "metadata": {},
   "source": [
    "#### defining the function to remove punctuation"
   ]
  },
  {
   "cell_type": "code",
   "execution_count": 53,
   "id": "6ddae5f6",
   "metadata": {},
   "outputs": [],
   "source": [
    "import re\n",
    "import string\n",
    "string.punctuation\n",
    "#library that contains punctuation\n",
    "def remove_punctuation(text):\n",
    "    punctuationfree=\"\".join([i for i in text if i not in string.punctuation])\n",
    "    return punctuationfree"
   ]
  },
  {
   "cell_type": "markdown",
   "id": "190b081c",
   "metadata": {},
   "source": [
    "#### Apply the function remove_punctuation to column \"prod_left_right\" in new_data set and new_test set"
   ]
  },
  {
   "cell_type": "code",
   "execution_count": 54,
   "id": "26b6a4f0",
   "metadata": {},
   "outputs": [],
   "source": [
    "data2['product_feature'] = data2['product_feature'].apply(lambda x:remove_punctuation(x))\n",
    "test_set2['product_feature'] = test_set2['product_feature'].apply(lambda x:remove_punctuation(x))\n",
    "data_gs2['product_feature'] = data_gs2['product_feature'].apply(lambda x:remove_punctuation(x))"
   ]
  },
  {
   "cell_type": "markdown",
   "id": "67c63cb7",
   "metadata": {},
   "source": [
    "#### Generate stopwords"
   ]
  },
  {
   "cell_type": "code",
   "execution_count": 55,
   "id": "c8b28ca1",
   "metadata": {},
   "outputs": [],
   "source": [
    "#nltk.download('stopwords')\n",
    "from nltk.corpus import stopwords\n",
    "english_stopwords=stopwords.words('english')"
   ]
  },
  {
   "cell_type": "markdown",
   "id": "12b80406",
   "metadata": {},
   "source": [
    "### Generate Stemmer"
   ]
  },
  {
   "cell_type": "code",
   "execution_count": 56,
   "id": "4032574d",
   "metadata": {},
   "outputs": [],
   "source": [
    "import nltk\n",
    "from nltk.tokenize import word_tokenize #to tokenize the column\n",
    "from nltk.stem.snowball import SnowballStemmer # To stem the each word\n",
    "stemmer= SnowballStemmer(language='english')\n"
   ]
  },
  {
   "cell_type": "code",
   "execution_count": 57,
   "id": "3589eb9a",
   "metadata": {},
   "outputs": [
    {
     "data": {
      "text/plain": [
       "['we', 'are', 'not', 'coming']"
      ]
     },
     "execution_count": 57,
     "metadata": {},
     "output_type": "execute_result"
    }
   ],
   "source": [
    "word_tokenize(\"we are not coming\")"
   ]
  },
  {
   "cell_type": "markdown",
   "id": "d530893b",
   "metadata": {},
   "source": [
    "### Define tokenizer function with stemmer"
   ]
  },
  {
   "cell_type": "code",
   "execution_count": 58,
   "id": "88a7479f",
   "metadata": {},
   "outputs": [],
   "source": [
    "def tokenize(text):\n",
    "            return [stemmer.stem(token) for token in word_tokenize(text)]"
   ]
  },
  {
   "cell_type": "code",
   "execution_count": 59,
   "id": "25c83f22",
   "metadata": {},
   "outputs": [
    {
     "data": {
      "text/plain": [
       "['we', 'are', 'not', 'come']"
      ]
     },
     "execution_count": 59,
     "metadata": {},
     "output_type": "execute_result"
    }
   ],
   "source": [
    "tokenize(\"we are not coming\")"
   ]
  },
  {
   "cell_type": "markdown",
   "id": "53b82b60",
   "metadata": {},
   "source": [
    "#### Create a Tf-Idf instance"
   ]
  },
  {
   "cell_type": "code",
   "execution_count": 60,
   "id": "099f222e",
   "metadata": {},
   "outputs": [],
   "source": [
    "from sklearn.feature_extraction.text import TfidfVectorizer\n",
    "vectorizer = TfidfVectorizer(tokenizer=tokenize , \n",
    "                             stop_words=english_stopwords,\n",
    "                            ngram_range=(1,1) #, max_features=2000\n",
    "                            )"
   ]
  },
  {
   "cell_type": "markdown",
   "id": "5d5c52ba",
   "metadata": {},
   "source": [
    "#### Passing in the text into vectorizer\n"
   ]
  },
  {
   "cell_type": "code",
   "execution_count": 61,
   "id": "885b6fcf",
   "metadata": {},
   "outputs": [
    {
     "name": "stderr",
     "output_type": "stream",
     "text": [
      "C:\\Users\\pc\\anaconda3\\lib\\site-packages\\sklearn\\feature_extraction\\text.py:489: UserWarning: The parameter 'token_pattern' will not be used since 'tokenizer' is not None'\n",
      "  warnings.warn(\"The parameter 'token_pattern' will not be used\"\n",
      "C:\\Users\\pc\\anaconda3\\lib\\site-packages\\sklearn\\feature_extraction\\text.py:388: UserWarning: Your stop_words may be inconsistent with your preprocessing. Tokenizing the stop words generated tokens [\"'d\", \"'s\", 'abov', 'ani', 'becaus', 'befor', 'could', 'doe', 'dure', 'might', 'must', \"n't\", 'need', 'onc', 'onli', 'ourselv', 'sha', 'themselv', 'veri', 'whi', 'wo', 'would', 'yourselv'] not in stop_words.\n",
      "  warnings.warn('Your stop_words may be inconsistent with '\n"
     ]
    },
    {
     "data": {
      "text/plain": [
       "TfidfVectorizer(stop_words=['i', 'me', 'my', 'myself', 'we', 'our', 'ours',\n",
       "                            'ourselves', 'you', \"you're\", \"you've\", \"you'll\",\n",
       "                            \"you'd\", 'your', 'yours', 'yourself', 'yourselves',\n",
       "                            'he', 'him', 'his', 'himself', 'she', \"she's\",\n",
       "                            'her', 'hers', 'herself', 'it', \"it's\", 'its',\n",
       "                            'itself', ...],\n",
       "                tokenizer=<function tokenize at 0x000001969BC380D0>)"
      ]
     },
     "execution_count": 61,
     "metadata": {},
     "output_type": "execute_result"
    }
   ],
   "source": [
    "vectorizer.fit(data2.product_feature)"
   ]
  },
  {
   "cell_type": "markdown",
   "id": "4829f56d",
   "metadata": {},
   "source": [
    "#### View the first 200 features of the first row"
   ]
  },
  {
   "cell_type": "code",
   "execution_count": 62,
   "id": "59695a05",
   "metadata": {},
   "outputs": [
    {
     "data": {
      "text/plain": [
       "['0',\n",
       " '000',\n",
       " '00003',\n",
       " '0001',\n",
       " '001',\n",
       " '0065030785341',\n",
       " '008in',\n",
       " '009',\n",
       " '015',\n",
       " '018',\n",
       " '0326',\n",
       " '04',\n",
       " '043in',\n",
       " '049',\n",
       " '04in',\n",
       " '04in（1499毫米x1092毫米x102毫米）工作温度：13ºf到85°c（25°c至85°c）存储温度：40ºf到85°c（40°c至85°c）兼容性：兼容所有的microsdhc，microsdxc和microsdhc',\n",
       " '05',\n",
       " '054',\n",
       " '055',\n",
       " '059in',\n",
       " '05em',\n",
       " '05gb',\n",
       " '05m',\n",
       " '05w',\n",
       " '068in',\n",
       " '069l',\n",
       " '06adimensõ',\n",
       " '06gp46163kr',\n",
       " '0709',\n",
       " '073',\n",
       " '075em',\n",
       " '079in',\n",
       " '07em',\n",
       " '08',\n",
       " '0829160999111',\n",
       " '084',\n",
       " '08gp46180kr',\n",
       " '08gp46180kren',\n",
       " '091',\n",
       " '09c',\n",
       " '09thick',\n",
       " '0mben',\n",
       " '0px',\n",
       " '0pximg',\n",
       " '0pxop',\n",
       " '0°c',\n",
       " '1',\n",
       " '10',\n",
       " '100',\n",
       " '1000',\n",
       " '10000',\n",
       " '10000mhz',\n",
       " '10001',\n",
       " '1000basesx',\n",
       " '1000mbit',\n",
       " '1000mbps',\n",
       " '1000mbpsideal',\n",
       " '1000mw',\n",
       " '1000sx',\n",
       " '1000x',\n",
       " '10010mhz',\n",
       " '100basetx',\n",
       " '100cdq80sp',\n",
       " '100d',\n",
       " '100dpi',\n",
       " '100gb',\n",
       " '100k80k',\n",
       " '100mbps',\n",
       " '100mbs',\n",
       " '100mbsen',\n",
       " '100mmredefin',\n",
       " '100percent',\n",
       " '100r',\n",
       " '100w',\n",
       " '100x100mm',\n",
       " '101',\n",
       " '1010',\n",
       " '10100',\n",
       " '101001000',\n",
       " '101001000mbps',\n",
       " '101001000mbpsauto',\n",
       " '101001000t',\n",
       " '10100m',\n",
       " '10100mbps',\n",
       " '10100mbpsadaptador',\n",
       " '10100mbpspt',\n",
       " '10101027',\n",
       " '10101028',\n",
       " '10108mhz',\n",
       " '1011',\n",
       " '101dpi',\n",
       " '102',\n",
       " '1020gb',\n",
       " '1021',\n",
       " '1024',\n",
       " '1024k',\n",
       " '1024mb',\n",
       " '1024px',\n",
       " '1024x4',\n",
       " '1025px',\n",
       " '102mm',\n",
       " '102mmwerktemperatuur',\n",
       " '1033',\n",
       " '1035',\n",
       " '104',\n",
       " '10402040p2000',\n",
       " '105',\n",
       " '1050',\n",
       " '1050ti',\n",
       " '105inch',\n",
       " '1060',\n",
       " '10666',\n",
       " '1066mhz',\n",
       " '1066x',\n",
       " '1067',\n",
       " '1067x',\n",
       " '107',\n",
       " '1070',\n",
       " '1070ti',\n",
       " '10710810910101011',\n",
       " '1072mhz',\n",
       " '1076',\n",
       " '107mm',\n",
       " '107x',\n",
       " '1080',\n",
       " '1080en',\n",
       " '1080p',\n",
       " '1080pâ',\n",
       " '1080ti',\n",
       " '109',\n",
       " '1092',\n",
       " '1092mm',\n",
       " '10baset',\n",
       " '10bay',\n",
       " '10gb',\n",
       " '10gbps',\n",
       " '10k',\n",
       " '10kb',\n",
       " '10kv',\n",
       " '10mb',\n",
       " '10mbs',\n",
       " '10pt',\n",
       " '10px',\n",
       " '10sp1',\n",
       " '10tb',\n",
       " '10uhsi',\n",
       " '10uhsiwidth',\n",
       " '10ultrafast',\n",
       " '10x',\n",
       " '10year',\n",
       " '10。',\n",
       " '10吧！在scubastore，我们所有的摄影摄像',\n",
       " '11',\n",
       " '110',\n",
       " '11002668',\n",
       " '1100266814249568',\n",
       " '11010mhz',\n",
       " '110220',\n",
       " '110220gb',\n",
       " '110mm',\n",
       " '111',\n",
       " '112',\n",
       " '11264mb',\n",
       " '112px',\n",
       " '113',\n",
       " '11304906',\n",
       " '113049063668151',\n",
       " '1144mm',\n",
       " '114mm',\n",
       " '115',\n",
       " '1150',\n",
       " '1151',\n",
       " '1151…',\n",
       " '1152',\n",
       " '1152px',\n",
       " '1155',\n",
       " '1156mhz',\n",
       " '116',\n",
       " '116inch',\n",
       " '117',\n",
       " '1176',\n",
       " '117x',\n",
       " '118',\n",
       " '1195mhz',\n",
       " '11dppx',\n",
       " '11e',\n",
       " '11em',\n",
       " '11g',\n",
       " '11mbps',\n",
       " '11mbpsdinâmicoeirp',\n",
       " '11mm',\n",
       " '12',\n",
       " '120',\n",
       " '1200',\n",
       " '120000001',\n",
       " '1200rpm',\n",
       " '120125v',\n",
       " '120135v',\n",
       " '1202mhz',\n",
       " '1208']"
      ]
     },
     "execution_count": 62,
     "metadata": {},
     "output_type": "execute_result"
    }
   ],
   "source": [
    "vectorizer.get_feature_names()[:200]"
   ]
  },
  {
   "cell_type": "markdown",
   "id": "8b288684",
   "metadata": {},
   "source": [
    "### Transform Training , gold standard data and test data"
   ]
  },
  {
   "cell_type": "markdown",
   "id": "991bee39",
   "metadata": {},
   "source": [
    "#### Transform training data"
   ]
  },
  {
   "cell_type": "code",
   "execution_count": 63,
   "id": "ee2aa6be",
   "metadata": {},
   "outputs": [],
   "source": [
    "inputs= vectorizer.transform(data2.product_feature)"
   ]
  },
  {
   "cell_type": "code",
   "execution_count": 64,
   "id": "0a866b62",
   "metadata": {},
   "outputs": [
    {
     "data": {
      "text/plain": [
       "(14834, 11940)"
      ]
     },
     "execution_count": 64,
     "metadata": {},
     "output_type": "execute_result"
    }
   ],
   "source": [
    "inputs.shape"
   ]
  },
  {
   "cell_type": "markdown",
   "id": "cd27f7d2",
   "metadata": {},
   "source": [
    "#### Transform test data"
   ]
  },
  {
   "cell_type": "code",
   "execution_count": 65,
   "id": "beecbee0",
   "metadata": {},
   "outputs": [],
   "source": [
    "test_inputs= vectorizer.transform(test_set2.product_feature)"
   ]
  },
  {
   "cell_type": "code",
   "execution_count": 66,
   "id": "ec9bc072",
   "metadata": {},
   "outputs": [
    {
     "data": {
      "text/plain": [
       "(587, 11940)"
      ]
     },
     "execution_count": 66,
     "metadata": {},
     "output_type": "execute_result"
    }
   ],
   "source": [
    "test_inputs.shape"
   ]
  },
  {
   "cell_type": "markdown",
   "id": "5c7b6e8a",
   "metadata": {},
   "source": [
    "#### Transform gold standard data"
   ]
  },
  {
   "cell_type": "code",
   "execution_count": 67,
   "id": "3d56b092",
   "metadata": {},
   "outputs": [],
   "source": [
    "gs_inputs= vectorizer.transform(data_gs2.product_feature)"
   ]
  },
  {
   "cell_type": "code",
   "execution_count": 68,
   "id": "653ef3bb",
   "metadata": {},
   "outputs": [
    {
     "data": {
      "text/plain": [
       "(446, 11940)"
      ]
     },
     "execution_count": 68,
     "metadata": {},
     "output_type": "execute_result"
    }
   ],
   "source": [
    "gs_inputs.shape"
   ]
  },
  {
   "cell_type": "markdown",
   "id": "4e304a46",
   "metadata": {},
   "source": [
    "#### Split the Training data into train and validation "
   ]
  },
  {
   "cell_type": "code",
   "execution_count": 69,
   "id": "0544d433",
   "metadata": {},
   "outputs": [],
   "source": [
    "from sklearn.model_selection import train_test_split"
   ]
  },
  {
   "cell_type": "code",
   "execution_count": 70,
   "id": "fcfa9897",
   "metadata": {},
   "outputs": [],
   "source": [
    "X_train , X_val , y_train , y_val = train_test_split(inputs , data2.label , test_size= 0.3 , random_state=42)"
   ]
  },
  {
   "cell_type": "code",
   "execution_count": 71,
   "id": "638dc36d",
   "metadata": {},
   "outputs": [
    {
     "data": {
      "text/plain": [
       "<10383x11940 sparse matrix of type '<class 'numpy.float64'>'\n",
       "\twith 1345852 stored elements in Compressed Sparse Row format>"
      ]
     },
     "execution_count": 71,
     "metadata": {},
     "output_type": "execute_result"
    }
   ],
   "source": [
    "X_train"
   ]
  },
  {
   "cell_type": "code",
   "execution_count": 72,
   "id": "a671dd0e",
   "metadata": {},
   "outputs": [
    {
     "ename": "NameError",
     "evalue": "name 'Y_train' is not defined",
     "output_type": "error",
     "traceback": [
      "\u001b[1;31m---------------------------------------------------------------------------\u001b[0m",
      "\u001b[1;31mNameError\u001b[0m                                 Traceback (most recent call last)",
      "\u001b[1;32m~\\AppData\\Local\\Temp/ipykernel_16164/1324181955.py\u001b[0m in \u001b[0;36m<module>\u001b[1;34m\u001b[0m\n\u001b[1;32m----> 1\u001b[1;33m \u001b[0mlen\u001b[0m\u001b[1;33m(\u001b[0m\u001b[0mY_train\u001b[0m\u001b[1;33m)\u001b[0m\u001b[1;33m\u001b[0m\u001b[1;33m\u001b[0m\u001b[0m\n\u001b[0m",
      "\u001b[1;31mNameError\u001b[0m: name 'Y_train' is not defined"
     ]
    }
   ],
   "source": [
    "len(Y_train)"
   ]
  },
  {
   "cell_type": "markdown",
   "id": "cb07b6f1",
   "metadata": {},
   "source": [
    "#### Test data"
   ]
  },
  {
   "cell_type": "code",
   "execution_count": null,
   "id": "c7a16b50",
   "metadata": {},
   "outputs": [],
   "source": [
    "X_test=test_inputs \n",
    "y_test = test_set2.label"
   ]
  },
  {
   "cell_type": "code",
   "execution_count": null,
   "id": "75b26e4c",
   "metadata": {},
   "outputs": [],
   "source": [
    "X_train , X_val , y_train , y_val = train_test_split(inputs , data2.label , test_size= 0.3 , random_state=42)\n",
    "\n",
    "X_test=test_inputs \n",
    "y_test = test_set2.label\n",
    "\n",
    "X_gs =gs_inputs\n",
    "y_gs= data_gs2.label"
   ]
  },
  {
   "cell_type": "code",
   "execution_count": null,
   "id": "019cc752",
   "metadata": {},
   "outputs": [],
   "source": [
    "X_test"
   ]
  },
  {
   "cell_type": "markdown",
   "id": "73dcf054",
   "metadata": {},
   "source": [
    "#### gold standard data"
   ]
  },
  {
   "cell_type": "code",
   "execution_count": null,
   "id": "b31ae6ee",
   "metadata": {},
   "outputs": [],
   "source": [
    "X_gs =gs_inputs\n",
    "y_gs= data_gs2.label"
   ]
  },
  {
   "cell_type": "markdown",
   "id": "4efbc46a",
   "metadata": {},
   "source": [
    "### Initial Accuracy Test for Potential Models using K fold Evaluation"
   ]
  },
  {
   "cell_type": "code",
   "execution_count": null,
   "id": "ba7feb9b",
   "metadata": {},
   "outputs": [],
   "source": [
    "from sklearn.model_selection import cross_val_predict\n",
    "from sklearn.metrics import confusion_matrix\n",
    "from sklearn import model_selection\n",
    "from sklearn.metrics import classification_report\n",
    "from sklearn.linear_model import LogisticRegression\n",
    "log_model = LogisticRegression(solver='sag')\n",
    "from sklearn.tree import DecisionTreeClassifier\n",
    "from sklearn.ensemble import RandomForestClassifier\n",
    "from sklearn.neighbors import KNeighborsClassifier\n",
    "from sklearn.naive_bayes import GaussianNB\n",
    "import matplotlib.pyplot as plt\n",
    "\n",
    "\n",
    "\n",
    "seed = 7\n",
    "\n",
    "models = []\n",
    "models.append(('LR', LogisticRegression()))\n",
    "models.append(('RF', RandomForestClassifier()))\n",
    "models.append(('KNN', KNeighborsClassifier()))\n",
    "models.append(('CART', DecisionTreeClassifier()))\n",
    "#models.append(('NB', GaussianNB()))\n",
    "\n",
    "\n",
    "#Evaluate each model\n",
    "results = []\n",
    "names = []\n",
    "scoring = 'accuracy'\n",
    "\n",
    "for name, model in models:\n",
    "    kfold = model_selection.KFold(n_splits = 10, random_state = seed , shuffle=True)\n",
    "    cv_results = model_selection.cross_val_score(model,X_train , y_train.ravel(), cv=kfold, scoring=scoring)\n",
    "    model.fit(X_train, y_train)\n",
    "    Y_pred = model.predict(X_val)\n",
    "    \n",
    "    results.append(cv_results)\n",
    "    names.append(name)\n",
    "    print('Model Name: ' , name)\n",
    "    print('Cross value mean: ' , cv_results.mean())\n",
    "    print('Cross value Standard Deviation: ', cv_results.std())\n",
    "    print('\\nClassification Report')\n",
    "    print(classification_report(y_val, Y_pred))\n",
    "    print('=================================================================\\n')\n",
    "    \n",
    "    \n"
   ]
  },
  {
   "cell_type": "markdown",
   "id": "01add8f9",
   "metadata": {},
   "source": [
    "### Boxplot for comparison"
   ]
  },
  {
   "cell_type": "code",
   "execution_count": null,
   "id": "4a293926",
   "metadata": {},
   "outputs": [],
   "source": [
    "fig = plt.figure()\n",
    "fig.suptitle('Algorithm Comparison')\n",
    "ax = fig.add_subplot(111)\n",
    "plt.boxplot(results)\n",
    "ax.set_xticklabels(names)\n",
    "plt.show()"
   ]
  },
  {
   "cell_type": "markdown",
   "id": "c8eef7a5",
   "metadata": {},
   "source": [
    "Having applied KFold Validation to a number of possible classification algorithms, we have a strong accuracy rating from the following models:\n",
    "###### Logistic Regression , Random Forests , K Nearest Neighbour , Decision Tree Classifier\n",
    "\n",
    "we will select Random Forest because it has the highest accuracy.\n"
   ]
  },
  {
   "cell_type": "markdown",
   "id": "6ea16060",
   "metadata": {},
   "source": [
    "### Fit the Random Forest Model"
   ]
  },
  {
   "cell_type": "code",
   "execution_count": null,
   "id": "13265132",
   "metadata": {},
   "outputs": [],
   "source": [
    "from sklearn.feature_extraction.text import CountVectorizer,TfidfVectorizer\n",
    "import sklearn.metrics as metrics\n",
    "from sklearn.metrics import accuracy_score , roc_auc_score, roc_curve\n",
    "from sklearn.metrics import confusion_matrix, ConfusionMatrixDisplay"
   ]
  },
  {
   "cell_type": "code",
   "execution_count": null,
   "id": "96051233",
   "metadata": {},
   "outputs": [],
   "source": [
    "model = RandomForestClassifier(n_estimators= 10 , random_state=42)\n",
    "model.fit(X_train , y_train )"
   ]
  },
  {
   "cell_type": "markdown",
   "id": "e79df52b",
   "metadata": {},
   "source": [
    "### Evaluate model using validation set"
   ]
  },
  {
   "cell_type": "code",
   "execution_count": null,
   "id": "cd5beb8b",
   "metadata": {},
   "outputs": [],
   "source": [
    "#predicted y\n",
    "y_val_pred = model.predict(X_val)"
   ]
  },
  {
   "cell_type": "code",
   "execution_count": null,
   "id": "65cf4401",
   "metadata": {},
   "outputs": [],
   "source": [
    "confusion_matrix(y_val, y_val_pred)"
   ]
  },
  {
   "cell_type": "code",
   "execution_count": null,
   "id": "befcde9c",
   "metadata": {},
   "outputs": [],
   "source": [
    "ConfusionMatrixDisplay(confusion_matrix(y_val, y_val_pred), model.classes_).plot()"
   ]
  },
  {
   "cell_type": "code",
   "execution_count": null,
   "id": "02838629",
   "metadata": {},
   "outputs": [],
   "source": [
    "accuracy_score(y_val, y_val_pred)"
   ]
  },
  {
   "cell_type": "code",
   "execution_count": null,
   "id": "38d15ef0",
   "metadata": {},
   "outputs": [],
   "source": [
    "print(metrics.classification_report(y_val, y_val_pred, target_names=['nonmatch', 'match']))"
   ]
  },
  {
   "cell_type": "markdown",
   "id": "e4421892",
   "metadata": {},
   "source": [
    "- Interpretation of the above reports\n",
    "The total number of data point is 8683.\n",
    "The number of labels that are non match is 7202\n",
    "The number of label that are matching is 1481\n",
    "From the above confusion matrix let’s get the four numbers:\n",
    "\n",
    "True Positives: 449 ,meaning the model correctly classified 449 positive class data points.\n",
    "True Negatives: 156 ,meaning the model correctly classified 156 negative class data points.\n",
    "False Positives: 121 ,meaning the model incorrectly classified 121 negative class data points as belonging to the positive class.\n",
    "False Negatives: 1032 ,meaning the model incorrectly classified 1032 positive class data points as belonging to the negative class\n",
    "- The data is an imbalanced data. The Imbalanced datasets involve datasets that have a significant deviation of the percentage of rows between the majority and minority classes present. F1 score is good enough to measure the accuracy of model of that were fitted on imbalanced data.\n",
    "- The F1 score is 87% , this means that the overall model performance is 87%"
   ]
  },
  {
   "cell_type": "markdown",
   "id": "df918b93",
   "metadata": {},
   "source": [
    "### Hyperparameter Tuning for Random Forest using Randomised Search"
   ]
  },
  {
   "cell_type": "markdown",
   "id": "b2cbdb88",
   "metadata": {},
   "source": [
    "###  Implementing Random Search Using Scikit-Learn\n",
    "##### Defining the Hyperparameter Space"
   ]
  },
  {
   "cell_type": "code",
   "execution_count": null,
   "id": "31f5cfee",
   "metadata": {},
   "outputs": [],
   "source": [
    "from scipy.stats import randint\n",
    "import numpy as np\n",
    "rs_space={'max_depth':list(np.arange(1, 100, step=10)) + [None],\n",
    "              'n_estimators':np.arange(10, 500, step=50),\n",
    "              'max_features':randint(1,7),\n",
    "              'criterion':['gini','entropy'],\n",
    "              'min_samples_leaf':randint(1,4),\n",
    "              'min_samples_split':np.arange(2, 10, step=2)\n",
    "         }"
   ]
  },
  {
   "cell_type": "code",
   "execution_count": null,
   "id": "bf138b30",
   "metadata": {},
   "outputs": [],
   "source": [
    "from sklearn.model_selection import RandomizedSearchCV\n",
    "\n",
    "rf = RandomForestClassifier()\n",
    "rf_random = RandomizedSearchCV(rf, rs_space, n_iter=100, scoring='accuracy', n_jobs=-1, cv=3)\n",
    "model_random = rf_random.fit(X_train,y_train)"
   ]
  },
  {
   "cell_type": "code",
   "execution_count": null,
   "id": "43123363",
   "metadata": {},
   "outputs": [],
   "source": [
    "print('Best grid search hyperparameters are: '+str(model_random.best_params_))\n",
    "print('Best grid search score is: '+str(model_random.best_score_))"
   ]
  },
  {
   "cell_type": "markdown",
   "id": "cd6ce0d4",
   "metadata": {},
   "source": [
    "### Fitting model with the best parameters"
   ]
  },
  {
   "cell_type": "code",
   "execution_count": null,
   "id": "05717034",
   "metadata": {},
   "outputs": [],
   "source": [
    "rf_best = RandomForestClassifier(criterion='gini' ,max_features=6,min_samples_leaf=1,min_samples_split=2,n_estimators=260 )\n",
    "rf_best.fit(X_train , y_train )"
   ]
  },
  {
   "cell_type": "code",
   "execution_count": null,
   "id": "26eb0491",
   "metadata": {},
   "outputs": [],
   "source": [
    "### Evaluate model on validation data"
   ]
  },
  {
   "cell_type": "code",
   "execution_count": null,
   "id": "d81c4b58",
   "metadata": {},
   "outputs": [],
   "source": [
    "y_pred= rf_best.predict(X_val)"
   ]
  },
  {
   "cell_type": "code",
   "execution_count": null,
   "id": "6fe9f3e0",
   "metadata": {},
   "outputs": [],
   "source": [
    "print(\"Accuracy = \" , metrics.accuracy_score(y_val, y_pred))"
   ]
  },
  {
   "cell_type": "code",
   "execution_count": null,
   "id": "ac30bd97",
   "metadata": {},
   "outputs": [],
   "source": [
    "confusion_matrix(y_val, y_pred)"
   ]
  },
  {
   "cell_type": "code",
   "execution_count": null,
   "id": "7aa095d4",
   "metadata": {},
   "outputs": [],
   "source": [
    "ConfusionMatrixDisplay(confusion_matrix(y_val, y_pred), model.classes_).plot()"
   ]
  },
  {
   "cell_type": "code",
   "execution_count": null,
   "id": "1c4e5f8f",
   "metadata": {},
   "outputs": [],
   "source": [
    "print(metrics.classification_report(y_val, y_pred, target_names=['nonmatch', 'match']))"
   ]
  },
  {
   "cell_type": "code",
   "execution_count": null,
   "id": "d74c3ae1",
   "metadata": {},
   "outputs": [],
   "source": [
    "from sklearn.metrics import roc_auc_score\n",
    "# Calculate the ROC score\n",
    "roc_score = roc_auc_score(y_val, y_pred)\n",
    "\n",
    "# Print the ROC score\n",
    "print(\"ROC Score: {:.4f}\".format(roc_score))"
   ]
  },
  {
   "cell_type": "markdown",
   "id": "23759902",
   "metadata": {},
   "source": [
    "### Evaluate model using test set"
   ]
  },
  {
   "cell_type": "code",
   "execution_count": null,
   "id": "d7f6683e",
   "metadata": {},
   "outputs": [],
   "source": [
    "#predicted y\n",
    "y_pred = rf_best.predict(X_test)"
   ]
  },
  {
   "cell_type": "code",
   "execution_count": null,
   "id": "862d964f",
   "metadata": {},
   "outputs": [],
   "source": [
    "confusion_matrix(y_test, y_pred)"
   ]
  },
  {
   "cell_type": "code",
   "execution_count": null,
   "id": "30399c4f",
   "metadata": {},
   "outputs": [],
   "source": [
    "ConfusionMatrixDisplay(confusion_matrix(y_test, y_pred), model.classes_).plot()"
   ]
  },
  {
   "cell_type": "code",
   "execution_count": null,
   "id": "8eb0e6a3",
   "metadata": {},
   "outputs": [],
   "source": [
    "print(metrics.classification_report(y_test, y_pred, target_names=['nonmatch', 'match']))"
   ]
  },
  {
   "cell_type": "code",
   "execution_count": null,
   "id": "54cf774f",
   "metadata": {},
   "outputs": [],
   "source": [
    "accuracy_score(y_test, y_pred)"
   ]
  },
  {
   "cell_type": "code",
   "execution_count": null,
   "id": "75f92ec0",
   "metadata": {},
   "outputs": [],
   "source": [
    "from sklearn.metrics import roc_auc_score\n",
    "# Calculate the ROC score\n",
    "roc_score = roc_auc_score(y_test, y_pred)\n",
    "\n",
    "# Print the ROC score\n",
    "print(\"ROC Score: {:.4f}\".format(roc_score))"
   ]
  },
  {
   "cell_type": "code",
   "execution_count": null,
   "id": "58f27fe0",
   "metadata": {},
   "outputs": [],
   "source": []
  },
  {
   "cell_type": "markdown",
   "id": "94341fc9",
   "metadata": {},
   "source": [
    "### Evaluate the model using gold standard data"
   ]
  },
  {
   "cell_type": "code",
   "execution_count": null,
   "id": "73887e12",
   "metadata": {},
   "outputs": [],
   "source": [
    "#predicted y\n",
    "y_gs_pred = model.predict(X_gs)\n",
    "y_pred= rf_best.predict(X_gs)"
   ]
  },
  {
   "cell_type": "code",
   "execution_count": null,
   "id": "ab072a0f",
   "metadata": {},
   "outputs": [],
   "source": [
    "confusion_matrix(y_gs, y_gs_pred)"
   ]
  },
  {
   "cell_type": "code",
   "execution_count": null,
   "id": "b799c5cd",
   "metadata": {},
   "outputs": [],
   "source": [
    "ConfusionMatrixDisplay(confusion_matrix(y_gs, y_gs_pred), model.classes_).plot()"
   ]
  },
  {
   "cell_type": "code",
   "execution_count": null,
   "id": "744a2842",
   "metadata": {},
   "outputs": [],
   "source": [
    "print(metrics.classification_report(y_gs, y_gs_pred, target_names=['nonmatch', 'match']))"
   ]
  },
  {
   "cell_type": "code",
   "execution_count": null,
   "id": "e00c1a95",
   "metadata": {},
   "outputs": [],
   "source": [
    "from sklearn.metrics import roc_auc_score\n",
    "# Calculate the ROC score\n",
    "roc_score = roc_auc_score(y_gs, y_gs_pred)\n",
    "\n",
    "# Print the ROC score\n",
    "print(\"ROC Score: {:.4f}\".format(roc_score))"
   ]
  },
  {
   "cell_type": "markdown",
   "id": "00cc216e",
   "metadata": {},
   "source": [
    "- Interpretation of the above reports for gold standard data\n",
    "The total number of data point is 889.\n",
    "The number of labels that are non match is 689\n",
    "The number of label that are matching is 200\n",
    "From the above confusion matrix let’s get the four numbers:\n",
    "\n",
    "True Positives: 27 ,meaning the model correctly classified 27 positive class data points.\n",
    "True Negatives: 668 ,meaning the model correctly classified 668 negative class data points.\n",
    "False Positives: 21 ,meaning the model incorrectly classified 21 negative class data points as belonging to the positive class.\n",
    "False Negatives: 173 ,meaning the model incorrectly classified 173 positive class data points as belonging to the negative class\n",
    "- The data is an imbalanced data. The Imbalanced datasets involve datasets that have a significant deviation of the percentage of rows between the majority and minority classes present. F1 score is good enough to measure the accuracy of model of that were fitted on imbalanced data.\n",
    "- The F1 score is 87% , this means that the overall model performance is 78%"
   ]
  },
  {
   "cell_type": "markdown",
   "id": "acd855b4",
   "metadata": {},
   "source": [
    "- Interpretation of the above reports for test data set\n",
    "The total number of data point is 587.\n",
    "The number of labels that are non match is 446\n",
    "The number of label that are matching is 141\n",
    "From the above confusion matrix let’s get the four numbers:\n",
    "\n",
    "True Positives: 18 ,meaning the model correctly classified 18 positive class data points.\n",
    "True Negatives: 411 ,meaning the model correctly classified 411 negative class data points.\n",
    "False Positives: 35 ,meaning the model incorrectly classified 35 negative class data points as belonging to the positive class.\n",
    "False Negatives: 123 ,meaning the model incorrectly classified 123 positive class data points as belonging to the negative class\n",
    "- The data is an imbalanced data. The Imbalanced datasets involve datasets that have a significant deviation of the percentage of rows between the majority and minority classes present. F1 score is good enough to measure the accuracy of model of that were fitted on imbalanced data.\n",
    "- The F1 score is 73% , this means that the overall model performance is 73%"
   ]
  },
  {
   "cell_type": "markdown",
   "id": "d9c11655",
   "metadata": {},
   "source": [
    "## USING COLUMNS WITH less than 10,000 missing values and brand"
   ]
  },
  {
   "cell_type": "markdown",
   "id": "d4e6a0af",
   "metadata": {},
   "source": [
    "#### Recall the (train & validation) data above"
   ]
  },
  {
   "cell_type": "code",
   "execution_count": null,
   "id": "1b735728",
   "metadata": {},
   "outputs": [],
   "source": [
    "print(\"Are there any null values?\")\n",
    "print(data.isnull().values.any() , \"\\n\")\n",
    "#Find out how many - This gives you the breakdown per column\n",
    "print('How many null values are in each column?'),\n",
    "print(data.isnull().sum(), \"\\n\")\n",
    "#Get total overall null values\n",
    "print('How many null values are in the data in total?')\n",
    "print(data.isnull().sum().sum())"
   ]
  },
  {
   "cell_type": "markdown",
   "id": "d19ec8d0",
   "metadata": {},
   "source": [
    "- The columns that satisfy our condition of using columns with less than 15000 null values are:\n",
    "- id_left , title_left , description_left , category_left, , cluster_id_left , id_right , title_right, description_right, category_right , and cluster_id_right. I will also exclude pair_id because it is a combination of id_left and id_right.\n",
    "- this means that I will be using the ten features listed above.\n"
   ]
  },
  {
   "cell_type": "markdown",
   "id": "ed3a26a3",
   "metadata": {},
   "source": [
    "### Drop the excluded columns , null values and merge the remaining features into one column"
   ]
  },
  {
   "cell_type": "code",
   "execution_count": null,
   "id": "c8099f01",
   "metadata": {},
   "outputs": [],
   "source": [
    "# Drop excluded columns\n",
    "data3 = data.drop(['specTableContent_left' , 'specTableContent_right' , 'keyValuePairs_left' , 'keyValuePairs_right' , 'price_left' , 'price_right','description_left' , 'description_right', 'pair_id'] , axis=1)\n",
    "test_set3= test_set.drop(['specTableContent_left' , 'specTableContent_right' , 'keyValuePairs_left' , 'keyValuePairs_right' , 'price_left' , 'price_right','description_left' , 'description_right', 'pair_id'] , axis=1)\n",
    "data_gs3= data_gs.drop(['specTableContent_left' , 'specTableContent_right' , 'keyValuePairs_left' , 'keyValuePairs_right' , 'price_left' , 'price_right','description_left' , 'description_right', 'pair_id'] , axis=1)\n",
    "\n",
    "# Drop null values\n",
    "data3=data3.dropna()\n",
    "test_set3= test_set3.dropna()\n",
    "data_gs3 =data_gs3.dropna()\n",
    "\n",
    "\n",
    "data3['product_feature'] = str(data3['id_left']) + \" \" + data3['title_left'] + \"\" +data3['brand_left'] + \" \" + data3['category_left'] + \" \" + str(data3['cluster_id_left']) + \" \" + str(data3['id_right']) + \" \" + data3['title_right'] +  data3['brand_right'] + \" \" + data3['category_right'] +\" \" + str(data3['cluster_id_right'])\n",
    "data3.drop(data3.columns.difference(['product_feature','label']), 1, inplace=True)\n",
    "\n",
    "test_set3['product_feature'] = str(test_set3['id_left']) + \" \" + test_set3['title_left'] + \"\" + str(test_set3['brand_left']) + \" \" + test_set3['category_left'] + \" \" + str(test_set3['cluster_id_left']) + \" \" + str(test_set3['id_right']) + \" \" + test_set3['title_right'] +  test_set3['brand_right'] + \" \" + test_set3['category_right'] +\" \" + str(test_set3['cluster_id_right'])\n",
    "test_set3.drop(test_set3.columns.difference(['product_feature','label']), 1, inplace=True)\n",
    "\n",
    "data_gs3['product_feature'] = str(data_gs3['id_left']) + \" \" + data_gs3['title_left'] + \"\" + str(data_gs3['brand_left']) + \" \" + data_gs3['category_left'] + \" \" + str(data_gs3['cluster_id_left']) + \" \" + str(data_gs3['id_right']) + \" \" + data_gs3['title_right'] +  data_gs3['brand_right'] + \" \" + data_gs3['category_right'] +\" \" + str(data_gs3['cluster_id_right'])\n",
    "data_gs3.drop(data_gs3.columns.difference(['product_feature','label']), 1, inplace=True)\n"
   ]
  },
  {
   "cell_type": "code",
   "execution_count": null,
   "id": "92649bbd",
   "metadata": {},
   "outputs": [],
   "source": [
    "data3.columns"
   ]
  },
  {
   "cell_type": "markdown",
   "id": "df02e01a",
   "metadata": {},
   "source": [
    "## Remove punctuations from features"
   ]
  },
  {
   "cell_type": "code",
   "execution_count": null,
   "id": "7fb17ff9",
   "metadata": {},
   "outputs": [],
   "source": [
    "data3['product_feature'] = data3['product_feature'].apply(lambda x:remove_punctuation(x))\n",
    "test_set3['product_feature'] = test_set3['product_feature'].apply(lambda x:remove_punctuation(x))\n",
    "data_gs3['product_feature'] = data_gs3['product_feature'].apply(lambda x:remove_punctuation(x))"
   ]
  },
  {
   "cell_type": "code",
   "execution_count": null,
   "id": "b67a3361",
   "metadata": {},
   "outputs": [],
   "source": [
    "data3.head()"
   ]
  },
  {
   "cell_type": "code",
   "execution_count": null,
   "id": "c06e461c",
   "metadata": {},
   "outputs": [],
   "source": [
    "data3.shape"
   ]
  },
  {
   "cell_type": "markdown",
   "id": "1239f201",
   "metadata": {},
   "source": [
    "#### Passing in the text into vectorizer"
   ]
  },
  {
   "cell_type": "code",
   "execution_count": null,
   "id": "03c9f47a",
   "metadata": {},
   "outputs": [],
   "source": [
    "inputs= vectorizer.transform(data3.product_feature)\n",
    "print('inputs shape:' ,inputs.shape)\n",
    "\n",
    "test_inputs= vectorizer.transform(test_set3.product_feature)\n",
    "print('test_inputs shape:',test_inputs.shape)\n",
    "\n",
    "gs_inputs= vectorizer.transform(data_gs3.product_feature)\n",
    "print('gs_inputs shape:',gs_inputs.shape)"
   ]
  },
  {
   "cell_type": "markdown",
   "id": "eb573c26",
   "metadata": {},
   "source": [
    "### Splitting data into train and validation , test and gold standard into features and labels"
   ]
  },
  {
   "cell_type": "code",
   "execution_count": null,
   "id": "0f6ad413",
   "metadata": {},
   "outputs": [],
   "source": [
    "X_train , X_val , y_train , y_val = train_test_split(inputs , data3.label , test_size= 0.3 , random_state=42)\n",
    "\n",
    "X_test=test_inputs \n",
    "y_test = test_set3.label\n",
    "\n",
    "X_gs =gs_inputs\n",
    "y_gs= data_gs3.label"
   ]
  },
  {
   "cell_type": "code",
   "execution_count": null,
   "id": "f90638b7",
   "metadata": {},
   "outputs": [],
   "source": [
    "### Initial "
   ]
  },
  {
   "cell_type": "code",
   "execution_count": null,
   "id": "28166a41",
   "metadata": {},
   "outputs": [],
   "source": [
    "from sklearn.model_selection import cross_val_predict\n",
    "from sklearn.metrics import confusion_matrix\n",
    "from sklearn import model_selection\n",
    "from sklearn.metrics import classification_report\n",
    "from sklearn.linear_model import LogisticRegression\n",
    "log_model = LogisticRegression(solver='sag')\n",
    "from sklearn.tree import DecisionTreeClassifier\n",
    "from sklearn.ensemble import RandomForestClassifier\n",
    "from sklearn.neighbors import KNeighborsClassifier\n",
    "from sklearn.naive_bayes import GaussianNB\n",
    "import matplotlib.pyplot as plt\n",
    "\n",
    "\n",
    "\n",
    "seed = 7\n",
    "\n",
    "models = []\n",
    "models.append(('LR', LogisticRegression()))\n",
    "models.append(('RF', RandomForestClassifier()))\n",
    "models.append(('KNN', KNeighborsClassifier()))\n",
    "models.append(('CART', DecisionTreeClassifier()))\n",
    "#models.append(('NB', GaussianNB()))\n",
    "\n",
    "\n",
    "#Evaluate each model\n",
    "results = []\n",
    "names = []\n",
    "scoring = 'accuracy'\n",
    "\n",
    "for name, model in models:\n",
    "    kfold = model_selection.KFold(n_splits = 10, random_state = seed , shuffle=True)\n",
    "    cv_results = model_selection.cross_val_score(model,X_train , y_train.ravel(), cv=kfold, scoring=scoring)\n",
    "    model.fit(X_train, y_train)\n",
    "    Y_pred = model.predict(X_val)\n",
    "    \n",
    "    results.append(cv_results)\n",
    "    names.append(name)\n",
    "    print('Model Name: ' , name)\n",
    "    print('Cross value mean: ' , cv_results.mean())\n",
    "    print('Cross value Standard Deviation: ', cv_results.std())\n",
    "    print('\\nClassification Report')\n",
    "    print(classification_report(y_val, Y_pred))\n",
    "    print('=================================================================\\n')\n",
    "    \n",
    "    \n"
   ]
  },
  {
   "cell_type": "markdown",
   "id": "6da8da61",
   "metadata": {},
   "source": [
    "## Box Plot for comparison of models"
   ]
  },
  {
   "cell_type": "code",
   "execution_count": null,
   "id": "f7714aba",
   "metadata": {},
   "outputs": [],
   "source": [
    "fig = plt.figure()\n",
    "fig.suptitle('Algorithm Comparison')\n",
    "ax = fig.add_subplot(111)\n",
    "plt.boxplot(results)\n",
    "ax.set_xticklabels(names)\n",
    "plt.show()"
   ]
  },
  {
   "cell_type": "markdown",
   "id": "744061a8",
   "metadata": {},
   "source": [
    "the model is not better than the first model"
   ]
  },
  {
   "cell_type": "markdown",
   "id": "13b42847",
   "metadata": {},
   "source": [
    "### USING BASIC COLUMNS : id, title and brand only"
   ]
  },
  {
   "cell_type": "code",
   "execution_count": null,
   "id": "8b87a442",
   "metadata": {},
   "outputs": [],
   "source": []
  },
  {
   "cell_type": "code",
   "execution_count": null,
   "id": "a450cae6",
   "metadata": {},
   "outputs": [],
   "source": [
    "data4 = data.copy(deep=True) \n",
    "data4.drop(data4.columns.difference(['id_left','title_left', 'brand_left', 'id_right' , 'title_right', 'brand_right','label']), 1, inplace=True)\n",
    "\n",
    "test_set4= test_set.copy(deep=True) \n",
    "test_set4.drop(test_set4.columns.difference(['id_left','title_left', 'brand_left', 'id_right' , 'title_right','brand_right','label']), 1, inplace=True)\n",
    "\n",
    "data_gs4= data_gs.copy(deep=True) \n",
    "data_gs4.drop(data_gs4.columns.difference(['id_left','title_left', 'brand_left', 'id_right' , 'title_right','brand_right','label']), 1, inplace=True)\n",
    "\n",
    "\n",
    "# Drop null values\n",
    "data4=data4.dropna()\n",
    "test_set4= test_set4.dropna()\n",
    "data_gs4 =data_gs4.dropna()"
   ]
  },
  {
   "cell_type": "markdown",
   "id": "1dd5d771",
   "metadata": {},
   "source": [
    "### Merging the features into one column and removing punctuations from the column"
   ]
  },
  {
   "cell_type": "code",
   "execution_count": null,
   "id": "465e5b9a",
   "metadata": {},
   "outputs": [],
   "source": [
    "data4['product_feature']=  str(data4['id_left']) + \" \" + data4['title_left'] +\" \" + data4['brand_left'] + str(data4['id_right']) + \" \" + data4['title_right'] +\" \" + data4['brand_right']\n",
    "data4.drop(data4.columns.difference(['product_feature','label']), 1, inplace=True)\n",
    "\n",
    "test_set4['product_feature']=  str(test_set4['id_left']) + \" \" + test_set4['title_left'] +\" \" + test_set4['brand_left'] + str(test_set4['id_right']) + \" \" + test_set4['title_right'] +\" \" + test_set4['brand_right']\n",
    "test_set4.drop(test_set4.columns.difference(['product_feature','label']), 1, inplace=True)\n",
    "\n",
    "data_gs4['product_feature']=  str(data_gs4['id_left']) + \" \" + data_gs4['title_left'] +\" \" + data_gs4['brand_left'] + str(data_gs4['id_right']) + \" \" + data_gs4['title_right'] +\" \" + data_gs4['brand_right']\n",
    "data_gs4.drop(data_gs4.columns.difference(['product_feature','label']), 1, inplace=True)\n",
    "\n",
    "#REmove punctuations\n",
    "data4['product_feature'] = data4['product_feature'].apply(lambda x:remove_punctuation(x))\n",
    "test_set4['product_feature'] = test_set4['product_feature'].apply(lambda x:remove_punctuation(x))\n",
    "data_gs4['product_feature'] = data_gs4['product_feature'].apply(lambda x:remove_punctuation(x))"
   ]
  },
  {
   "cell_type": "code",
   "execution_count": null,
   "id": "2c72c545",
   "metadata": {},
   "outputs": [],
   "source": [
    "data_gs4.head()"
   ]
  },
  {
   "cell_type": "markdown",
   "id": "8396b78b",
   "metadata": {},
   "source": [
    "### Passing in the text into vectorizer"
   ]
  },
  {
   "cell_type": "code",
   "execution_count": null,
   "id": "995b372f",
   "metadata": {},
   "outputs": [],
   "source": [
    "inputs= vectorizer.transform(data4.product_feature)\n",
    "print('inputs shape:' ,inputs.shape)\n",
    "\n",
    "test_inputs= vectorizer.transform(test_set4.product_feature)\n",
    "print('test_inputs shape:',test_inputs.shape)\n",
    "\n",
    "gs_inputs= vectorizer.transform(data_gs4.product_feature)\n",
    "print('gs_inputs shape:',gs_inputs.shape)"
   ]
  },
  {
   "cell_type": "code",
   "execution_count": null,
   "id": "abcce03c",
   "metadata": {},
   "outputs": [],
   "source": [
    "data3.head()"
   ]
  },
  {
   "cell_type": "code",
   "execution_count": null,
   "id": "ba770186",
   "metadata": {},
   "outputs": [],
   "source": []
  },
  {
   "cell_type": "code",
   "execution_count": null,
   "id": "ac380c4b",
   "metadata": {},
   "outputs": [],
   "source": [
    "X_train , X_val , y_train , y_val = train_test_split(inputs , data4.label , test_size= 0.3 , random_state=42)\n",
    "\n",
    "X_test=test_inputs \n",
    "y_test = test_set4.label\n",
    "\n",
    "X_gs =gs_inputs\n",
    "y_gs= data_gs4.label"
   ]
  },
  {
   "cell_type": "code",
   "execution_count": null,
   "id": "931371f7",
   "metadata": {},
   "outputs": [],
   "source": []
  },
  {
   "cell_type": "code",
   "execution_count": null,
   "id": "35469601",
   "metadata": {},
   "outputs": [],
   "source": [
    "seed = 7\n",
    "\n",
    "models = []\n",
    "models.append(('LR', LogisticRegression()))\n",
    "models.append(('RF', RandomForestClassifier()))\n",
    "models.append(('KNN', KNeighborsClassifier()))\n",
    "models.append(('CART', DecisionTreeClassifier()))\n",
    "#models.append(('NB', GaussianNB()))\n",
    "\n",
    "\n",
    "#Evaluate each model\n",
    "results = []\n",
    "names = []\n",
    "scoring = 'accuracy'\n",
    "\n",
    "for name, model in models:\n",
    "    kfold = model_selection.KFold(n_splits = 10, random_state = seed , shuffle=True)\n",
    "    cv_results = model_selection.cross_val_score(model,X_train , y_train.ravel(), cv=kfold, scoring=scoring)\n",
    "    model.fit(X_train, y_train)\n",
    "    Y_pred = model.predict(X_val)\n",
    "    \n",
    "    results.append(cv_results)\n",
    "    names.append(name)\n",
    "    print('Model Name: ' , name)\n",
    "    print('Cross value mean: ' , cv_results.mean())\n",
    "    print('Cross value Standard Deviation: ', cv_results.std())\n",
    "    print('\\nClassification Report')\n",
    "    print(classification_report(y_val, Y_pred))\n",
    "    print('=================================================================\\n')\n",
    "    \n",
    "    \n"
   ]
  },
  {
   "cell_type": "markdown",
   "id": "fa674f72",
   "metadata": {},
   "source": [
    "## Box Plot for comparison of models"
   ]
  },
  {
   "cell_type": "code",
   "execution_count": null,
   "id": "5c065cdb",
   "metadata": {},
   "outputs": [],
   "source": [
    "fig = plt.figure()\n",
    "fig.suptitle('Algorithm Comparison')\n",
    "ax = fig.add_subplot(111)\n",
    "plt.boxplot(results)\n",
    "ax.set_xticklabels(names)\n",
    "plt.show()"
   ]
  },
  {
   "cell_type": "markdown",
   "id": "58620f7f",
   "metadata": {},
   "source": [
    "### Hyperparameter Tuning for Random Forest using Randomised Search\n",
    "###  Implementing Random Search Using Scikit-Learn\n",
    "##### Defining the Hyperparameter Space and fitting the model"
   ]
  },
  {
   "cell_type": "code",
   "execution_count": null,
   "id": "52cb363a",
   "metadata": {},
   "outputs": [],
   "source": [
    "from scipy.stats import randint\n",
    "import numpy as np\n",
    "rs_space={'max_depth':list(np.arange(1, 100, step=10)) + [None],\n",
    "              'n_estimators':np.arange(10, 500, step=50),\n",
    "              'max_features':randint(1,7),\n",
    "              'criterion':['gini','entropy'],\n",
    "              'min_samples_leaf':randint(1,4),\n",
    "              'min_samples_split':np.arange(2, 10, step=2)\n",
    "         }\n",
    "\n",
    "from sklearn.model_selection import RandomizedSearchCV\n",
    "\n",
    "rf = RandomForestClassifier()\n",
    "rf_random = RandomizedSearchCV(rf, rs_space, n_iter=100, scoring='accuracy', n_jobs=-1, cv=3)\n",
    "model_random = rf_random.fit(X_train,y_train)\n",
    "\n",
    "print('Best grid search hyperparameters are: '+str(model_random.best_params_))\n",
    "print('Best grid search score is: '+str(model_random.best_score_))"
   ]
  },
  {
   "cell_type": "markdown",
   "id": "e1c54624",
   "metadata": {},
   "source": [
    "## Fit the model with the best parameters"
   ]
  },
  {
   "cell_type": "code",
   "execution_count": null,
   "id": "87e36fd1",
   "metadata": {},
   "outputs": [],
   "source": [
    "rf_best = RandomForestClassifier(criterion='gini' ,max_features=1,min_samples_leaf=1,min_samples_split=2,n_estimators=360 )\n",
    "rf_best.fit(X_train , y_train )"
   ]
  },
  {
   "cell_type": "code",
   "execution_count": null,
   "id": "61881acd",
   "metadata": {},
   "outputs": [],
   "source": [
    "y_pred= rf_best.predict(X_val)"
   ]
  },
  {
   "cell_type": "code",
   "execution_count": null,
   "id": "f371a13b",
   "metadata": {},
   "outputs": [],
   "source": [
    "accuracy_score(y_val, y_pred)"
   ]
  },
  {
   "cell_type": "code",
   "execution_count": null,
   "id": "bb4a9328",
   "metadata": {},
   "outputs": [],
   "source": [
    "from sklearn.metrics import roc_auc_score\n",
    "# Calculate the ROC score\n",
    "roc_score = roc_auc_score(y_val, y_pred)\n",
    "\n",
    "# Print the ROC score\n",
    "print(\"ROC Score: {:.4f}\".format(roc_score))"
   ]
  },
  {
   "cell_type": "code",
   "execution_count": null,
   "id": "87aad49f",
   "metadata": {},
   "outputs": [],
   "source": []
  }
 ],
 "metadata": {
  "kernelspec": {
   "display_name": "Python 3 (ipykernel)",
   "language": "python",
   "name": "python3"
  },
  "language_info": {
   "codemirror_mode": {
    "name": "ipython",
    "version": 3
   },
   "file_extension": ".py",
   "mimetype": "text/x-python",
   "name": "python",
   "nbconvert_exporter": "python",
   "pygments_lexer": "ipython3",
   "version": "3.9.7"
  }
 },
 "nbformat": 4,
 "nbformat_minor": 5
}
